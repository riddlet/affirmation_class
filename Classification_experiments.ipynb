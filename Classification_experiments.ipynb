{
 "cells": [
  {
   "cell_type": "code",
   "execution_count": 363,
   "metadata": {
    "collapsed": false
   },
   "outputs": [],
   "source": [
    "import pandas as pd\n",
    "import numpy as np\n",
    "import lda\n",
    "from scipy.stats import expon\n",
    "from sklearn.feature_extraction.text import CountVectorizer\n",
    "from sklearn.cross_validation import train_test_split, ShuffleSplit\n",
    "from sklearn.metrics import make_scorer, f1_score\n",
    "from sklearn.grid_search import RandomizedSearchCV\n",
    "from sklearn.feature_extraction.text import TfidfVectorizer\n",
    "from sklearn import preprocessing, svm, metrics\n",
    "from nltk import word_tokenize\n",
    "from nltk.stem import WordNetLemmatizer "
   ]
  },
  {
   "cell_type": "code",
   "execution_count": 361,
   "metadata": {
    "collapsed": true
   },
   "outputs": [],
   "source": [
    "def create_dat(df_ess, df_dem):\n",
    "    df_ess = df_ess[df_ess.Study=='Connecticut']\n",
    "    df_ess.Condition.replace(['c', 'c2', 'c1', 'c3', 'ca', 'cb', '3'], 'Control', inplace=True)\n",
    "    df_ess.Condition.replace(['t', 't2', 't3', 't1', '1', '2', 'ta', 'tb'], 'Treatment', inplace=True)\n",
    "    df_ess.Condition.replace(['c/t'], np.nan, inplace=True)\n",
    "    \n",
    "    df_dem = df_dem[df_dem.Study=='Connecticut']\n",
    "    df_dem.Ethnicity.replace('Asian', 'Asian American', inplace=True)\n",
    "    df_dem.Ethnicity.replace('Other/Mixed', 'Other', inplace=True)\n",
    "    df_dem = df_dem[['ID', 'Ethnicity', 'Gender']].dropna()\n",
    "    \n",
    "    outdat = pd.merge(df_ess[['ID', 'Intervention_number', 'Essay', 'Condition', 'Intervention_Date', 'corrected']], \n",
    "                    df_dem, how='left', on='ID').drop_duplicates()\n",
    "    \n",
    "    return(outdat)\n",
    "\n",
    "def return_grid_scores(grid, clf='NB'):\n",
    "    if clf == 'SVM':\n",
    "        for i, (x, _, _) in enumerate(grid.grid_scores_):\n",
    "            if x['C'] == grid.best_estimator_.C:\n",
    "                if x['gamma'] == grid.best_estimator_.gamma:\n",
    "                    idx = i\n",
    "    else:\n",
    "        for i, (x, _, _) in enumerate(grid.grid_scores_):\n",
    "            if x['alpha'] == grid.best_estimator_.alpha:\n",
    "                idx = i\n",
    "    return grid.grid_scores_[idx][2]\n",
    "\n",
    "class LemmaTokenizer(object):\n",
    "    def __init__(self):\n",
    "        self.wnl = WordNetLemmatizer()\n",
    "    def __call__(self, doc):\n",
    "        return [self.wnl.lemmatize(t) for t in word_tokenize(doc)]"
   ]
  },
  {
   "cell_type": "code",
   "execution_count": 406,
   "metadata": {
    "collapsed": false
   },
   "outputs": [
    {
     "data": {
      "text/plain": [
       "Connecticut               6258\n",
       "CO/CA Latino              1161\n",
       "Physics                    798\n",
       "Awareness&Affirmation      227\n",
       "Surgeons                   212\n",
       "CO BMI Study               205\n",
       "Belonging                  165\n",
       "Debate                     143\n",
       "NeuroBioThreat Study 1     129\n",
       "Group Affirmation          104\n",
       "Political Affirmation       93\n",
       "Blindness                   35\n",
       "Name: Study, dtype: int64"
      ]
     },
     "execution_count": 406,
     "metadata": {},
     "output_type": "execute_result"
    }
   ],
   "source": [
    "df_ess = pd.read_csv('../Data/3 CSV Files/essays1.23.16.csv', sep='|')\n",
    "df_dem = pd.read_csv('../Data/3 CSV Files/demog3.2.16.csv')\n",
    "df = create_dat(df_ess, df_dem)\n",
    "df.dropna(axis=0, subset=['corrected'], inplace=True)"
   ]
  },
  {
   "cell_type": "markdown",
   "metadata": {},
   "source": [
    "# Classification for Gender+treatment"
   ]
  },
  {
   "cell_type": "code",
   "execution_count": 461,
   "metadata": {
    "collapsed": false
   },
   "outputs": [
    {
     "data": {
      "text/plain": [
       "<6224x1763 sparse matrix of type '<type 'numpy.int64'>'\n",
       "\twith 90161 stored elements in Compressed Sparse Row format>"
      ]
     },
     "execution_count": 461,
     "metadata": {},
     "output_type": "execute_result"
    }
   ],
   "source": [
    "df['Class'] = df.Condition+df.Gender\n",
    "df.dropna(axis=0, subset=['Class'], inplace=True)\n",
    "vectorizer = CountVectorizer(tokenizer=LemmaTokenizer(), min_df=4, stop_words='english')\n",
    "X = vectorizer.fit_transform(df.Essay)\n",
    "model = lda.LDA(n_topics=50, n_iter=1500, random_state=1)\n",
    "X"
   ]
  },
  {
   "cell_type": "code",
   "execution_count": 463,
   "metadata": {
    "collapsed": false
   },
   "outputs": [],
   "source": [
    "tf = TfidfVectorizer(tokenizer=LemmaTokenizer(), min_df=4, stop_words='english')\n",
    "X_tf = tf.fit_transform(df.Essay)"
   ]
  },
  {
   "cell_type": "code",
   "execution_count": 464,
   "metadata": {
    "collapsed": false
   },
   "outputs": [
    {
     "data": {
      "text/plain": [
       "(6224, 50)"
      ]
     },
     "execution_count": 464,
     "metadata": {},
     "output_type": "execute_result"
    }
   ],
   "source": [
    "model.fit(X)\n",
    "model.doc_topic_.shape # model.doc_topic_ contains the topic distributions"
   ]
  },
  {
   "cell_type": "code",
   "execution_count": 466,
   "metadata": {
    "collapsed": false
   },
   "outputs": [],
   "source": [
    "X_con = np.concatenate((X_tf.todense(), model.doc_topic_), axis=1)"
   ]
  },
  {
   "cell_type": "code",
   "execution_count": 467,
   "metadata": {
    "collapsed": false
   },
   "outputs": [],
   "source": [
    "f1weighted = make_scorer(f1_score, average='macro', pos_label=None)\n",
    "le = preprocessing.LabelEncoder()\n",
    "le.fit(df.Class)\n",
    "Y = le.transform(df.Class)\n",
    "dtm_train, dtm_test, label_train, label_true = train_test_split(X_con, Y, test_size=.2)\n",
    "\n",
    "clf = svm.SVC(kernel='linear', probability=True)\n",
    "pardist = {'C':expon(scale=100), 'gamma':expon(scale=.1)}\n",
    "cv = ShuffleSplit(dtm_train.shape[0], n_iter=10, test_size=.2)\n",
    "rs = RandomizedSearchCV(clf, param_distributions=pardist, scoring=f1weighted,\n",
    "                       n_jobs=1, cv=cv, n_iter=25, verbose=0)\n",
    "rs.fit(dtm_train, label_train)\n",
    "predicted = rs.predict(dtm_test)\n"
   ]
  },
  {
   "cell_type": "markdown",
   "metadata": {},
   "source": [
    "## Results"
   ]
  },
  {
   "cell_type": "code",
   "execution_count": 468,
   "metadata": {
    "collapsed": false
   },
   "outputs": [
    {
     "data": {
      "text/plain": [
       "0.56879661968141648"
      ]
     },
     "execution_count": 468,
     "metadata": {},
     "output_type": "execute_result"
    }
   ],
   "source": [
    "f1_score(label_true, predicted, average='macro', pos_label=None)"
   ]
  },
  {
   "cell_type": "code",
   "execution_count": 469,
   "metadata": {
    "collapsed": false
   },
   "outputs": [
    {
     "data": {
      "text/plain": [
       "array([ 0.60461716,  0.59968427,  0.57324741,  0.57748363,  0.61110184,\n",
       "        0.58098241,  0.57603159,  0.56745881,  0.60653227,  0.59098896])"
      ]
     },
     "execution_count": 469,
     "metadata": {},
     "output_type": "execute_result"
    }
   ],
   "source": [
    "return_grid_scores(rs, 'SVM')"
   ]
  },
  {
   "cell_type": "code",
   "execution_count": 470,
   "metadata": {
    "collapsed": false,
    "scrolled": true
   },
   "outputs": [
    {
     "data": {
      "text/plain": [
       "array([[209, 136,  16,  13],\n",
       "       [155, 141,   5,  22],\n",
       "       [ 10,   7, 211,  64],\n",
       "       [ 17,  14,  81, 144]])"
      ]
     },
     "execution_count": 470,
     "metadata": {},
     "output_type": "execute_result"
    }
   ],
   "source": [
    "metrics.confusion_matrix(label_true, predicted)"
   ]
  },
  {
   "cell_type": "markdown",
   "metadata": {},
   "source": [
    "# Classification for Ethnicity+treatment"
   ]
  },
  {
   "cell_type": "code",
   "execution_count": 476,
   "metadata": {
    "collapsed": false
   },
   "outputs": [
    {
     "name": "stderr",
     "output_type": "stream",
     "text": [
      "/anaconda/lib/python2.7/site-packages/ipykernel/__main__.py:4: SettingWithCopyWarning: \n",
      "A value is trying to be set on a copy of a slice from a DataFrame\n",
      "\n",
      "See the caveats in the documentation: http://pandas.pydata.org/pandas-docs/stable/indexing.html#indexing-view-versus-copy\n"
     ]
    },
    {
     "data": {
      "text/plain": [
       "<5330x1595 sparse matrix of type '<type 'numpy.int64'>'\n",
       "\twith 76328 stored elements in Compressed Sparse Row format>"
      ]
     },
     "execution_count": 476,
     "metadata": {},
     "output_type": "execute_result"
    }
   ],
   "source": [
    "df['Class'] = df.Condition+df.Ethnicity\n",
    "df_sub = df[df.Ethnicity.isin(['African American','White'])]\n",
    "df_sub.Class.value_counts()\n",
    "df_sub.dropna(axis=0, subset=['Class'], inplace=True)\n",
    "vectorizer = CountVectorizer(tokenizer=LemmaTokenizer(), min_df=4, stop_words='english')\n",
    "X = vectorizer.fit_transform(df_sub.Essay)\n",
    "model = lda.LDA(n_topics=50, n_iter=1500, random_state=1)\n",
    "X"
   ]
  },
  {
   "cell_type": "code",
   "execution_count": 486,
   "metadata": {
    "collapsed": false
   },
   "outputs": [],
   "source": [
    "tf = TfidfVectorizer(tokenizer=LemmaTokenizer(), min_df=4, stop_words='english')\n",
    "X_tf = tf.fit_transform(df_sub.Essay)"
   ]
  },
  {
   "cell_type": "code",
   "execution_count": 478,
   "metadata": {
    "collapsed": false
   },
   "outputs": [
    {
     "data": {
      "text/plain": [
       "(5330, 50)"
      ]
     },
     "execution_count": 478,
     "metadata": {},
     "output_type": "execute_result"
    }
   ],
   "source": [
    "model.fit(X)\n",
    "model.doc_topic_.shape # model.doc_topic_ contains the topic distributions"
   ]
  },
  {
   "cell_type": "code",
   "execution_count": 487,
   "metadata": {
    "collapsed": false
   },
   "outputs": [],
   "source": [
    "X_con = np.concatenate((X_tf.todense(), model.doc_topic_), axis=1)"
   ]
  },
  {
   "cell_type": "code",
   "execution_count": 488,
   "metadata": {
    "collapsed": false
   },
   "outputs": [],
   "source": [
    "f1weighted = make_scorer(f1_score, average='macro', pos_label=None)\n",
    "le = preprocessing.LabelEncoder()\n",
    "le.fit(df_sub.Class)\n",
    "Y = le.transform(df_sub.Class)\n",
    "dtm_train, dtm_test, label_train, label_true = train_test_split(X_con, Y, test_size=.2)\n",
    "\n",
    "clf = svm.SVC(kernel='linear', probability=True)\n",
    "pardist = {'C':expon(scale=100), 'gamma':expon(scale=.1)}\n",
    "cv = ShuffleSplit(dtm_train.shape[0], n_iter=10, test_size=.2)\n",
    "rs = RandomizedSearchCV(clf, param_distributions=pardist, scoring=f1weighted,\n",
    "                       n_jobs=1, cv=cv, n_iter=25, verbose=0)\n",
    "rs.fit(dtm_train, label_train)\n",
    "predicted = rs.predict(dtm_test)\n"
   ]
  },
  {
   "cell_type": "markdown",
   "metadata": {},
   "source": [
    "## Results"
   ]
  },
  {
   "cell_type": "code",
   "execution_count": 489,
   "metadata": {
    "collapsed": false
   },
   "outputs": [
    {
     "data": {
      "text/plain": [
       "0.50997476296536237"
      ]
     },
     "execution_count": 489,
     "metadata": {},
     "output_type": "execute_result"
    }
   ],
   "source": [
    "f1_score(label_true, predicted, average='macro', pos_label=None)"
   ]
  },
  {
   "cell_type": "code",
   "execution_count": 490,
   "metadata": {
    "collapsed": false
   },
   "outputs": [
    {
     "data": {
      "text/plain": [
       "array([ 0.54504722,  0.52821296,  0.5762358 ,  0.52269957,  0.52935073,\n",
       "        0.52481078,  0.53319855,  0.53534185,  0.54517801,  0.52500375])"
      ]
     },
     "execution_count": 490,
     "metadata": {},
     "output_type": "execute_result"
    }
   ],
   "source": [
    "return_grid_scores(rs, 'SVM')"
   ]
  },
  {
   "cell_type": "code",
   "execution_count": 491,
   "metadata": {
    "collapsed": false,
    "scrolled": true
   },
   "outputs": [
    {
     "data": {
      "text/plain": [
       "array([[159, 117,  17,  12],\n",
       "       [127, 157,  10,  18],\n",
       "       [ 32,   5, 136,  76],\n",
       "       [ 22,   9,  76,  93]])"
      ]
     },
     "execution_count": 491,
     "metadata": {},
     "output_type": "execute_result"
    }
   ],
   "source": [
    "metrics.confusion_matrix(label_true, predicted)"
   ]
  },
  {
   "cell_type": "markdown",
   "metadata": {},
   "source": [
    "- look at how the transitions reflect ideas from the coding manual\n",
    "- look at how the transitions change depending on words previously encountered in the essay.\n",
    "- look at words and topics that have high weights in dtm and topic model"
   ]
  },
  {
   "cell_type": "markdown",
   "metadata": {},
   "source": [
    "# Classification for Gender using just treatment"
   ]
  },
  {
   "cell_type": "code",
   "execution_count": 313,
   "metadata": {
    "collapsed": false
   },
   "outputs": [
    {
     "data": {
      "text/plain": [
       "<2751x3988 sparse matrix of type '<type 'numpy.int64'>'\n",
       "\twith 85774 stored elements in Compressed Sparse Row format>"
      ]
     },
     "execution_count": 313,
     "metadata": {},
     "output_type": "execute_result"
    }
   ],
   "source": [
    "df_treat = df[df.Condition=='Treatment']\n",
    "vectorizer = CountVectorizer(min_df=1)\n",
    "X = vectorizer.fit_transform(df_treat.corrected)\n",
    "model = lda.LDA(n_topics=50, n_iter=1500, random_state=1)\n",
    "X"
   ]
  },
  {
   "cell_type": "code",
   "execution_count": 314,
   "metadata": {
    "collapsed": false
   },
   "outputs": [
    {
     "data": {
      "text/plain": [
       "(2751, 50)"
      ]
     },
     "execution_count": 314,
     "metadata": {},
     "output_type": "execute_result"
    }
   ],
   "source": [
    "model.fit(X)\n",
    "model.doc_topic_.shape # model.doc_topic_ contains the topic distributions"
   ]
  },
  {
   "cell_type": "code",
   "execution_count": 315,
   "metadata": {
    "collapsed": false
   },
   "outputs": [],
   "source": [
    "f1weighted = make_scorer(f1_score, average='weighted', pos_label=None)\n",
    "le = preprocessing.LabelEncoder()\n",
    "le.fit(df_treat.Gender)\n",
    "Y = le.transform(df_treat.Gender)\n",
    "dtm_train, dtm_test, label_train, label_true = train_test_split(model.doc_topic_, Y, test_size=.2)\n",
    "\n",
    "clf = svm.SVC(kernel='linear', probability=True)\n",
    "pardist = {'C':expon(scale=100), 'gamma':expon(scale=.1)}\n",
    "cv = ShuffleSplit(dtm_train.shape[0], n_iter=10, test_size=.2)\n",
    "rs = RandomizedSearchCV(clf, param_distributions=pardist, scoring=f1weighted,\n",
    "                       n_jobs=1, cv=cv, n_iter=25, verbose=0)\n",
    "rs.fit(dtm_train, label_train)\n",
    "predicted = rs.predict(dtm_test)\n"
   ]
  },
  {
   "cell_type": "markdown",
   "metadata": {},
   "source": [
    "## Results"
   ]
  },
  {
   "cell_type": "code",
   "execution_count": 316,
   "metadata": {
    "collapsed": false
   },
   "outputs": [
    {
     "data": {
      "text/plain": [
       "0.64327853945525504"
      ]
     },
     "execution_count": 316,
     "metadata": {},
     "output_type": "execute_result"
    }
   ],
   "source": [
    "f1_score(label_true, predicted, average='weighted', pos_label=None)"
   ]
  },
  {
   "cell_type": "code",
   "execution_count": 317,
   "metadata": {
    "collapsed": false
   },
   "outputs": [
    {
     "data": {
      "text/plain": [
       "array([ 0.6264599 ,  0.62518655,  0.65060202,  0.63995001,  0.65522849,\n",
       "        0.66152959,  0.65731158,  0.60691516,  0.65494457,  0.62833656])"
      ]
     },
     "execution_count": 317,
     "metadata": {},
     "output_type": "execute_result"
    }
   ],
   "source": [
    "return_grid_scores(rs, 'SVM')"
   ]
  },
  {
   "cell_type": "code",
   "execution_count": 318,
   "metadata": {
    "collapsed": false
   },
   "outputs": [
    {
     "data": {
      "text/plain": [
       "array([[221,  64],\n",
       "       [129, 137]])"
      ]
     },
     "execution_count": 318,
     "metadata": {},
     "output_type": "execute_result"
    }
   ],
   "source": [
    "metrics.confusion_matrix(label_true, predicted)"
   ]
  },
  {
   "cell_type": "markdown",
   "metadata": {},
   "source": [
    "# Classification for Ethnicity using just treatment\n",
    "Stop words removed"
   ]
  },
  {
   "cell_type": "code",
   "execution_count": 319,
   "metadata": {
    "collapsed": false
   },
   "outputs": [
    {
     "data": {
      "text/plain": [
       "<2354x3707 sparse matrix of type '<type 'numpy.int64'>'\n",
       "\twith 73332 stored elements in Compressed Sparse Row format>"
      ]
     },
     "execution_count": 319,
     "metadata": {},
     "output_type": "execute_result"
    }
   ],
   "source": [
    "df_treat = df[df.Condition=='Treatment']\n",
    "df_treat = df_treat[df_treat.Ethnicity.isin(['African American','White'])]\n",
    "vectorizer = CountVectorizer(min_df=1)\n",
    "X = vectorizer.fit_transform(df_treat.corrected)\n",
    "model = lda.LDA(n_topics=50, n_iter=1500, random_state=1)\n",
    "X"
   ]
  },
  {
   "cell_type": "code",
   "execution_count": 320,
   "metadata": {
    "collapsed": false
   },
   "outputs": [
    {
     "data": {
      "text/plain": [
       "(2354, 50)"
      ]
     },
     "execution_count": 320,
     "metadata": {},
     "output_type": "execute_result"
    }
   ],
   "source": [
    "model.fit(X)\n",
    "model.doc_topic_.shape # model.doc_topic_ contains the topic distributions"
   ]
  },
  {
   "cell_type": "code",
   "execution_count": 321,
   "metadata": {
    "collapsed": false
   },
   "outputs": [],
   "source": [
    "f1weighted = make_scorer(f1_score, average='weighted', pos_label=None)\n",
    "le = preprocessing.LabelEncoder()\n",
    "le.fit(df_treat.Ethnicity)\n",
    "Y = le.transform(df_treat.Ethnicity)\n",
    "dtm_train, dtm_test, label_train, label_true = train_test_split(model.doc_topic_, Y, test_size=.2)\n",
    "\n",
    "clf = svm.SVC(kernel='linear', probability=True)\n",
    "pardist = {'C':expon(scale=100), 'gamma':expon(scale=.1)}\n",
    "cv = ShuffleSplit(dtm_train.shape[0], n_iter=10, test_size=.2)\n",
    "rs = RandomizedSearchCV(clf, param_distributions=pardist, scoring=f1weighted,\n",
    "                       n_jobs=1, cv=cv, n_iter=25, verbose=0)\n",
    "rs.fit(dtm_train, label_train)\n",
    "predicted = rs.predict(dtm_test)\n"
   ]
  },
  {
   "cell_type": "markdown",
   "metadata": {},
   "source": [
    "## Results"
   ]
  },
  {
   "cell_type": "code",
   "execution_count": 322,
   "metadata": {
    "collapsed": false
   },
   "outputs": [
    {
     "data": {
      "text/plain": [
       "0.52241789166998698"
      ]
     },
     "execution_count": 322,
     "metadata": {},
     "output_type": "execute_result"
    }
   ],
   "source": [
    "f1_score(label_true, predicted, average='weighted', pos_label=None)"
   ]
  },
  {
   "cell_type": "code",
   "execution_count": 323,
   "metadata": {
    "collapsed": false
   },
   "outputs": [
    {
     "data": {
      "text/plain": [
       "array([ 0.55655523,  0.55805491,  0.55119211,  0.58935521,  0.59697025,\n",
       "        0.56874672,  0.55973747,  0.57786331,  0.57052214,  0.56452561])"
      ]
     },
     "execution_count": 323,
     "metadata": {},
     "output_type": "execute_result"
    }
   ],
   "source": [
    "return_grid_scores(rs, 'SVM')"
   ]
  },
  {
   "cell_type": "code",
   "execution_count": 324,
   "metadata": {
    "collapsed": false
   },
   "outputs": [
    {
     "data": {
      "text/plain": [
       "array([[124, 127],\n",
       "       [ 98, 122]])"
      ]
     },
     "execution_count": 324,
     "metadata": {},
     "output_type": "execute_result"
    }
   ],
   "source": [
    "metrics.confusion_matrix(label_true, predicted)"
   ]
  },
  {
   "cell_type": "markdown",
   "metadata": {},
   "source": [
    "# Classification for Gender using just treatment on uncorrected essays"
   ]
  },
  {
   "cell_type": "code",
   "execution_count": 325,
   "metadata": {
    "collapsed": false
   },
   "outputs": [],
   "source": [
    "df_treat = df[df.Condition=='Treatment']\n",
    "vectorizer = CountVectorizer(min_df=1)\n",
    "X = vectorizer.fit_transform(df_treat.Essay)\n",
    "model = lda.LDA(n_topics=50, n_iter=1500, random_state=1)"
   ]
  },
  {
   "cell_type": "code",
   "execution_count": 326,
   "metadata": {
    "collapsed": false
   },
   "outputs": [
    {
     "data": {
      "text/plain": [
       "(2751, 50)"
      ]
     },
     "execution_count": 326,
     "metadata": {},
     "output_type": "execute_result"
    }
   ],
   "source": [
    "model.fit(X)\n",
    "model.doc_topic_.shape # model.doc_topic_ contains the topic distributions"
   ]
  },
  {
   "cell_type": "code",
   "execution_count": 327,
   "metadata": {
    "collapsed": false
   },
   "outputs": [],
   "source": [
    "f1weighted = make_scorer(f1_score, average='weighted', pos_label=None)\n",
    "le = preprocessing.LabelEncoder()\n",
    "le.fit(df_treat.Gender)\n",
    "Y = le.transform(df_treat.Gender)\n",
    "dtm_train, dtm_test, label_train, label_true = train_test_split(model.doc_topic_, Y, test_size=.2)\n",
    "\n",
    "clf = svm.SVC(kernel='linear', probability=True)\n",
    "pardist = {'C':expon(scale=100), 'gamma':expon(scale=.1)}\n",
    "cv = ShuffleSplit(dtm_train.shape[0], n_iter=10, test_size=.2)\n",
    "rs = RandomizedSearchCV(clf, param_distributions=pardist, scoring=f1weighted,\n",
    "                       n_jobs=1, cv=cv, n_iter=25, verbose=0)\n",
    "rs.fit(dtm_train, label_train)\n",
    "predicted = rs.predict(dtm_test)\n"
   ]
  },
  {
   "cell_type": "markdown",
   "metadata": {},
   "source": [
    "## Results"
   ]
  },
  {
   "cell_type": "code",
   "execution_count": 328,
   "metadata": {
    "collapsed": false
   },
   "outputs": [
    {
     "data": {
      "text/plain": [
       "0.63516589331739215"
      ]
     },
     "execution_count": 328,
     "metadata": {},
     "output_type": "execute_result"
    }
   ],
   "source": [
    "f1_score(label_true, predicted, average='weighted', pos_label=None)"
   ]
  },
  {
   "cell_type": "code",
   "execution_count": 329,
   "metadata": {
    "collapsed": false
   },
   "outputs": [
    {
     "data": {
      "text/plain": [
       "array([ 0.63586695,  0.64908694,  0.66059795,  0.62553971,  0.66296212,\n",
       "        0.65344806,  0.6632204 ,  0.66922941,  0.65810586,  0.66743357])"
      ]
     },
     "execution_count": 329,
     "metadata": {},
     "output_type": "execute_result"
    }
   ],
   "source": [
    "return_grid_scores(rs, 'SVM')"
   ]
  },
  {
   "cell_type": "code",
   "execution_count": 330,
   "metadata": {
    "collapsed": false,
    "scrolled": true
   },
   "outputs": [
    {
     "data": {
      "text/plain": [
       "array([[217,  71],\n",
       "       [127, 136]])"
      ]
     },
     "execution_count": 330,
     "metadata": {},
     "output_type": "execute_result"
    }
   ],
   "source": [
    "metrics.confusion_matrix(label_true, predicted)"
   ]
  },
  {
   "cell_type": "markdown",
   "metadata": {},
   "source": [
    "# Classification for Ethnicity using just treatment on uncorrected essays"
   ]
  },
  {
   "cell_type": "code",
   "execution_count": 331,
   "metadata": {
    "collapsed": false
   },
   "outputs": [],
   "source": [
    "df_treat = df[df.Condition=='Treatment']\n",
    "df_treat = df_treat[df_treat.Ethnicity.isin(['African American','White'])]\n",
    "vectorizer = CountVectorizer(min_df=1)\n",
    "X = vectorizer.fit_transform(df_treat.Essay)\n",
    "model = lda.LDA(n_topics=50, n_iter=1500, random_state=1)"
   ]
  },
  {
   "cell_type": "code",
   "execution_count": 332,
   "metadata": {
    "collapsed": false
   },
   "outputs": [
    {
     "data": {
      "text/plain": [
       "(2354, 50)"
      ]
     },
     "execution_count": 332,
     "metadata": {},
     "output_type": "execute_result"
    }
   ],
   "source": [
    "model.fit(X)\n",
    "model.doc_topic_.shape # model.doc_topic_ contains the topic distributions"
   ]
  },
  {
   "cell_type": "code",
   "execution_count": 333,
   "metadata": {
    "collapsed": false
   },
   "outputs": [],
   "source": [
    "f1weighted = make_scorer(f1_score, average='weighted', pos_label=None)\n",
    "le = preprocessing.LabelEncoder()\n",
    "le.fit(df_treat.Ethnicity)\n",
    "Y = le.transform(df_treat.Ethnicity)\n",
    "dtm_train, dtm_test, label_train, label_true = train_test_split(model.doc_topic_, Y, test_size=.2)\n",
    "\n",
    "clf = svm.SVC(kernel='linear', probability=True)\n",
    "pardist = {'C':expon(scale=100), 'gamma':expon(scale=.1)}\n",
    "cv = ShuffleSplit(dtm_train.shape[0], n_iter=10, test_size=.2)\n",
    "rs = RandomizedSearchCV(clf, param_distributions=pardist, scoring=f1weighted,\n",
    "                       n_jobs=1, cv=cv, n_iter=25, verbose=0)\n",
    "rs.fit(dtm_train, label_train)\n",
    "predicted = rs.predict(dtm_test)\n"
   ]
  },
  {
   "cell_type": "markdown",
   "metadata": {},
   "source": [
    "## Results"
   ]
  },
  {
   "cell_type": "code",
   "execution_count": 334,
   "metadata": {
    "collapsed": false
   },
   "outputs": [
    {
     "data": {
      "text/plain": [
       "0.56687117128084508"
      ]
     },
     "execution_count": 334,
     "metadata": {},
     "output_type": "execute_result"
    }
   ],
   "source": [
    "f1_score(label_true, predicted, average='weighted', pos_label=None)"
   ]
  },
  {
   "cell_type": "code",
   "execution_count": 335,
   "metadata": {
    "collapsed": false
   },
   "outputs": [
    {
     "data": {
      "text/plain": [
       "array([ 0.58219607,  0.55533223,  0.55435784,  0.61147402,  0.58295604,\n",
       "        0.53037179,  0.60747543,  0.57737173,  0.56268108,  0.55048015])"
      ]
     },
     "execution_count": 335,
     "metadata": {},
     "output_type": "execute_result"
    }
   ],
   "source": [
    "return_grid_scores(rs, 'SVM')"
   ]
  },
  {
   "cell_type": "code",
   "execution_count": 336,
   "metadata": {
    "collapsed": false,
    "scrolled": true
   },
   "outputs": [
    {
     "data": {
      "text/plain": [
       "array([[133, 104],\n",
       "       [100, 134]])"
      ]
     },
     "execution_count": 336,
     "metadata": {},
     "output_type": "execute_result"
    }
   ],
   "source": [
    "metrics.confusion_matrix(label_true, predicted)"
   ]
  },
  {
   "cell_type": "markdown",
   "metadata": {},
   "source": [
    "# Classification for Gender using just treatment\n",
    "This time, with stop words removed"
   ]
  },
  {
   "cell_type": "code",
   "execution_count": 337,
   "metadata": {
    "collapsed": false
   },
   "outputs": [
    {
     "data": {
      "text/plain": [
       "<2751x3744 sparse matrix of type '<type 'numpy.int64'>'\n",
       "\twith 40738 stored elements in Compressed Sparse Row format>"
      ]
     },
     "execution_count": 337,
     "metadata": {},
     "output_type": "execute_result"
    }
   ],
   "source": [
    "df_treat = df[df.Condition=='Treatment']\n",
    "vectorizer = CountVectorizer(min_df=1, stop_words='english')\n",
    "X = vectorizer.fit_transform(df_treat.corrected)\n",
    "model = lda.LDA(n_topics=50, n_iter=1500, random_state=1)\n",
    "X"
   ]
  },
  {
   "cell_type": "code",
   "execution_count": 338,
   "metadata": {
    "collapsed": false
   },
   "outputs": [
    {
     "data": {
      "text/plain": [
       "(2751, 50)"
      ]
     },
     "execution_count": 338,
     "metadata": {},
     "output_type": "execute_result"
    }
   ],
   "source": [
    "model.fit(X)\n",
    "model.doc_topic_.shape # model.doc_topic_ contains the topic distributions"
   ]
  },
  {
   "cell_type": "code",
   "execution_count": 339,
   "metadata": {
    "collapsed": false
   },
   "outputs": [],
   "source": [
    "f1weighted = make_scorer(f1_score, average='weighted', pos_label=None)\n",
    "le = preprocessing.LabelEncoder()\n",
    "le.fit(df_treat.Gender)\n",
    "Y = le.transform(df_treat.Gender)\n",
    "dtm_train, dtm_test, label_train, label_true = train_test_split(model.doc_topic_, Y, test_size=.2)\n",
    "\n",
    "clf = svm.SVC(kernel='linear', probability=True)\n",
    "pardist = {'C':expon(scale=100), 'gamma':expon(scale=.1)}\n",
    "cv = ShuffleSplit(dtm_train.shape[0], n_iter=10, test_size=.2)\n",
    "rs = RandomizedSearchCV(clf, param_distributions=pardist, scoring=f1weighted,\n",
    "                       n_jobs=1, cv=cv, n_iter=25, verbose=0)\n",
    "rs.fit(dtm_train, label_train)\n",
    "predicted = rs.predict(dtm_test)\n"
   ]
  },
  {
   "cell_type": "markdown",
   "metadata": {},
   "source": [
    "## Results"
   ]
  },
  {
   "cell_type": "code",
   "execution_count": 340,
   "metadata": {
    "collapsed": false
   },
   "outputs": [
    {
     "data": {
      "text/plain": [
       "0.62236389580409557"
      ]
     },
     "execution_count": 340,
     "metadata": {},
     "output_type": "execute_result"
    }
   ],
   "source": [
    "f1_score(label_true, predicted, average='weighted', pos_label=None)"
   ]
  },
  {
   "cell_type": "code",
   "execution_count": 341,
   "metadata": {
    "collapsed": false
   },
   "outputs": [
    {
     "data": {
      "text/plain": [
       "array([ 0.65283782,  0.68994757,  0.62815756,  0.62079374,  0.64410789,\n",
       "        0.64591894,  0.65167141,  0.60965648,  0.62048311,  0.63037087])"
      ]
     },
     "execution_count": 341,
     "metadata": {},
     "output_type": "execute_result"
    }
   ],
   "source": [
    "return_grid_scores(rs, 'SVM')"
   ]
  },
  {
   "cell_type": "code",
   "execution_count": 342,
   "metadata": {
    "collapsed": false,
    "scrolled": true
   },
   "outputs": [
    {
     "data": {
      "text/plain": [
       "array([[230,  69],\n",
       "       [134, 118]])"
      ]
     },
     "execution_count": 342,
     "metadata": {},
     "output_type": "execute_result"
    }
   ],
   "source": [
    "metrics.confusion_matrix(label_true, predicted)"
   ]
  },
  {
   "cell_type": "markdown",
   "metadata": {},
   "source": [
    "# Classification for Ethnicity using just treatment\n",
    "stop words removed"
   ]
  },
  {
   "cell_type": "code",
   "execution_count": 343,
   "metadata": {
    "collapsed": false
   },
   "outputs": [
    {
     "data": {
      "text/plain": [
       "<2354x3465 sparse matrix of type '<type 'numpy.int64'>'\n",
       "\twith 34852 stored elements in Compressed Sparse Row format>"
      ]
     },
     "execution_count": 343,
     "metadata": {},
     "output_type": "execute_result"
    }
   ],
   "source": [
    "df_treat = df[df.Condition=='Treatment']\n",
    "df_treat = df_treat[df_treat.Ethnicity.isin(['African American','White'])]\n",
    "vectorizer = CountVectorizer(min_df=1, stop_words='english')\n",
    "X = vectorizer.fit_transform(df_treat.corrected)\n",
    "model = lda.LDA(n_topics=50, n_iter=1500, random_state=1)\n",
    "X"
   ]
  },
  {
   "cell_type": "code",
   "execution_count": 344,
   "metadata": {
    "collapsed": false
   },
   "outputs": [
    {
     "data": {
      "text/plain": [
       "(2354, 50)"
      ]
     },
     "execution_count": 344,
     "metadata": {},
     "output_type": "execute_result"
    }
   ],
   "source": [
    "model.fit(X)\n",
    "model.doc_topic_.shape # model.doc_topic_ contains the topic distributions"
   ]
  },
  {
   "cell_type": "code",
   "execution_count": 345,
   "metadata": {
    "collapsed": false
   },
   "outputs": [],
   "source": [
    "f1weighted = make_scorer(f1_score, average='weighted', pos_label=None)\n",
    "le = preprocessing.LabelEncoder()\n",
    "le.fit(df_treat.Ethnicity)\n",
    "Y = le.transform(df_treat.Ethnicity)\n",
    "dtm_train, dtm_test, label_train, label_true = train_test_split(model.doc_topic_, Y, test_size=.2)\n",
    "\n",
    "clf = svm.SVC(kernel='linear', probability=True)\n",
    "pardist = {'C':expon(scale=100), 'gamma':expon(scale=.1)}\n",
    "cv = ShuffleSplit(dtm_train.shape[0], n_iter=10, test_size=.2)\n",
    "rs = RandomizedSearchCV(clf, param_distributions=pardist, scoring=f1weighted,\n",
    "                       n_jobs=1, cv=cv, n_iter=25, verbose=0)\n",
    "rs.fit(dtm_train, label_train)\n",
    "predicted = rs.predict(dtm_test)\n"
   ]
  },
  {
   "cell_type": "markdown",
   "metadata": {},
   "source": [
    "## Results"
   ]
  },
  {
   "cell_type": "code",
   "execution_count": 346,
   "metadata": {
    "collapsed": false
   },
   "outputs": [
    {
     "data": {
      "text/plain": [
       "0.54782370334516284"
      ]
     },
     "execution_count": 346,
     "metadata": {},
     "output_type": "execute_result"
    }
   ],
   "source": [
    "f1_score(label_true, predicted, average='weighted', pos_label=None)"
   ]
  },
  {
   "cell_type": "code",
   "execution_count": 347,
   "metadata": {
    "collapsed": false
   },
   "outputs": [
    {
     "data": {
      "text/plain": [
       "array([ 0.5535605 ,  0.54359946,  0.50924238,  0.54640633,  0.55934063,\n",
       "        0.5629885 ,  0.53038494,  0.57885964,  0.56765751,  0.54973257])"
      ]
     },
     "execution_count": 347,
     "metadata": {},
     "output_type": "execute_result"
    }
   ],
   "source": [
    "return_grid_scores(rs, 'SVM')"
   ]
  },
  {
   "cell_type": "code",
   "execution_count": 348,
   "metadata": {
    "collapsed": false,
    "scrolled": true
   },
   "outputs": [
    {
     "data": {
      "text/plain": [
       "array([[130, 113],\n",
       "       [100, 128]])"
      ]
     },
     "execution_count": 348,
     "metadata": {},
     "output_type": "execute_result"
    }
   ],
   "source": [
    "metrics.confusion_matrix(label_true, predicted)"
   ]
  },
  {
   "cell_type": "markdown",
   "metadata": {},
   "source": [
    "# Classification for Gender using just treatment\n",
    "This time, with stop words removed, cutoff for words"
   ]
  },
  {
   "cell_type": "code",
   "execution_count": 349,
   "metadata": {
    "collapsed": false
   },
   "outputs": [
    {
     "data": {
      "text/plain": [
       "<2751x1091 sparse matrix of type '<type 'numpy.int64'>'\n",
       "\twith 37050 stored elements in Compressed Sparse Row format>"
      ]
     },
     "execution_count": 349,
     "metadata": {},
     "output_type": "execute_result"
    }
   ],
   "source": [
    "df_treat = df[df.Condition=='Treatment']\n",
    "vectorizer = CountVectorizer(min_df=4, stop_words='english')\n",
    "X = vectorizer.fit_transform(df_treat.corrected)\n",
    "model = lda.LDA(n_topics=50, n_iter=1500, random_state=1)\n",
    "X"
   ]
  },
  {
   "cell_type": "code",
   "execution_count": 350,
   "metadata": {
    "collapsed": false
   },
   "outputs": [
    {
     "data": {
      "text/plain": [
       "(2751, 50)"
      ]
     },
     "execution_count": 350,
     "metadata": {},
     "output_type": "execute_result"
    }
   ],
   "source": [
    "model.fit(X)\n",
    "model.doc_topic_.shape # model.doc_topic_ contains the topic distributions"
   ]
  },
  {
   "cell_type": "code",
   "execution_count": 351,
   "metadata": {
    "collapsed": false
   },
   "outputs": [],
   "source": [
    "f1weighted = make_scorer(f1_score, average='weighted', pos_label=None)\n",
    "le = preprocessing.LabelEncoder()\n",
    "le.fit(df_treat.Gender)\n",
    "Y = le.transform(df_treat.Gender)\n",
    "dtm_train, dtm_test, label_train, label_true = train_test_split(model.doc_topic_, Y, test_size=.2)\n",
    "\n",
    "clf = svm.SVC(kernel='linear', probability=True)\n",
    "pardist = {'C':expon(scale=100), 'gamma':expon(scale=.1)}\n",
    "cv = ShuffleSplit(dtm_train.shape[0], n_iter=10, test_size=.2)\n",
    "rs = RandomizedSearchCV(clf, param_distributions=pardist, scoring=f1weighted,\n",
    "                       n_jobs=1, cv=cv, n_iter=25, verbose=0)\n",
    "rs.fit(dtm_train, label_train)\n",
    "predicted = rs.predict(dtm_test)\n"
   ]
  },
  {
   "cell_type": "markdown",
   "metadata": {},
   "source": [
    "## Results"
   ]
  },
  {
   "cell_type": "code",
   "execution_count": 352,
   "metadata": {
    "collapsed": false
   },
   "outputs": [
    {
     "data": {
      "text/plain": [
       "0.63654226033800221"
      ]
     },
     "execution_count": 352,
     "metadata": {},
     "output_type": "execute_result"
    }
   ],
   "source": [
    "f1_score(label_true, predicted, average='weighted', pos_label=None)"
   ]
  },
  {
   "cell_type": "code",
   "execution_count": 353,
   "metadata": {
    "collapsed": false
   },
   "outputs": [
    {
     "data": {
      "text/plain": [
       "array([ 0.65341867,  0.67957963,  0.63833251,  0.64159417,  0.68558761,\n",
       "        0.65321563,  0.65764778,  0.68221721,  0.64382311,  0.65191065])"
      ]
     },
     "execution_count": 353,
     "metadata": {},
     "output_type": "execute_result"
    }
   ],
   "source": [
    "return_grid_scores(rs, 'SVM')"
   ]
  },
  {
   "cell_type": "code",
   "execution_count": 354,
   "metadata": {
    "collapsed": false,
    "scrolled": true
   },
   "outputs": [
    {
     "data": {
      "text/plain": [
       "array([[226,  65],\n",
       "       [131, 129]])"
      ]
     },
     "execution_count": 354,
     "metadata": {},
     "output_type": "execute_result"
    }
   ],
   "source": [
    "metrics.confusion_matrix(label_true, predicted)"
   ]
  },
  {
   "cell_type": "markdown",
   "metadata": {},
   "source": [
    "# Classification for Ethnicity using just treatment\n",
    "stop words removed, cutoff imposed"
   ]
  },
  {
   "cell_type": "code",
   "execution_count": 355,
   "metadata": {
    "collapsed": false
   },
   "outputs": [
    {
     "data": {
      "text/plain": [
       "<2354x976 sparse matrix of type '<type 'numpy.int64'>'\n",
       "\twith 31388 stored elements in Compressed Sparse Row format>"
      ]
     },
     "execution_count": 355,
     "metadata": {},
     "output_type": "execute_result"
    }
   ],
   "source": [
    "df_treat = df[df.Condition=='Treatment']\n",
    "df_treat = df_treat[df_treat.Ethnicity.isin(['African American','White'])]\n",
    "vectorizer = CountVectorizer(min_df=4, stop_words='english')\n",
    "X = vectorizer.fit_transform(df_treat.corrected)\n",
    "model = lda.LDA(n_topics=50, n_iter=1500, random_state=1)\n",
    "X"
   ]
  },
  {
   "cell_type": "code",
   "execution_count": 356,
   "metadata": {
    "collapsed": false
   },
   "outputs": [
    {
     "data": {
      "text/plain": [
       "(2354, 50)"
      ]
     },
     "execution_count": 356,
     "metadata": {},
     "output_type": "execute_result"
    }
   ],
   "source": [
    "model.fit(X)\n",
    "model.doc_topic_.shape # model.doc_topic_ contains the topic distributions"
   ]
  },
  {
   "cell_type": "code",
   "execution_count": 357,
   "metadata": {
    "collapsed": false
   },
   "outputs": [],
   "source": [
    "f1weighted = make_scorer(f1_score, average='weighted', pos_label=None)\n",
    "le = preprocessing.LabelEncoder()\n",
    "le.fit(df_treat.Ethnicity)\n",
    "Y = le.transform(df_treat.Ethnicity)\n",
    "dtm_train, dtm_test, label_train, label_true = train_test_split(model.doc_topic_, Y, test_size=.2)\n",
    "\n",
    "clf = svm.SVC(kernel='linear', probability=True)\n",
    "pardist = {'C':expon(scale=100), 'gamma':expon(scale=.1)}\n",
    "cv = ShuffleSplit(dtm_train.shape[0], n_iter=10, test_size=.2)\n",
    "rs = RandomizedSearchCV(clf, param_distributions=pardist, scoring=f1weighted,\n",
    "                       n_jobs=1, cv=cv, n_iter=25, verbose=0)\n",
    "rs.fit(dtm_train, label_train)\n",
    "predicted = rs.predict(dtm_test)\n"
   ]
  },
  {
   "cell_type": "markdown",
   "metadata": {},
   "source": [
    "## Results"
   ]
  },
  {
   "cell_type": "code",
   "execution_count": 358,
   "metadata": {
    "collapsed": false
   },
   "outputs": [
    {
     "data": {
      "text/plain": [
       "0.5240207328708838"
      ]
     },
     "execution_count": 358,
     "metadata": {},
     "output_type": "execute_result"
    }
   ],
   "source": [
    "f1_score(label_true, predicted, average='weighted', pos_label=None)"
   ]
  },
  {
   "cell_type": "code",
   "execution_count": 359,
   "metadata": {
    "collapsed": false
   },
   "outputs": [
    {
     "data": {
      "text/plain": [
       "array([ 0.53563225,  0.57273382,  0.52687446,  0.56211866,  0.54109468,\n",
       "        0.59311932,  0.5251564 ,  0.54011511,  0.52736837,  0.54758504])"
      ]
     },
     "execution_count": 359,
     "metadata": {},
     "output_type": "execute_result"
    }
   ],
   "source": [
    "return_grid_scores(rs, 'SVM')"
   ]
  },
  {
   "cell_type": "code",
   "execution_count": 360,
   "metadata": {
    "collapsed": false,
    "scrolled": false
   },
   "outputs": [
    {
     "data": {
      "text/plain": [
       "array([[112, 116],\n",
       "       [108, 135]])"
      ]
     },
     "execution_count": 360,
     "metadata": {},
     "output_type": "execute_result"
    }
   ],
   "source": [
    "metrics.confusion_matrix(label_true, predicted)"
   ]
  },
  {
   "cell_type": "markdown",
   "metadata": {},
   "source": [
    "# Classification for Gender using just treatment\n",
    "This time, with stop words removed, cutoff for words, words lemmatized"
   ]
  },
  {
   "cell_type": "code",
   "execution_count": 364,
   "metadata": {
    "collapsed": false
   },
   "outputs": [
    {
     "data": {
      "text/plain": [
       "<2751x1033 sparse matrix of type '<type 'numpy.int64'>'\n",
       "\twith 43873 stored elements in Compressed Sparse Row format>"
      ]
     },
     "execution_count": 364,
     "metadata": {},
     "output_type": "execute_result"
    }
   ],
   "source": [
    "df_treat = df[df.Condition=='Treatment']\n",
    "vectorizer = CountVectorizer(tokenizer=LemmaTokenizer(), min_df=4, stop_words='english')\n",
    "X = vectorizer.fit_transform(df_treat.corrected)\n",
    "model = lda.LDA(n_topics=50, n_iter=1500, random_state=1)\n",
    "X"
   ]
  },
  {
   "cell_type": "code",
   "execution_count": 368,
   "metadata": {
    "collapsed": false
   },
   "outputs": [
    {
     "data": {
      "text/plain": [
       "(2751, 50)"
      ]
     },
     "execution_count": 368,
     "metadata": {},
     "output_type": "execute_result"
    }
   ],
   "source": [
    "model.fit(X)\n",
    "model.doc_topic_.shape # model.doc_topic_ contains the topic distributions"
   ]
  },
  {
   "cell_type": "code",
   "execution_count": 369,
   "metadata": {
    "collapsed": false
   },
   "outputs": [],
   "source": [
    "f1weighted = make_scorer(f1_score, average='weighted', pos_label=None)\n",
    "le = preprocessing.LabelEncoder()\n",
    "le.fit(df_treat.Gender)\n",
    "Y = le.transform(df_treat.Gender)\n",
    "dtm_train, dtm_test, label_train, label_true = train_test_split(model.doc_topic_, Y, test_size=.2)\n",
    "\n",
    "clf = svm.SVC(kernel='linear', probability=True)\n",
    "pardist = {'C':expon(scale=100), 'gamma':expon(scale=.1)}\n",
    "cv = ShuffleSplit(dtm_train.shape[0], n_iter=10, test_size=.2)\n",
    "rs = RandomizedSearchCV(clf, param_distributions=pardist, scoring=f1weighted,\n",
    "                       n_jobs=1, cv=cv, n_iter=25, verbose=0)\n",
    "rs.fit(dtm_train, label_train)\n",
    "predicted = rs.predict(dtm_test)\n"
   ]
  },
  {
   "cell_type": "markdown",
   "metadata": {},
   "source": [
    "## Results"
   ]
  },
  {
   "cell_type": "code",
   "execution_count": 370,
   "metadata": {
    "collapsed": false
   },
   "outputs": [
    {
     "data": {
      "text/plain": [
       "0.65300992806208391"
      ]
     },
     "execution_count": 370,
     "metadata": {},
     "output_type": "execute_result"
    }
   ],
   "source": [
    "f1_score(label_true, predicted, average='weighted', pos_label=None)"
   ]
  },
  {
   "cell_type": "code",
   "execution_count": 371,
   "metadata": {
    "collapsed": false
   },
   "outputs": [
    {
     "data": {
      "text/plain": [
       "array([ 0.63779364,  0.64365065,  0.62457871,  0.63209512,  0.63010158,\n",
       "        0.63897407,  0.65709186,  0.63632035,  0.63138774,  0.65236811])"
      ]
     },
     "execution_count": 371,
     "metadata": {},
     "output_type": "execute_result"
    }
   ],
   "source": [
    "return_grid_scores(rs, 'SVM')"
   ]
  },
  {
   "cell_type": "code",
   "execution_count": 372,
   "metadata": {
    "collapsed": false,
    "scrolled": true
   },
   "outputs": [
    {
     "data": {
      "text/plain": [
       "array([[256,  41],\n",
       "       [141, 113]])"
      ]
     },
     "execution_count": 372,
     "metadata": {},
     "output_type": "execute_result"
    }
   ],
   "source": [
    "metrics.confusion_matrix(label_true, predicted)"
   ]
  },
  {
   "cell_type": "markdown",
   "metadata": {},
   "source": [
    "# Classification for Ethnicity using just treatment\n",
    "stop words removed, cutoff imposed"
   ]
  },
  {
   "cell_type": "code",
   "execution_count": 374,
   "metadata": {
    "collapsed": false
   },
   "outputs": [
    {
     "data": {
      "text/plain": [
       "<2354x926 sparse matrix of type '<type 'numpy.int64'>'\n",
       "\twith 37250 stored elements in Compressed Sparse Row format>"
      ]
     },
     "execution_count": 374,
     "metadata": {},
     "output_type": "execute_result"
    }
   ],
   "source": [
    "df_treat = df[df.Condition=='Treatment']\n",
    "df_treat = df_treat[df_treat.Ethnicity.isin(['African American','White'])]\n",
    "vectorizer = CountVectorizer(tokenizer=LemmaTokenizer(), min_df=4, stop_words='english')\n",
    "X = vectorizer.fit_transform(df_treat.corrected)\n",
    "model = lda.LDA(n_topics=50, n_iter=1500, random_state=1)\n",
    "X"
   ]
  },
  {
   "cell_type": "code",
   "execution_count": 375,
   "metadata": {
    "collapsed": false
   },
   "outputs": [
    {
     "data": {
      "text/plain": [
       "(2354, 50)"
      ]
     },
     "execution_count": 375,
     "metadata": {},
     "output_type": "execute_result"
    }
   ],
   "source": [
    "model.fit(X)\n",
    "model.doc_topic_.shape # model.doc_topic_ contains the topic distributions"
   ]
  },
  {
   "cell_type": "code",
   "execution_count": 376,
   "metadata": {
    "collapsed": false
   },
   "outputs": [],
   "source": [
    "f1weighted = make_scorer(f1_score, average='weighted', pos_label=None)\n",
    "le = preprocessing.LabelEncoder()\n",
    "le.fit(df_treat.Ethnicity)\n",
    "Y = le.transform(df_treat.Ethnicity)\n",
    "dtm_train, dtm_test, label_train, label_true = train_test_split(model.doc_topic_, Y, test_size=.2)\n",
    "\n",
    "clf = svm.SVC(kernel='linear', probability=True)\n",
    "pardist = {'C':expon(scale=100), 'gamma':expon(scale=.1)}\n",
    "cv = ShuffleSplit(dtm_train.shape[0], n_iter=10, test_size=.2)\n",
    "rs = RandomizedSearchCV(clf, param_distributions=pardist, scoring=f1weighted,\n",
    "                       n_jobs=1, cv=cv, n_iter=25, verbose=0)\n",
    "rs.fit(dtm_train, label_train)\n",
    "predicted = rs.predict(dtm_test)\n"
   ]
  },
  {
   "cell_type": "markdown",
   "metadata": {},
   "source": [
    "## Results"
   ]
  },
  {
   "cell_type": "code",
   "execution_count": 377,
   "metadata": {
    "collapsed": false
   },
   "outputs": [
    {
     "data": {
      "text/plain": [
       "0.5631101534798848"
      ]
     },
     "execution_count": 377,
     "metadata": {},
     "output_type": "execute_result"
    }
   ],
   "source": [
    "f1_score(label_true, predicted, average='weighted', pos_label=None)"
   ]
  },
  {
   "cell_type": "code",
   "execution_count": 378,
   "metadata": {
    "collapsed": false
   },
   "outputs": [
    {
     "data": {
      "text/plain": [
       "array([ 0.53716929,  0.56999538,  0.56511569,  0.56006847,  0.56703488,\n",
       "        0.52972051,  0.53981785,  0.52568264,  0.51148267,  0.51759903])"
      ]
     },
     "execution_count": 378,
     "metadata": {},
     "output_type": "execute_result"
    }
   ],
   "source": [
    "return_grid_scores(rs, 'SVM')"
   ]
  },
  {
   "cell_type": "code",
   "execution_count": 380,
   "metadata": {
    "collapsed": false,
    "scrolled": false
   },
   "outputs": [
    {
     "data": {
      "text/plain": [
       "array([[118, 133],\n",
       "       [ 71, 149]])"
      ]
     },
     "execution_count": 380,
     "metadata": {},
     "output_type": "execute_result"
    }
   ],
   "source": [
    "metrics.confusion_matrix(label_true, predicted)"
   ]
  },
  {
   "cell_type": "markdown",
   "metadata": {},
   "source": [
    "# Classification for Gender using just treatment\n",
    "This time, with stop words removed, cutoff for words, words lemmatized, fiddling with scoring metric"
   ]
  },
  {
   "cell_type": "code",
   "execution_count": 392,
   "metadata": {
    "collapsed": false
   },
   "outputs": [
    {
     "data": {
      "text/plain": [
       "<2751x1033 sparse matrix of type '<type 'numpy.int64'>'\n",
       "\twith 43873 stored elements in Compressed Sparse Row format>"
      ]
     },
     "execution_count": 392,
     "metadata": {},
     "output_type": "execute_result"
    }
   ],
   "source": [
    "df_treat = df[df.Condition=='Treatment']\n",
    "vectorizer = CountVectorizer(tokenizer=LemmaTokenizer(), min_df=4, stop_words='english')\n",
    "X = vectorizer.fit_transform(df_treat.corrected)\n",
    "model = lda.LDA(n_topics=50, n_iter=1500, random_state=1)\n",
    "X"
   ]
  },
  {
   "cell_type": "code",
   "execution_count": 393,
   "metadata": {
    "collapsed": false
   },
   "outputs": [
    {
     "data": {
      "text/plain": [
       "(2751, 50)"
      ]
     },
     "execution_count": 393,
     "metadata": {},
     "output_type": "execute_result"
    }
   ],
   "source": [
    "model.fit(X)\n",
    "model.doc_topic_.shape # model.doc_topic_ contains the topic distributions"
   ]
  },
  {
   "cell_type": "code",
   "execution_count": 394,
   "metadata": {
    "collapsed": false
   },
   "outputs": [],
   "source": [
    "le = preprocessing.LabelEncoder()\n",
    "le.fit(df_treat.Gender)\n",
    "Y = le.transform(df_treat.Gender)\n",
    "dtm_train, dtm_test, label_train, label_true = train_test_split(model.doc_topic_, Y, test_size=.2)\n",
    "\n",
    "clf = svm.SVC(kernel='linear', probability=True)\n",
    "pardist = {'C':expon(scale=100), 'gamma':expon(scale=.1)}\n",
    "cv = ShuffleSplit(dtm_train.shape[0], n_iter=10, test_size=.2)\n",
    "rs = RandomizedSearchCV(clf, param_distributions=pardist, scoring='f1',\n",
    "                       n_jobs=1, cv=cv, n_iter=25, verbose=0)\n",
    "rs.fit(dtm_train, label_train)\n",
    "predicted = rs.predict(dtm_test)\n"
   ]
  },
  {
   "cell_type": "markdown",
   "metadata": {},
   "source": [
    "## Results"
   ]
  },
  {
   "cell_type": "code",
   "execution_count": 398,
   "metadata": {
    "collapsed": false
   },
   "outputs": [
    {
     "data": {
      "text/plain": [
       "0.5880515767247777"
      ]
     },
     "execution_count": 398,
     "metadata": {},
     "output_type": "execute_result"
    }
   ],
   "source": [
    "f1_score(label_true, predicted, average='weighted', pos_label=None)"
   ]
  },
  {
   "cell_type": "code",
   "execution_count": 399,
   "metadata": {
    "collapsed": false
   },
   "outputs": [
    {
     "data": {
      "text/plain": [
       "array([ 0.56119403,  0.5443787 ,  0.53205128,  0.53674121,  0.56687898,\n",
       "        0.52887538,  0.56697819,  0.56657224,  0.53246753,  0.59459459])"
      ]
     },
     "execution_count": 399,
     "metadata": {},
     "output_type": "execute_result"
    }
   ],
   "source": [
    "return_grid_scores(rs, 'SVM')"
   ]
  },
  {
   "cell_type": "code",
   "execution_count": 400,
   "metadata": {
    "collapsed": false,
    "scrolled": true
   },
   "outputs": [
    {
     "data": {
      "text/plain": [
       "array([[226,  45],\n",
       "       [171, 109]])"
      ]
     },
     "execution_count": 400,
     "metadata": {},
     "output_type": "execute_result"
    }
   ],
   "source": [
    "metrics.confusion_matrix(label_true, predicted)"
   ]
  },
  {
   "cell_type": "markdown",
   "metadata": {},
   "source": [
    "# Classification for Ethnicity using just treatment\n",
    "stop words removed, cutoff imposed words lemmatized, fiddling with scoring metric"
   ]
  },
  {
   "cell_type": "code",
   "execution_count": 407,
   "metadata": {
    "collapsed": false
   },
   "outputs": [
    {
     "data": {
      "text/plain": [
       "<2354x926 sparse matrix of type '<type 'numpy.int64'>'\n",
       "\twith 37250 stored elements in Compressed Sparse Row format>"
      ]
     },
     "execution_count": 407,
     "metadata": {},
     "output_type": "execute_result"
    }
   ],
   "source": [
    "df_treat = df[df.Condition=='Treatment']\n",
    "df_treat = df_treat[df_treat.Ethnicity.isin(['African American','White'])]\n",
    "vectorizer = CountVectorizer(tokenizer=LemmaTokenizer(), min_df=4, stop_words='english')\n",
    "X = vectorizer.fit_transform(df_treat.corrected)\n",
    "model = lda.LDA(n_topics=50, n_iter=1500, random_state=1)\n",
    "X"
   ]
  },
  {
   "cell_type": "code",
   "execution_count": 408,
   "metadata": {
    "collapsed": false
   },
   "outputs": [
    {
     "data": {
      "text/plain": [
       "(2354, 50)"
      ]
     },
     "execution_count": 408,
     "metadata": {},
     "output_type": "execute_result"
    }
   ],
   "source": [
    "model.fit(X)\n",
    "model.doc_topic_.shape # model.doc_topic_ contains the topic distributions"
   ]
  },
  {
   "cell_type": "code",
   "execution_count": 409,
   "metadata": {
    "collapsed": false
   },
   "outputs": [],
   "source": [
    "le = preprocessing.LabelEncoder()\n",
    "le.fit(df_treat.Ethnicity)\n",
    "Y = le.transform(df_treat.Ethnicity)\n",
    "dtm_train, dtm_test, label_train, label_true = train_test_split(model.doc_topic_, Y, test_size=.2)\n",
    "\n",
    "clf = svm.SVC(kernel='linear', probability=True)\n",
    "pardist = {'C':expon(scale=100), 'gamma':expon(scale=.1)}\n",
    "cv = ShuffleSplit(dtm_train.shape[0], n_iter=10, test_size=.2)\n",
    "rs = RandomizedSearchCV(clf, param_distributions=pardist, scoring='f1',\n",
    "                       n_jobs=1, cv=cv, n_iter=25, verbose=0)\n",
    "rs.fit(dtm_train, label_train)\n",
    "predicted = rs.predict(dtm_test)\n"
   ]
  },
  {
   "cell_type": "markdown",
   "metadata": {},
   "source": [
    "## Results"
   ]
  },
  {
   "cell_type": "code",
   "execution_count": 410,
   "metadata": {
    "collapsed": false
   },
   "outputs": [
    {
     "data": {
      "text/plain": [
       "0.55643934214555535"
      ]
     },
     "execution_count": 410,
     "metadata": {},
     "output_type": "execute_result"
    }
   ],
   "source": [
    "f1_score(label_true, predicted, average='weighted', pos_label=None)"
   ]
  },
  {
   "cell_type": "code",
   "execution_count": 411,
   "metadata": {
    "collapsed": false
   },
   "outputs": [
    {
     "data": {
      "text/plain": [
       "array([ 0.55639098,  0.57721519,  0.52849741,  0.56613757,  0.57441253,\n",
       "        0.54347826,  0.56852792,  0.56533333,  0.58524173,  0.58097686])"
      ]
     },
     "execution_count": 411,
     "metadata": {},
     "output_type": "execute_result"
    }
   ],
   "source": [
    "return_grid_scores(rs, 'SVM')"
   ]
  },
  {
   "cell_type": "code",
   "execution_count": 412,
   "metadata": {
    "collapsed": false,
    "scrolled": false
   },
   "outputs": [
    {
     "data": {
      "text/plain": [
       "array([[127,  99],\n",
       "       [110, 135]])"
      ]
     },
     "execution_count": 412,
     "metadata": {},
     "output_type": "execute_result"
    }
   ],
   "source": [
    "metrics.confusion_matrix(label_true, predicted)"
   ]
  },
  {
   "cell_type": "markdown",
   "metadata": {},
   "source": [
    "# Classification for Gender using just treatment\n",
    "This time, with stop words removed, cutoff for words, words lemmatized, tf-idf appended"
   ]
  },
  {
   "cell_type": "code",
   "execution_count": 413,
   "metadata": {
    "collapsed": false
   },
   "outputs": [
    {
     "data": {
      "text/plain": [
       "<2751x1033 sparse matrix of type '<type 'numpy.int64'>'\n",
       "\twith 43873 stored elements in Compressed Sparse Row format>"
      ]
     },
     "execution_count": 413,
     "metadata": {},
     "output_type": "execute_result"
    }
   ],
   "source": [
    "df_treat = df[df.Condition=='Treatment']\n",
    "vectorizer = CountVectorizer(tokenizer=LemmaTokenizer(), min_df=4, stop_words='english')\n",
    "X = vectorizer.fit_transform(df_treat.corrected)\n",
    "model = lda.LDA(n_topics=50, n_iter=1500, random_state=1)\n",
    "X"
   ]
  },
  {
   "cell_type": "code",
   "execution_count": 423,
   "metadata": {
    "collapsed": false
   },
   "outputs": [],
   "source": [
    "tf = TfidfVectorizer(tokenizer=LemmaTokenizer(), min_df=4, stop_words='english')\n",
    "X_tf = tf.fit_transform(df_treat.corrected)"
   ]
  },
  {
   "cell_type": "code",
   "execution_count": 424,
   "metadata": {
    "collapsed": false
   },
   "outputs": [
    {
     "data": {
      "text/plain": [
       "(2751, 50)"
      ]
     },
     "execution_count": 424,
     "metadata": {},
     "output_type": "execute_result"
    }
   ],
   "source": [
    "model.fit(X)\n",
    "model.doc_topic_.shape # model.doc_topic_ contains the topic distributions\n"
   ]
  },
  {
   "cell_type": "code",
   "execution_count": 428,
   "metadata": {
    "collapsed": false
   },
   "outputs": [
    {
     "data": {
      "text/plain": [
       "(2751, 1083)"
      ]
     },
     "execution_count": 428,
     "metadata": {},
     "output_type": "execute_result"
    }
   ],
   "source": [
    "X_con = np.concatenate((X_tf.todense(), model.doc_topic_), axis=1)"
   ]
  },
  {
   "cell_type": "code",
   "execution_count": 429,
   "metadata": {
    "collapsed": false
   },
   "outputs": [],
   "source": [
    "f1weighted = make_scorer(f1_score, average='weighted', pos_label=None)\n",
    "le = preprocessing.LabelEncoder()\n",
    "le.fit(df_treat.Gender)\n",
    "Y = le.transform(df_treat.Gender)\n",
    "dtm_train, dtm_test, label_train, label_true = train_test_split(X_con, Y, test_size=.2)\n",
    "\n",
    "clf = svm.SVC(kernel='linear', probability=True)\n",
    "pardist = {'C':expon(scale=100), 'gamma':expon(scale=.1)}\n",
    "cv = ShuffleSplit(dtm_train.shape[0], n_iter=10, test_size=.2)\n",
    "rs = RandomizedSearchCV(clf, param_distributions=pardist, scoring=f1weighted,\n",
    "                       n_jobs=1, cv=cv, n_iter=25, verbose=0)\n",
    "rs.fit(dtm_train, label_train)\n",
    "predicted = rs.predict(dtm_test)\n"
   ]
  },
  {
   "cell_type": "markdown",
   "metadata": {},
   "source": [
    "## Results"
   ]
  },
  {
   "cell_type": "code",
   "execution_count": 430,
   "metadata": {
    "collapsed": false
   },
   "outputs": [
    {
     "data": {
      "text/plain": [
       "0.65279725027128777"
      ]
     },
     "execution_count": 430,
     "metadata": {},
     "output_type": "execute_result"
    }
   ],
   "source": [
    "f1_score(label_true, predicted, average='weighted', pos_label=None)"
   ]
  },
  {
   "cell_type": "code",
   "execution_count": 431,
   "metadata": {
    "collapsed": false
   },
   "outputs": [
    {
     "data": {
      "text/plain": [
       "array([ 0.65198276,  0.69108415,  0.67945644,  0.6432505 ,  0.69545455,\n",
       "        0.69822429,  0.66382432,  0.63582178,  0.65040661,  0.59386005])"
      ]
     },
     "execution_count": 431,
     "metadata": {},
     "output_type": "execute_result"
    }
   ],
   "source": [
    "return_grid_scores(rs, 'SVM')"
   ]
  },
  {
   "cell_type": "code",
   "execution_count": 432,
   "metadata": {
    "collapsed": false,
    "scrolled": true
   },
   "outputs": [
    {
     "data": {
      "text/plain": [
       "array([[207,  91],\n",
       "       [100, 153]])"
      ]
     },
     "execution_count": 432,
     "metadata": {},
     "output_type": "execute_result"
    }
   ],
   "source": [
    "metrics.confusion_matrix(label_true, predicted)"
   ]
  },
  {
   "cell_type": "markdown",
   "metadata": {},
   "source": [
    "# Classification for Ethnicity using just treatment\n",
    "stop words removed, cutoff imposed, words lemmatized, tf-idf appended"
   ]
  },
  {
   "cell_type": "code",
   "execution_count": 433,
   "metadata": {
    "collapsed": false
   },
   "outputs": [
    {
     "data": {
      "text/plain": [
       "<2354x926 sparse matrix of type '<type 'numpy.int64'>'\n",
       "\twith 37250 stored elements in Compressed Sparse Row format>"
      ]
     },
     "execution_count": 433,
     "metadata": {},
     "output_type": "execute_result"
    }
   ],
   "source": [
    "df_treat = df[df.Condition=='Treatment']\n",
    "df_treat = df_treat[df_treat.Ethnicity.isin(['African American','White'])]\n",
    "vectorizer = CountVectorizer(tokenizer=LemmaTokenizer(), min_df=4, stop_words='english')\n",
    "X = vectorizer.fit_transform(df_treat.corrected)\n",
    "model = lda.LDA(n_topics=50, n_iter=1500, random_state=1)\n",
    "X"
   ]
  },
  {
   "cell_type": "code",
   "execution_count": 434,
   "metadata": {
    "collapsed": false
   },
   "outputs": [],
   "source": [
    "tf = TfidfVectorizer(tokenizer=LemmaTokenizer(), min_df=4, stop_words='english')\n",
    "X_tf = tf.fit_transform(df_treat.corrected)"
   ]
  },
  {
   "cell_type": "code",
   "execution_count": 435,
   "metadata": {
    "collapsed": false
   },
   "outputs": [
    {
     "data": {
      "text/plain": [
       "(2354, 50)"
      ]
     },
     "execution_count": 435,
     "metadata": {},
     "output_type": "execute_result"
    }
   ],
   "source": [
    "model.fit(X)\n",
    "model.doc_topic_.shape # model.doc_topic_ contains the topic distributions"
   ]
  },
  {
   "cell_type": "code",
   "execution_count": 436,
   "metadata": {
    "collapsed": false
   },
   "outputs": [],
   "source": [
    "X_con = np.concatenate((X_tf.todense(), model.doc_topic_), axis=1)"
   ]
  },
  {
   "cell_type": "code",
   "execution_count": 437,
   "metadata": {
    "collapsed": false
   },
   "outputs": [],
   "source": [
    "f1weighted = make_scorer(f1_score, average='weighted', pos_label=None)\n",
    "le = preprocessing.LabelEncoder()\n",
    "le.fit(df_treat.Ethnicity)\n",
    "Y = le.transform(df_treat.Ethnicity)\n",
    "dtm_train, dtm_test, label_train, label_true = train_test_split(X_con, Y, test_size=.2)\n",
    "\n",
    "clf = svm.SVC(kernel='linear', probability=True)\n",
    "pardist = {'C':expon(scale=100), 'gamma':expon(scale=.1)}\n",
    "cv = ShuffleSplit(dtm_train.shape[0], n_iter=10, test_size=.2)\n",
    "rs = RandomizedSearchCV(clf, param_distributions=pardist, scoring=f1weighted,\n",
    "                       n_jobs=1, cv=cv, n_iter=25, verbose=0)\n",
    "rs.fit(dtm_train, label_train)\n",
    "predicted = rs.predict(dtm_test)\n"
   ]
  },
  {
   "cell_type": "markdown",
   "metadata": {},
   "source": [
    "## Results"
   ]
  },
  {
   "cell_type": "code",
   "execution_count": 438,
   "metadata": {
    "collapsed": false
   },
   "outputs": [
    {
     "data": {
      "text/plain": [
       "0.57724699014058889"
      ]
     },
     "execution_count": 438,
     "metadata": {},
     "output_type": "execute_result"
    }
   ],
   "source": [
    "f1_score(label_true, predicted, average='weighted', pos_label=None)"
   ]
  },
  {
   "cell_type": "code",
   "execution_count": 439,
   "metadata": {
    "collapsed": false
   },
   "outputs": [
    {
     "data": {
      "text/plain": [
       "array([ 0.59311177,  0.62107963,  0.61019483,  0.62076974,  0.63145554,\n",
       "        0.58361298,  0.57840366,  0.61460697,  0.62057222,  0.5427291 ])"
      ]
     },
     "execution_count": 439,
     "metadata": {},
     "output_type": "execute_result"
    }
   ],
   "source": [
    "return_grid_scores(rs, 'SVM')"
   ]
  },
  {
   "cell_type": "code",
   "execution_count": 440,
   "metadata": {
    "collapsed": false,
    "scrolled": false
   },
   "outputs": [
    {
     "data": {
      "text/plain": [
       "array([[131, 106],\n",
       "       [ 93, 141]])"
      ]
     },
     "execution_count": 440,
     "metadata": {},
     "output_type": "execute_result"
    }
   ],
   "source": [
    "metrics.confusion_matrix(label_true, predicted)"
   ]
  }
 ],
 "metadata": {
  "kernelspec": {
   "display_name": "Python 2",
   "language": "python",
   "name": "python2"
  },
  "language_info": {
   "codemirror_mode": {
    "name": "ipython",
    "version": 2
   },
   "file_extension": ".py",
   "mimetype": "text/x-python",
   "name": "python",
   "nbconvert_exporter": "python",
   "pygments_lexer": "ipython2",
   "version": "2.7.11"
  }
 },
 "nbformat": 4,
 "nbformat_minor": 0
}

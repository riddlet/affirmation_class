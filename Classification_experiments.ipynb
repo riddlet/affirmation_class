{
 "cells": [
  {
   "cell_type": "code",
   "execution_count": 1,
   "metadata": {
    "collapsed": false
   },
   "outputs": [
    {
     "name": "stderr",
     "output_type": "stream",
     "text": [
      "/Users/travis/anaconda/lib/python2.7/site-packages/pandas/computation/__init__.py:19: UserWarning: The installed version of numexpr 2.4.4 is not supported in pandas and will be not be used\n",
      "\n",
      "  UserWarning)\n"
     ]
    }
   ],
   "source": [
    "import pandas as pd\n",
    "import numpy as np\n",
    "np.random.seed(1337)\n",
    "import lda\n",
    "from scipy.stats import expon\n",
    "from sklearn.feature_extraction.text import CountVectorizer\n",
    "from sklearn.cross_validation import train_test_split, ShuffleSplit\n",
    "from sklearn.metrics import make_scorer, f1_score\n",
    "from sklearn.grid_search import RandomizedSearchCV\n",
    "from sklearn.feature_extraction.text import TfidfVectorizer\n",
    "from sklearn import preprocessing, svm, metrics\n",
    "from nltk import word_tokenize\n",
    "from nltk.stem import WordNetLemmatizer "
   ]
  },
  {
   "cell_type": "code",
   "execution_count": 2,
   "metadata": {
    "collapsed": true
   },
   "outputs": [],
   "source": [
    "def create_dat(df_ess, df_dem):\n",
    "    df_ess = df_ess[df_ess.Study=='Connecticut']\n",
    "    df_ess.Condition.replace(['c', 'c2', 'c1', 'c3', 'ca', 'cb', '3'], 'Control', inplace=True)\n",
    "    df_ess.Condition.replace(['t', 't2', 't3', 't1', '1', '2', 'ta', 'tb'], 'Treatment', inplace=True)\n",
    "    df_ess.Condition.replace(['c/t'], np.nan, inplace=True)\n",
    "    \n",
    "    df_dem = df_dem[df_dem.Study=='Connecticut']\n",
    "    df_dem.Ethnicity.replace('Asian', 'Asian American', inplace=True)\n",
    "    df_dem.Ethnicity.replace('Other/Mixed', 'Other', inplace=True)\n",
    "    df_dem = df_dem[['ID', 'Ethnicity', 'Gender']].dropna()\n",
    "    \n",
    "    outdat = pd.merge(df_ess[['ID', 'Intervention_number', 'Essay', 'Condition', 'Intervention_Date', 'corrected']], \n",
    "                    df_dem, how='left', on='ID').drop_duplicates()\n",
    "    \n",
    "    return(outdat)\n",
    "\n",
    "def return_grid_scores(grid, clf='NB'):\n",
    "    if clf == 'SVM':\n",
    "        for i, (x, _, _) in enumerate(grid.grid_scores_):\n",
    "            if x['C'] == grid.best_estimator_.C:\n",
    "                idx = i\n",
    "    else:\n",
    "        for i, (x, _, _) in enumerate(grid.grid_scores_):\n",
    "            if x['alpha'] == grid.best_estimator_.alpha:\n",
    "                idx = i\n",
    "    return grid.grid_scores_[idx][2]\n",
    "\n",
    "class LemmaTokenizer(object):\n",
    "    def __init__(self):\n",
    "        self.wnl = WordNetLemmatizer()\n",
    "    def __call__(self, doc):\n",
    "        return [self.wnl.lemmatize(t) for t in word_tokenize(doc)]\n",
    "\n",
    "def get_most_informative_features(vocab, coef, n=20, clf='svm'):\n",
    "    coefs_with_fns = sorted(zip(abs(coef), vocab, coef))\n",
    "    if clf=='svm':\n",
    "        top = coefs_with_fns[:-(n + 1):-1]\n",
    "    else:\n",
    "        top = [coefs_with_fns[:-(n+1):-1], coefs_with_fns[0:n]]\n",
    "        top = [item for sublist in top for item in sublist]\n",
    "    return top"
   ]
  },
  {
   "cell_type": "code",
   "execution_count": 3,
   "metadata": {
    "collapsed": false
   },
   "outputs": [
    {
     "name": "stdout",
     "output_type": "stream",
     "text": [
      "Processing text dataset\n"
     ]
    },
    {
     "name": "stderr",
     "output_type": "stream",
     "text": [
      "/Users/travis/anaconda/lib/python2.7/site-packages/pandas/core/generic.py:3430: SettingWithCopyWarning: \n",
      "A value is trying to be set on a copy of a slice from a DataFrame\n",
      "\n",
      "See the caveats in the documentation: http://pandas.pydata.org/pandas-docs/stable/indexing.html#indexing-view-versus-copy\n",
      "  self._update_inplace(new_data)\n"
     ]
    }
   ],
   "source": [
    "# second, prepare text samples and their labels\n",
    "print('Processing text dataset')\n",
    "df_ess = pd.read_csv('../Data/3 CSV Files/essays1.23.16.csv', sep='|')\n",
    "df_dem = pd.read_csv('../Data/3 CSV Files/demog3.2.16.csv')\n",
    "df = create_dat(df_ess, df_dem)\n",
    "df.dropna(axis=0, subset=['corrected', 'Condition'], inplace=True)\n",
    "df['Class'] = df.Condition+df.Gender"
   ]
  },
  {
   "cell_type": "markdown",
   "metadata": {},
   "source": [
    "# Classification for Gender+treatment"
   ]
  },
  {
   "cell_type": "code",
   "execution_count": 4,
   "metadata": {
    "collapsed": false
   },
   "outputs": [
    {
     "data": {
      "text/plain": [
       "<6224x1629 sparse matrix of type '<type 'numpy.int64'>'\n",
       "\twith 93914 stored elements in Compressed Sparse Row format>"
      ]
     },
     "execution_count": 4,
     "metadata": {},
     "output_type": "execute_result"
    }
   ],
   "source": [
    "df.dropna(axis=0, subset=['Class'], inplace=True)\n",
    "vectorizer = CountVectorizer(tokenizer=LemmaTokenizer(), min_df=4, stop_words='english')\n",
    "X = vectorizer.fit_transform(df.corrected)\n",
    "model = lda.LDA(n_topics=50, n_iter=1500, random_state=1)\n",
    "X"
   ]
  },
  {
   "cell_type": "code",
   "execution_count": 5,
   "metadata": {
    "collapsed": false
   },
   "outputs": [],
   "source": [
    "tf = TfidfVectorizer(tokenizer=LemmaTokenizer(), min_df=4, stop_words='english')\n",
    "X_tf = tf.fit_transform(df.corrected)\n",
    "model.fit(X)\n",
    "model.doc_topic_.shape # model.doc_topic_ contains the topic distributions\n",
    "X_con = np.concatenate((X_tf.todense(), model.doc_topic_), axis=1)"
   ]
  },
  {
   "cell_type": "code",
   "execution_count": 6,
   "metadata": {
    "collapsed": false
   },
   "outputs": [],
   "source": [
    "f1macro = make_scorer(f1_score, average='macro', pos_label=None)\n",
    "le = preprocessing.LabelEncoder()\n",
    "le.fit(df.Class)\n",
    "Y = le.transform(df.Class)\n",
    "dtm_train, dtm_test, label_train, label_true = train_test_split(X_con, Y, test_size=.15)\n",
    "\n",
    "clf = svm.LinearSVC()\n",
    "pardist = {'C':expon(scale=100)}\n",
    "cv = ShuffleSplit(dtm_train.shape[0], test_size=.15)\n",
    "rs = RandomizedSearchCV(clf, param_distributions=pardist, scoring=f1macro,\n",
    "                       n_jobs=1, cv=cv, n_iter=20, verbose=0)\n",
    "rs.fit(dtm_train, label_train)\n",
    "predicted = rs.predict(dtm_test)"
   ]
  },
  {
   "cell_type": "markdown",
   "metadata": {},
   "source": [
    "## Results"
   ]
  },
  {
   "cell_type": "code",
   "execution_count": 7,
   "metadata": {
    "collapsed": false
   },
   "outputs": [
    {
     "data": {
      "text/plain": [
       "0.53245034333289998"
      ]
     },
     "execution_count": 7,
     "metadata": {},
     "output_type": "execute_result"
    }
   ],
   "source": [
    "f1_score(label_true, predicted, average='macro', pos_label=None)"
   ]
  },
  {
   "cell_type": "code",
   "execution_count": 8,
   "metadata": {
    "collapsed": false
   },
   "outputs": [
    {
     "data": {
      "text/plain": [
       "array([ 0.5590973 ,  0.55879693,  0.57162138,  0.58476495,  0.56341972,\n",
       "        0.56290676,  0.5501746 ,  0.55537836,  0.58236781,  0.56343473])"
      ]
     },
     "execution_count": 8,
     "metadata": {},
     "output_type": "execute_result"
    }
   ],
   "source": [
    "return_grid_scores(rs, 'SVM')"
   ]
  },
  {
   "cell_type": "code",
   "execution_count": 9,
   "metadata": {
    "collapsed": false,
    "scrolled": true
   },
   "outputs": [
    {
     "data": {
      "text/plain": [
       "array([[168, 110,  16,  14],\n",
       "       [102, 114,   7,  14],\n",
       "       [ 17,   4, 129,  52],\n",
       "       [ 15,  11,  73,  88]])"
      ]
     },
     "execution_count": 9,
     "metadata": {},
     "output_type": "execute_result"
    }
   ],
   "source": [
    "metrics.confusion_matrix(label_true, predicted)"
   ]
  },
  {
   "cell_type": "code",
   "execution_count": 10,
   "metadata": {
    "collapsed": false
   },
   "outputs": [
    {
     "data": {
      "text/plain": [
       "Controlf      308\n",
       "Controlm      237\n",
       "Treatmentf    202\n",
       "Treatmentm    187\n",
       "dtype: int64"
      ]
     },
     "execution_count": 10,
     "metadata": {},
     "output_type": "execute_result"
    }
   ],
   "source": [
    "pd.Series(le.inverse_transform(label_true)).value_counts()"
   ]
  },
  {
   "cell_type": "code",
   "execution_count": 12,
   "metadata": {
    "collapsed": false
   },
   "outputs": [],
   "source": [
    "features = tf.get_feature_names()\n",
    "for i in range(0,50):\n",
    "    features.append('topic_'+str(i))\n",
    "df1=pd.DataFrame({'feature':features,\n",
    "                 'coef':rs.best_estimator_.coef_[0],\n",
    "                 'class':['control_f']*len(features)})\n",
    "df2=pd.DataFrame({'feature':features,\n",
    "                 'coef':rs.best_estimator_.coef_[1],\n",
    "                 'class':['control_m']*len(features)})\n",
    "df3=pd.DataFrame({'feature':features,\n",
    "                 'coef':rs.best_estimator_.coef_[2],\n",
    "                 'class':['aff_f']*len(features)})\n",
    "df4=pd.DataFrame({'feature':features,\n",
    "                 'coef':rs.best_estimator_.coef_[3],\n",
    "                 'class':['aff_m']*len(features)})\n",
    "df_coefs = pd.concat([df1, df2, df3, df4])\n",
    "df_coefs.to_csv('output/classifier_features.cvs', index=False, encoding='utf-8')"
   ]
  }
 ],
 "metadata": {
  "kernelspec": {
   "display_name": "Python 2",
   "language": "python",
   "name": "python2"
  },
  "language_info": {
   "codemirror_mode": {
    "name": "ipython",
    "version": 2
   },
   "file_extension": ".py",
   "mimetype": "text/x-python",
   "name": "python",
   "nbconvert_exporter": "python",
   "pygments_lexer": "ipython2",
   "version": "2.7.12"
  }
 },
 "nbformat": 4,
 "nbformat_minor": 0
}

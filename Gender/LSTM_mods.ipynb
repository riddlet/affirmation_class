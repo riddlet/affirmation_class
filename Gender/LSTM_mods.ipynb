{
 "cells": [
  {
   "cell_type": "code",
   "execution_count": 86,
   "metadata": {
    "collapsed": false
   },
   "outputs": [
    {
     "name": "stdout",
     "output_type": "stream",
     "text": [
      "Indexing word vectors.\n",
      "Found 2196016 word vectors.\n"
     ]
    }
   ],
   "source": [
    "from __future__ import print_function\n",
    "import os\n",
    "import numpy as np\n",
    "np.random.seed(1337)\n",
    "__docformat__ = 'restructedtext en'\n",
    "import timeit\n",
    "import numpy\n",
    "import scipy.io\n",
    "\n",
    "from keras.preprocessing.text import Tokenizer\n",
    "from keras.preprocessing.sequence import pad_sequences\n",
    "from keras.utils.np_utils import to_categorical\n",
    "from keras.layers import Dense, Input, Flatten\n",
    "from keras.layers import Conv1D, MaxPooling1D, Embedding\n",
    "from keras.models import Model\n",
    "import sys\n",
    "BASE_DIR = '/Users/triddle/Documents/Gits'\n",
    "GLOVE_DIR = BASE_DIR + '/Data/'\n",
    "#MAX_SEQUENCE_LENGTH = 210\n",
    "MAX_NB_WORDS = 20000\n",
    "EMBEDDING_DIM = 300\n",
    "VALIDATION_SPLIT = 0.2\n",
    "# first, build index mapping words in the embeddings set\n",
    "# to their embedding vector\n",
    "\n",
    "print('Indexing word vectors.')\n",
    "\n",
    "embeddings_index = {}\n",
    "f = open(os.path.join(GLOVE_DIR, 'glove.840B.300d.txt'))\n",
    "for line in f:\n",
    "    values = line.split()\n",
    "    word = values[0]\n",
    "    coefs = np.asarray(values[1:], dtype='float32')\n",
    "    embeddings_index[word] = coefs\n",
    "f.close()\n",
    "\n",
    "print('Found %s word vectors.' % len(embeddings_index))\n",
    "\n"
   ]
  },
  {
   "cell_type": "code",
   "execution_count": 87,
   "metadata": {
    "collapsed": true
   },
   "outputs": [],
   "source": [
    "# for custom metrics\n",
    "import keras.backend as K\n",
    "from keras.utils.generic_utils import get_from_module\n",
    "\n",
    "def categorical_accuracy(y_true, y_pred):\n",
    "    \"\"\"Categorical accuracy metric.\n",
    "\n",
    "    Computes the mean accuracy rate across all predictions for\n",
    "    multiclass classification problems.\n",
    "    \"\"\"\n",
    "    return K.mean(K.equal(K.argmax(y_true, axis=-1),\n",
    "                          K.argmax(y_pred, axis=-1)))\n",
    "\n",
    "\n",
    "def precision(y_true, y_pred):\n",
    "    \"\"\"Precision metric.\n",
    "\n",
    "    Only computes a batch-wise average of precision.\n",
    "\n",
    "    Computes the precision, a metric for multi-label classification of\n",
    "    how many selected items are relevant.\n",
    "    \"\"\"\n",
    "    true_positives = K.sum(K.round(K.clip(y_true * y_pred, 0, 1)))\n",
    "    predicted_positives = K.sum(K.round(K.clip(y_pred, 0, 1)))\n",
    "    precision = true_positives / (predicted_positives + K.epsilon())\n",
    "    return precision\n",
    "\n",
    "\n",
    "def recall(y_true, y_pred):\n",
    "    \"\"\"Recall metric.\n",
    "\n",
    "    Only computes a batch-wise average of recall.\n",
    "\n",
    "    Computes the recall, a metric for multi-label classification of\n",
    "    how many relevant items are selected.\n",
    "    \"\"\"\n",
    "    true_positives = K.sum(K.round(K.clip(y_true * y_pred, 0, 1)))\n",
    "    possible_positives = K.sum(K.round(K.clip(y_true, 0, 1)))\n",
    "    recall = true_positives / (possible_positives + K.epsilon())\n",
    "    return recall\n",
    "\n",
    "\n",
    "def fbeta_score(y_true, y_pred, beta=1):\n",
    "    \"\"\"Computes the F score.\n",
    "\n",
    "    The F score is the weighted harmonic mean of precision and recall.\n",
    "    Here it is only computed as a batch-wise average, not globally.\n",
    "\n",
    "    This is useful for multi-label classification, where input samples can be\n",
    "    classified as sets of labels. By only using accuracy (precision) a model\n",
    "    would achieve a perfect score by simply assigning every class to every\n",
    "    input. In order to avoid this, a metric should penalize incorrect class\n",
    "    assignments as well (recall). The F-beta score (ranged from 0.0 to 1.0)\n",
    "    computes this, as a weighted mean of the proportion of correct class\n",
    "    assignments vs. the proportion of incorrect class assignments.\n",
    "\n",
    "    With beta = 1, this is equivalent to a F-measure. With beta < 1, assigning\n",
    "    correct classes becomes more important, and with beta > 1 the metric is\n",
    "    instead weighted towards penalizing incorrect class assignments.\n",
    "    \"\"\"\n",
    "    if beta < 0:\n",
    "        raise ValueError('The lowest choosable beta is zero (only precision).')\n",
    "\n",
    "    # If there are no true positives, fix the F score at 0 like sklearn.\n",
    "    if K.sum(K.round(K.clip(y_true, 0, 1))) == 0:\n",
    "        return 0\n",
    "\n",
    "    p = precision(y_true, y_pred)\n",
    "    r = recall(y_true, y_pred)\n",
    "    bb = beta ** 2\n",
    "    fbeta_score = (1 + bb) * (p * r) / (bb * p + r + K.epsilon())\n",
    "    return fbeta_score\n",
    "\n",
    "\n",
    "def fmeasure(y_true, y_pred):\n",
    "    \"\"\"Computes the f-measure, the harmonic mean of precision and recall.\n",
    "\n",
    "    Here it is only computed as a batch-wise average, not globally.\n",
    "    \"\"\"\n",
    "    return fbeta_score(y_true, y_pred, beta=1)\n"
   ]
  },
  {
   "cell_type": "code",
   "execution_count": 88,
   "metadata": {
    "collapsed": true
   },
   "outputs": [],
   "source": [
    "def create_dat(df_ess, df_dem):\n",
    "    df_ess = df_ess[df_ess.Study=='Connecticut']\n",
    "    df_ess.Condition.replace(['c', 'c2', 'c1', 'c3', 'ca', 'cb', '3'], 'Control', inplace=True)\n",
    "    df_ess.Condition.replace(['t', 't2', 't3', 't1', '1', '2', 'ta', 'tb'], 'Treatment', inplace=True)\n",
    "    df_ess.Condition.replace(['c/t'], np.nan, inplace=True)\n",
    "    \n",
    "    df_dem = df_dem[df_dem.Study=='Connecticut']\n",
    "    df_dem.Ethnicity.replace('Asian', 'Asian American', inplace=True)\n",
    "    df_dem.Ethnicity.replace('Other/Mixed', 'Other', inplace=True)\n",
    "    df_dem = df_dem[['ID', 'Ethnicity', 'Gender']].dropna()\n",
    "    \n",
    "    outdat = pd.merge(df_ess[['ID', 'Intervention_number', 'Essay', 'Condition', 'Intervention_Date', 'corrected']], \n",
    "                    df_dem, how='left', on='ID').drop_duplicates()\n",
    "    \n",
    "    return(outdat)"
   ]
  },
  {
   "cell_type": "markdown",
   "metadata": {},
   "source": [
    "# Here, we're preparing the data"
   ]
  },
  {
   "cell_type": "code",
   "execution_count": 89,
   "metadata": {
    "collapsed": false
   },
   "outputs": [
    {
     "name": "stdout",
     "output_type": "stream",
     "text": [
      "Processing text dataset\n",
      "Found 1232 total students\n",
      "f    3315\n",
      "m    2909\n",
      "Name: Gender, dtype: int64\n",
      "mean essay length = 42.8125\n",
      "sd essay length = 23.8684140013\n",
      "Found 6224 texts.\n",
      "Found 5816 unique tokens.\n",
      "Shape of data tensor: (6224, 208)\n",
      "Shape of label tensor: (6224, 4)\n",
      "Shape of xtrain tensor: (4498, 208)\n",
      "Shape of ytrain tensor: (4498, 4)\n",
      "Shape of xval tensor: (793, 208)\n",
      "Shape of yval tensor: (793, 4)\n",
      "Shape of xtest tensor: (933, 208)\n",
      "Shape of ytest tensor: (933, 4)\n",
      "Preparing embedding matrix.\n"
     ]
    }
   ],
   "source": [
    "import pandas as pd\n",
    "import matplotlib\n",
    "from pandas import DataFrame, read_csv\n",
    "import matplotlib.pyplot as plt\n",
    "import pandas as pd #this is how I usually import pandas\n",
    "import sys #only needed to determine Python version number\n",
    "import matplotlib #only needed to determine Matplotlib version number\n",
    "import numpy as np\n",
    "# second, prepare text samples and their labels\n",
    "print('Processing text dataset')\n",
    "df_ess = pd.read_csv('../../Data/3 CSV Files/essays1.23.16.csv', sep='|')\n",
    "df_dem = pd.read_csv('../../Data/3 CSV Files/demog3.2.16.csv')\n",
    "df = create_dat(df_ess, df_dem)\n",
    "df.dropna(axis=0, subset=['corrected', 'Condition'], inplace=True)\n",
    "df['word_count'] = df.corrected.apply(lambda x: len(x.split()))\n",
    "print('Found %s total students' % len(df.ID.value_counts()))\n",
    "print(df.Gender.value_counts())\n",
    "print('mean essay length = %s' % np.mean(df.word_count))\n",
    "print('sd essay length = %s' % np.std(df.word_count))\n",
    "texts = []  # list of text samples\n",
    "labels_index = {}  # dictionary mapping label name to numeric id\n",
    "labels = []  # list of label ids\n",
    "labels_index['conm']=0\n",
    "labels_index['conf']=1\n",
    "labels_index['affm']=2\n",
    "labels_index['afff']=3\n",
    "texts = df[\"corrected\"].tolist()\n",
    "labelsType = df[\"Condition\"].tolist()\n",
    "labelsRace = df[\"Gender\"].tolist()\n",
    "labelsCombined=[]\n",
    "for i in range(len(labelsType)):\n",
    "    if labelsType[i]=='Control' and labelsRace[i]=='m':\n",
    "        labelsCombined.append(0)\n",
    "    elif labelsType[i]=='Control' and labelsRace[i]=='f':\n",
    "        labelsCombined.append(1)\n",
    "    elif labelsType[i]=='Treatment' and labelsRace[i]=='m':\n",
    "        labelsCombined.append(2)\n",
    "    elif labelsType[i]=='Treatment' and labelsRace[i]=='f':\n",
    "        labelsCombined.append(3)\n",
    "        \n",
    "print('Found %s texts.' % len(texts))\n",
    "\n",
    "# finally, vectorize the text samples into a 2D integer tensor\n",
    "tokenizer = Tokenizer(nb_words=MAX_NB_WORDS)\n",
    "tokenizer.fit_on_texts(texts)\n",
    "sequences = tokenizer.texts_to_sequences(texts)\n",
    "\n",
    "maxseqval=0\n",
    "for i in range(len(sequences)):\n",
    "    if len(sequences[i])>maxseqval:\n",
    "        maxseqval=len(sequences[i])\n",
    "        \n",
    "MAX_SEQUENCE_LENGTH = maxseqval\n",
    "\n",
    "word_index = tokenizer.word_index\n",
    "print('Found %s unique tokens.' % len(word_index))\n",
    "\n",
    "data = pad_sequences(sequences, maxlen=MAX_SEQUENCE_LENGTH)\n",
    "\n",
    "labels = to_categorical(np.asarray(labelsCombined))\n",
    "print('Shape of data tensor:', data.shape)\n",
    "print('Shape of label tensor:', labels.shape)\n",
    "\n",
    "# split the data into a training set and a validation set\n",
    "indices = np.arange(data.shape[0])\n",
    "np.random.shuffle(indices)\n",
    "data = data[indices]\n",
    "labels = labels[indices]\n",
    "test_split = .15\n",
    "nb_test_samples = int(test_split*data.shape[0])\n",
    "VALIDATION_SPLIT = 0.15\n",
    "nb_validation_samples = int(VALIDATION_SPLIT * (data.shape[0]-nb_test_samples))\n",
    "\n",
    "\n",
    "x_train = data[:-nb_validation_samples-nb_test_samples]\n",
    "y_train = labels[:-nb_validation_samples-nb_test_samples]\n",
    "x_val = data[-nb_validation_samples:]\n",
    "y_val = labels[-nb_validation_samples:]\n",
    "#y_val=np.swapaxes(np.tile(y_val, (MAX_SEQUENCE_LENGTH, 1, 1)),0,1)\n",
    "#y_train=np.swapaxes(np.tile(y_train, (MAX_SEQUENCE_LENGTH, 1, 1)),0,1)\n",
    "x_test = data[-nb_validation_samples-nb_test_samples:-nb_validation_samples]\n",
    "y_test = labels[-nb_validation_samples-nb_test_samples:-nb_validation_samples]\n",
    "\n",
    "textstest=[]\n",
    "textsshuff=[]\n",
    "for i in indices:\n",
    "  textsshuff.append(texts[i])\n",
    "index_word={}\n",
    "for i,x in word_index.items():\n",
    "    index_word[x]=i\n",
    "textstest=textsshuff[-nb_validation_samples-500:-nb_validation_samples]\n",
    "\n",
    "thefile = open('gendercleantimedistmodeltesttexts.txt', 'w')\n",
    "for item in textstest:\n",
    "  thefile.write(\"%s\\n\" % item)  \n",
    "\n",
    "np.save('gendercleantimedistmodelxtest.npy', x_test)\n",
    "np.save('gendercleantimedistmodelytest.npy', y_test)\n",
    "\n",
    "print('Shape of xtrain tensor:', x_train.shape)\n",
    "print('Shape of ytrain tensor:', y_train.shape)\n",
    "print('Shape of xval tensor:', x_val.shape)\n",
    "print('Shape of yval tensor:', y_val.shape)\n",
    "print('Shape of xtest tensor:', x_test.shape)\n",
    "print('Shape of ytest tensor:', y_test.shape)\n",
    "\n",
    "print('Preparing embedding matrix.')\n",
    "# prepare embedding matrix\n",
    "nb_words = min(MAX_NB_WORDS, len(word_index))\n",
    "embedding_matrix = np.zeros((nb_words + 1, EMBEDDING_DIM))\n",
    "for word, i in word_index.items():\n",
    "    if i > MAX_NB_WORDS:\n",
    "        continue\n",
    "    embedding_vector = embeddings_index.get(word)\n",
    "    if embedding_vector is not None:\n",
    "        # words not found in embedding index will be all-zeros.\n",
    "        embedding_matrix[i] = embedding_vector\n",
    "        \n",
    "# load pre-trained word embeddings into an Embedding layer\n",
    "# note that we set trainable = False so as to keep the embeddings fixed\n",
    "embedding_layer = Embedding(nb_words + 1,\n",
    "                            EMBEDDING_DIM,\n",
    "                            weights=[embedding_matrix],\n",
    "                            input_length=MAX_SEQUENCE_LENGTH,\n",
    "                            trainable=True)\n"
   ]
  },
  {
   "cell_type": "markdown",
   "metadata": {},
   "source": [
    "# Define and fit the model"
   ]
  },
  {
   "cell_type": "code",
   "execution_count": 90,
   "metadata": {
    "collapsed": false,
    "scrolled": true
   },
   "outputs": [
    {
     "name": "stdout",
     "output_type": "stream",
     "text": [
      "____________________________________________________________________________________________________\n",
      "Layer (type)                     Output Shape          Param #     Connected to                     \n",
      "====================================================================================================\n",
      "embedding_17 (Embedding)         (None, 208, 300)      1745100     embedding_input_7[0][0]          \n",
      "____________________________________________________________________________________________________\n",
      "dropout_17 (Dropout)             (None, 208, 300)      0           embedding_17[0][0]               \n",
      "____________________________________________________________________________________________________\n",
      "lstm_11 (LSTM)                   (None, 50)            70200       dropout_17[0][0]                 \n",
      "____________________________________________________________________________________________________\n",
      "dropout_18 (Dropout)             (None, 50)            0           lstm_11[0][0]                    \n",
      "____________________________________________________________________________________________________\n",
      "dense_11 (Dense)                 (None, 4)             204         dropout_18[0][0]                 \n",
      "====================================================================================================\n",
      "Total params: 1,815,504\n",
      "Trainable params: 1,815,504\n",
      "Non-trainable params: 0\n",
      "____________________________________________________________________________________________________\n",
      "None\n",
      "Train on 4498 samples, validate on 793 samples\n",
      "Epoch 1/35\n",
      "4498/4498 [==============================] - 28s - loss: 1.3068 - precision: 0.4120 - recall: 0.0554 - fmeasure: 0.0916 - categorical_accuracy: 0.3570 - val_loss: 1.1892 - val_precision: 0.4508 - val_recall: 0.1740 - val_fmeasure: 0.2509 - val_categorical_accuracy: 0.4363\n",
      "Epoch 2/35\n",
      "4498/4498 [==============================] - 28s - loss: 1.0604 - precision: 0.5155 - recall: 0.2377 - fmeasure: 0.3226 - categorical_accuracy: 0.4707 - val_loss: 0.9587 - val_precision: 0.5280 - val_recall: 0.4010 - val_fmeasure: 0.4557 - val_categorical_accuracy: 0.5032\n",
      "Epoch 3/35\n",
      "4498/4498 [==============================] - 28s - loss: 0.9637 - precision: 0.5372 - recall: 0.3426 - fmeasure: 0.4180 - categorical_accuracy: 0.5022 - val_loss: 0.9341 - val_precision: 0.5497 - val_recall: 0.4477 - val_fmeasure: 0.4933 - val_categorical_accuracy: 0.5296\n",
      "Epoch 4/35\n",
      "4498/4498 [==============================] - 28s - loss: 0.8970 - precision: 0.5368 - recall: 0.3955 - fmeasure: 0.4551 - categorical_accuracy: 0.5173 - val_loss: 1.1271 - val_precision: 0.5153 - val_recall: 0.4224 - val_fmeasure: 0.4640 - val_categorical_accuracy: 0.4893\n",
      "Epoch 5/35\n",
      "4498/4498 [==============================] - 28s - loss: 0.8918 - precision: 0.5474 - recall: 0.4035 - fmeasure: 0.4641 - categorical_accuracy: 0.5267 - val_loss: 0.8117 - val_precision: 0.5784 - val_recall: 0.4880 - val_fmeasure: 0.5293 - val_categorical_accuracy: 0.5599\n",
      "Epoch 6/35\n",
      "4498/4498 [==============================] - 28s - loss: 0.8482 - precision: 0.5661 - recall: 0.4529 - fmeasure: 0.5028 - categorical_accuracy: 0.5373 - val_loss: 0.7697 - val_precision: 0.5965 - val_recall: 0.5322 - val_fmeasure: 0.5625 - val_categorical_accuracy: 0.5801\n",
      "Epoch 7/35\n",
      "4498/4498 [==============================] - 28s - loss: 0.8288 - precision: 0.5865 - recall: 0.4889 - fmeasure: 0.5330 - categorical_accuracy: 0.5616 - val_loss: 0.7850 - val_precision: 0.5682 - val_recall: 0.5246 - val_fmeasure: 0.5455 - val_categorical_accuracy: 0.5574\n",
      "Epoch 8/35\n",
      "4498/4498 [==============================] - 27s - loss: 0.8023 - precision: 0.5928 - recall: 0.5033 - fmeasure: 0.5442 - categorical_accuracy: 0.5738 - val_loss: 0.7503 - val_precision: 0.5998 - val_recall: 0.5523 - val_fmeasure: 0.5751 - val_categorical_accuracy: 0.5813\n",
      "Epoch 9/35\n",
      "4498/4498 [==============================] - 28s - loss: 0.7898 - precision: 0.6135 - recall: 0.5280 - fmeasure: 0.5673 - categorical_accuracy: 0.5923 - val_loss: 0.8192 - val_precision: 0.5784 - val_recall: 0.5448 - val_fmeasure: 0.5611 - val_categorical_accuracy: 0.5687\n",
      "Epoch 10/35\n",
      "4498/4498 [==============================] - 28s - loss: 0.7788 - precision: 0.6197 - recall: 0.5454 - fmeasure: 0.5800 - categorical_accuracy: 0.5983 - val_loss: 0.7937 - val_precision: 0.5852 - val_recall: 0.5523 - val_fmeasure: 0.5683 - val_categorical_accuracy: 0.5801\n",
      "Epoch 11/35\n",
      "4498/4498 [==============================] - 28s - loss: 0.7826 - precision: 0.6269 - recall: 0.5394 - fmeasure: 0.5795 - categorical_accuracy: 0.6038 - val_loss: 0.9281 - val_precision: 0.5867 - val_recall: 0.5448 - val_fmeasure: 0.5649 - val_categorical_accuracy: 0.5649\n",
      "Epoch 12/35\n",
      "4498/4498 [==============================] - 28s - loss: 0.7597 - precision: 0.6343 - recall: 0.5589 - fmeasure: 0.5941 - categorical_accuracy: 0.6127 - val_loss: 0.7513 - val_precision: 0.6037 - val_recall: 0.5801 - val_fmeasure: 0.5916 - val_categorical_accuracy: 0.5914\n",
      "Epoch 13/35\n",
      "4498/4498 [==============================] - 28s - loss: 0.7426 - precision: 0.6322 - recall: 0.5745 - fmeasure: 0.6018 - categorical_accuracy: 0.6145 - val_loss: 0.8213 - val_precision: 0.5782 - val_recall: 0.5523 - val_fmeasure: 0.5649 - val_categorical_accuracy: 0.5712\n",
      "Epoch 14/35\n",
      "4498/4498 [==============================] - 28s - loss: 0.7259 - precision: 0.6516 - recall: 0.5940 - fmeasure: 0.6213 - categorical_accuracy: 0.6334 - val_loss: 0.7674 - val_precision: 0.5980 - val_recall: 0.5750 - val_fmeasure: 0.5863 - val_categorical_accuracy: 0.5851\n",
      "Epoch 15/35\n",
      "4498/4498 [==============================] - 28s - loss: 0.7210 - precision: 0.6479 - recall: 0.5896 - fmeasure: 0.6173 - categorical_accuracy: 0.6325 - val_loss: 0.8057 - val_precision: 0.6161 - val_recall: 0.5889 - val_fmeasure: 0.6022 - val_categorical_accuracy: 0.6003\n",
      "Epoch 16/35\n",
      "4498/4498 [==============================] - 29s - loss: 0.7016 - precision: 0.6708 - recall: 0.6125 - fmeasure: 0.6402 - categorical_accuracy: 0.6570 - val_loss: 0.7352 - val_precision: 0.6262 - val_recall: 0.6003 - val_fmeasure: 0.6129 - val_categorical_accuracy: 0.6116\n",
      "Epoch 17/35\n",
      "4498/4498 [==============================] - 29s - loss: 0.6974 - precision: 0.6714 - recall: 0.6198 - fmeasure: 0.6445 - categorical_accuracy: 0.6574 - val_loss: 0.7473 - val_precision: 0.6245 - val_recall: 0.6103 - val_fmeasure: 0.6173 - val_categorical_accuracy: 0.6192\n",
      "Epoch 18/35\n",
      "4498/4498 [==============================] - 29s - loss: 0.6931 - precision: 0.6793 - recall: 0.6243 - fmeasure: 0.6505 - categorical_accuracy: 0.6614 - val_loss: 0.7810 - val_precision: 0.6253 - val_recall: 0.6053 - val_fmeasure: 0.6151 - val_categorical_accuracy: 0.6217\n",
      "Epoch 19/35\n",
      "4498/4498 [==============================] - 28s - loss: 0.6814 - precision: 0.6946 - recall: 0.6425 - fmeasure: 0.6674 - categorical_accuracy: 0.6761 - val_loss: 0.7699 - val_precision: 0.6293 - val_recall: 0.6116 - val_fmeasure: 0.6203 - val_categorical_accuracy: 0.6217\n",
      "Epoch 20/35\n",
      "4498/4498 [==============================] - 28s - loss: 0.6619 - precision: 0.7055 - recall: 0.6590 - fmeasure: 0.6813 - categorical_accuracy: 0.6892 - val_loss: 0.7312 - val_precision: 0.6221 - val_recall: 0.6066 - val_fmeasure: 0.6142 - val_categorical_accuracy: 0.6103\n",
      "Epoch 21/35\n",
      "4498/4498 [==============================] - 28s - loss: 0.6579 - precision: 0.6995 - recall: 0.6507 - fmeasure: 0.6741 - categorical_accuracy: 0.6847 - val_loss: 0.7690 - val_precision: 0.6170 - val_recall: 0.6015 - val_fmeasure: 0.6091 - val_categorical_accuracy: 0.6116\n",
      "Epoch 22/35\n",
      "4498/4498 [==============================] - 28s - loss: 0.6488 - precision: 0.7017 - recall: 0.6581 - fmeasure: 0.6791 - categorical_accuracy: 0.6843 - val_loss: 0.7542 - val_precision: 0.6207 - val_recall: 0.6053 - val_fmeasure: 0.6129 - val_categorical_accuracy: 0.6166\n",
      "Epoch 23/35\n",
      "4498/4498 [==============================] - 29s - loss: 0.6298 - precision: 0.7096 - recall: 0.6707 - fmeasure: 0.6895 - categorical_accuracy: 0.6965 - val_loss: 0.7682 - val_precision: 0.6163 - val_recall: 0.6015 - val_fmeasure: 0.6088 - val_categorical_accuracy: 0.6103\n",
      "Epoch 24/35\n",
      "4498/4498 [==============================] - 30s - loss: 0.6353 - precision: 0.7164 - recall: 0.6774 - fmeasure: 0.6963 - categorical_accuracy: 0.7054 - val_loss: 0.7640 - val_precision: 0.6213 - val_recall: 0.6129 - val_fmeasure: 0.6171 - val_categorical_accuracy: 0.6192\n",
      "Epoch 25/35\n",
      "4498/4498 [==============================] - 35s - loss: 0.6145 - precision: 0.7174 - recall: 0.6823 - fmeasure: 0.6993 - categorical_accuracy: 0.7032 - val_loss: 0.7744 - val_precision: 0.6204 - val_recall: 0.6066 - val_fmeasure: 0.6134 - val_categorical_accuracy: 0.6141\n",
      "Epoch 26/35\n",
      "4498/4498 [==============================] - 35s - loss: 0.6189 - precision: 0.7176 - recall: 0.6743 - fmeasure: 0.6952 - categorical_accuracy: 0.7023 - val_loss: 0.7878 - val_precision: 0.6345 - val_recall: 0.6217 - val_fmeasure: 0.6280 - val_categorical_accuracy: 0.6293\n",
      "Epoch 27/35\n",
      "4498/4498 [==============================] - 36s - loss: 0.6219 - precision: 0.7239 - recall: 0.6799 - fmeasure: 0.7011 - categorical_accuracy: 0.7079 - val_loss: 0.8038 - val_precision: 0.6213 - val_recall: 0.6103 - val_fmeasure: 0.6158 - val_categorical_accuracy: 0.6154\n",
      "Epoch 28/35\n",
      "4498/4498 [==============================] - 35s - loss: 0.6021 - precision: 0.7271 - recall: 0.6945 - fmeasure: 0.7104 - categorical_accuracy: 0.7172 - val_loss: 0.7566 - val_precision: 0.6377 - val_recall: 0.6204 - val_fmeasure: 0.6289 - val_categorical_accuracy: 0.6330\n",
      "Epoch 29/35\n",
      "4498/4498 [==============================] - 34s - loss: 0.5806 - precision: 0.7445 - recall: 0.7088 - fmeasure: 0.7261 - categorical_accuracy: 0.7303 - val_loss: 0.7714 - val_precision: 0.6274 - val_recall: 0.6116 - val_fmeasure: 0.6194 - val_categorical_accuracy: 0.6204\n",
      "Epoch 30/35\n",
      "4498/4498 [==============================] - 34s - loss: 0.5795 - precision: 0.7523 - recall: 0.7192 - fmeasure: 0.7353 - categorical_accuracy: 0.7388 - val_loss: 0.7557 - val_precision: 0.6210 - val_recall: 0.5990 - val_fmeasure: 0.6098 - val_categorical_accuracy: 0.6116\n",
      "Epoch 31/35\n",
      "4498/4498 [==============================] - 35s - loss: 0.5627 - precision: 0.7554 - recall: 0.7221 - fmeasure: 0.7384 - categorical_accuracy: 0.7443 - val_loss: 0.7751 - val_precision: 0.6206 - val_recall: 0.6091 - val_fmeasure: 0.6148 - val_categorical_accuracy: 0.6141\n",
      "Epoch 32/35\n",
      "4498/4498 [==============================] - 35s - loss: 0.5563 - precision: 0.7610 - recall: 0.7281 - fmeasure: 0.7441 - categorical_accuracy: 0.7488 - val_loss: 0.7951 - val_precision: 0.6275 - val_recall: 0.6166 - val_fmeasure: 0.6220 - val_categorical_accuracy: 0.6192\n",
      "Epoch 33/35\n",
      "4498/4498 [==============================] - 35s - loss: 0.5539 - precision: 0.7575 - recall: 0.7250 - fmeasure: 0.7408 - categorical_accuracy: 0.7434 - val_loss: 0.8162 - val_precision: 0.6124 - val_recall: 0.5977 - val_fmeasure: 0.6050 - val_categorical_accuracy: 0.6040\n",
      "Epoch 34/35\n",
      "4498/4498 [==============================] - 35s - loss: 0.5402 - precision: 0.7719 - recall: 0.7368 - fmeasure: 0.7538 - categorical_accuracy: 0.7559 - val_loss: 0.8320 - val_precision: 0.6292 - val_recall: 0.6141 - val_fmeasure: 0.6216 - val_categorical_accuracy: 0.6204\n",
      "Epoch 35/35\n",
      "4498/4498 [==============================] - 34s - loss: 0.5525 - precision: 0.7634 - recall: 0.7337 - fmeasure: 0.7482 - categorical_accuracy: 0.7517 - val_loss: 0.7962 - val_precision: 0.6548 - val_recall: 0.6456 - val_fmeasure: 0.6502 - val_categorical_accuracy: 0.6532\n"
     ]
    }
   ],
   "source": [
    "from keras.datasets import imdb\n",
    "from keras.models import Sequential\n",
    "from keras.layers import Dense\n",
    "from keras.layers import LSTM\n",
    "from keras.layers import Dropout\n",
    "from keras.layers.embeddings import Embedding\n",
    "from keras.preprocessing import sequence\n",
    "from keras.models import load_model\n",
    "\n",
    "model = Sequential()\n",
    "model.add(Embedding(nb_words + 1,\n",
    "                            EMBEDDING_DIM,\n",
    "                            weights=[embedding_matrix],\n",
    "                            input_length=MAX_SEQUENCE_LENGTH,\n",
    "                            trainable=True,dropout=0.2))\n",
    "model.add(Dropout(0.5))\n",
    "model.add(LSTM(50))\n",
    "model.add(Dropout(0.5))\n",
    "model.add(Dense(len(labels_index), activation='softmax'))\n",
    "\n",
    "model.compile(loss='categorical_crossentropy', optimizer='rmsprop', metrics=[precision,recall,fmeasure,categorical_accuracy])\n",
    "print(model.summary())\n",
    "bz=128\n",
    "model.fit(x_train, y_train, validation_data=(x_val, y_val),\n",
    "          nb_epoch=35, batch_size=bz)\n",
    "model.save_weights('../output/model_compfinalgendermodel.h5')"
   ]
  },
  {
   "cell_type": "markdown",
   "metadata": {},
   "source": [
    "# Jigger model and get predictions"
   ]
  },
  {
   "cell_type": "code",
   "execution_count": 83,
   "metadata": {
    "collapsed": false
   },
   "outputs": [
    {
     "data": {
      "text/plain": [
       "['lstm_9', 'dropout_15', 'dense_9', 'embedding_15', 'dropout_14']"
      ]
     },
     "execution_count": 83,
     "metadata": {},
     "output_type": "execute_result"
    }
   ],
   "source": [
    "from keras.layers import TimeDistributed\n",
    "model.load_weights('../output/model_compfinalgendermodel.h5')\n",
    "layer_dict = dict([(layer.name, layer) for layer in model.layers])\n",
    "layer_dict.keys()"
   ]
  },
  {
   "cell_type": "code",
   "execution_count": 84,
   "metadata": {
    "collapsed": false
   },
   "outputs": [
    {
     "name": "stdout",
     "output_type": "stream",
     "text": [
      "933/933 [==============================] - 2s     \n"
     ]
    }
   ],
   "source": [
    "#layer_dict['lstm_2'].get_weights()\n",
    "dens=layer_dict['dense_9'].get_weights()\n",
    "lstmw=layer_dict['lstm_9'].get_weights()\n",
    "model.pop()\n",
    "model.pop()\n",
    "model.pop()\n",
    "lstmout = LSTM(50,\n",
    "               return_sequences=True,\n",
    "               stateful=False,weights=lstmw)\n",
    "model.add(lstmout)\n",
    "model.add(Dropout(0.5))\n",
    "templayer=TimeDistributed(Dense(len(labels_index), activation='softmax',weights=dens))\n",
    "model.add(templayer)\n",
    "outgendernewviz=model.predict(x_test,verbose=1)\n",
    "np.save('../output/model_compfinalgenderdict.npy', index_word) \n",
    "np.save('../output/model_compfinalgenderdictinv.npy', word_index) \n",
    "np.save('../output/model_compfinalgenderoutput.npy', outgendernewviz) \n",
    "np.save('../output/model_compfinalgenderxtestdata.npy', x_test) \n",
    "np.save('../output/model_compfinalgenderytestdata.npy', y_test) \n",
    "thefile = open('../output/model_compfinalgendertextsinput.txt', 'w')\n",
    "for item in textstest:\n",
    "  thefile.write(\"%s\\n\" % item) "
   ]
  },
  {
   "cell_type": "code",
   "execution_count": 85,
   "metadata": {
    "collapsed": false
   },
   "outputs": [
    {
     "data": {
      "text/plain": [
       "0.75957561478418012"
      ]
     },
     "execution_count": 85,
     "metadata": {},
     "output_type": "execute_result"
    }
   ],
   "source": [
    "from sklearn.metrics import f1_score\n",
    "f1_score(np.argmax(y_test, axis=1), np.argmax(outgendernewviz, axis=1), average='macro', pos_label=None)"
   ]
  },
  {
   "cell_type": "markdown",
   "metadata": {},
   "source": [
    "# Refit the model on the whole dataset"
   ]
  },
  {
   "cell_type": "code",
   "execution_count": 78,
   "metadata": {
    "collapsed": false
   },
   "outputs": [
    {
     "name": "stdout",
     "output_type": "stream",
     "text": [
      "Shape of xtrain tensor: (5291, 208)\n",
      "Shape of ytrain tensor: (5291, 4)\n",
      "Shape of xval tensor: (933, 208)\n",
      "Shape of yval tensor: (933, 4)\n",
      "Preparing embedding matrix.\n"
     ]
    }
   ],
   "source": [
    "# split the data into a training set and a validation set\n",
    "indices = np.arange(data.shape[0])\n",
    "np.random.shuffle(indices)\n",
    "data = data[indices]\n",
    "labels = labels[indices]\n",
    "x_train = data\n",
    "y_train = labels\n",
    "\n",
    "# split the data into a training set and a validation set\n",
    "indices = np.arange(data.shape[0])\n",
    "np.random.shuffle(indices)\n",
    "data = data[indices]\n",
    "labels = labels[indices]\n",
    "VALIDATION_SPLIT = 0.15\n",
    "nb_validation_samples = int(VALIDATION_SPLIT * data.shape[0])\n",
    "\n",
    "x_train = data[:-nb_validation_samples]\n",
    "y_train = labels[:-nb_validation_samples]\n",
    "x_val = data[-nb_validation_samples:]\n",
    "y_val = labels[-nb_validation_samples:]\n",
    "\n",
    "textstest=[]\n",
    "textsshuff=[]\n",
    "for i in indices:\n",
    "  textsshuff.append(texts[i])\n",
    "index_word={}\n",
    "for i,x in word_index.items():\n",
    "    index_word[x]=i\n",
    "textstest=textsshuff[-nb_validation_samples:-nb_validation_samples]\n",
    "\n",
    "thefile = open('gendercleantimedistmodeltesttexts.txt', 'w')\n",
    "for item in textstest:\n",
    "  thefile.write(\"%s\\n\" % item)  \n",
    "\n",
    "#np.save('gendercleantimedistmodelxtest.npy', x_test)\n",
    "#np.save('gendercleantimedistmodelytest.npy', y_test)\n",
    "\n",
    "print('Shape of xtrain tensor:', x_train.shape)\n",
    "print('Shape of ytrain tensor:', y_train.shape)\n",
    "print('Shape of xval tensor:', x_val.shape)\n",
    "print('Shape of yval tensor:', y_val.shape)\n",
    "#print('Shape of xtest tensor:', x_test.shape)\n",
    "#print('Shape of ytest tensor:', y_test.shape)\n",
    "\n",
    "print('Preparing embedding matrix.')\n",
    "# prepare embedding matrix\n",
    "nb_words = min(MAX_NB_WORDS, len(word_index))\n",
    "embedding_matrix = np.zeros((nb_words + 1, EMBEDDING_DIM))\n",
    "for word, i in word_index.items():\n",
    "    if i > MAX_NB_WORDS:\n",
    "        continue\n",
    "    embedding_vector = embeddings_index.get(word)\n",
    "    if embedding_vector is not None:\n",
    "        # words not found in embedding index will be all-zeros.\n",
    "        embedding_matrix[i] = embedding_vector\n",
    "        \n",
    "# load pre-trained word embeddings into an Embedding layer\n",
    "# note that we set trainable = False so as to keep the embeddings fixed\n",
    "embedding_layer = Embedding(nb_words + 1,\n",
    "                            EMBEDDING_DIM,\n",
    "                            weights=[embedding_matrix],\n",
    "                            input_length=MAX_SEQUENCE_LENGTH,\n",
    "                            trainable=True)"
   ]
  },
  {
   "cell_type": "markdown",
   "metadata": {},
   "source": [
    "# Next, we define the model"
   ]
  },
  {
   "cell_type": "code",
   "execution_count": 79,
   "metadata": {
    "collapsed": false
   },
   "outputs": [
    {
     "name": "stdout",
     "output_type": "stream",
     "text": [
      "____________________________________________________________________________________________________\n",
      "Layer (type)                     Output Shape          Param #     Connected to                     \n",
      "====================================================================================================\n",
      "embedding_13 (Embedding)         (None, 208, 300)      1745100     embedding_input_5[0][0]          \n",
      "____________________________________________________________________________________________________\n",
      "dropout_12 (Dropout)             (None, 208, 300)      0           embedding_13[0][0]               \n",
      "____________________________________________________________________________________________________\n",
      "lstm_8 (LSTM)                    (None, 50)            70200       dropout_12[0][0]                 \n",
      "____________________________________________________________________________________________________\n",
      "dropout_13 (Dropout)             (None, 50)            0           lstm_8[0][0]                     \n",
      "____________________________________________________________________________________________________\n",
      "dense_8 (Dense)                  (None, 4)             204         dropout_13[0][0]                 \n",
      "====================================================================================================\n",
      "Total params: 1,815,504\n",
      "Trainable params: 1,815,504\n",
      "Non-trainable params: 0\n",
      "____________________________________________________________________________________________________\n"
     ]
    }
   ],
   "source": [
    "from keras.datasets import imdb\n",
    "from keras.models import Sequential\n",
    "from keras.layers import Dense\n",
    "from keras.layers import LSTM\n",
    "from keras.layers import Dropout\n",
    "from keras.layers.embeddings import Embedding\n",
    "from keras.preprocessing import sequence\n",
    "from keras.models import load_model\n",
    "\n",
    "model = Sequential()\n",
    "model.add(Embedding(nb_words + 1,\n",
    "                            EMBEDDING_DIM,\n",
    "                            weights=[embedding_matrix],\n",
    "                            input_length=MAX_SEQUENCE_LENGTH,\n",
    "                            trainable=True,dropout=0.2))\n",
    "model.add(Dropout(0.5))\n",
    "model.add(LSTM(50))\n",
    "model.add(Dropout(0.5))\n",
    "model.add(Dense(len(labels_index), activation='softmax'))\n",
    "model.summary()"
   ]
  },
  {
   "cell_type": "markdown",
   "metadata": {},
   "source": [
    "# Fit the model\n",
    "\n",
    "I'm fitting it to all the data here, so as to make predictions using novel sentences"
   ]
  },
  {
   "cell_type": "code",
   "execution_count": 80,
   "metadata": {
    "collapsed": false,
    "scrolled": true
   },
   "outputs": [
    {
     "name": "stdout",
     "output_type": "stream",
     "text": [
      "____________________________________________________________________________________________________\n",
      "Layer (type)                     Output Shape          Param #     Connected to                     \n",
      "====================================================================================================\n",
      "embedding_13 (Embedding)         (None, 208, 300)      1745100     embedding_input_5[0][0]          \n",
      "____________________________________________________________________________________________________\n",
      "dropout_12 (Dropout)             (None, 208, 300)      0           embedding_13[0][0]               \n",
      "____________________________________________________________________________________________________\n",
      "lstm_8 (LSTM)                    (None, 50)            70200       dropout_12[0][0]                 \n",
      "____________________________________________________________________________________________________\n",
      "dropout_13 (Dropout)             (None, 50)            0           lstm_8[0][0]                     \n",
      "____________________________________________________________________________________________________\n",
      "dense_8 (Dense)                  (None, 4)             204         dropout_13[0][0]                 \n",
      "====================================================================================================\n",
      "Total params: 1,815,504\n",
      "Trainable params: 1,815,504\n",
      "Non-trainable params: 0\n",
      "____________________________________________________________________________________________________\n",
      "None\n",
      "Train on 5291 samples, validate on 933 samples\n",
      "Epoch 1/35\n",
      "5291/5291 [==============================] - 34s - loss: 1.2883 - precision: 0.4284 - recall: 0.0535 - fmeasure: 0.0874 - categorical_accuracy: 0.3627 - val_loss: 1.0587 - val_precision: 0.5664 - val_recall: 0.2111 - val_fmeasure: 0.3072 - val_categorical_accuracy: 0.4748\n",
      "Epoch 2/35\n",
      "5291/5291 [==============================] - 35s - loss: 1.0141 - precision: 0.5439 - recall: 0.2969 - fmeasure: 0.3829 - categorical_accuracy: 0.4897 - val_loss: 0.8868 - val_precision: 0.5840 - val_recall: 0.4577 - val_fmeasure: 0.5130 - val_categorical_accuracy: 0.5648\n",
      "Epoch 3/35\n",
      "5291/5291 [==============================] - 34s - loss: 0.9349 - precision: 0.5591 - recall: 0.3701 - fmeasure: 0.4445 - categorical_accuracy: 0.5114 - val_loss: 0.8972 - val_precision: 0.5758 - val_recall: 0.4523 - val_fmeasure: 0.5065 - val_categorical_accuracy: 0.5370\n",
      "Epoch 4/35\n",
      "5291/5291 [==============================] - 35s - loss: 0.8756 - precision: 0.5735 - recall: 0.4364 - fmeasure: 0.4952 - categorical_accuracy: 0.5394 - val_loss: 0.8403 - val_precision: 0.5975 - val_recall: 0.5295 - val_fmeasure: 0.5614 - val_categorical_accuracy: 0.5713\n",
      "Epoch 5/35\n",
      "5291/5291 [==============================] - 34s - loss: 0.8454 - precision: 0.5819 - recall: 0.4557 - fmeasure: 0.5108 - categorical_accuracy: 0.5570 - val_loss: 0.8396 - val_precision: 0.5688 - val_recall: 0.5123 - val_fmeasure: 0.5390 - val_categorical_accuracy: 0.5520\n",
      "Epoch 6/35\n",
      "5291/5291 [==============================] - 33s - loss: 0.8191 - precision: 0.6021 - recall: 0.4971 - fmeasure: 0.5442 - categorical_accuracy: 0.5753 - val_loss: 0.8637 - val_precision: 0.5428 - val_recall: 0.5091 - val_fmeasure: 0.5254 - val_categorical_accuracy: 0.5316\n",
      "Epoch 7/35\n",
      "5291/5291 [==============================] - 33s - loss: 0.8064 - precision: 0.6043 - recall: 0.5058 - fmeasure: 0.5503 - categorical_accuracy: 0.5783 - val_loss: 0.7916 - val_precision: 0.5976 - val_recall: 0.5509 - val_fmeasure: 0.5733 - val_categorical_accuracy: 0.5809\n",
      "Epoch 8/35\n",
      "5291/5291 [==============================] - 33s - loss: 0.7831 - precision: 0.6097 - recall: 0.5182 - fmeasure: 0.5600 - categorical_accuracy: 0.5901 - val_loss: 0.7682 - val_precision: 0.6091 - val_recall: 0.5788 - val_fmeasure: 0.5935 - val_categorical_accuracy: 0.5970\n",
      "Epoch 9/35\n",
      "5291/5291 [==============================] - 35s - loss: 0.7677 - precision: 0.6234 - recall: 0.5369 - fmeasure: 0.5767 - categorical_accuracy: 0.5991 - val_loss: 0.7807 - val_precision: 0.5827 - val_recall: 0.5498 - val_fmeasure: 0.5657 - val_categorical_accuracy: 0.5659\n",
      "Epoch 10/35\n",
      "5291/5291 [==============================] - 33s - loss: 0.7661 - precision: 0.6285 - recall: 0.5436 - fmeasure: 0.5827 - categorical_accuracy: 0.6050 - val_loss: 0.8392 - val_precision: 0.5603 - val_recall: 0.5338 - val_fmeasure: 0.5466 - val_categorical_accuracy: 0.5563\n",
      "Epoch 11/35\n",
      "5291/5291 [==============================] - 34s - loss: 0.7530 - precision: 0.6178 - recall: 0.5438 - fmeasure: 0.5781 - categorical_accuracy: 0.5997 - val_loss: 0.7635 - val_precision: 0.5989 - val_recall: 0.5713 - val_fmeasure: 0.5848 - val_categorical_accuracy: 0.5895\n",
      "Epoch 12/35\n",
      "5291/5291 [==============================] - 34s - loss: 0.7290 - precision: 0.6550 - recall: 0.5783 - fmeasure: 0.6140 - categorical_accuracy: 0.6292 - val_loss: 0.7446 - val_precision: 0.6220 - val_recall: 0.5895 - val_fmeasure: 0.6053 - val_categorical_accuracy: 0.6066\n",
      "Epoch 13/35\n",
      "5291/5291 [==============================] - 34s - loss: 0.7102 - precision: 0.6629 - recall: 0.6056 - fmeasure: 0.6327 - categorical_accuracy: 0.6469 - val_loss: 0.8086 - val_precision: 0.6160 - val_recall: 0.5884 - val_fmeasure: 0.6018 - val_categorical_accuracy: 0.6077\n",
      "Epoch 14/35\n",
      "5291/5291 [==============================] - 34s - loss: 0.7154 - precision: 0.6688 - recall: 0.6080 - fmeasure: 0.6368 - categorical_accuracy: 0.6496 - val_loss: 0.8172 - val_precision: 0.5978 - val_recall: 0.5638 - val_fmeasure: 0.5803 - val_categorical_accuracy: 0.5863\n",
      "Epoch 15/35\n",
      "5291/5291 [==============================] - 34s - loss: 0.7010 - precision: 0.6759 - recall: 0.6107 - fmeasure: 0.6414 - categorical_accuracy: 0.6553 - val_loss: 0.7647 - val_precision: 0.6294 - val_recall: 0.6056 - val_fmeasure: 0.6172 - val_categorical_accuracy: 0.6195\n",
      "Epoch 16/35\n",
      "5291/5291 [==============================] - 34s - loss: 0.6829 - precision: 0.6829 - recall: 0.6269 - fmeasure: 0.6535 - categorical_accuracy: 0.6658 - val_loss: 0.8266 - val_precision: 0.5951 - val_recall: 0.5777 - val_fmeasure: 0.5863 - val_categorical_accuracy: 0.5874\n",
      "Epoch 17/35\n",
      "5291/5291 [==============================] - 34s - loss: 0.6763 - precision: 0.6982 - recall: 0.6503 - fmeasure: 0.6733 - categorical_accuracy: 0.6789 - val_loss: 0.7552 - val_precision: 0.6334 - val_recall: 0.6099 - val_fmeasure: 0.6214 - val_categorical_accuracy: 0.6227\n",
      "Epoch 18/35\n",
      "5291/5291 [==============================] - 34s - loss: 0.6696 - precision: 0.6986 - recall: 0.6464 - fmeasure: 0.6714 - categorical_accuracy: 0.6817 - val_loss: 0.7718 - val_precision: 0.6371 - val_recall: 0.6174 - val_fmeasure: 0.6270 - val_categorical_accuracy: 0.6259\n",
      "Epoch 19/35\n",
      "5291/5291 [==============================] - 33s - loss: 0.6500 - precision: 0.7058 - recall: 0.6600 - fmeasure: 0.6820 - categorical_accuracy: 0.6902 - val_loss: 0.8113 - val_precision: 0.6126 - val_recall: 0.5938 - val_fmeasure: 0.6030 - val_categorical_accuracy: 0.6002\n",
      "Epoch 20/35\n",
      "5291/5291 [==============================] - 34s - loss: 0.6367 - precision: 0.7149 - recall: 0.6736 - fmeasure: 0.6935 - categorical_accuracy: 0.7001 - val_loss: 0.7976 - val_precision: 0.6123 - val_recall: 0.5927 - val_fmeasure: 0.6023 - val_categorical_accuracy: 0.6013\n",
      "Epoch 21/35\n",
      "5291/5291 [==============================] - 35s - loss: 0.6328 - precision: 0.7226 - recall: 0.6772 - fmeasure: 0.6991 - categorical_accuracy: 0.7091 - val_loss: 0.8191 - val_precision: 0.6030 - val_recall: 0.5841 - val_fmeasure: 0.5934 - val_categorical_accuracy: 0.5938\n",
      "Epoch 22/35\n",
      "5291/5291 [==============================] - 34s - loss: 0.6396 - precision: 0.7095 - recall: 0.6651 - fmeasure: 0.6865 - categorical_accuracy: 0.6944 - val_loss: 0.7957 - val_precision: 0.6317 - val_recall: 0.6152 - val_fmeasure: 0.6233 - val_categorical_accuracy: 0.6206\n",
      "Epoch 23/35\n",
      "5291/5291 [==============================] - 34s - loss: 0.6257 - precision: 0.7246 - recall: 0.6789 - fmeasure: 0.7009 - categorical_accuracy: 0.7070 - val_loss: 0.8309 - val_precision: 0.6298 - val_recall: 0.6141 - val_fmeasure: 0.6218 - val_categorical_accuracy: 0.6184\n",
      "Epoch 24/35\n",
      "5291/5291 [==============================] - 35s - loss: 0.6052 - precision: 0.7402 - recall: 0.7002 - fmeasure: 0.7196 - categorical_accuracy: 0.7269 - val_loss: 0.8340 - val_precision: 0.6237 - val_recall: 0.6088 - val_fmeasure: 0.6161 - val_categorical_accuracy: 0.6184\n",
      "Epoch 25/35\n",
      "5291/5291 [==============================] - 34s - loss: 0.6010 - precision: 0.7439 - recall: 0.7036 - fmeasure: 0.7231 - categorical_accuracy: 0.7277 - val_loss: 0.8332 - val_precision: 0.6336 - val_recall: 0.6206 - val_fmeasure: 0.6270 - val_categorical_accuracy: 0.6259\n",
      "Epoch 26/35\n",
      "5291/5291 [==============================] - 35s - loss: 0.5767 - precision: 0.7488 - recall: 0.7091 - fmeasure: 0.7283 - categorical_accuracy: 0.7362 - val_loss: 0.8466 - val_precision: 0.6171 - val_recall: 0.6045 - val_fmeasure: 0.6107 - val_categorical_accuracy: 0.6131\n",
      "Epoch 27/35\n",
      "5291/5291 [==============================] - 34s - loss: 0.5773 - precision: 0.7469 - recall: 0.7106 - fmeasure: 0.7282 - categorical_accuracy: 0.7335 - val_loss: 0.8283 - val_precision: 0.6406 - val_recall: 0.6249 - val_fmeasure: 0.6326 - val_categorical_accuracy: 0.6324\n",
      "Epoch 28/35\n",
      "5291/5291 [==============================] - 33s - loss: 0.5628 - precision: 0.7534 - recall: 0.7191 - fmeasure: 0.7358 - categorical_accuracy: 0.7430 - val_loss: 0.7942 - val_precision: 0.6308 - val_recall: 0.6152 - val_fmeasure: 0.6229 - val_categorical_accuracy: 0.6259\n",
      "Epoch 29/35\n",
      "5291/5291 [==============================] - 33s - loss: 0.5562 - precision: 0.7567 - recall: 0.7197 - fmeasure: 0.7377 - categorical_accuracy: 0.7416 - val_loss: 0.8103 - val_precision: 0.6240 - val_recall: 0.6099 - val_fmeasure: 0.6168 - val_categorical_accuracy: 0.6174\n",
      "Epoch 30/35\n",
      "5291/5291 [==============================] - 34s - loss: 0.5507 - precision: 0.7654 - recall: 0.7318 - fmeasure: 0.7482 - categorical_accuracy: 0.7505 - val_loss: 0.8409 - val_precision: 0.6382 - val_recall: 0.6217 - val_fmeasure: 0.6298 - val_categorical_accuracy: 0.6270\n",
      "Epoch 31/35\n",
      "5291/5291 [==============================] - 34s - loss: 0.5385 - precision: 0.7719 - recall: 0.7386 - fmeasure: 0.7548 - categorical_accuracy: 0.7564 - val_loss: 0.8374 - val_precision: 0.6199 - val_recall: 0.5991 - val_fmeasure: 0.6093 - val_categorical_accuracy: 0.6120\n",
      "Epoch 32/35\n",
      "5291/5291 [==============================] - 33s - loss: 0.5380 - precision: 0.7695 - recall: 0.7403 - fmeasure: 0.7546 - categorical_accuracy: 0.7564 - val_loss: 0.8435 - val_precision: 0.6202 - val_recall: 0.6034 - val_fmeasure: 0.6117 - val_categorical_accuracy: 0.6088\n",
      "Epoch 33/35\n",
      "5291/5291 [==============================] - 34s - loss: 0.5388 - precision: 0.7737 - recall: 0.7405 - fmeasure: 0.7566 - categorical_accuracy: 0.7600 - val_loss: 0.9012 - val_precision: 0.6288 - val_recall: 0.6152 - val_fmeasure: 0.6219 - val_categorical_accuracy: 0.6217\n",
      "Epoch 34/35\n",
      "5291/5291 [==============================] - 33s - loss: 0.5254 - precision: 0.7854 - recall: 0.7518 - fmeasure: 0.7682 - categorical_accuracy: 0.7721 - val_loss: 0.9378 - val_precision: 0.6136 - val_recall: 0.5970 - val_fmeasure: 0.6052 - val_categorical_accuracy: 0.6045\n",
      "Epoch 35/35\n",
      "5291/5291 [==============================] - 33s - loss: 0.5161 - precision: 0.7744 - recall: 0.7479 - fmeasure: 0.7609 - categorical_accuracy: 0.7632 - val_loss: 0.9446 - val_precision: 0.6381 - val_recall: 0.6270 - val_fmeasure: 0.6325 - val_categorical_accuracy: 0.6270\n"
     ]
    }
   ],
   "source": [
    "model.compile(loss='categorical_crossentropy', optimizer='rmsprop', metrics=[precision,recall,fmeasure,categorical_accuracy])\n",
    "print(model.summary())\n",
    "bz=128\n",
    "model.fit(x_train, y_train, validation_data=(x_val, y_val),\n",
    "          nb_epoch=35, batch_size=bz)\n",
    "model.save_weights('../output/full_finalgendermodel.h5')"
   ]
  },
  {
   "cell_type": "markdown",
   "metadata": {},
   "source": [
    "# Next, restructure the model to make predictions"
   ]
  },
  {
   "cell_type": "code",
   "execution_count": 24,
   "metadata": {
    "collapsed": false
   },
   "outputs": [
    {
     "name": "stdout",
     "output_type": "stream",
     "text": [
      "____________________________________________________________________________________________________\n",
      "Layer (type)                     Output Shape          Param #     Connected to                     \n",
      "====================================================================================================\n",
      "embedding_3 (Embedding)          (None, 208, 300)      1745100     embedding_input_2[0][0]          \n",
      "____________________________________________________________________________________________________\n",
      "dropout_4 (Dropout)              (None, 208, 300)      0           embedding_3[0][0]                \n",
      "____________________________________________________________________________________________________\n",
      "lstm_3 (LSTM)                    (None, 50)            70200       dropout_4[0][0]                  \n",
      "____________________________________________________________________________________________________\n",
      "dropout_5 (Dropout)              (None, 50)            0           lstm_3[0][0]                     \n",
      "____________________________________________________________________________________________________\n",
      "dense_3 (Dense)                  (None, 4)             204         dropout_5[0][0]                  \n",
      "====================================================================================================\n",
      "Total params: 1,815,504\n",
      "Trainable params: 1,815,504\n",
      "Non-trainable params: 0\n",
      "____________________________________________________________________________________________________\n"
     ]
    },
    {
     "data": {
      "text/plain": [
       "['dense_3', 'lstm_3', 'dropout_5', 'dropout_4', 'embedding_3']"
      ]
     },
     "execution_count": 24,
     "metadata": {},
     "output_type": "execute_result"
    }
   ],
   "source": [
    "from keras.layers import TimeDistributed\n",
    "model.load_weights('../output/full_finalgendermodel.h5')\n",
    "model.summary()\n",
    "layer_dict = dict([(layer.name, layer) for layer in model.layers])\n",
    "layer_dict.keys()"
   ]
  },
  {
   "cell_type": "code",
   "execution_count": 25,
   "metadata": {
    "collapsed": false
   },
   "outputs": [
    {
     "name": "stdout",
     "output_type": "stream",
     "text": [
      "____________________________________________________________________________________________________\n",
      "Layer (type)                     Output Shape          Param #     Connected to                     \n",
      "====================================================================================================\n",
      "embedding_3 (Embedding)          (None, 208, 300)      1745100     embedding_input_2[0][0]          \n",
      "____________________________________________________________________________________________________\n",
      "dropout_4 (Dropout)              (None, 208, 300)      0           embedding_3[0][0]                \n",
      "____________________________________________________________________________________________________\n",
      "lstm_4 (LSTM)                    (None, 208, 50)       70200       dropout_4[0][0]                  \n",
      "____________________________________________________________________________________________________\n",
      "dropout_6 (Dropout)              (None, 208, 50)       0           lstm_4[0][0]                     \n",
      "____________________________________________________________________________________________________\n",
      "timedistributed_2 (TimeDistribut (None, 208, 4)        204         dropout_6[0][0]                  \n",
      "====================================================================================================\n",
      "Total params: 1,815,504\n",
      "Trainable params: 1,815,504\n",
      "Non-trainable params: 0\n",
      "____________________________________________________________________________________________________\n"
     ]
    }
   ],
   "source": [
    "#layer_dict['lstm_2'].get_weights()\n",
    "dens=layer_dict['dense_3'].get_weights()\n",
    "lstmw=layer_dict['lstm_3'].get_weights()\n",
    "model.pop()\n",
    "model.pop()\n",
    "model.pop()\n",
    "lstmout = LSTM(50,\n",
    "               return_sequences=True,\n",
    "               stateful=False,weights=lstmw)\n",
    "model.add(lstmout)\n",
    "model.add(Dropout(0.5))\n",
    "templayer=TimeDistributed(Dense(len(labels_index), activation='softmax',weights=dens))\n",
    "model.add(templayer)\n",
    "model.summary()"
   ]
  },
  {
   "cell_type": "markdown",
   "metadata": {},
   "source": [
    "# Here, I make some novel sentences to pass to the network\n",
    "(social words)"
   ]
  },
  {
   "cell_type": "code",
   "execution_count": 17,
   "metadata": {
    "collapsed": false,
    "scrolled": true
   },
   "outputs": [],
   "source": [
    "import spacy\n",
    "nlp = spacy.load('en')"
   ]
  },
  {
   "cell_type": "code",
   "execution_count": 69,
   "metadata": {
    "collapsed": false
   },
   "outputs": [],
   "source": [
    "df = pd.read_csv('../../liwcpy/liwc-dict/Social.csv', header=None, names=['word'], encoding='UTF-8')\n",
    "df = df[~df.word.str.contains('\\*')]"
   ]
  },
  {
   "cell_type": "code",
   "execution_count": 70,
   "metadata": {
    "collapsed": false
   },
   "outputs": [],
   "source": [
    "df['pos'] = df['word'].apply(lambda x: nlp(x)[0].pos_)\n",
    "df['lemma'] = df['word'].apply(lambda x: nlp(x)[0].lemma_)\n",
    "\n",
    "df['sent'] = 'These values are important because my'\n",
    "df.sent.loc[df.pos=='VERB'] = 'These values'\n",
    "df.sent.loc[df.pos=='PRON'] = 'These values are important to'\n",
    "df.sent.loc[df.pos=='ADJ'] = 'These values are important because my'\n",
    "df.sent.loc[df.pos=='INTJ'] = ''\n",
    "df.sent.loc[df.pos=='ADV'] = 'These values are important because my'\n",
    "df['test_sent'] = df.sent+' '+df.word\n",
    "df['sent_wo'] = 'These values are important because without my'\n",
    "df.sent_wo.loc[df.pos=='VERB'] = 'These values don\\'t' \n",
    "df.sent_wo.loc[df.pos=='PRON'] = 'These values are not important to'\n",
    "df.sent_wo.loc[df.pos=='ADJ'] = 'These values are important because without my'\n",
    "df.sent_wo.loc[df.pos=='INTJ'] = ''\n",
    "df.sent_wo.loc[df.pos=='ADV'] = 'These values are important because without my'\n",
    "df['test_sent_wo'] = df.sent_wo+' '+df.lemma\n",
    "df.test_sent_wo.loc[df.pos=='PRON'] = df.sent_wo + ' ' + df.word"
   ]
  },
  {
   "cell_type": "markdown",
   "metadata": {},
   "source": [
    "# Make predictions and save important bits"
   ]
  },
  {
   "cell_type": "code",
   "execution_count": 71,
   "metadata": {
    "collapsed": false
   },
   "outputs": [
    {
     "name": "stdout",
     "output_type": "stream",
     "text": [
      "259/259 [==============================] - 1s     \n",
      "259/259 [==============================] - 0s     \n"
     ]
    }
   ],
   "source": [
    "subdat = df.drop_duplicates(subset='test_sent')\n",
    "subdat['test_sent'] = subdat['test_sent'].apply(lambda x: str(x))\n",
    "test_seq = tokenizer.texts_to_sequences(subdat['test_sent'])\n",
    "full_dat = pad_sequences(test_seq, maxlen=MAX_SEQUENCE_LENGTH)\n",
    "preds = model.predict(full_dat, verbose=1)\n",
    "word_index = tokenizer.word_index\n",
    "index_word={}\n",
    "for i,x in word_index.items():\n",
    "    index_word[x]=i\n",
    "np.save('testsentiw_soc.npy', index_word)\n",
    "np.save('testsentiw_inv_soc.npy', word_index)\n",
    "np.save('testsentpreds_soc.npy', preds)\n",
    "np.save('testsentxdat_soc.npy', full_dat)\n",
    "np.save('testdat_soc.npy', subdat)\n",
    "\n",
    "subdat['test_sent_wo'] = subdat['test_sent_wo'].apply(lambda x: str(x))\n",
    "test_seq = tokenizer.texts_to_sequences(subdat['test_sent_wo'])\n",
    "full_dat = pad_sequences(test_seq, maxlen=MAX_SEQUENCE_LENGTH)\n",
    "preds_wo = model.predict(full_dat, verbose=1)\n",
    "word_index_wo = tokenizer.word_index\n",
    "index_word_wo={}\n",
    "for i,x in word_index_wo.items():\n",
    "    index_word_wo[x]=i\n",
    "np.save('testsentiw_wo_soc.npy', index_word_wo)\n",
    "np.save('testsentiw_inv_wo_soc.npy', word_index_wo)\n",
    "np.save('testsentpreds_wo_soc.npy', preds_wo)\n",
    "np.save('testsentxdat_wo_soc.npy', full_dat)"
   ]
  },
  {
   "cell_type": "markdown",
   "metadata": {},
   "source": [
    "# Here, I make some novel sentences to pass to the network\n",
    "(positive emotion words)"
   ]
  },
  {
   "cell_type": "code",
   "execution_count": 73,
   "metadata": {
    "collapsed": false
   },
   "outputs": [],
   "source": [
    "df = pd.read_csv('../../liwcpy/liwc-dict/Posemo.csv', header=None, names=['word'], encoding='UTF-8')"
   ]
  },
  {
   "cell_type": "code",
   "execution_count": 74,
   "metadata": {
    "collapsed": false
   },
   "outputs": [],
   "source": [
    "df = df[~df.word.str.contains('\\*')]"
   ]
  },
  {
   "cell_type": "code",
   "execution_count": 75,
   "metadata": {
    "collapsed": false
   },
   "outputs": [],
   "source": [
    "#df[df.word.str.contains('\\*')]\n",
    "df['pos'] = df['word'].apply(lambda x: nlp(x)[0].pos_)\n",
    "df['lemma'] = df['word'].apply(lambda x: nlp(x)[0].lemma_)\n",
    "\n",
    "df['sent'] = 'These values are important because my'\n",
    "df.sent.loc[df.pos=='VERB'] = 'These values'\n",
    "df.sent.loc[df.pos=='PRON'] = 'These values are important to'\n",
    "df.sent.loc[df.pos=='ADJ'] = 'These values are important because my'\n",
    "df.sent.loc[df.pos=='INTJ'] = ''\n",
    "df.sent.loc[df.pos=='ADV'] = 'These values are important because my'\n",
    "df['test_sent'] = df.sent+' '+df.word\n",
    "df['sent_wo'] = 'These values are important because without my'\n",
    "df.sent_wo.loc[df.pos=='VERB'] = 'These values don\\'t' \n",
    "df.sent_wo.loc[df.pos=='PRON'] = 'These values are not important to'\n",
    "df.sent_wo.loc[df.pos=='ADJ'] = 'These values are important because without my'\n",
    "df.sent_wo.loc[df.pos=='INTJ'] = ''\n",
    "df.sent_wo.loc[df.pos=='ADV'] = 'These values are important because without my'\n",
    "df['test_sent_wo'] = df.sent_wo+' '+df.lemma\n",
    "df.test_sent_wo.loc[df.pos=='PRON'] = df.sent_wo + ' ' + df.word"
   ]
  },
  {
   "cell_type": "markdown",
   "metadata": {},
   "source": [
    "# Make predictions and save important bits"
   ]
  },
  {
   "cell_type": "code",
   "execution_count": 76,
   "metadata": {
    "collapsed": false
   },
   "outputs": [
    {
     "name": "stdout",
     "output_type": "stream",
     "text": [
      "159/159 [==============================] - 0s     \n",
      "159/159 [==============================] - 0s     \n"
     ]
    }
   ],
   "source": [
    "subdat = df.drop_duplicates(subset='test_sent')\n",
    "subdat['test_sent'] = subdat['test_sent'].apply(lambda x: str(x))\n",
    "test_seq = tokenizer.texts_to_sequences(subdat['test_sent'])\n",
    "full_dat = pad_sequences(test_seq, maxlen=MAX_SEQUENCE_LENGTH)\n",
    "preds = model.predict(full_dat, verbose=1)\n",
    "word_index = tokenizer.word_index\n",
    "index_word={}\n",
    "for i,x in word_index.items():\n",
    "    index_word[x]=i\n",
    "np.save('testsentiw_posem.npy', index_word)\n",
    "np.save('testsentiw_inv_posem.npy', word_index)\n",
    "np.save('testsentpreds_posem.npy', preds)\n",
    "np.save('testsentxdat_posem.npy', full_dat)\n",
    "np.save('testdat_posem.npy', subdat)\n",
    "\n",
    "subdat['test_sent_wo'] = subdat['test_sent_wo'].apply(lambda x: str(x))\n",
    "test_seq = tokenizer.texts_to_sequences(subdat['test_sent_wo'])\n",
    "full_dat = pad_sequences(test_seq, maxlen=MAX_SEQUENCE_LENGTH)\n",
    "preds_wo = model.predict(full_dat, verbose=1)\n",
    "word_index_wo = tokenizer.word_index\n",
    "index_word_wo={}\n",
    "for i,x in word_index_wo.items():\n",
    "    index_word_wo[x]=i\n",
    "np.save('testsentiw_wo_posem.npy', index_word_wo)\n",
    "np.save('testsentiw_inv_wo_posem.npy', word_index_wo)\n",
    "np.save('testsentpreds_wo_posem.npy', preds_wo)\n",
    "np.save('testsentxdat_wo_posem.npy', full_dat)"
   ]
  },
  {
   "cell_type": "markdown",
   "metadata": {},
   "source": [
    "# Here, I make some novel sentences to pass to the network\n",
    "(Negative emotion words)"
   ]
  },
  {
   "cell_type": "code",
   "execution_count": 77,
   "metadata": {
    "collapsed": false
   },
   "outputs": [],
   "source": [
    "df = pd.read_csv('../../liwcpy/liwc-dict/Negemo.csv', header=None, names=['word'], encoding='UTF-8')"
   ]
  },
  {
   "cell_type": "code",
   "execution_count": 78,
   "metadata": {
    "collapsed": false
   },
   "outputs": [],
   "source": [
    "df = df[~df.word.str.contains('\\*')]"
   ]
  },
  {
   "cell_type": "code",
   "execution_count": 79,
   "metadata": {
    "collapsed": false
   },
   "outputs": [],
   "source": [
    "#df[df.word.str.contains('\\*')]\n",
    "df['pos'] = df['word'].apply(lambda x: nlp(x)[0].pos_)\n",
    "df['lemma'] = df['word'].apply(lambda x: nlp(x)[0].lemma_)\n",
    "\n",
    "df['sent'] = 'These values are important because my'\n",
    "df.sent.loc[df.pos=='VERB'] = 'These values'\n",
    "df.sent.loc[df.pos=='PRON'] = 'These values are important to'\n",
    "df.sent.loc[df.pos=='ADJ'] = 'These values are important because my'\n",
    "df.sent.loc[df.pos=='INTJ'] = ''\n",
    "df.sent.loc[df.pos=='ADV'] = 'These values are important because my'\n",
    "df['test_sent'] = df.sent+' '+df.word\n",
    "df['sent_wo'] = 'These values are important because without my'\n",
    "df.sent_wo.loc[df.pos=='VERB'] = 'These values don\\'t' \n",
    "df.sent_wo.loc[df.pos=='PRON'] = 'These values are not important to'\n",
    "df.sent_wo.loc[df.pos=='ADJ'] = 'These values are important because without my'\n",
    "df.sent_wo.loc[df.pos=='INTJ'] = ''\n",
    "df.sent_wo.loc[df.pos=='ADV'] = 'These values are important because without my'\n",
    "df['test_sent_wo'] = df.sent_wo+' '+df.lemma\n",
    "df.test_sent_wo.loc[df.pos=='PRON'] = df.sent_wo + ' ' + df.word"
   ]
  },
  {
   "cell_type": "markdown",
   "metadata": {},
   "source": [
    "# Make predictions and save important bits"
   ]
  },
  {
   "cell_type": "code",
   "execution_count": 80,
   "metadata": {
    "collapsed": false,
    "scrolled": true
   },
   "outputs": [
    {
     "name": "stdout",
     "output_type": "stream",
     "text": [
      "150/150 [==============================] - 0s     \n",
      "150/150 [==============================] - 0s     \n"
     ]
    }
   ],
   "source": [
    "subdat = df.drop_duplicates(subset='test_sent')\n",
    "subdat['test_sent'] = subdat['test_sent'].apply(lambda x: str(x))\n",
    "test_seq = tokenizer.texts_to_sequences(subdat['test_sent'])\n",
    "full_dat = pad_sequences(test_seq, maxlen=MAX_SEQUENCE_LENGTH)\n",
    "preds = model.predict(full_dat, verbose=1)\n",
    "word_index = tokenizer.word_index\n",
    "index_word={}\n",
    "for i,x in word_index.items():\n",
    "    index_word[x]=i\n",
    "np.save('testsentiw_negem.npy', index_word)\n",
    "np.save('testsentiw_inv_negem.npy', word_index)\n",
    "np.save('testsentpreds_negem.npy', preds)\n",
    "np.save('testsentxdat_negem.npy', full_dat)\n",
    "np.save('testdat_negem.npy', subdat)\n",
    "\n",
    "subdat['test_sent_wo'] = subdat['test_sent_wo'].apply(lambda x: str(x))\n",
    "test_seq = tokenizer.texts_to_sequences(subdat['test_sent_wo'])\n",
    "full_dat = pad_sequences(test_seq, maxlen=MAX_SEQUENCE_LENGTH)\n",
    "preds_wo = model.predict(full_dat, verbose=1)\n",
    "word_index_wo = tokenizer.word_index\n",
    "index_word_wo={}\n",
    "for i,x in word_index_wo.items():\n",
    "    index_word_wo[x]=i\n",
    "np.save('testsentiw_wo_negem.npy', index_word_wo)\n",
    "np.save('testsentiw_inv_wo_negem.npy', word_index_wo)\n",
    "np.save('testsentpreds_wo_negem.npy', preds_wo)\n",
    "np.save('testsentxdat_wo_negem.npy', full_dat)"
   ]
  },
  {
   "cell_type": "markdown",
   "metadata": {},
   "source": [
    "# Here, I make some novel sentences to pass to the network\n",
    "(Value-specific sentences)"
   ]
  },
  {
   "cell_type": "code",
   "execution_count": 81,
   "metadata": {
    "collapsed": false
   },
   "outputs": [],
   "source": [
    "texts = ['Athletic ability is important to me', \n",
    "         'Art is important to me', \n",
    "         'Being smart is important to me', \n",
    "         'Getting good grades is important to me', \n",
    "         'Creativity is important to me', \n",
    "         'Independence is important to me', \n",
    "         'Social groups are important to me', \n",
    "         'Music is important to me', \n",
    "         'Politics is important to me', \n",
    "         'Relationships is important to me', \n",
    "         'Religion is important to me', \n",
    "         'Sense of humor is important to me', \n",
    "         'Living in the moment is important to me']\n",
    "\n",
    "val = ['Athletics', 'Art', 'Being Smart', 'Good Grades', 'Creativity', \n",
    "      'Independence', 'Social Groups', 'Music', 'Politics', 'Relationships',\n",
    "      'Religion', 'Sense of Humor', 'Living in the Moment']\n",
    "\n",
    "texts_not = ['Athletic ability is not important to me', \n",
    "         'Art is not important to me', \n",
    "         'Being smart is not important to me', \n",
    "         'Getting good grades is not important to me', \n",
    "         'Creativity is not important to me', \n",
    "         'Independence is not important to me', \n",
    "         'Social groups are not important to me', \n",
    "         'Music is not important to me', \n",
    "         'Politics is not important to me', \n",
    "         'Relationships is not important to me', \n",
    "         'Religion is not important to me', \n",
    "         'Sense of humor is not important to me', \n",
    "         'Living in the moment is not important to me']\n",
    "\n",
    "df = pd.DataFrame({'text':texts,\n",
    "                  'value':val})"
   ]
  },
  {
   "cell_type": "markdown",
   "metadata": {},
   "source": [
    "# Make predictions and save important bits"
   ]
  },
  {
   "cell_type": "code",
   "execution_count": 82,
   "metadata": {
    "collapsed": false,
    "scrolled": true
   },
   "outputs": [
    {
     "name": "stdout",
     "output_type": "stream",
     "text": [
      "13/13 [==============================] - 0s\n",
      "13/13 [==============================] - 0s\n"
     ]
    }
   ],
   "source": [
    "test_seq = tokenizer.texts_to_sequences(texts)\n",
    "full_dat = pad_sequences(test_seq, maxlen=MAX_SEQUENCE_LENGTH)\n",
    "preds = model.predict(full_dat, verbose=1)\n",
    "word_index = tokenizer.word_index\n",
    "index_word={}\n",
    "for i,x in word_index.items():\n",
    "    index_word[x]=i\n",
    "np.save('testsentiw_val.npy', index_word)\n",
    "np.save('testsentiw_inv_val.npy', word_index)\n",
    "np.save('testsentpreds_val.npy', preds)\n",
    "np.save('testsentxdat_val.npy', full_dat)\n",
    "np.save('testdat_val.npy', df)\n",
    "\n",
    "test_seq = tokenizer.texts_to_sequences(texts_not)\n",
    "full_dat = pad_sequences(test_seq, maxlen=MAX_SEQUENCE_LENGTH)\n",
    "preds_not = model.predict(full_dat, verbose=1)\n",
    "word_index_not = tokenizer.word_index\n",
    "index_word_not={}\n",
    "for i,x in word_index_not.items():\n",
    "    index_word_not[x]=i\n",
    "np.save('testsentiw_wo_val.npy', index_word_not)\n",
    "np.save('testsentiw_inv_wo_val.npy', word_index_not)\n",
    "np.save('testsentpreds_wo_val.npy', preds_not)\n",
    "np.save('testsentxdat_wo_val.npy', full_dat)"
   ]
  },
  {
   "cell_type": "code",
   "execution_count": 42,
   "metadata": {
    "collapsed": false
   },
   "outputs": [
    {
     "name": "stdout",
     "output_type": "stream",
     "text": [
      "13/13 [==============================] - 0s\n"
     ]
    }
   ],
   "source": [
    "texts = ['Athletic ability is important to me', \n",
    "         'Art is important to me', \n",
    "         'Being smart is important to me', \n",
    "         'Getting good grades is important to me', \n",
    "         'Creativity is important to me', \n",
    "         'Independence is important to me', \n",
    "         'Social groups are important to me', \n",
    "         'Music is important to me', \n",
    "         'Politics is important to me', \n",
    "         'Relationships is important to me', \n",
    "         'Religion is important to me', \n",
    "         'Sense of humor is important to me', \n",
    "         'Living in the moment is important to me']\n",
    "test_seq = tokenizer.texts_to_sequences(texts)\n",
    "full_dat = pad_sequences(test_seq, maxlen=MAX_SEQUENCE_LENGTH)\n",
    "preds = model.predict(full_dat, verbose=1)"
   ]
  },
  {
   "cell_type": "markdown",
   "metadata": {},
   "source": [
    "# Here, I make some novel sentences to pass to the network\n",
    "(Justification with relationships)"
   ]
  },
  {
   "cell_type": "code",
   "execution_count": 111,
   "metadata": {
    "collapsed": false
   },
   "outputs": [
    {
     "data": {
      "text/html": [
       "<div>\n",
       "<table border=\"1\" class=\"dataframe\">\n",
       "  <thead>\n",
       "    <tr style=\"text-align: right;\">\n",
       "      <th></th>\n",
       "      <th>justification</th>\n",
       "      <th>text</th>\n",
       "      <th>value</th>\n",
       "    </tr>\n",
       "  </thead>\n",
       "  <tbody>\n",
       "    <tr>\n",
       "      <th>0</th>\n",
       "      <td>friends</td>\n",
       "      <td>Athletic ability is important to me because my...</td>\n",
       "      <td>Athletic</td>\n",
       "    </tr>\n",
       "    <tr>\n",
       "      <th>1</th>\n",
       "      <td>family</td>\n",
       "      <td>Athletic ability is important to me because my...</td>\n",
       "      <td>Athletic</td>\n",
       "    </tr>\n",
       "    <tr>\n",
       "      <th>2</th>\n",
       "      <td>future</td>\n",
       "      <td>Athletic ability is important to me because my...</td>\n",
       "      <td>Athletic</td>\n",
       "    </tr>\n",
       "    <tr>\n",
       "      <th>3</th>\n",
       "      <td>parents</td>\n",
       "      <td>Athletic ability is important to me because my...</td>\n",
       "      <td>Athletic</td>\n",
       "    </tr>\n",
       "    <tr>\n",
       "      <th>4</th>\n",
       "      <td>teacher</td>\n",
       "      <td>Athletic ability is important to me because my...</td>\n",
       "      <td>Athletic</td>\n",
       "    </tr>\n",
       "  </tbody>\n",
       "</table>\n",
       "</div>"
      ],
      "text/plain": [
       "  justification                                               text     value\n",
       "0       friends  Athletic ability is important to me because my...  Athletic\n",
       "1        family  Athletic ability is important to me because my...  Athletic\n",
       "2        future  Athletic ability is important to me because my...  Athletic\n",
       "3       parents  Athletic ability is important to me because my...  Athletic\n",
       "4       teacher  Athletic ability is important to me because my...  Athletic"
      ]
     },
     "execution_count": 111,
     "metadata": {},
     "output_type": "execute_result"
    }
   ],
   "source": [
    "import itertools\n",
    "texts = ['Athletic ability is important to me because ', \n",
    "         'Art is important to me because ', \n",
    "         'Being smart is important to me because ', \n",
    "         'Getting good grades is important to me because ', \n",
    "         'Creativity is important to me because ', \n",
    "         'Independence is important to me because ', \n",
    "         'Social groups are important to me because ', \n",
    "         'Music is important to me because ', \n",
    "         'Politics is important to me because ', \n",
    "         'Relationships is important to me because ', \n",
    "         'Religion is important to me because ', \n",
    "         'Sense of humor is important to me because ', \n",
    "         'Living in the moment is important to me because ']\n",
    "\n",
    "justification = ['my friends', 'my family', 'my future', 'my parents', 'my teacher', \n",
    "                 'my friend', 'my dad', 'my mom', 'my sister', 'my brother', \n",
    "                 'my mother', 'my father', 'my cousin', 'my aunt', 'my uncle']\n",
    "\n",
    "\n",
    "a = list(itertools.product(texts, justification))\n",
    "combos = []\n",
    "value = []\n",
    "just = []\n",
    "for i in a:\n",
    "    combos.append(i[0]+i[1])\n",
    "    value.append(i[0].split()[0])\n",
    "    just.append(i[1].split()[1])\n",
    "df = pd.DataFrame({'text':combos,\n",
    "                  'value':value,\n",
    "                  'justification':just})"
   ]
  },
  {
   "cell_type": "markdown",
   "metadata": {},
   "source": [
    "# Make predictions and save important bits"
   ]
  },
  {
   "cell_type": "code",
   "execution_count": 110,
   "metadata": {
    "collapsed": false,
    "scrolled": true
   },
   "outputs": [
    {
     "name": "stdout",
     "output_type": "stream",
     "text": [
      "195/195 [==============================] - 1s     \n"
     ]
    }
   ],
   "source": [
    "test_seq = tokenizer.texts_to_sequences(combos)\n",
    "full_dat = pad_sequences(test_seq, maxlen=MAX_SEQUENCE_LENGTH)\n",
    "preds = model.predict(full_dat, verbose=1)\n",
    "word_index = tokenizer.word_index\n",
    "index_word={}\n",
    "for i,x in word_index.items():\n",
    "    index_word[x]=i\n",
    "np.save('testsentiw_just.npy', index_word)\n",
    "np.save('testsentiw_inv_just.npy', word_index)\n",
    "np.save('testsentpreds_just.npy', preds)\n",
    "np.save('testsentxdat_just.npy', full_dat)\n",
    "np.save('testdat_just.npy', df)"
   ]
  },
  {
   "cell_type": "markdown",
   "metadata": {},
   "source": [
    "# Here, I make some novel sentences to pass to the network\n",
    "(Justification with the self)"
   ]
  },
  {
   "cell_type": "code",
   "execution_count": 112,
   "metadata": {
    "collapsed": false
   },
   "outputs": [],
   "source": [
    "import itertools\n",
    "texts = ['Athletic ability is important to me because ', \n",
    "         'Art is important to me because ', \n",
    "         'Being smart is important to me because ', \n",
    "         'Getting good grades is important to me because ', \n",
    "         'Creativity is important to me because ', \n",
    "         'Independence is important to me because ', \n",
    "         'Social groups are important to me because ', \n",
    "         'Music is important to me because ', \n",
    "         'Politics is important to me because ', \n",
    "         'Relationships is important to me because ', \n",
    "         'Religion is important to me because ', \n",
    "         'Sense of humor is important to me because ', \n",
    "         'Living in the moment is important to me because ']\n",
    "\n",
    "justification = ['I want', 'I need', 'I will', 'I have', 'I can', \n",
    "                 'I have', 'I should', 'I would', 'I hope', 'I am', \n",
    "                 'I get', 'I might', 'I use', 'I like', 'I take']\n",
    "\n",
    "\n",
    "a = list(itertools.product(texts, justification))\n",
    "combos = []\n",
    "value = []\n",
    "just = []\n",
    "for i in a:\n",
    "    combos.append(i[0]+i[1])\n",
    "    value.append(i[0].split()[0])\n",
    "    just.append(i[1].split()[1])\n",
    "df = pd.DataFrame({'text':combos,\n",
    "                  'value':value,\n",
    "                  'justification':just})"
   ]
  },
  {
   "cell_type": "markdown",
   "metadata": {},
   "source": [
    "# Make predictions and save important bits"
   ]
  },
  {
   "cell_type": "code",
   "execution_count": 113,
   "metadata": {
    "collapsed": false,
    "scrolled": true
   },
   "outputs": [
    {
     "name": "stdout",
     "output_type": "stream",
     "text": [
      "195/195 [==============================] - 1s     \n"
     ]
    }
   ],
   "source": [
    "test_seq = tokenizer.texts_to_sequences(combos)\n",
    "full_dat = pad_sequences(test_seq, maxlen=MAX_SEQUENCE_LENGTH)\n",
    "preds = model.predict(full_dat, verbose=1)\n",
    "word_index = tokenizer.word_index\n",
    "index_word={}\n",
    "for i,x in word_index.items():\n",
    "    index_word[x]=i\n",
    "np.save('testsentiw_justself.npy', index_word)\n",
    "np.save('testsentiw_inv_justself.npy', word_index)\n",
    "np.save('testsentpreds_justself.npy', preds)\n",
    "np.save('testsentxdat_justself.npy', full_dat)\n",
    "np.save('testdat_justself.npy', df)"
   ]
  },
  {
   "cell_type": "markdown",
   "metadata": {},
   "source": [
    "overleaf create project, add acl style file and start editing!"
   ]
  }
 ],
 "metadata": {
  "anaconda-cloud": {},
  "kernelspec": {
   "display_name": "Python 2",
   "language": "python",
   "name": "python2"
  },
  "language_info": {
   "codemirror_mode": {
    "name": "ipython",
    "version": 2
   },
   "file_extension": ".py",
   "mimetype": "text/x-python",
   "name": "python",
   "nbconvert_exporter": "python",
   "pygments_lexer": "ipython2",
   "version": "2.7.12"
  }
 },
 "nbformat": 4,
 "nbformat_minor": 1
}

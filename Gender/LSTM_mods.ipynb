{
 "cells": [
  {
   "cell_type": "code",
   "execution_count": 5,
   "metadata": {
    "collapsed": false
   },
   "outputs": [
    {
     "name": "stdout",
     "output_type": "stream",
     "text": [
      "Indexing word vectors.\n",
      "Found 2196016 word vectors.\n"
     ]
    }
   ],
   "source": [
    "from __future__ import print_function\n",
    "import os\n",
    "import numpy as np\n",
    "np.random.seed(42)\n",
    "__docformat__ = 'restructedtext en'\n",
    "import timeit\n",
    "import numpy\n",
    "import scipy.io\n",
    "\n",
    "from keras.preprocessing.text import Tokenizer\n",
    "from keras.preprocessing.sequence import pad_sequences\n",
    "from keras.utils.np_utils import to_categorical\n",
    "from keras.layers import Dense, Input, Flatten\n",
    "from keras.layers import Conv1D, MaxPooling1D, Embedding\n",
    "from keras.models import Model\n",
    "import sys\n",
    "BASE_DIR = '/Users/travis/Documents/Gits'\n",
    "GLOVE_DIR = BASE_DIR + '/Data/'\n",
    "#MAX_SEQUENCE_LENGTH = 210\n",
    "MAX_NB_WORDS = 20000\n",
    "EMBEDDING_DIM = 300\n",
    "VALIDATION_SPLIT = 0.2\n",
    "# first, build index mapping words in the embeddings set\n",
    "# to their embedding vector\n",
    "\n",
    "print('Indexing word vectors.')\n",
    "\n",
    "embeddings_index = {}\n",
    "f = open(os.path.join(GLOVE_DIR, 'glove.840B.300d.txt'))\n",
    "for line in f:\n",
    "    values = line.split()\n",
    "    word = values[0]\n",
    "    coefs = np.asarray(values[1:], dtype='float32')\n",
    "    embeddings_index[word] = coefs\n",
    "f.close()\n",
    "\n",
    "print('Found %s word vectors.' % len(embeddings_index))\n",
    "\n"
   ]
  },
  {
   "cell_type": "code",
   "execution_count": 6,
   "metadata": {
    "collapsed": false
   },
   "outputs": [],
   "source": [
    "# for custom metrics\n",
    "import keras.backend as K\n",
    "from keras.utils.generic_utils import get_from_module\n",
    "\n",
    "def categorical_accuracy(y_true, y_pred):\n",
    "    \"\"\"Categorical accuracy metric.\n",
    "\n",
    "    Computes the mean accuracy rate across all predictions for\n",
    "    multiclass classification problems.\n",
    "    \"\"\"\n",
    "    return K.mean(K.equal(K.argmax(y_true, axis=-1),\n",
    "                          K.argmax(y_pred, axis=-1)))\n",
    "\n",
    "\n",
    "def precision(y_true, y_pred):\n",
    "    \"\"\"Precision metric.\n",
    "\n",
    "    Only computes a batch-wise average of precision.\n",
    "\n",
    "    Computes the precision, a metric for multi-label classification of\n",
    "    how many selected items are relevant.\n",
    "    \"\"\"\n",
    "    true_positives = K.sum(K.round(K.clip(y_true * y_pred, 0, 1)))\n",
    "    predicted_positives = K.sum(K.round(K.clip(y_pred, 0, 1)))\n",
    "    precision = true_positives / (predicted_positives + K.epsilon())\n",
    "    return precision\n",
    "\n",
    "\n",
    "def recall(y_true, y_pred):\n",
    "    \"\"\"Recall metric.\n",
    "\n",
    "    Only computes a batch-wise average of recall.\n",
    "\n",
    "    Computes the recall, a metric for multi-label classification of\n",
    "    how many relevant items are selected.\n",
    "    \"\"\"\n",
    "    true_positives = K.sum(K.round(K.clip(y_true * y_pred, 0, 1)))\n",
    "    possible_positives = K.sum(K.round(K.clip(y_true, 0, 1)))\n",
    "    recall = true_positives / (possible_positives + K.epsilon())\n",
    "    return recall\n",
    "\n",
    "\n",
    "def fbeta_score(y_true, y_pred, beta=1):\n",
    "    \"\"\"Computes the F score.\n",
    "\n",
    "    The F score is the weighted harmonic mean of precision and recall.\n",
    "    Here it is only computed as a batch-wise average, not globally.\n",
    "\n",
    "    This is useful for multi-label classification, where input samples can be\n",
    "    classified as sets of labels. By only using accuracy (precision) a model\n",
    "    would achieve a perfect score by simply assigning every class to every\n",
    "    input. In order to avoid this, a metric should penalize incorrect class\n",
    "    assignments as well (recall). The F-beta score (ranged from 0.0 to 1.0)\n",
    "    computes this, as a weighted mean of the proportion of correct class\n",
    "    assignments vs. the proportion of incorrect class assignments.\n",
    "\n",
    "    With beta = 1, this is equivalent to a F-measure. With beta < 1, assigning\n",
    "    correct classes becomes more important, and with beta > 1 the metric is\n",
    "    instead weighted towards penalizing incorrect class assignments.\n",
    "    \"\"\"\n",
    "    if beta < 0:\n",
    "        raise ValueError('The lowest choosable beta is zero (only precision).')\n",
    "\n",
    "    # If there are no true positives, fix the F score at 0 like sklearn.\n",
    "    if K.sum(K.round(K.clip(y_true, 0, 1))) == 0:\n",
    "        return 0\n",
    "\n",
    "    p = precision(y_true, y_pred)\n",
    "    r = recall(y_true, y_pred)\n",
    "    bb = beta ** 2\n",
    "    fbeta_score = (1 + bb) * (p * r) / (bb * p + r + K.epsilon())\n",
    "    return fbeta_score\n",
    "\n",
    "\n",
    "def fmeasure(y_true, y_pred):\n",
    "    \"\"\"Computes the f-measure, the harmonic mean of precision and recall.\n",
    "\n",
    "    Here it is only computed as a batch-wise average, not globally.\n",
    "    \"\"\"\n",
    "    return fbeta_score(y_true, y_pred, beta=1)\n"
   ]
  },
  {
   "cell_type": "code",
   "execution_count": 7,
   "metadata": {
    "collapsed": true
   },
   "outputs": [],
   "source": [
    "def create_dat(df_ess, df_dem):\n",
    "    df_ess = df_ess[df_ess.Study=='Connecticut']\n",
    "    df_ess.Condition.replace(['c', 'c2', 'c1', 'c3', 'ca', 'cb', '3'], 'Control', inplace=True)\n",
    "    df_ess.Condition.replace(['t', 't2', 't3', 't1', '1', '2', 'ta', 'tb'], 'Treatment', inplace=True)\n",
    "    df_ess.Condition.replace(['c/t'], np.nan, inplace=True)\n",
    "    \n",
    "    df_dem = df_dem[df_dem.Study=='Connecticut']\n",
    "    df_dem.Ethnicity.replace('Asian', 'Asian American', inplace=True)\n",
    "    df_dem.Ethnicity.replace('Other/Mixed', 'Other', inplace=True)\n",
    "    df_dem = df_dem[['ID', 'Ethnicity', 'Gender']].dropna()\n",
    "    \n",
    "    outdat = pd.merge(df_ess[['ID', 'Intervention_number', 'Essay', 'Condition', 'Intervention_Date', 'corrected']], \n",
    "                    df_dem, how='left', on='ID').drop_duplicates()\n",
    "    \n",
    "    return(outdat)"
   ]
  },
  {
   "cell_type": "markdown",
   "metadata": {},
   "source": [
    "# Here, we're preparing the data"
   ]
  },
  {
   "cell_type": "code",
   "execution_count": 8,
   "metadata": {
    "collapsed": false
   },
   "outputs": [
    {
     "name": "stdout",
     "output_type": "stream",
     "text": [
      "Processing text dataset\n",
      "Found 1232 total students\n",
      "f    3315\n",
      "m    2909\n",
      "Name: Gender, dtype: int64\n",
      "mean essay length = 42.8125\n",
      "sd essay length = 23.8684140013\n",
      "Found 6224 texts.\n",
      "Found 5816 unique tokens.\n",
      "Shape of data tensor: (6224, 208)\n",
      "Shape of label tensor: (6224, 4)\n",
      "Shape of xtrain tensor: (4498, 208)\n",
      "Shape of ytrain tensor: (4498, 4)\n",
      "Shape of xval tensor: (793, 208)\n",
      "Shape of yval tensor: (793, 4)\n",
      "Shape of xtest tensor: (933, 208)\n",
      "Shape of ytest tensor: (933, 4)\n",
      "Preparing embedding matrix.\n"
     ]
    }
   ],
   "source": [
    "import pandas as pd\n",
    "import matplotlib\n",
    "from pandas import DataFrame, read_csv\n",
    "import matplotlib.pyplot as plt\n",
    "import pandas as pd #this is how I usually import pandas\n",
    "import sys #only needed to determine Python version number\n",
    "import matplotlib #only needed to determine Matplotlib version number\n",
    "import numpy as np\n",
    "# second, prepare text samples and their labels\n",
    "print('Processing text dataset')\n",
    "df_ess = pd.read_csv('../../Data/3 CSV Files/essays1.23.16.csv', sep='|')\n",
    "df_dem = pd.read_csv('../../Data/3 CSV Files/demog3.2.16.csv')\n",
    "df = create_dat(df_ess, df_dem)\n",
    "df.dropna(axis=0, subset=['corrected', 'Condition'], inplace=True)\n",
    "df['word_count'] = df.corrected.apply(lambda x: len(x.split()))\n",
    "print('Found %s total students' % len(df.ID.value_counts()))\n",
    "print(df.Gender.value_counts())\n",
    "print('mean essay length = %s' % np.mean(df.word_count))\n",
    "print('sd essay length = %s' % np.std(df.word_count))\n",
    "texts = []  # list of text samples\n",
    "labels_index = {}  # dictionary mapping label name to numeric id\n",
    "labels = []  # list of label ids\n",
    "labels_index['conm']=0\n",
    "labels_index['conf']=1\n",
    "labels_index['affm']=2\n",
    "labels_index['afff']=3\n",
    "texts = df[\"corrected\"].tolist()\n",
    "labelsType = df[\"Condition\"].tolist()\n",
    "labelsRace = df[\"Gender\"].tolist()\n",
    "labelsCombined=[]\n",
    "for i in range(len(labelsType)):\n",
    "    if labelsType[i]=='Control' and labelsRace[i]=='m':\n",
    "        labelsCombined.append(0)\n",
    "    elif labelsType[i]=='Control' and labelsRace[i]=='f':\n",
    "        labelsCombined.append(1)\n",
    "    elif labelsType[i]=='Treatment' and labelsRace[i]=='m':\n",
    "        labelsCombined.append(2)\n",
    "    elif labelsType[i]=='Treatment' and labelsRace[i]=='f':\n",
    "        labelsCombined.append(3)\n",
    "        \n",
    "print('Found %s texts.' % len(texts))\n",
    "\n",
    "# finally, vectorize the text samples into a 2D integer tensor\n",
    "tokenizer = Tokenizer(nb_words=MAX_NB_WORDS)\n",
    "tokenizer.fit_on_texts(texts)\n",
    "sequences = tokenizer.texts_to_sequences(texts)\n",
    "\n",
    "maxseqval=0\n",
    "for i in range(len(sequences)):\n",
    "    if len(sequences[i])>maxseqval:\n",
    "        maxseqval=len(sequences[i])\n",
    "        \n",
    "MAX_SEQUENCE_LENGTH = maxseqval\n",
    "\n",
    "word_index = tokenizer.word_index\n",
    "print('Found %s unique tokens.' % len(word_index))\n",
    "\n",
    "data = pad_sequences(sequences, maxlen=MAX_SEQUENCE_LENGTH)\n",
    "\n",
    "labels = to_categorical(np.asarray(labelsCombined))\n",
    "print('Shape of data tensor:', data.shape)\n",
    "print('Shape of label tensor:', labels.shape)\n",
    "\n",
    "# split the data into a training set and a validation set\n",
    "indices = np.arange(data.shape[0])\n",
    "np.random.shuffle(indices)\n",
    "data = data[indices]\n",
    "labels = labels[indices]\n",
    "VALIDATION_SPLIT = 0.15\n",
    "TEST_SPLIT = 0.15\n",
    "nb_test_samples = int(TEST_SPLIT * data.shape[0])\n",
    "nb_validation_samples = int(VALIDATION_SPLIT * (data.shape[0]-nb_test_samples))\n",
    "\n",
    "x_train = data[:-nb_validation_samples-nb_test_samples]\n",
    "y_train = labels[:-nb_validation_samples-nb_test_samples]\n",
    "x_val = data[-nb_validation_samples:]\n",
    "y_val = labels[-nb_validation_samples:]\n",
    "#y_val=np.swapaxes(np.tile(y_val, (MAX_SEQUENCE_LENGTH, 1, 1)),0,1)\n",
    "#y_train=np.swapaxes(np.tile(y_train, (MAX_SEQUENCE_LENGTH, 1, 1)),0,1)\n",
    "x_test = data[-nb_validation_samples-nb_test_samples:-nb_validation_samples]\n",
    "y_test = labels[-nb_validation_samples-nb_test_samples:-nb_validation_samples]\n",
    "\n",
    "textstest=[]\n",
    "textsshuff=[]\n",
    "for i in indices:\n",
    "  textsshuff.append(texts[i])\n",
    "index_word={}\n",
    "for i,x in word_index.items():\n",
    "    index_word[x]=i\n",
    "textstest=textsshuff[-nb_validation_samples-nb_test_samples:-nb_validation_samples]\n",
    "\n",
    "thefile = open('gendercleantimedistmodeltesttexts.txt', 'w')\n",
    "for item in textstest:\n",
    "  thefile.write(\"%s\\n\" % item)  \n",
    "\n",
    "np.save('gendercleantimedistmodelxtest.npy', x_test)\n",
    "np.save('gendercleantimedistmodelytest.npy', y_test)\n",
    "\n",
    "print('Shape of xtrain tensor:', x_train.shape)\n",
    "print('Shape of ytrain tensor:', y_train.shape)\n",
    "print('Shape of xval tensor:', x_val.shape)\n",
    "print('Shape of yval tensor:', y_val.shape)\n",
    "print('Shape of xtest tensor:', x_test.shape)\n",
    "print('Shape of ytest tensor:', y_test.shape)\n",
    "\n",
    "print('Preparing embedding matrix.')\n",
    "# prepare embedding matrix\n",
    "nb_words = min(MAX_NB_WORDS, len(word_index))\n",
    "embedding_matrix = np.zeros((nb_words + 1, EMBEDDING_DIM))\n",
    "for word, i in word_index.items():\n",
    "    if i > MAX_NB_WORDS:\n",
    "        continue\n",
    "    embedding_vector = embeddings_index.get(word)\n",
    "    if embedding_vector is not None:\n",
    "        # words not found in embedding index will be all-zeros.\n",
    "        embedding_matrix[i] = embedding_vector\n",
    "        \n",
    "# load pre-trained word embeddings into an Embedding layer\n",
    "# note that we set trainable = False so as to keep the embeddings fixed\n",
    "embedding_layer = Embedding(nb_words + 1,\n",
    "                            EMBEDDING_DIM,\n",
    "                            weights=[embedding_matrix],\n",
    "                            input_length=MAX_SEQUENCE_LENGTH,\n",
    "                            trainable=True)\n"
   ]
  },
  {
   "cell_type": "markdown",
   "metadata": {},
   "source": [
    "# Define and fit the model"
   ]
  },
  {
   "cell_type": "code",
   "execution_count": 9,
   "metadata": {
    "collapsed": false
   },
   "outputs": [
    {
     "name": "stdout",
     "output_type": "stream",
     "text": [
      "____________________________________________________________________________________________________\n",
      "Layer (type)                     Output Shape          Param #     Connected to                     \n",
      "====================================================================================================\n",
      "embedding_2 (Embedding)          (None, 208, 300)      1745100     embedding_input_1[0][0]          \n",
      "____________________________________________________________________________________________________\n",
      "dropout_1 (Dropout)              (None, 208, 300)      0           embedding_2[0][0]                \n",
      "____________________________________________________________________________________________________\n",
      "lstm_1 (LSTM)                    (None, 50)            70200       dropout_1[0][0]                  \n",
      "____________________________________________________________________________________________________\n",
      "dropout_2 (Dropout)              (None, 50)            0           lstm_1[0][0]                     \n",
      "____________________________________________________________________________________________________\n",
      "dense_1 (Dense)                  (None, 4)             204         dropout_2[0][0]                  \n",
      "====================================================================================================\n",
      "Total params: 1,815,504\n",
      "Trainable params: 1,815,504\n",
      "Non-trainable params: 0\n",
      "____________________________________________________________________________________________________\n",
      "None\n"
     ]
    }
   ],
   "source": [
    "from keras.datasets import imdb\n",
    "from keras.models import Sequential\n",
    "from keras.layers import Dense\n",
    "from keras.layers import LSTM\n",
    "from keras.layers import Dropout\n",
    "from keras.layers.embeddings import Embedding\n",
    "from keras.preprocessing import sequence\n",
    "from keras.models import load_model\n",
    "\n",
    "model = Sequential()\n",
    "model.add(Embedding(nb_words + 1,\n",
    "                            EMBEDDING_DIM,\n",
    "                            weights=[embedding_matrix],\n",
    "                            input_length=MAX_SEQUENCE_LENGTH,\n",
    "                            trainable=True,dropout=0.2))\n",
    "model.add(Dropout(0.5))\n",
    "model.add(LSTM(50))\n",
    "model.add(Dropout(0.5))\n",
    "model.add(Dense(len(labels_index), activation='softmax'))\n",
    "print(model.summary())"
   ]
  },
  {
   "cell_type": "code",
   "execution_count": 10,
   "metadata": {
    "collapsed": false,
    "scrolled": true
   },
   "outputs": [
    {
     "name": "stdout",
     "output_type": "stream",
     "text": [
      "Train on 4498 samples, validate on 793 samples\n",
      "Epoch 1/35\n",
      "4498/4498 [==============================] - 29s - loss: 1.2747 - precision: 0.4441 - recall: 0.0671 - fmeasure: 0.1092 - categorical_accuracy: 0.3519 - val_loss: 1.4805 - val_precision: 0.3794 - val_recall: 0.2573 - val_fmeasure: 0.3065 - val_categorical_accuracy: 0.3329\n",
      "Epoch 2/35\n",
      "4498/4498 [==============================] - 29s - loss: 1.0481 - precision: 0.5052 - recall: 0.2519 - fmeasure: 0.3337 - categorical_accuracy: 0.4651 - val_loss: 0.8832 - val_precision: 0.5164 - val_recall: 0.3972 - val_fmeasure: 0.4489 - val_categorical_accuracy: 0.5170\n",
      "Epoch 3/35\n",
      "4498/4498 [==============================] - 29s - loss: 0.9566 - precision: 0.5357 - recall: 0.3315 - fmeasure: 0.4086 - categorical_accuracy: 0.5044 - val_loss: 0.8839 - val_precision: 0.5219 - val_recall: 0.4338 - val_fmeasure: 0.4736 - val_categorical_accuracy: 0.5095\n",
      "Epoch 4/35\n",
      "4498/4498 [==============================] - 30s - loss: 0.9183 - precision: 0.5349 - recall: 0.3751 - fmeasure: 0.4403 - categorical_accuracy: 0.5067 - val_loss: 0.8044 - val_precision: 0.5555 - val_recall: 0.4603 - val_fmeasure: 0.5034 - val_categorical_accuracy: 0.5536\n",
      "Epoch 5/35\n",
      "4498/4498 [==============================] - 29s - loss: 0.8777 - precision: 0.5521 - recall: 0.4077 - fmeasure: 0.4686 - categorical_accuracy: 0.5213 - val_loss: 0.7650 - val_precision: 0.5760 - val_recall: 0.5221 - val_fmeasure: 0.5476 - val_categorical_accuracy: 0.5574\n",
      "Epoch 6/35\n",
      "4498/4498 [==============================] - 29s - loss: 0.8720 - precision: 0.5644 - recall: 0.4331 - fmeasure: 0.4896 - categorical_accuracy: 0.5369 - val_loss: 0.7701 - val_precision: 0.5719 - val_recall: 0.5183 - val_fmeasure: 0.5437 - val_categorical_accuracy: 0.5612\n",
      "Epoch 7/35\n",
      "4498/4498 [==============================] - 29s - loss: 0.8477 - precision: 0.5717 - recall: 0.4602 - fmeasure: 0.5097 - categorical_accuracy: 0.5469 - val_loss: 0.8558 - val_precision: 0.5374 - val_recall: 0.4994 - val_fmeasure: 0.5176 - val_categorical_accuracy: 0.5284\n",
      "Epoch 8/35\n",
      "4498/4498 [==============================] - 29s - loss: 0.8201 - precision: 0.5893 - recall: 0.4800 - fmeasure: 0.5287 - categorical_accuracy: 0.5638 - val_loss: 0.7467 - val_precision: 0.5989 - val_recall: 0.5725 - val_fmeasure: 0.5854 - val_categorical_accuracy: 0.5902\n",
      "Epoch 9/35\n",
      "4498/4498 [==============================] - 28s - loss: 0.7919 - precision: 0.6010 - recall: 0.5147 - fmeasure: 0.5543 - categorical_accuracy: 0.5763 - val_loss: 0.8063 - val_precision: 0.5914 - val_recall: 0.5662 - val_fmeasure: 0.5785 - val_categorical_accuracy: 0.5788\n",
      "Epoch 10/35\n",
      "4498/4498 [==============================] - 29s - loss: 0.7855 - precision: 0.5999 - recall: 0.5116 - fmeasure: 0.5520 - categorical_accuracy: 0.5876 - val_loss: 0.7613 - val_precision: 0.5778 - val_recall: 0.5511 - val_fmeasure: 0.5641 - val_categorical_accuracy: 0.5725\n",
      "Epoch 11/35\n",
      "4498/4498 [==============================] - 29s - loss: 0.7853 - precision: 0.6163 - recall: 0.5305 - fmeasure: 0.5699 - categorical_accuracy: 0.5927 - val_loss: 0.7718 - val_precision: 0.5810 - val_recall: 0.5561 - val_fmeasure: 0.5682 - val_categorical_accuracy: 0.5750\n",
      "Epoch 12/35\n",
      "4498/4498 [==============================] - 29s - loss: 0.7695 - precision: 0.6284 - recall: 0.5531 - fmeasure: 0.5881 - categorical_accuracy: 0.6092 - val_loss: 0.8257 - val_precision: 0.5902 - val_recall: 0.5448 - val_fmeasure: 0.5665 - val_categorical_accuracy: 0.5788\n",
      "Epoch 13/35\n",
      "4498/4498 [==============================] - 29s - loss: 0.7559 - precision: 0.6357 - recall: 0.5500 - fmeasure: 0.5895 - categorical_accuracy: 0.6085 - val_loss: 0.8029 - val_precision: 0.5541 - val_recall: 0.5347 - val_fmeasure: 0.5441 - val_categorical_accuracy: 0.5460\n",
      "Epoch 14/35\n",
      "4498/4498 [==============================] - 29s - loss: 0.7514 - precision: 0.6420 - recall: 0.5611 - fmeasure: 0.5985 - categorical_accuracy: 0.6205 - val_loss: 0.7361 - val_precision: 0.6026 - val_recall: 0.5889 - val_fmeasure: 0.5956 - val_categorical_accuracy: 0.6003\n",
      "Epoch 15/35\n",
      "4498/4498 [==============================] - 29s - loss: 0.7245 - precision: 0.6543 - recall: 0.5909 - fmeasure: 0.6209 - categorical_accuracy: 0.6376 - val_loss: 1.0282 - val_precision: 0.5467 - val_recall: 0.5120 - val_fmeasure: 0.5287 - val_categorical_accuracy: 0.5385\n",
      "Epoch 16/35\n",
      "4498/4498 [==============================] - 29s - loss: 0.7275 - precision: 0.6520 - recall: 0.5898 - fmeasure: 0.6192 - categorical_accuracy: 0.6305 - val_loss: 0.8281 - val_precision: 0.5750 - val_recall: 0.5561 - val_fmeasure: 0.5654 - val_categorical_accuracy: 0.5700\n",
      "Epoch 17/35\n",
      "4498/4498 [==============================] - 29s - loss: 0.7031 - precision: 0.6685 - recall: 0.6052 - fmeasure: 0.6351 - categorical_accuracy: 0.6472 - val_loss: 0.8728 - val_precision: 0.5736 - val_recall: 0.5549 - val_fmeasure: 0.5641 - val_categorical_accuracy: 0.5712\n",
      "Epoch 18/35\n",
      "4498/4498 [==============================] - 29s - loss: 0.7175 - precision: 0.6693 - recall: 0.5996 - fmeasure: 0.6323 - categorical_accuracy: 0.6525 - val_loss: 0.7514 - val_precision: 0.6227 - val_recall: 0.6078 - val_fmeasure: 0.6152 - val_categorical_accuracy: 0.6242\n",
      "Epoch 19/35\n",
      "4498/4498 [==============================] - 29s - loss: 0.6914 - precision: 0.6781 - recall: 0.6229 - fmeasure: 0.6492 - categorical_accuracy: 0.6596 - val_loss: 0.7630 - val_precision: 0.6225 - val_recall: 0.5965 - val_fmeasure: 0.6092 - val_categorical_accuracy: 0.6179\n",
      "Epoch 20/35\n",
      "4498/4498 [==============================] - 29s - loss: 0.6923 - precision: 0.6835 - recall: 0.6209 - fmeasure: 0.6505 - categorical_accuracy: 0.6645 - val_loss: 0.8173 - val_precision: 0.6061 - val_recall: 0.5889 - val_fmeasure: 0.5973 - val_categorical_accuracy: 0.6003\n",
      "Epoch 21/35\n",
      "4498/4498 [==============================] - 29s - loss: 0.6911 - precision: 0.6850 - recall: 0.6285 - fmeasure: 0.6554 - categorical_accuracy: 0.6685 - val_loss: 0.7300 - val_precision: 0.6202 - val_recall: 0.6015 - val_fmeasure: 0.6107 - val_categorical_accuracy: 0.6091\n",
      "Epoch 22/35\n",
      "4498/4498 [==============================] - 28s - loss: 0.6508 - precision: 0.7022 - recall: 0.6501 - fmeasure: 0.6750 - categorical_accuracy: 0.6847 - val_loss: 0.7211 - val_precision: 0.6186 - val_recall: 0.5990 - val_fmeasure: 0.6086 - val_categorical_accuracy: 0.6116\n",
      "Epoch 23/35\n",
      "4498/4498 [==============================] - 29s - loss: 0.6516 - precision: 0.6954 - recall: 0.6552 - fmeasure: 0.6746 - categorical_accuracy: 0.6796 - val_loss: 0.7785 - val_precision: 0.6302 - val_recall: 0.6192 - val_fmeasure: 0.6246 - val_categorical_accuracy: 0.6255\n",
      "Epoch 24/35\n",
      "4498/4498 [==============================] - 28s - loss: 0.6494 - precision: 0.7145 - recall: 0.6670 - fmeasure: 0.6898 - categorical_accuracy: 0.6959 - val_loss: 0.7471 - val_precision: 0.6244 - val_recall: 0.6015 - val_fmeasure: 0.6127 - val_categorical_accuracy: 0.6166\n",
      "Epoch 25/35\n",
      "4498/4498 [==============================] - 28s - loss: 0.6409 - precision: 0.7116 - recall: 0.6643 - fmeasure: 0.6870 - categorical_accuracy: 0.6981 - val_loss: 0.8095 - val_precision: 0.6141 - val_recall: 0.6003 - val_fmeasure: 0.6071 - val_categorical_accuracy: 0.6040\n",
      "Epoch 26/35\n",
      "4498/4498 [==============================] - 29s - loss: 0.6241 - precision: 0.7232 - recall: 0.6801 - fmeasure: 0.7008 - categorical_accuracy: 0.7061 - val_loss: 0.9145 - val_precision: 0.5935 - val_recall: 0.5876 - val_fmeasure: 0.5906 - val_categorical_accuracy: 0.5927\n",
      "Epoch 27/35\n",
      "4498/4498 [==============================] - 29s - loss: 0.6193 - precision: 0.7320 - recall: 0.6928 - fmeasure: 0.7118 - categorical_accuracy: 0.7194 - val_loss: 0.7971 - val_precision: 0.6130 - val_recall: 0.6015 - val_fmeasure: 0.6072 - val_categorical_accuracy: 0.6103\n",
      "Epoch 28/35\n",
      "4498/4498 [==============================] - 29s - loss: 0.6004 - precision: 0.7399 - recall: 0.7019 - fmeasure: 0.7203 - categorical_accuracy: 0.7270 - val_loss: 0.7936 - val_precision: 0.6220 - val_recall: 0.6078 - val_fmeasure: 0.6148 - val_categorical_accuracy: 0.6204\n",
      "Epoch 29/35\n",
      "4498/4498 [==============================] - 29s - loss: 0.6063 - precision: 0.7317 - recall: 0.6963 - fmeasure: 0.7135 - categorical_accuracy: 0.7181 - val_loss: 0.8241 - val_precision: 0.5906 - val_recall: 0.5826 - val_fmeasure: 0.5865 - val_categorical_accuracy: 0.5902\n",
      "Epoch 30/35\n",
      "4498/4498 [==============================] - 29s - loss: 0.5887 - precision: 0.7398 - recall: 0.7023 - fmeasure: 0.7205 - categorical_accuracy: 0.7254 - val_loss: 0.7945 - val_precision: 0.6225 - val_recall: 0.6091 - val_fmeasure: 0.6157 - val_categorical_accuracy: 0.6166\n",
      "Epoch 31/35\n",
      "4498/4498 [==============================] - 29s - loss: 0.5987 - precision: 0.7391 - recall: 0.7025 - fmeasure: 0.7203 - categorical_accuracy: 0.7232 - val_loss: 0.7676 - val_precision: 0.6338 - val_recall: 0.6154 - val_fmeasure: 0.6244 - val_categorical_accuracy: 0.6255\n",
      "Epoch 32/35\n",
      "4498/4498 [==============================] - 29s - loss: 0.5710 - precision: 0.7531 - recall: 0.7172 - fmeasure: 0.7347 - categorical_accuracy: 0.7394 - val_loss: 0.8791 - val_precision: 0.6237 - val_recall: 0.6141 - val_fmeasure: 0.6189 - val_categorical_accuracy: 0.6166\n",
      "Epoch 33/35\n",
      "4498/4498 [==============================] - 29s - loss: 0.5780 - precision: 0.7468 - recall: 0.7103 - fmeasure: 0.7280 - categorical_accuracy: 0.7312 - val_loss: 0.7889 - val_precision: 0.6253 - val_recall: 0.6103 - val_fmeasure: 0.6177 - val_categorical_accuracy: 0.6192\n",
      "Epoch 34/35\n",
      "4498/4498 [==============================] - 29s - loss: 0.5488 - precision: 0.7715 - recall: 0.7397 - fmeasure: 0.7552 - categorical_accuracy: 0.7597 - val_loss: 0.8978 - val_precision: 0.6027 - val_recall: 0.5889 - val_fmeasure: 0.5957 - val_categorical_accuracy: 0.5977\n",
      "Epoch 35/35\n",
      "4498/4498 [==============================] - 29s - loss: 0.5511 - precision: 0.7704 - recall: 0.7374 - fmeasure: 0.7535 - categorical_accuracy: 0.7574 - val_loss: 0.8811 - val_precision: 0.6050 - val_recall: 0.5952 - val_fmeasure: 0.6000 - val_categorical_accuracy: 0.6028\n"
     ]
    }
   ],
   "source": [
    "model.compile(loss='categorical_crossentropy', optimizer='rmsprop', metrics=[precision,recall,fmeasure,categorical_accuracy])\n",
    "bz=128\n",
    "model.fit(x_train, y_train, validation_data=(x_val, y_val),\n",
    "          nb_epoch=35, batch_size=bz)\n",
    "model.save_weights('../output/model_compfinalgendermodel_viktest.h5')"
   ]
  },
  {
   "cell_type": "markdown",
   "metadata": {},
   "source": [
    "# Jigger model and get predictions"
   ]
  },
  {
   "cell_type": "code",
   "execution_count": 19,
   "metadata": {
    "collapsed": false
   },
   "outputs": [
    {
     "name": "stdout",
     "output_type": "stream",
     "text": [
      "['dropout_6', 'timedistributed_2', 'dropout_4', 'embedding_3', 'lstm_4']\n",
      "____________________________________________________________________________________________________\n",
      "Layer (type)                     Output Shape          Param #     Connected to                     \n",
      "====================================================================================================\n",
      "embedding_3 (Embedding)          (None, 208, 300)      1745100     embedding_input_2[0][0]          \n",
      "____________________________________________________________________________________________________\n",
      "dropout_4 (Dropout)              (None, 208, 300)      0           embedding_3[0][0]                \n",
      "____________________________________________________________________________________________________\n",
      "lstm_4 (LSTM)                    (None, 208, 50)       70200       dropout_4[0][0]                  \n",
      "____________________________________________________________________________________________________\n",
      "dropout_6 (Dropout)              (None, 208, 50)       0           lstm_4[0][0]                     \n",
      "____________________________________________________________________________________________________\n",
      "timedistributed_2 (TimeDistribut (None, 208, 4)        204         dropout_6[0][0]                  \n",
      "====================================================================================================\n",
      "Total params: 1,815,504\n",
      "Trainable params: 1,815,504\n",
      "Non-trainable params: 0\n",
      "____________________________________________________________________________________________________\n"
     ]
    }
   ],
   "source": [
    "from keras.layers import TimeDistributed\n",
    "model.load_weights('../output/model_compfinalgendermodel.h5')\n",
    "layer_dict = dict([(layer.name, layer) for layer in model.layers])\n",
    "print(layer_dict.keys())\n",
    "model.summary()"
   ]
  },
  {
   "cell_type": "code",
   "execution_count": 13,
   "metadata": {
    "collapsed": false
   },
   "outputs": [
    {
     "name": "stdout",
     "output_type": "stream",
     "text": [
      "____________________________________________________________________________________________________\n",
      "Layer (type)                     Output Shape          Param #     Connected to                     \n",
      "====================================================================================================\n",
      "embedding_3 (Embedding)          (None, 208, 300)      1745100     embedding_input_2[0][0]          \n",
      "____________________________________________________________________________________________________\n",
      "dropout_4 (Dropout)              (None, 208, 300)      0           embedding_3[0][0]                \n",
      "____________________________________________________________________________________________________\n",
      "lstm_4 (LSTM)                    (None, 208, 50)       70200       dropout_4[0][0]                  \n",
      "____________________________________________________________________________________________________\n",
      "dropout_6 (Dropout)              (None, 208, 50)       0           lstm_4[0][0]                     \n",
      "____________________________________________________________________________________________________\n",
      "timedistributed_2 (TimeDistribut (None, 208, 4)        204         dropout_6[0][0]                  \n",
      "====================================================================================================\n",
      "Total params: 1,815,504\n",
      "Trainable params: 1,815,504\n",
      "Non-trainable params: 0\n",
      "____________________________________________________________________________________________________\n"
     ]
    }
   ],
   "source": [
    "#layer_dict['lstm_2'].get_weights()\n",
    "model = Sequential()\n",
    "model.add(Embedding(nb_words + 1,\n",
    "                            EMBEDDING_DIM,\n",
    "                            weights=[embedding_matrix],\n",
    "                            input_length=MAX_SEQUENCE_LENGTH,\n",
    "                            trainable=True,dropout=0.2))\n",
    "model.add(Dropout(0.5))\n",
    "model.add(LSTM(50))\n",
    "model.add(Dropout(0.5))\n",
    "model.add(Dense(len(labels_index), activation='softmax'))\n",
    "dens=layer_dict['dense_1'].get_weights()\n",
    "lstmw=layer_dict['lstm_1'].get_weights()\n",
    "model.pop()\n",
    "model.pop()\n",
    "model.pop()\n",
    "lstmout = LSTM(50,\n",
    "               return_sequences=True,\n",
    "               stateful=False,weights=lstmw)\n",
    "model.add(lstmout)\n",
    "model.add(Dropout(0.5))\n",
    "templayer=TimeDistributed(Dense(len(labels_index), activation='softmax',weights=dens))\n",
    "model.add(templayer)\n",
    "model.summary()"
   ]
  },
  {
   "cell_type": "code",
   "execution_count": 14,
   "metadata": {
    "collapsed": false
   },
   "outputs": [
    {
     "name": "stdout",
     "output_type": "stream",
     "text": [
      "933/933 [==============================] - 2s     \n"
     ]
    }
   ],
   "source": [
    "outgendernewviz=model.predict(x_test,verbose=1)\n",
    "np.save('../output/model_compfinalgenderdict.npy', index_word) \n",
    "np.save('../output/model_compfinalgenderdictinv.npy', word_index) \n",
    "np.save('../output/model_compfinalgenderoutput.npy', outgendernewviz) \n",
    "np.save('../output/model_compfinalgenderxtestdata.npy', x_test) \n",
    "np.save('../output/model_compfinalgenderytestdata.npy', y_test) \n",
    "thefile = open('../output/model_compfinalgendertextsinput.txt', 'w')\n",
    "for item in textstest:\n",
    "  thefile.write(\"%s\\n\" % item) "
   ]
  },
  {
   "cell_type": "code",
   "execution_count": 27,
   "metadata": {
    "collapsed": false
   },
   "outputs": [
    {
     "data": {
      "text/plain": [
       "0.63343691325879348"
      ]
     },
     "execution_count": 27,
     "metadata": {},
     "output_type": "execute_result"
    }
   ],
   "source": [
    "from sklearn.metrics import f1_score\n",
    "f1_score(np.argmax(y_test, axis=1), np.argmax(outgendernewviz[:, 207, :], axis=1), average='macro', pos_label=None)"
   ]
  },
  {
   "cell_type": "markdown",
   "metadata": {},
   "source": [
    "# Refit the model on the whole dataset"
   ]
  },
  {
   "cell_type": "code",
   "execution_count": 28,
   "metadata": {
    "collapsed": false
   },
   "outputs": [
    {
     "name": "stdout",
     "output_type": "stream",
     "text": [
      "Shape of xtrain tensor: (5291, 208)\n",
      "Shape of ytrain tensor: (5291, 4)\n",
      "Shape of xval tensor: (933, 208)\n",
      "Shape of yval tensor: (933, 4)\n",
      "Preparing embedding matrix.\n"
     ]
    }
   ],
   "source": [
    "# split the data into a training set and a validation set\n",
    "indices = np.arange(data.shape[0])\n",
    "np.random.shuffle(indices)\n",
    "data = data[indices]\n",
    "labels = labels[indices]\n",
    "x_train = data\n",
    "y_train = labels\n",
    "\n",
    "# split the data into a training set and a validation set\n",
    "indices = np.arange(data.shape[0])\n",
    "np.random.shuffle(indices)\n",
    "data = data[indices]\n",
    "labels = labels[indices]\n",
    "VALIDATION_SPLIT = 0.15\n",
    "nb_validation_samples = int(VALIDATION_SPLIT * data.shape[0])\n",
    "\n",
    "x_train = data[:-nb_validation_samples]\n",
    "y_train = labels[:-nb_validation_samples]\n",
    "x_val = data[-nb_validation_samples:]\n",
    "y_val = labels[-nb_validation_samples:]\n",
    "\n",
    "textstest=[]\n",
    "textsshuff=[]\n",
    "for i in indices:\n",
    "  textsshuff.append(texts[i])\n",
    "index_word={}\n",
    "for i,x in word_index.items():\n",
    "    index_word[x]=i\n",
    "textstest=textsshuff[-nb_validation_samples:-nb_validation_samples]\n",
    "\n",
    "thefile = open('gendercleantimedistmodeltesttexts.txt', 'w')\n",
    "for item in textstest:\n",
    "  thefile.write(\"%s\\n\" % item)  \n",
    "\n",
    "#np.save('gendercleantimedistmodelxtest.npy', x_test)\n",
    "#np.save('gendercleantimedistmodelytest.npy', y_test)\n",
    "\n",
    "print('Shape of xtrain tensor:', x_train.shape)\n",
    "print('Shape of ytrain tensor:', y_train.shape)\n",
    "print('Shape of xval tensor:', x_val.shape)\n",
    "print('Shape of yval tensor:', y_val.shape)\n",
    "#print('Shape of xtest tensor:', x_test.shape)\n",
    "#print('Shape of ytest tensor:', y_test.shape)\n",
    "\n",
    "print('Preparing embedding matrix.')\n",
    "# prepare embedding matrix\n",
    "nb_words = min(MAX_NB_WORDS, len(word_index))\n",
    "embedding_matrix = np.zeros((nb_words + 1, EMBEDDING_DIM))\n",
    "for word, i in word_index.items():\n",
    "    if i > MAX_NB_WORDS:\n",
    "        continue\n",
    "    embedding_vector = embeddings_index.get(word)\n",
    "    if embedding_vector is not None:\n",
    "        # words not found in embedding index will be all-zeros.\n",
    "        embedding_matrix[i] = embedding_vector\n",
    "        \n",
    "# load pre-trained word embeddings into an Embedding layer\n",
    "# note that we set trainable = False so as to keep the embeddings fixed\n",
    "embedding_layer = Embedding(nb_words + 1,\n",
    "                            EMBEDDING_DIM,\n",
    "                            weights=[embedding_matrix],\n",
    "                            input_length=MAX_SEQUENCE_LENGTH,\n",
    "                            trainable=True)"
   ]
  },
  {
   "cell_type": "markdown",
   "metadata": {},
   "source": [
    "# Next, we define the model"
   ]
  },
  {
   "cell_type": "code",
   "execution_count": 29,
   "metadata": {
    "collapsed": false
   },
   "outputs": [
    {
     "name": "stdout",
     "output_type": "stream",
     "text": [
      "____________________________________________________________________________________________________\n",
      "Layer (type)                     Output Shape          Param #     Connected to                     \n",
      "====================================================================================================\n",
      "embedding_5 (Embedding)          (None, 208, 300)      1745100     embedding_input_3[0][0]          \n",
      "____________________________________________________________________________________________________\n",
      "dropout_7 (Dropout)              (None, 208, 300)      0           embedding_5[0][0]                \n",
      "____________________________________________________________________________________________________\n",
      "lstm_5 (LSTM)                    (None, 50)            70200       dropout_7[0][0]                  \n",
      "____________________________________________________________________________________________________\n",
      "dropout_8 (Dropout)              (None, 50)            0           lstm_5[0][0]                     \n",
      "____________________________________________________________________________________________________\n",
      "dense_5 (Dense)                  (None, 4)             204         dropout_8[0][0]                  \n",
      "====================================================================================================\n",
      "Total params: 1,815,504\n",
      "Trainable params: 1,815,504\n",
      "Non-trainable params: 0\n",
      "____________________________________________________________________________________________________\n"
     ]
    }
   ],
   "source": [
    "from keras.datasets import imdb\n",
    "from keras.models import Sequential\n",
    "from keras.layers import Dense\n",
    "from keras.layers import LSTM\n",
    "from keras.layers import Dropout\n",
    "from keras.layers.embeddings import Embedding\n",
    "from keras.preprocessing import sequence\n",
    "from keras.models import load_model\n",
    "\n",
    "model = Sequential()\n",
    "model.add(Embedding(nb_words + 1,\n",
    "                            EMBEDDING_DIM,\n",
    "                            weights=[embedding_matrix],\n",
    "                            input_length=MAX_SEQUENCE_LENGTH,\n",
    "                            trainable=True,dropout=0.2))\n",
    "model.add(Dropout(0.5))\n",
    "model.add(LSTM(50))\n",
    "model.add(Dropout(0.5))\n",
    "model.add(Dense(len(labels_index), activation='softmax'))\n",
    "model.summary()"
   ]
  },
  {
   "cell_type": "markdown",
   "metadata": {},
   "source": [
    "# Fit the model\n",
    "\n",
    "I'm fitting it to all the data here, so as to make predictions using novel sentences"
   ]
  },
  {
   "cell_type": "code",
   "execution_count": 30,
   "metadata": {
    "collapsed": false,
    "scrolled": true
   },
   "outputs": [
    {
     "name": "stdout",
     "output_type": "stream",
     "text": [
      "____________________________________________________________________________________________________\n",
      "Layer (type)                     Output Shape          Param #     Connected to                     \n",
      "====================================================================================================\n",
      "embedding_5 (Embedding)          (None, 208, 300)      1745100     embedding_input_3[0][0]          \n",
      "____________________________________________________________________________________________________\n",
      "dropout_7 (Dropout)              (None, 208, 300)      0           embedding_5[0][0]                \n",
      "____________________________________________________________________________________________________\n",
      "lstm_5 (LSTM)                    (None, 50)            70200       dropout_7[0][0]                  \n",
      "____________________________________________________________________________________________________\n",
      "dropout_8 (Dropout)              (None, 50)            0           lstm_5[0][0]                     \n",
      "____________________________________________________________________________________________________\n",
      "dense_5 (Dense)                  (None, 4)             204         dropout_8[0][0]                  \n",
      "====================================================================================================\n",
      "Total params: 1,815,504\n",
      "Trainable params: 1,815,504\n",
      "Non-trainable params: 0\n",
      "____________________________________________________________________________________________________\n",
      "None\n",
      "Train on 5291 samples, validate on 933 samples\n",
      "Epoch 1/35\n",
      "5291/5291 [==============================] - 34s - loss: 1.2338 - precision: 0.4364 - recall: 0.1191 - fmeasure: 0.1731 - categorical_accuracy: 0.3786 - val_loss: 0.9656 - val_precision: 0.5715 - val_recall: 0.2862 - val_fmeasure: 0.3812 - val_categorical_accuracy: 0.5027\n",
      "Epoch 2/35\n",
      "5291/5291 [==============================] - 34s - loss: 0.9917 - precision: 0.5187 - recall: 0.3128 - fmeasure: 0.3889 - categorical_accuracy: 0.4861 - val_loss: 0.8420 - val_precision: 0.5833 - val_recall: 0.4169 - val_fmeasure: 0.4859 - val_categorical_accuracy: 0.5595\n",
      "Epoch 3/35\n",
      "5291/5291 [==============================] - 34s - loss: 0.9271 - precision: 0.5415 - recall: 0.3827 - fmeasure: 0.4477 - categorical_accuracy: 0.5156 - val_loss: 0.8119 - val_precision: 0.5752 - val_recall: 0.5005 - val_fmeasure: 0.5352 - val_categorical_accuracy: 0.5638\n",
      "Epoch 4/35\n",
      "5291/5291 [==============================] - 34s - loss: 0.8903 - precision: 0.5699 - recall: 0.4349 - fmeasure: 0.4929 - categorical_accuracy: 0.5417 - val_loss: 0.8298 - val_precision: 0.5920 - val_recall: 0.5284 - val_fmeasure: 0.5583 - val_categorical_accuracy: 0.5734\n",
      "Epoch 5/35\n",
      "5291/5291 [==============================] - 34s - loss: 0.8536 - precision: 0.5883 - recall: 0.4706 - fmeasure: 0.5226 - categorical_accuracy: 0.5577 - val_loss: 0.7751 - val_precision: 0.5834 - val_recall: 0.5477 - val_fmeasure: 0.5650 - val_categorical_accuracy: 0.5713\n",
      "Epoch 6/35\n",
      "5291/5291 [==============================] - 34s - loss: 0.8263 - precision: 0.5918 - recall: 0.5005 - fmeasure: 0.5421 - categorical_accuracy: 0.5713 - val_loss: 1.0742 - val_precision: 0.5074 - val_recall: 0.4791 - val_fmeasure: 0.4928 - val_categorical_accuracy: 0.4941\n",
      "Epoch 7/35\n",
      "5291/5291 [==============================] - 34s - loss: 0.8088 - precision: 0.6139 - recall: 0.5156 - fmeasure: 0.5602 - categorical_accuracy: 0.5867 - val_loss: 0.7627 - val_precision: 0.6014 - val_recall: 0.5745 - val_fmeasure: 0.5876 - val_categorical_accuracy: 0.5863\n",
      "Epoch 8/35\n",
      "5291/5291 [==============================] - 34s - loss: 0.7993 - precision: 0.6257 - recall: 0.5362 - fmeasure: 0.5773 - categorical_accuracy: 0.6012 - val_loss: 0.7973 - val_precision: 0.5853 - val_recall: 0.5563 - val_fmeasure: 0.5703 - val_categorical_accuracy: 0.5798\n",
      "Epoch 9/35\n",
      "5291/5291 [==============================] - 34s - loss: 0.7814 - precision: 0.6297 - recall: 0.5479 - fmeasure: 0.5857 - categorical_accuracy: 0.6080 - val_loss: 0.7859 - val_precision: 0.5772 - val_recall: 0.5541 - val_fmeasure: 0.5654 - val_categorical_accuracy: 0.5691\n",
      "Epoch 10/35\n",
      "5291/5291 [==============================] - 34s - loss: 0.7697 - precision: 0.6405 - recall: 0.5598 - fmeasure: 0.5973 - categorical_accuracy: 0.6152 - val_loss: 0.7713 - val_precision: 0.5890 - val_recall: 0.5702 - val_fmeasure: 0.5794 - val_categorical_accuracy: 0.5831\n",
      "Epoch 11/35\n",
      "5291/5291 [==============================] - 34s - loss: 0.7413 - precision: 0.6492 - recall: 0.5861 - fmeasure: 0.6159 - categorical_accuracy: 0.6273 - val_loss: 0.8005 - val_precision: 0.6025 - val_recall: 0.5766 - val_fmeasure: 0.5892 - val_categorical_accuracy: 0.5927\n",
      "Epoch 12/35\n",
      "5291/5291 [==============================] - 34s - loss: 0.7349 - precision: 0.6584 - recall: 0.5904 - fmeasure: 0.6224 - categorical_accuracy: 0.6394 - val_loss: 0.7680 - val_precision: 0.6071 - val_recall: 0.5798 - val_fmeasure: 0.5931 - val_categorical_accuracy: 0.6045\n",
      "Epoch 13/35\n",
      "5291/5291 [==============================] - 34s - loss: 0.7187 - precision: 0.6638 - recall: 0.6037 - fmeasure: 0.6322 - categorical_accuracy: 0.6456 - val_loss: 0.7586 - val_precision: 0.6117 - val_recall: 0.5938 - val_fmeasure: 0.6026 - val_categorical_accuracy: 0.6056\n",
      "Epoch 14/35\n",
      "5291/5291 [==============================] - 34s - loss: 0.7204 - precision: 0.6698 - recall: 0.6141 - fmeasure: 0.6406 - categorical_accuracy: 0.6526 - val_loss: 0.7763 - val_precision: 0.6106 - val_recall: 0.5938 - val_fmeasure: 0.6020 - val_categorical_accuracy: 0.6013\n",
      "Epoch 15/35\n",
      "5291/5291 [==============================] - 34s - loss: 0.6969 - precision: 0.6794 - recall: 0.6288 - fmeasure: 0.6530 - categorical_accuracy: 0.6657 - val_loss: 0.8489 - val_precision: 0.5408 - val_recall: 0.5295 - val_fmeasure: 0.5350 - val_categorical_accuracy: 0.5370\n",
      "Epoch 16/35\n",
      "5291/5291 [==============================] - 34s - loss: 0.7067 - precision: 0.6838 - recall: 0.6277 - fmeasure: 0.6544 - categorical_accuracy: 0.6660 - val_loss: 0.7555 - val_precision: 0.6236 - val_recall: 0.6109 - val_fmeasure: 0.6172 - val_categorical_accuracy: 0.6206\n",
      "Epoch 17/35\n",
      "5291/5291 [==============================] - 34s - loss: 0.7177 - precision: 0.6839 - recall: 0.6301 - fmeasure: 0.6558 - categorical_accuracy: 0.6649 - val_loss: 0.7932 - val_precision: 0.6036 - val_recall: 0.5874 - val_fmeasure: 0.5953 - val_categorical_accuracy: 0.5981\n",
      "Epoch 18/35\n",
      "5291/5291 [==============================] - 34s - loss: 0.7029 - precision: 0.6807 - recall: 0.6229 - fmeasure: 0.6503 - categorical_accuracy: 0.6621 - val_loss: 0.7602 - val_precision: 0.6346 - val_recall: 0.6174 - val_fmeasure: 0.6258 - val_categorical_accuracy: 0.6259\n",
      "Epoch 19/35\n",
      "5291/5291 [==============================] - 34s - loss: 0.6632 - precision: 0.7029 - recall: 0.6538 - fmeasure: 0.6773 - categorical_accuracy: 0.6859 - val_loss: 0.8076 - val_precision: 0.6104 - val_recall: 0.5981 - val_fmeasure: 0.6042 - val_categorical_accuracy: 0.6002\n",
      "Epoch 20/35\n",
      "5291/5291 [==============================] - 34s - loss: 0.6483 - precision: 0.7102 - recall: 0.6636 - fmeasure: 0.6860 - categorical_accuracy: 0.6908 - val_loss: 0.7669 - val_precision: 0.6169 - val_recall: 0.6034 - val_fmeasure: 0.6101 - val_categorical_accuracy: 0.6120\n",
      "Epoch 21/35\n",
      "5291/5291 [==============================] - 34s - loss: 0.6475 - precision: 0.7103 - recall: 0.6691 - fmeasure: 0.6889 - categorical_accuracy: 0.6944 - val_loss: 0.8511 - val_precision: 0.5945 - val_recall: 0.5831 - val_fmeasure: 0.5887 - val_categorical_accuracy: 0.5884\n",
      "Epoch 22/35\n",
      "5291/5291 [==============================] - 34s - loss: 0.6296 - precision: 0.7239 - recall: 0.6842 - fmeasure: 0.7034 - categorical_accuracy: 0.7080 - val_loss: 0.8147 - val_precision: 0.5954 - val_recall: 0.5798 - val_fmeasure: 0.5875 - val_categorical_accuracy: 0.5906\n",
      "Epoch 23/35\n",
      "5291/5291 [==============================] - 34s - loss: 0.6200 - precision: 0.7315 - recall: 0.6912 - fmeasure: 0.7107 - categorical_accuracy: 0.7157 - val_loss: 0.8527 - val_precision: 0.5958 - val_recall: 0.5863 - val_fmeasure: 0.5910 - val_categorical_accuracy: 0.5927\n",
      "Epoch 24/35\n",
      "5291/5291 [==============================] - 34s - loss: 0.6037 - precision: 0.7443 - recall: 0.7076 - fmeasure: 0.7254 - categorical_accuracy: 0.7282 - val_loss: 0.8705 - val_precision: 0.5902 - val_recall: 0.5756 - val_fmeasure: 0.5828 - val_categorical_accuracy: 0.5895\n",
      "Epoch 25/35\n",
      "5291/5291 [==============================] - 34s - loss: 0.6069 - precision: 0.7362 - recall: 0.6982 - fmeasure: 0.7166 - categorical_accuracy: 0.7190 - val_loss: 0.8305 - val_precision: 0.6096 - val_recall: 0.5970 - val_fmeasure: 0.6032 - val_categorical_accuracy: 0.6045\n",
      "Epoch 26/35\n",
      "5291/5291 [==============================] - 34s - loss: 0.5822 - precision: 0.7510 - recall: 0.7150 - fmeasure: 0.7325 - categorical_accuracy: 0.7377 - val_loss: 0.8925 - val_precision: 0.6068 - val_recall: 0.5938 - val_fmeasure: 0.6002 - val_categorical_accuracy: 0.5970\n",
      "Epoch 27/35\n",
      "5291/5291 [==============================] - 34s - loss: 0.5888 - precision: 0.7473 - recall: 0.7099 - fmeasure: 0.7280 - categorical_accuracy: 0.7329 - val_loss: 0.8446 - val_precision: 0.6055 - val_recall: 0.5938 - val_fmeasure: 0.5996 - val_categorical_accuracy: 0.5981\n",
      "Epoch 28/35\n",
      "5291/5291 [==============================] - 34s - loss: 0.5814 - precision: 0.7522 - recall: 0.7159 - fmeasure: 0.7335 - categorical_accuracy: 0.7365 - val_loss: 0.9360 - val_precision: 0.6004 - val_recall: 0.5831 - val_fmeasure: 0.5916 - val_categorical_accuracy: 0.5906\n",
      "Epoch 29/35\n",
      "5291/5291 [==============================] - 34s - loss: 0.5596 - precision: 0.7631 - recall: 0.7322 - fmeasure: 0.7472 - categorical_accuracy: 0.7492 - val_loss: 0.8650 - val_precision: 0.6065 - val_recall: 0.5927 - val_fmeasure: 0.5995 - val_categorical_accuracy: 0.6002\n",
      "Epoch 30/35\n",
      "5291/5291 [==============================] - 34s - loss: 0.5456 - precision: 0.7718 - recall: 0.7390 - fmeasure: 0.7550 - categorical_accuracy: 0.7575 - val_loss: 0.8987 - val_precision: 0.6022 - val_recall: 0.5895 - val_fmeasure: 0.5958 - val_categorical_accuracy: 0.5949\n",
      "Epoch 31/35\n",
      "5291/5291 [==============================] - 34s - loss: 0.5383 - precision: 0.7746 - recall: 0.7420 - fmeasure: 0.7579 - categorical_accuracy: 0.7603 - val_loss: 0.8778 - val_precision: 0.5952 - val_recall: 0.5852 - val_fmeasure: 0.5901 - val_categorical_accuracy: 0.5959\n",
      "Epoch 32/35\n",
      "5291/5291 [==============================] - 34s - loss: 0.5436 - precision: 0.7770 - recall: 0.7456 - fmeasure: 0.7609 - categorical_accuracy: 0.7660 - val_loss: 0.8853 - val_precision: 0.6002 - val_recall: 0.5863 - val_fmeasure: 0.5931 - val_categorical_accuracy: 0.5927\n",
      "Epoch 33/35\n",
      "5291/5291 [==============================] - 34s - loss: 0.5309 - precision: 0.7757 - recall: 0.7467 - fmeasure: 0.7609 - categorical_accuracy: 0.7634 - val_loss: 0.8809 - val_precision: 0.6017 - val_recall: 0.5916 - val_fmeasure: 0.5966 - val_categorical_accuracy: 0.5970\n",
      "Epoch 34/35\n",
      "5291/5291 [==============================] - 34s - loss: 0.5224 - precision: 0.7775 - recall: 0.7475 - fmeasure: 0.7621 - categorical_accuracy: 0.7677 - val_loss: 0.9048 - val_precision: 0.6066 - val_recall: 0.5970 - val_fmeasure: 0.6018 - val_categorical_accuracy: 0.6002\n",
      "Epoch 35/35\n",
      "5291/5291 [==============================] - 34s - loss: 0.5177 - precision: 0.7875 - recall: 0.7552 - fmeasure: 0.7710 - categorical_accuracy: 0.7721 - val_loss: 0.8899 - val_precision: 0.6006 - val_recall: 0.5906 - val_fmeasure: 0.5955 - val_categorical_accuracy: 0.5959\n"
     ]
    }
   ],
   "source": [
    "model.compile(loss='categorical_crossentropy', optimizer='rmsprop', metrics=[precision,recall,fmeasure,categorical_accuracy])\n",
    "print(model.summary())\n",
    "bz=128\n",
    "model.fit(x_train, y_train, validation_data=(x_val, y_val),\n",
    "          nb_epoch=35, batch_size=bz)\n",
    "model.save_weights('../output/full_finalgendermodel.h5')"
   ]
  },
  {
   "cell_type": "markdown",
   "metadata": {},
   "source": [
    "# Next, restructure the model to make predictions"
   ]
  },
  {
   "cell_type": "code",
   "execution_count": 31,
   "metadata": {
    "collapsed": false
   },
   "outputs": [
    {
     "name": "stdout",
     "output_type": "stream",
     "text": [
      "____________________________________________________________________________________________________\n",
      "Layer (type)                     Output Shape          Param #     Connected to                     \n",
      "====================================================================================================\n",
      "embedding_5 (Embedding)          (None, 208, 300)      1745100     embedding_input_3[0][0]          \n",
      "____________________________________________________________________________________________________\n",
      "dropout_7 (Dropout)              (None, 208, 300)      0           embedding_5[0][0]                \n",
      "____________________________________________________________________________________________________\n",
      "lstm_5 (LSTM)                    (None, 50)            70200       dropout_7[0][0]                  \n",
      "____________________________________________________________________________________________________\n",
      "dropout_8 (Dropout)              (None, 50)            0           lstm_5[0][0]                     \n",
      "____________________________________________________________________________________________________\n",
      "dense_5 (Dense)                  (None, 4)             204         dropout_8[0][0]                  \n",
      "====================================================================================================\n",
      "Total params: 1,815,504\n",
      "Trainable params: 1,815,504\n",
      "Non-trainable params: 0\n",
      "____________________________________________________________________________________________________\n"
     ]
    },
    {
     "data": {
      "text/plain": [
       "['embedding_5', 'dropout_8', 'lstm_5', 'dense_5', 'dropout_7']"
      ]
     },
     "execution_count": 31,
     "metadata": {},
     "output_type": "execute_result"
    }
   ],
   "source": [
    "from keras.layers import TimeDistributed\n",
    "model.load_weights('../output/full_finalgendermodel.h5')\n",
    "model.summary()\n",
    "layer_dict = dict([(layer.name, layer) for layer in model.layers])\n",
    "layer_dict.keys()"
   ]
  },
  {
   "cell_type": "code",
   "execution_count": 32,
   "metadata": {
    "collapsed": false
   },
   "outputs": [
    {
     "name": "stdout",
     "output_type": "stream",
     "text": [
      "____________________________________________________________________________________________________\n",
      "Layer (type)                     Output Shape          Param #     Connected to                     \n",
      "====================================================================================================\n",
      "embedding_6 (Embedding)          (None, 208, 300)      1745100     embedding_input_4[0][0]          \n",
      "____________________________________________________________________________________________________\n",
      "dropout_9 (Dropout)              (None, 208, 300)      0           embedding_6[0][0]                \n",
      "____________________________________________________________________________________________________\n",
      "lstm_7 (LSTM)                    (None, 208, 50)       70200       dropout_9[0][0]                  \n",
      "____________________________________________________________________________________________________\n",
      "dropout_11 (Dropout)             (None, 208, 50)       0           lstm_7[0][0]                     \n",
      "____________________________________________________________________________________________________\n",
      "timedistributed_3 (TimeDistribut (None, 208, 4)        204         dropout_11[0][0]                 \n",
      "====================================================================================================\n",
      "Total params: 1,815,504\n",
      "Trainable params: 1,815,504\n",
      "Non-trainable params: 0\n",
      "____________________________________________________________________________________________________\n"
     ]
    }
   ],
   "source": [
    "model = Sequential()\n",
    "model.add(Embedding(nb_words + 1,\n",
    "                            EMBEDDING_DIM,\n",
    "                            weights=[embedding_matrix],\n",
    "                            input_length=MAX_SEQUENCE_LENGTH,\n",
    "                            trainable=True,dropout=0.2))\n",
    "model.add(Dropout(0.5))\n",
    "model.add(LSTM(50))\n",
    "model.add(Dropout(0.5))\n",
    "model.add(Dense(len(labels_index), activation='softmax'))\n",
    "dens=layer_dict['dense_5'].get_weights()\n",
    "lstmw=layer_dict['lstm_5'].get_weights()\n",
    "model.pop()\n",
    "model.pop()\n",
    "model.pop()\n",
    "lstmout = LSTM(50,\n",
    "               return_sequences=True,\n",
    "               stateful=False,weights=lstmw)\n",
    "model.add(lstmout)\n",
    "model.add(Dropout(0.5))\n",
    "templayer=TimeDistributed(Dense(len(labels_index), activation='softmax',weights=dens))\n",
    "model.add(templayer)\n",
    "model.summary()"
   ]
  },
  {
   "cell_type": "markdown",
   "metadata": {},
   "source": [
    "# Here, I make some novel sentences to pass to the network\n",
    "(Justification with relationships)"
   ]
  },
  {
   "cell_type": "code",
   "execution_count": 33,
   "metadata": {
    "collapsed": false
   },
   "outputs": [
    {
     "data": {
      "text/plain": [
       "(221, 3)"
      ]
     },
     "execution_count": 33,
     "metadata": {},
     "output_type": "execute_result"
    }
   ],
   "source": [
    "import itertools\n",
    "texts = ['Athletic ability is important to me because ', \n",
    "         'Art is important to me because ', \n",
    "         'Being smart is important to me because ', \n",
    "         'Getting good grades is important to me because ', \n",
    "         'Creativity is important to me because ', \n",
    "         'Independence is important to me because ', \n",
    "         'Social groups are important to me because ', \n",
    "         'Music is important to me because ', \n",
    "         'Politics is important to me because ', \n",
    "         'Relationships is important to me because ', \n",
    "         'Religion is important to me because ', \n",
    "         'Sense of humor is important to me because ', \n",
    "         'Living in the moment is important to me because ']\n",
    "\n",
    "justification = ['my friends', 'my family', 'my grandparents', 'my parents', 'my teacher', \n",
    "                 'my friend', 'my dad', 'my mom', 'my sister', 'my brother', \n",
    "                 'my mother', 'my father', 'my cousin', 'my aunt', 'my uncle', 'my grandmother',\n",
    "                'my grandfather']\n",
    "\n",
    "\n",
    "a = list(itertools.product(texts, justification))\n",
    "combos = []\n",
    "value = []\n",
    "just = []\n",
    "for i in a:\n",
    "    combos.append(i[0]+i[1])\n",
    "    value.append(i[0].split()[0])\n",
    "    just.append(i[1].split()[1])\n",
    "df = pd.DataFrame({'text':combos,\n",
    "                  'value':value,\n",
    "                  'justification':just})\n",
    "df.shape"
   ]
  },
  {
   "cell_type": "markdown",
   "metadata": {},
   "source": [
    "# Make predictions and save important bits"
   ]
  },
  {
   "cell_type": "code",
   "execution_count": 34,
   "metadata": {
    "collapsed": false,
    "scrolled": true
   },
   "outputs": [
    {
     "name": "stdout",
     "output_type": "stream",
     "text": [
      "221/221 [==============================] - 0s     \n"
     ]
    }
   ],
   "source": [
    "test_seq = tokenizer.texts_to_sequences(combos)\n",
    "full_dat = pad_sequences(test_seq, maxlen=MAX_SEQUENCE_LENGTH)\n",
    "preds = model.predict(full_dat, verbose=1)\n",
    "word_index = tokenizer.word_index\n",
    "index_word={}\n",
    "for i,x in word_index.items():\n",
    "    index_word[x]=i\n",
    "np.save('../output/testsentiw_just.npy', index_word)\n",
    "np.save('../output/testsentiw_inv_just.npy', word_index)\n",
    "np.save('../output/testsentpreds_just.npy', preds)\n",
    "np.save('../output/testsentxdat_just.npy', full_dat)\n",
    "np.save('../output/testdat_just.npy', df)"
   ]
  },
  {
   "cell_type": "markdown",
   "metadata": {},
   "source": [
    "# Here, I make some novel sentences to pass to the network\n",
    "(Justification with the self)"
   ]
  },
  {
   "cell_type": "code",
   "execution_count": 35,
   "metadata": {
    "collapsed": false
   },
   "outputs": [],
   "source": [
    "texts = ['Athletic ability is important to me because ', \n",
    "         'Art is important to me because ', \n",
    "         'Being smart is important to me because ', \n",
    "         'Getting good grades is important to me because ', \n",
    "         'Creativity is important to me because ', \n",
    "         'Independence is important to me because ', \n",
    "         'Social groups are important to me because ', \n",
    "         'Music is important to me because ', \n",
    "         'Politics is important to me because ', \n",
    "         'Relationships is important to me because ', \n",
    "         'Religion is important to me because ', \n",
    "         'Sense of humor is important to me because ', \n",
    "         'Living in the moment is important to me because ']\n",
    "\n",
    "justification = ['I want', 'I need', 'I will', 'I have', 'I can', \n",
    "                 'I feel', 'I should', 'I would', 'I hope', 'I am', \n",
    "                 'I get', 'I might', 'I use', 'I like', 'I take', \n",
    "                 'I know', 'I love']\n",
    "\n",
    "\n",
    "a = list(itertools.product(texts, justification))\n",
    "combos = []\n",
    "value = []\n",
    "just = []\n",
    "for i in a:\n",
    "    combos.append(i[0]+i[1])\n",
    "    value.append(i[0].split()[0])\n",
    "    just.append(i[1].split()[1])\n",
    "df = pd.DataFrame({'text':combos,\n",
    "                  'value':value,\n",
    "                  'justification':just})"
   ]
  },
  {
   "cell_type": "markdown",
   "metadata": {},
   "source": [
    "# Make predictions and save important bits"
   ]
  },
  {
   "cell_type": "code",
   "execution_count": 36,
   "metadata": {
    "collapsed": false,
    "scrolled": true
   },
   "outputs": [
    {
     "name": "stdout",
     "output_type": "stream",
     "text": [
      "221/221 [==============================] - 0s     \n"
     ]
    }
   ],
   "source": [
    "test_seq = tokenizer.texts_to_sequences(combos)\n",
    "full_dat = pad_sequences(test_seq, maxlen=MAX_SEQUENCE_LENGTH)\n",
    "preds = model.predict(full_dat, verbose=1)\n",
    "word_index = tokenizer.word_index\n",
    "index_word={}\n",
    "for i,x in word_index.items():\n",
    "    index_word[x]=i\n",
    "np.save('../output/testsentiw_justself.npy', index_word)\n",
    "np.save('../output/testsentiw_inv_justself.npy', word_index)\n",
    "np.save('../output/testsentpreds_justself.npy', preds)\n",
    "np.save('../output/testsentxdat_justself.npy', full_dat)\n",
    "np.save('../output/testdat_justself.npy', df)"
   ]
  },
  {
   "cell_type": "markdown",
   "metadata": {},
   "source": [
    "# Below here is other stuff not in the paper"
   ]
  },
  {
   "cell_type": "markdown",
   "metadata": {},
   "source": [
    "## Here, I make some novel sentences to pass to the network\n",
    "(social words)"
   ]
  },
  {
   "cell_type": "code",
   "execution_count": 17,
   "metadata": {
    "collapsed": false,
    "scrolled": true
   },
   "outputs": [],
   "source": [
    "import spacy\n",
    "nlp = spacy.load('en')"
   ]
  },
  {
   "cell_type": "code",
   "execution_count": 69,
   "metadata": {
    "collapsed": false
   },
   "outputs": [],
   "source": [
    "df = pd.read_csv('../../liwcpy/liwc-dict/Social.csv', header=None, names=['word'], encoding='UTF-8')\n",
    "df = df[~df.word.str.contains('\\*')]"
   ]
  },
  {
   "cell_type": "code",
   "execution_count": 70,
   "metadata": {
    "collapsed": false
   },
   "outputs": [],
   "source": [
    "df['pos'] = df['word'].apply(lambda x: nlp(x)[0].pos_)\n",
    "df['lemma'] = df['word'].apply(lambda x: nlp(x)[0].lemma_)\n",
    "\n",
    "df['sent'] = 'These values are important because my'\n",
    "df.sent.loc[df.pos=='VERB'] = 'These values'\n",
    "df.sent.loc[df.pos=='PRON'] = 'These values are important to'\n",
    "df.sent.loc[df.pos=='ADJ'] = 'These values are important because my'\n",
    "df.sent.loc[df.pos=='INTJ'] = ''\n",
    "df.sent.loc[df.pos=='ADV'] = 'These values are important because my'\n",
    "df['test_sent'] = df.sent+' '+df.word\n",
    "df['sent_wo'] = 'These values are important because without my'\n",
    "df.sent_wo.loc[df.pos=='VERB'] = 'These values don\\'t' \n",
    "df.sent_wo.loc[df.pos=='PRON'] = 'These values are not important to'\n",
    "df.sent_wo.loc[df.pos=='ADJ'] = 'These values are important because without my'\n",
    "df.sent_wo.loc[df.pos=='INTJ'] = ''\n",
    "df.sent_wo.loc[df.pos=='ADV'] = 'These values are important because without my'\n",
    "df['test_sent_wo'] = df.sent_wo+' '+df.lemma\n",
    "df.test_sent_wo.loc[df.pos=='PRON'] = df.sent_wo + ' ' + df.word"
   ]
  },
  {
   "cell_type": "markdown",
   "metadata": {},
   "source": [
    "## Make predictions and save important bits"
   ]
  },
  {
   "cell_type": "code",
   "execution_count": 71,
   "metadata": {
    "collapsed": false
   },
   "outputs": [
    {
     "name": "stdout",
     "output_type": "stream",
     "text": [
      "259/259 [==============================] - 1s     \n",
      "259/259 [==============================] - 0s     \n"
     ]
    }
   ],
   "source": [
    "subdat = df.drop_duplicates(subset='test_sent')\n",
    "subdat['test_sent'] = subdat['test_sent'].apply(lambda x: str(x))\n",
    "test_seq = tokenizer.texts_to_sequences(subdat['test_sent'])\n",
    "full_dat = pad_sequences(test_seq, maxlen=MAX_SEQUENCE_LENGTH)\n",
    "preds = model.predict(full_dat, verbose=1)\n",
    "word_index = tokenizer.word_index\n",
    "index_word={}\n",
    "for i,x in word_index.items():\n",
    "    index_word[x]=i\n",
    "np.save('testsentiw_soc.npy', index_word)\n",
    "np.save('testsentiw_inv_soc.npy', word_index)\n",
    "np.save('testsentpreds_soc.npy', preds)\n",
    "np.save('testsentxdat_soc.npy', full_dat)\n",
    "np.save('testdat_soc.npy', subdat)\n",
    "\n",
    "subdat['test_sent_wo'] = subdat['test_sent_wo'].apply(lambda x: str(x))\n",
    "test_seq = tokenizer.texts_to_sequences(subdat['test_sent_wo'])\n",
    "full_dat = pad_sequences(test_seq, maxlen=MAX_SEQUENCE_LENGTH)\n",
    "preds_wo = model.predict(full_dat, verbose=1)\n",
    "word_index_wo = tokenizer.word_index\n",
    "index_word_wo={}\n",
    "for i,x in word_index_wo.items():\n",
    "    index_word_wo[x]=i\n",
    "np.save('testsentiw_wo_soc.npy', index_word_wo)\n",
    "np.save('testsentiw_inv_wo_soc.npy', word_index_wo)\n",
    "np.save('testsentpreds_wo_soc.npy', preds_wo)\n",
    "np.save('testsentxdat_wo_soc.npy', full_dat)"
   ]
  },
  {
   "cell_type": "markdown",
   "metadata": {},
   "source": [
    "## Here, I make some novel sentences to pass to the network\n",
    "(positive emotion words)"
   ]
  },
  {
   "cell_type": "code",
   "execution_count": 73,
   "metadata": {
    "collapsed": false
   },
   "outputs": [],
   "source": [
    "df = pd.read_csv('../../liwcpy/liwc-dict/Posemo.csv', header=None, names=['word'], encoding='UTF-8')"
   ]
  },
  {
   "cell_type": "code",
   "execution_count": 74,
   "metadata": {
    "collapsed": false
   },
   "outputs": [],
   "source": [
    "df = df[~df.word.str.contains('\\*')]"
   ]
  },
  {
   "cell_type": "code",
   "execution_count": 75,
   "metadata": {
    "collapsed": false
   },
   "outputs": [],
   "source": [
    "#df[df.word.str.contains('\\*')]\n",
    "df['pos'] = df['word'].apply(lambda x: nlp(x)[0].pos_)\n",
    "df['lemma'] = df['word'].apply(lambda x: nlp(x)[0].lemma_)\n",
    "\n",
    "df['sent'] = 'These values are important because my'\n",
    "df.sent.loc[df.pos=='VERB'] = 'These values'\n",
    "df.sent.loc[df.pos=='PRON'] = 'These values are important to'\n",
    "df.sent.loc[df.pos=='ADJ'] = 'These values are important because my'\n",
    "df.sent.loc[df.pos=='INTJ'] = ''\n",
    "df.sent.loc[df.pos=='ADV'] = 'These values are important because my'\n",
    "df['test_sent'] = df.sent+' '+df.word\n",
    "df['sent_wo'] = 'These values are important because without my'\n",
    "df.sent_wo.loc[df.pos=='VERB'] = 'These values don\\'t' \n",
    "df.sent_wo.loc[df.pos=='PRON'] = 'These values are not important to'\n",
    "df.sent_wo.loc[df.pos=='ADJ'] = 'These values are important because without my'\n",
    "df.sent_wo.loc[df.pos=='INTJ'] = ''\n",
    "df.sent_wo.loc[df.pos=='ADV'] = 'These values are important because without my'\n",
    "df['test_sent_wo'] = df.sent_wo+' '+df.lemma\n",
    "df.test_sent_wo.loc[df.pos=='PRON'] = df.sent_wo + ' ' + df.word"
   ]
  },
  {
   "cell_type": "markdown",
   "metadata": {},
   "source": [
    "## Make predictions and save important bits"
   ]
  },
  {
   "cell_type": "code",
   "execution_count": 76,
   "metadata": {
    "collapsed": false
   },
   "outputs": [
    {
     "name": "stdout",
     "output_type": "stream",
     "text": [
      "159/159 [==============================] - 0s     \n",
      "159/159 [==============================] - 0s     \n"
     ]
    }
   ],
   "source": [
    "subdat = df.drop_duplicates(subset='test_sent')\n",
    "subdat['test_sent'] = subdat['test_sent'].apply(lambda x: str(x))\n",
    "test_seq = tokenizer.texts_to_sequences(subdat['test_sent'])\n",
    "full_dat = pad_sequences(test_seq, maxlen=MAX_SEQUENCE_LENGTH)\n",
    "preds = model.predict(full_dat, verbose=1)\n",
    "word_index = tokenizer.word_index\n",
    "index_word={}\n",
    "for i,x in word_index.items():\n",
    "    index_word[x]=i\n",
    "np.save('testsentiw_posem.npy', index_word)\n",
    "np.save('testsentiw_inv_posem.npy', word_index)\n",
    "np.save('testsentpreds_posem.npy', preds)\n",
    "np.save('testsentxdat_posem.npy', full_dat)\n",
    "np.save('testdat_posem.npy', subdat)\n",
    "\n",
    "subdat['test_sent_wo'] = subdat['test_sent_wo'].apply(lambda x: str(x))\n",
    "test_seq = tokenizer.texts_to_sequences(subdat['test_sent_wo'])\n",
    "full_dat = pad_sequences(test_seq, maxlen=MAX_SEQUENCE_LENGTH)\n",
    "preds_wo = model.predict(full_dat, verbose=1)\n",
    "word_index_wo = tokenizer.word_index\n",
    "index_word_wo={}\n",
    "for i,x in word_index_wo.items():\n",
    "    index_word_wo[x]=i\n",
    "np.save('testsentiw_wo_posem.npy', index_word_wo)\n",
    "np.save('testsentiw_inv_wo_posem.npy', word_index_wo)\n",
    "np.save('testsentpreds_wo_posem.npy', preds_wo)\n",
    "np.save('testsentxdat_wo_posem.npy', full_dat)"
   ]
  },
  {
   "cell_type": "markdown",
   "metadata": {},
   "source": [
    "## Here, I make some novel sentences to pass to the network\n",
    "(Negative emotion words)"
   ]
  },
  {
   "cell_type": "code",
   "execution_count": 77,
   "metadata": {
    "collapsed": false
   },
   "outputs": [],
   "source": [
    "df = pd.read_csv('../../liwcpy/liwc-dict/Negemo.csv', header=None, names=['word'], encoding='UTF-8')"
   ]
  },
  {
   "cell_type": "code",
   "execution_count": 78,
   "metadata": {
    "collapsed": false
   },
   "outputs": [],
   "source": [
    "df = df[~df.word.str.contains('\\*')]"
   ]
  },
  {
   "cell_type": "code",
   "execution_count": 79,
   "metadata": {
    "collapsed": false
   },
   "outputs": [],
   "source": [
    "#df[df.word.str.contains('\\*')]\n",
    "df['pos'] = df['word'].apply(lambda x: nlp(x)[0].pos_)\n",
    "df['lemma'] = df['word'].apply(lambda x: nlp(x)[0].lemma_)\n",
    "\n",
    "df['sent'] = 'These values are important because my'\n",
    "df.sent.loc[df.pos=='VERB'] = 'These values'\n",
    "df.sent.loc[df.pos=='PRON'] = 'These values are important to'\n",
    "df.sent.loc[df.pos=='ADJ'] = 'These values are important because my'\n",
    "df.sent.loc[df.pos=='INTJ'] = ''\n",
    "df.sent.loc[df.pos=='ADV'] = 'These values are important because my'\n",
    "df['test_sent'] = df.sent+' '+df.word\n",
    "df['sent_wo'] = 'These values are important because without my'\n",
    "df.sent_wo.loc[df.pos=='VERB'] = 'These values don\\'t' \n",
    "df.sent_wo.loc[df.pos=='PRON'] = 'These values are not important to'\n",
    "df.sent_wo.loc[df.pos=='ADJ'] = 'These values are important because without my'\n",
    "df.sent_wo.loc[df.pos=='INTJ'] = ''\n",
    "df.sent_wo.loc[df.pos=='ADV'] = 'These values are important because without my'\n",
    "df['test_sent_wo'] = df.sent_wo+' '+df.lemma\n",
    "df.test_sent_wo.loc[df.pos=='PRON'] = df.sent_wo + ' ' + df.word"
   ]
  },
  {
   "cell_type": "markdown",
   "metadata": {},
   "source": [
    "## Make predictions and save important bits"
   ]
  },
  {
   "cell_type": "code",
   "execution_count": 80,
   "metadata": {
    "collapsed": false,
    "scrolled": true
   },
   "outputs": [
    {
     "name": "stdout",
     "output_type": "stream",
     "text": [
      "150/150 [==============================] - 0s     \n",
      "150/150 [==============================] - 0s     \n"
     ]
    }
   ],
   "source": [
    "subdat = df.drop_duplicates(subset='test_sent')\n",
    "subdat['test_sent'] = subdat['test_sent'].apply(lambda x: str(x))\n",
    "test_seq = tokenizer.texts_to_sequences(subdat['test_sent'])\n",
    "full_dat = pad_sequences(test_seq, maxlen=MAX_SEQUENCE_LENGTH)\n",
    "preds = model.predict(full_dat, verbose=1)\n",
    "word_index = tokenizer.word_index\n",
    "index_word={}\n",
    "for i,x in word_index.items():\n",
    "    index_word[x]=i\n",
    "np.save('testsentiw_negem.npy', index_word)\n",
    "np.save('testsentiw_inv_negem.npy', word_index)\n",
    "np.save('testsentpreds_negem.npy', preds)\n",
    "np.save('testsentxdat_negem.npy', full_dat)\n",
    "np.save('testdat_negem.npy', subdat)\n",
    "\n",
    "subdat['test_sent_wo'] = subdat['test_sent_wo'].apply(lambda x: str(x))\n",
    "test_seq = tokenizer.texts_to_sequences(subdat['test_sent_wo'])\n",
    "full_dat = pad_sequences(test_seq, maxlen=MAX_SEQUENCE_LENGTH)\n",
    "preds_wo = model.predict(full_dat, verbose=1)\n",
    "word_index_wo = tokenizer.word_index\n",
    "index_word_wo={}\n",
    "for i,x in word_index_wo.items():\n",
    "    index_word_wo[x]=i\n",
    "np.save('testsentiw_wo_negem.npy', index_word_wo)\n",
    "np.save('testsentiw_inv_wo_negem.npy', word_index_wo)\n",
    "np.save('testsentpreds_wo_negem.npy', preds_wo)\n",
    "np.save('testsentxdat_wo_negem.npy', full_dat)"
   ]
  },
  {
   "cell_type": "markdown",
   "metadata": {},
   "source": [
    "## Here, I make some novel sentences to pass to the network\n",
    "(Value-specific sentences)"
   ]
  },
  {
   "cell_type": "code",
   "execution_count": 81,
   "metadata": {
    "collapsed": false
   },
   "outputs": [],
   "source": [
    "texts = ['Athletic ability is important to me', \n",
    "         'Art is important to me', \n",
    "         'Being smart is important to me', \n",
    "         'Getting good grades is important to me', \n",
    "         'Creativity is important to me', \n",
    "         'Independence is important to me', \n",
    "         'Social groups are important to me', \n",
    "         'Music is important to me', \n",
    "         'Politics is important to me', \n",
    "         'Relationships is important to me', \n",
    "         'Religion is important to me', \n",
    "         'Sense of humor is important to me', \n",
    "         'Living in the moment is important to me']\n",
    "\n",
    "val = ['Athletics', 'Art', 'Being Smart', 'Good Grades', 'Creativity', \n",
    "      'Independence', 'Social Groups', 'Music', 'Politics', 'Relationships',\n",
    "      'Religion', 'Sense of Humor', 'Living in the Moment']\n",
    "\n",
    "texts_not = ['Athletic ability is not important to me', \n",
    "         'Art is not important to me', \n",
    "         'Being smart is not important to me', \n",
    "         'Getting good grades is not important to me', \n",
    "         'Creativity is not important to me', \n",
    "         'Independence is not important to me', \n",
    "         'Social groups are not important to me', \n",
    "         'Music is not important to me', \n",
    "         'Politics is not important to me', \n",
    "         'Relationships is not important to me', \n",
    "         'Religion is not important to me', \n",
    "         'Sense of humor is not important to me', \n",
    "         'Living in the moment is not important to me']\n",
    "\n",
    "df = pd.DataFrame({'text':texts,\n",
    "                  'value':val})"
   ]
  },
  {
   "cell_type": "markdown",
   "metadata": {},
   "source": [
    "## Make predictions and save important bits"
   ]
  },
  {
   "cell_type": "code",
   "execution_count": 82,
   "metadata": {
    "collapsed": false,
    "scrolled": true
   },
   "outputs": [
    {
     "name": "stdout",
     "output_type": "stream",
     "text": [
      "13/13 [==============================] - 0s\n",
      "13/13 [==============================] - 0s\n"
     ]
    }
   ],
   "source": [
    "test_seq = tokenizer.texts_to_sequences(texts)\n",
    "full_dat = pad_sequences(test_seq, maxlen=MAX_SEQUENCE_LENGTH)\n",
    "preds = model.predict(full_dat, verbose=1)\n",
    "word_index = tokenizer.word_index\n",
    "index_word={}\n",
    "for i,x in word_index.items():\n",
    "    index_word[x]=i\n",
    "np.save('testsentiw_val.npy', index_word)\n",
    "np.save('testsentiw_inv_val.npy', word_index)\n",
    "np.save('testsentpreds_val.npy', preds)\n",
    "np.save('testsentxdat_val.npy', full_dat)\n",
    "np.save('testdat_val.npy', df)\n",
    "\n",
    "test_seq = tokenizer.texts_to_sequences(texts_not)\n",
    "full_dat = pad_sequences(test_seq, maxlen=MAX_SEQUENCE_LENGTH)\n",
    "preds_not = model.predict(full_dat, verbose=1)\n",
    "word_index_not = tokenizer.word_index\n",
    "index_word_not={}\n",
    "for i,x in word_index_not.items():\n",
    "    index_word_not[x]=i\n",
    "np.save('testsentiw_wo_val.npy', index_word_not)\n",
    "np.save('testsentiw_inv_wo_val.npy', word_index_not)\n",
    "np.save('testsentpreds_wo_val.npy', preds_not)\n",
    "np.save('testsentxdat_wo_val.npy', full_dat)"
   ]
  },
  {
   "cell_type": "code",
   "execution_count": 42,
   "metadata": {
    "collapsed": false
   },
   "outputs": [
    {
     "name": "stdout",
     "output_type": "stream",
     "text": [
      "13/13 [==============================] - 0s\n"
     ]
    }
   ],
   "source": [
    "texts = ['Athletic ability is important to me', \n",
    "         'Art is important to me', \n",
    "         'Being smart is important to me', \n",
    "         'Getting good grades is important to me', \n",
    "         'Creativity is important to me', \n",
    "         'Independence is important to me', \n",
    "         'Social groups are important to me', \n",
    "         'Music is important to me', \n",
    "         'Politics is important to me', \n",
    "         'Relationships is important to me', \n",
    "         'Religion is important to me', \n",
    "         'Sense of humor is important to me', \n",
    "         'Living in the moment is important to me']\n",
    "test_seq = tokenizer.texts_to_sequences(texts)\n",
    "full_dat = pad_sequences(test_seq, maxlen=MAX_SEQUENCE_LENGTH)\n",
    "preds = model.predict(full_dat, verbose=1)"
   ]
  },
  {
   "cell_type": "markdown",
   "metadata": {},
   "source": [
    "overleaf create project, add acl style file and start editing!"
   ]
  }
 ],
 "metadata": {
  "anaconda-cloud": {},
  "kernelspec": {
   "display_name": "Python 2",
   "language": "python",
   "name": "python2"
  },
  "language_info": {
   "codemirror_mode": {
    "name": "ipython",
    "version": 2
   },
   "file_extension": ".py",
   "mimetype": "text/x-python",
   "name": "python",
   "nbconvert_exporter": "python",
   "pygments_lexer": "ipython2",
   "version": "2.7.13"
  }
 },
 "nbformat": 4,
 "nbformat_minor": 1
}

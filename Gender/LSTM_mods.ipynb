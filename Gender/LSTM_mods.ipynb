{
 "cells": [
  {
   "cell_type": "code",
   "execution_count": 95,
   "metadata": {
    "collapsed": false
   },
   "outputs": [],
   "source": [
    "from __future__ import print_function\n",
    "import os\n",
    "import numpy as np\n",
    "np.random.seed(1337)\n",
    "__docformat__ = 'restructedtext en'\n",
    "import timeit\n",
    "import numpy\n",
    "import scipy.io\n",
    "\n",
    "from keras.preprocessing.text import Tokenizer\n",
    "from keras.preprocessing.sequence import pad_sequences\n",
    "from keras.utils.np_utils import to_categorical\n",
    "from keras.layers import Dense, Input, Flatten\n",
    "from keras.layers import Conv1D, MaxPooling1D, Embedding\n",
    "from keras.models import Model\n",
    "import sys\n",
    "BASE_DIR = '/Users/triddle/Documents/Gits/'\n",
    "GLOVE_DIR = BASE_DIR + '/Data/'\n",
    "#MAX_SEQUENCE_LENGTH = 210\n",
    "MAX_NB_WORDS = 20000\n",
    "EMBEDDING_DIM = 300\n",
    "VALIDATION_SPLIT = 0.2\n",
    "# first, build index mapping words in the embeddings set\n",
    "# to their embedding vector\n",
    "\n",
    "print('Indexing word vectors.')\n",
    "\n",
    "embeddings_index = {}\n",
    "f = open(os.path.join(GLOVE_DIR, 'glove.840B.300d.txt'))\n",
    "for line in f:\n",
    "    values = line.split()\n",
    "    word = values[0]\n",
    "    coefs = np.asarray(values[1:], dtype='float32')\n",
    "    embeddings_index[word] = coefs\n",
    "f.close()\n",
    "\n",
    "print('Found %s word vectors.' % len(embeddings_index))\n"
   ]
  },
  {
   "cell_type": "code",
   "execution_count": 96,
   "metadata": {
    "collapsed": false
   },
   "outputs": [],
   "source": [
    "# for custom metrics\n",
    "import keras.backend as K\n",
    "from keras.utils.generic_utils import get_from_module\n",
    "\n",
    "def categorical_accuracy(y_true, y_pred):\n",
    "    \"\"\"Categorical accuracy metric.\n",
    "\n",
    "    Computes the mean accuracy rate across all predictions for\n",
    "    multiclass classification problems.\n",
    "    \"\"\"\n",
    "    return K.mean(K.equal(K.argmax(y_true, axis=-1),\n",
    "                          K.argmax(y_pred, axis=-1)))\n",
    "\n",
    "\n",
    "def precision(y_true, y_pred):\n",
    "    \"\"\"Precision metric.\n",
    "\n",
    "    Only computes a batch-wise average of precision.\n",
    "\n",
    "    Computes the precision, a metric for multi-label classification of\n",
    "    how many selected items are relevant.\n",
    "    \"\"\"\n",
    "    true_positives = K.sum(K.round(K.clip(y_true * y_pred, 0, 1)))\n",
    "    predicted_positives = K.sum(K.round(K.clip(y_pred, 0, 1)))\n",
    "    precision = true_positives / (predicted_positives + K.epsilon())\n",
    "    return precision\n",
    "\n",
    "\n",
    "def recall(y_true, y_pred):\n",
    "    \"\"\"Recall metric.\n",
    "\n",
    "    Only computes a batch-wise average of recall.\n",
    "\n",
    "    Computes the recall, a metric for multi-label classification of\n",
    "    how many relevant items are selected.\n",
    "    \"\"\"\n",
    "    true_positives = K.sum(K.round(K.clip(y_true * y_pred, 0, 1)))\n",
    "    possible_positives = K.sum(K.round(K.clip(y_true, 0, 1)))\n",
    "    recall = true_positives / (possible_positives + K.epsilon())\n",
    "    return recall\n",
    "\n",
    "\n",
    "def fbeta_score(y_true, y_pred, beta=1):\n",
    "    \"\"\"Computes the F score.\n",
    "\n",
    "    The F score is the weighted harmonic mean of precision and recall.\n",
    "    Here it is only computed as a batch-wise average, not globally.\n",
    "\n",
    "    This is useful for multi-label classification, where input samples can be\n",
    "    classified as sets of labels. By only using accuracy (precision) a model\n",
    "    would achieve a perfect score by simply assigning every class to every\n",
    "    input. In order to avoid this, a metric should penalize incorrect class\n",
    "    assignments as well (recall). The F-beta score (ranged from 0.0 to 1.0)\n",
    "    computes this, as a weighted mean of the proportion of correct class\n",
    "    assignments vs. the proportion of incorrect class assignments.\n",
    "\n",
    "    With beta = 1, this is equivalent to a F-measure. With beta < 1, assigning\n",
    "    correct classes becomes more important, and with beta > 1 the metric is\n",
    "    instead weighted towards penalizing incorrect class assignments.\n",
    "    \"\"\"\n",
    "    if beta < 0:\n",
    "        raise ValueError('The lowest choosable beta is zero (only precision).')\n",
    "\n",
    "    # If there are no true positives, fix the F score at 0 like sklearn.\n",
    "    if K.sum(K.round(K.clip(y_true, 0, 1))) == 0:\n",
    "        return 0\n",
    "\n",
    "    p = precision(y_true, y_pred)\n",
    "    r = recall(y_true, y_pred)\n",
    "    bb = beta ** 2\n",
    "    fbeta_score = (1 + bb) * (p * r) / (bb * p + r + K.epsilon())\n",
    "    return fbeta_score\n",
    "\n",
    "\n",
    "def fmeasure(y_true, y_pred):\n",
    "    \"\"\"Computes the f-measure, the harmonic mean of precision and recall.\n",
    "\n",
    "    Here it is only computed as a batch-wise average, not globally.\n",
    "    \"\"\"\n",
    "    return fbeta_score(y_true, y_pred, beta=1)\n"
   ]
  },
  {
   "cell_type": "code",
   "execution_count": 97,
   "metadata": {
    "collapsed": true
   },
   "outputs": [],
   "source": [
    "def create_dat(df_ess, df_dem):\n",
    "    df_ess = df_ess[df_ess.Study=='Connecticut']\n",
    "    df_ess.Condition.replace(['c', 'c2', 'c1', 'c3', 'ca', 'cb', '3'], 'Control', inplace=True)\n",
    "    df_ess.Condition.replace(['t', 't2', 't3', 't1', '1', '2', 'ta', 'tb'], 'Treatment', inplace=True)\n",
    "    df_ess.Condition.replace(['c/t'], np.nan, inplace=True)\n",
    "    \n",
    "    df_dem = df_dem[df_dem.Study=='Connecticut']\n",
    "    df_dem.Ethnicity.replace('Asian', 'Asian American', inplace=True)\n",
    "    df_dem.Ethnicity.replace('Other/Mixed', 'Other', inplace=True)\n",
    "    df_dem = df_dem[['ID', 'Ethnicity', 'Gender']].dropna()\n",
    "    \n",
    "    outdat = pd.merge(df_ess[['ID', 'Intervention_number', 'Essay', 'Condition', 'Intervention_Date', 'corrected']], \n",
    "                    df_dem, how='left', on='ID').drop_duplicates()\n",
    "    \n",
    "    return(outdat)"
   ]
  },
  {
   "cell_type": "markdown",
   "metadata": {},
   "source": [
    "# Here, we're preparing the data"
   ]
  },
  {
   "cell_type": "code",
   "execution_count": 124,
   "metadata": {
    "collapsed": false
   },
   "outputs": [
    {
     "name": "stdout",
     "output_type": "stream",
     "text": [
      "Processing text dataset\n",
      "Found 1232 total students\n",
      "f    3315\n",
      "m    2909\n",
      "Name: Gender, dtype: int64\n",
      "Control      3473\n",
      "Treatment    2751\n",
      "Name: Condition, dtype: int64\n",
      "mean essay length = 42.8125\n",
      "sd essay length = 23.8684140013\n",
      "Found 6224 texts.\n",
      "Gender  Condition\n",
      "f       Control      1851\n",
      "        Treatment    1464\n",
      "m       Control      1622\n",
      "        Treatment    1287\n",
      "dtype: int64\n",
      "Found 5816 unique tokens.\n",
      "Shape of data tensor: (6224, 208)\n",
      "Shape of label tensor: (6224, 4)\n",
      "Shape of xtrain tensor: (5291, 208)\n",
      "Shape of ytrain tensor: (5291, 4)\n",
      "Shape of xtest tensor: (933, 208)\n",
      "Shape of ytest tensor: (933, 4)\n",
      "Preparing embedding matrix.\n"
     ]
    }
   ],
   "source": [
    "import pandas as pd\n",
    "import matplotlib\n",
    "from pandas import DataFrame, read_csv\n",
    "import matplotlib.pyplot as plt\n",
    "import pandas as pd #this is how I usually import pandas\n",
    "import sys #only needed to determine Python version number\n",
    "import matplotlib #only needed to determine Matplotlib version number\n",
    "import numpy as np\n",
    "# second, prepare text samples and their labels\n",
    "print('Processing text dataset')\n",
    "df_ess = pd.read_csv('../../Data/3 CSV Files/essays1.23.16.csv', sep='|')\n",
    "df_dem = pd.read_csv('../../Data/3 CSV Files/demog3.2.16.csv')\n",
    "df = create_dat(df_ess, df_dem)\n",
    "df.dropna(axis=0, subset=['corrected', 'Condition'], inplace=True)\n",
    "df['word_count'] = df.corrected.apply(lambda x: len(x.split()))\n",
    "print('Found %s total students' % len(df.ID.value_counts()))\n",
    "print(df.Gender.value_counts())\n",
    "print(df.Condition.value_counts())\n",
    "print('mean essay length = %s' % np.mean(df.word_count))\n",
    "print('sd essay length = %s' % np.std(df.word_count))\n",
    "texts = []  # list of text samples\n",
    "labels_index = {}  # dictionary mapping label name to numeric id\n",
    "labels = []  # list of label ids\n",
    "labels_index['conm']=0\n",
    "labels_index['conf']=1\n",
    "labels_index['affm']=2\n",
    "labels_index['afff']=3\n",
    "texts = df[\"corrected\"].tolist()\n",
    "labelsType = df[\"Condition\"].tolist()\n",
    "labelsRace = df[\"Gender\"].tolist()\n",
    "labelsCombined=[]\n",
    "for i in range(len(labelsType)):\n",
    "    if labelsType[i]=='Control' and labelsRace[i]=='m':\n",
    "        labelsCombined.append(0)\n",
    "    elif labelsType[i]=='Control' and labelsRace[i]=='f':\n",
    "        labelsCombined.append(1)\n",
    "    elif labelsType[i]=='Treatment' and labelsRace[i]=='m':\n",
    "        labelsCombined.append(2)\n",
    "    elif labelsType[i]=='Treatment' and labelsRace[i]=='f':\n",
    "        labelsCombined.append(3)\n",
    "        \n",
    "print('Found %s texts.' % len(texts))\n",
    "\n",
    "print(df.groupby(['Gender', 'Condition']).size())\n",
    "\n",
    "# finally, vectorize the text samples into a 2D integer tensor\n",
    "tokenizer = Tokenizer(nb_words=MAX_NB_WORDS)\n",
    "tokenizer.fit_on_texts(texts)\n",
    "sequences = tokenizer.texts_to_sequences(texts)\n",
    "\n",
    "maxseqval=0\n",
    "for i in range(len(sequences)):\n",
    "    if len(sequences[i])>maxseqval:\n",
    "        maxseqval=len(sequences[i])\n",
    "        \n",
    "MAX_SEQUENCE_LENGTH = maxseqval\n",
    "\n",
    "word_index = tokenizer.word_index\n",
    "print('Found %s unique tokens.' % len(word_index))\n",
    "\n",
    "data = pad_sequences(sequences, maxlen=MAX_SEQUENCE_LENGTH)\n",
    "\n",
    "labels = to_categorical(np.asarray(labelsCombined))\n",
    "print('Shape of data tensor:', data.shape)\n",
    "print('Shape of label tensor:', labels.shape)\n",
    "\n",
    "# split the data into a training set and a validation set\n",
    "indices = np.arange(data.shape[0])\n",
    "np.random.shuffle(indices)\n",
    "data = data[indices]\n",
    "labels = labels[indices]\n",
    "#VALIDATION_SPLIT = 0.15\n",
    "TEST_SPLIT = 0.15\n",
    "nb_test_samples = int(TEST_SPLIT * data.shape[0])\n",
    "#nb_validation_samples = int(VALIDATION_SPLIT * (data.shape[0]-nb_test_samples))\n",
    "\n",
    "x_train = data[:-nb_test_samples]\n",
    "y_train = labels[:-nb_test_samples]\n",
    "#x_val = data[-nb_validation_samples:]\n",
    "#y_val = labels[-nb_validation_samples:]\n",
    "#y_val=np.swapaxes(np.tile(y_val, (MAX_SEQUENCE_LENGTH, 1, 1)),0,1)\n",
    "#y_train=np.swapaxes(np.tile(y_train, (MAX_SEQUENCE_LENGTH, 1, 1)),0,1)\n",
    "x_test = data[:nb_test_samples]\n",
    "y_test = labels[:nb_test_samples]\n",
    "\n",
    "textstest=[]\n",
    "textsshuff=[]\n",
    "for i in indices:\n",
    "  textsshuff.append(texts[i])\n",
    "index_word={}\n",
    "for i,x in word_index.items():\n",
    "    index_word[x]=i\n",
    "textstest=textsshuff[:nb_test_samples]\n",
    "\n",
    "thefile = open('../output/gendercleantimedistmodeltesttexts.txt', 'w')\n",
    "for item in textstest:\n",
    "  thefile.write(\"%s\\n\" % item)  \n",
    "\n",
    "np.save('../output/gendercleantimedistmodelxtest.npy', x_test)\n",
    "np.save('../output/gendercleantimedistmodelytest.npy', y_test)\n",
    "\n",
    "print('Shape of xtrain tensor:', x_train.shape)\n",
    "print('Shape of ytrain tensor:', y_train.shape)\n",
    "#print('Shape of xval tensor:', x_val.shape)\n",
    "#print('Shape of yval tensor:', y_val.shape)\n",
    "print('Shape of xtest tensor:', x_test.shape)\n",
    "print('Shape of ytest tensor:', y_test.shape)\n",
    "\n",
    "print('Preparing embedding matrix.')\n",
    "# prepare embedding matrix\n",
    "nb_words = min(MAX_NB_WORDS, len(word_index))\n",
    "embedding_matrix = np.zeros((nb_words + 1, EMBEDDING_DIM))\n",
    "for word, i in word_index.items():\n",
    "    if i > MAX_NB_WORDS:\n",
    "        continue\n",
    "    embedding_vector = embeddings_index.get(word)\n",
    "    if embedding_vector is not None:\n",
    "        # words not found in embedding index will be all-zeros.\n",
    "        embedding_matrix[i] = embedding_vector\n",
    "        \n",
    "# load pre-trained word embeddings into an Embedding layer\n",
    "# note that we set trainable = False so as to keep the embeddings fixed\n",
    "embedding_layer = Embedding(nb_words + 1,\n",
    "                            EMBEDDING_DIM,\n",
    "                            weights=[embedding_matrix],\n",
    "                            input_length=MAX_SEQUENCE_LENGTH,\n",
    "                            trainable=True)\n"
   ]
  },
  {
   "cell_type": "markdown",
   "metadata": {},
   "source": [
    "# Define and fit the model"
   ]
  },
  {
   "cell_type": "code",
   "execution_count": 99,
   "metadata": {
    "collapsed": false
   },
   "outputs": [
    {
     "name": "stdout",
     "output_type": "stream",
     "text": [
      "____________________________________________________________________________________________________\n",
      "Layer (type)                     Output Shape          Param #     Connected to                     \n",
      "====================================================================================================\n",
      "embedding_24 (Embedding)         (None, 208, 300)      1745100     embedding_input_16[0][0]         \n",
      "____________________________________________________________________________________________________\n",
      "dropout_35 (Dropout)             (None, 208, 300)      0           embedding_24[0][0]               \n",
      "____________________________________________________________________________________________________\n",
      "lstm_20 (LSTM)                   (None, 50)            70200       dropout_35[0][0]                 \n",
      "____________________________________________________________________________________________________\n",
      "dropout_36 (Dropout)             (None, 50)            0           lstm_20[0][0]                    \n",
      "____________________________________________________________________________________________________\n",
      "dense_20 (Dense)                 (None, 4)             204         dropout_36[0][0]                 \n",
      "====================================================================================================\n",
      "Total params: 1,815,504\n",
      "Trainable params: 1,815,504\n",
      "Non-trainable params: 0\n",
      "____________________________________________________________________________________________________\n",
      "None\n"
     ]
    }
   ],
   "source": [
    "from keras.datasets import imdb\n",
    "from keras.models import Sequential\n",
    "from keras.layers import Dense\n",
    "from keras.layers import LSTM\n",
    "from keras.layers import Dropout\n",
    "from keras.layers.embeddings import Embedding\n",
    "from keras.preprocessing import sequence\n",
    "from keras.models import load_model\n",
    "\n",
    "model = Sequential()\n",
    "model.add(Embedding(nb_words + 1,\n",
    "                            EMBEDDING_DIM,\n",
    "                            weights=[embedding_matrix],\n",
    "                            input_length=MAX_SEQUENCE_LENGTH,\n",
    "                            trainable=True,dropout=0.2))\n",
    "model.add(Dropout(0.5))\n",
    "model.add(LSTM(50))\n",
    "model.add(Dropout(0.5))\n",
    "model.add(Dense(len(labels_index), activation='softmax'))\n",
    "print(model.summary())"
   ]
  },
  {
   "cell_type": "code",
   "execution_count": 100,
   "metadata": {
    "collapsed": false,
    "scrolled": true
   },
   "outputs": [
    {
     "name": "stdout",
     "output_type": "stream",
     "text": [
      "Epoch 1/35\n",
      "5291/5291 [==============================] - 30s - loss: 1.2543 - precision: 0.4767 - recall: 0.0866 - fmeasure: 0.1347 - categorical_accuracy: 0.3820    \n",
      "Epoch 2/35\n",
      "5291/5291 [==============================] - 30s - loss: 1.0220 - precision: 0.5124 - recall: 0.2797 - fmeasure: 0.3593 - categorical_accuracy: 0.4746    \n",
      "Epoch 3/35\n",
      "5291/5291 [==============================] - 31s - loss: 0.9412 - precision: 0.5440 - recall: 0.3733 - fmeasure: 0.4424 - categorical_accuracy: 0.5069    \n",
      "Epoch 4/35\n",
      "5291/5291 [==============================] - 32s - loss: 0.8868 - precision: 0.5637 - recall: 0.4245 - fmeasure: 0.4837 - categorical_accuracy: 0.5358    \n",
      "Epoch 5/35\n",
      "5291/5291 [==============================] - 32s - loss: 0.8960 - precision: 0.5743 - recall: 0.4404 - fmeasure: 0.4979 - categorical_accuracy: 0.5453    \n",
      "Epoch 6/35\n",
      "5291/5291 [==============================] - 30s - loss: 0.8432 - precision: 0.5869 - recall: 0.4716 - fmeasure: 0.5224 - categorical_accuracy: 0.5591    \n",
      "Epoch 7/35\n",
      "5291/5291 [==============================] - 30s - loss: 0.8166 - precision: 0.5942 - recall: 0.4952 - fmeasure: 0.5397 - categorical_accuracy: 0.5700    \n",
      "Epoch 8/35\n",
      "5291/5291 [==============================] - 31s - loss: 0.8043 - precision: 0.5924 - recall: 0.5020 - fmeasure: 0.5432 - categorical_accuracy: 0.5706    \n",
      "Epoch 9/35\n",
      "5291/5291 [==============================] - 30s - loss: 0.7803 - precision: 0.6085 - recall: 0.5294 - fmeasure: 0.5659 - categorical_accuracy: 0.5891    \n",
      "Epoch 10/35\n",
      "5291/5291 [==============================] - 31s - loss: 0.7642 - precision: 0.6324 - recall: 0.5534 - fmeasure: 0.5900 - categorical_accuracy: 0.6144    \n",
      "Epoch 11/35\n",
      "5291/5291 [==============================] - 31s - loss: 0.7726 - precision: 0.6209 - recall: 0.5455 - fmeasure: 0.5806 - categorical_accuracy: 0.6012    \n",
      "Epoch 12/35\n",
      "5291/5291 [==============================] - 31s - loss: 0.7507 - precision: 0.6340 - recall: 0.5636 - fmeasure: 0.5964 - categorical_accuracy: 0.6158    \n",
      "Epoch 13/35\n",
      "5291/5291 [==============================] - 31s - loss: 0.7488 - precision: 0.6378 - recall: 0.5623 - fmeasure: 0.5974 - categorical_accuracy: 0.6190    \n",
      "Epoch 14/35\n",
      "5291/5291 [==============================] - 32s - loss: 0.7189 - precision: 0.6585 - recall: 0.5927 - fmeasure: 0.6237 - categorical_accuracy: 0.6381    \n",
      "Epoch 15/35\n",
      "5291/5291 [==============================] - 32s - loss: 0.7061 - precision: 0.6656 - recall: 0.6057 - fmeasure: 0.6341 - categorical_accuracy: 0.6505    \n",
      "Epoch 16/35\n",
      "5291/5291 [==============================] - 32s - loss: 0.7082 - precision: 0.6675 - recall: 0.6141 - fmeasure: 0.6395 - categorical_accuracy: 0.6502    \n",
      "Epoch 17/35\n",
      "5291/5291 [==============================] - 31s - loss: 0.7035 - precision: 0.6799 - recall: 0.6243 - fmeasure: 0.6507 - categorical_accuracy: 0.6626    \n",
      "Epoch 18/35\n",
      "5291/5291 [==============================] - 32s - loss: 0.6841 - precision: 0.6907 - recall: 0.6330 - fmeasure: 0.6604 - categorical_accuracy: 0.6698    \n",
      "Epoch 19/35\n",
      "5291/5291 [==============================] - 32s - loss: 0.6758 - precision: 0.6957 - recall: 0.6396 - fmeasure: 0.6662 - categorical_accuracy: 0.6770    \n",
      "Epoch 20/35\n",
      "5291/5291 [==============================] - 31s - loss: 0.6576 - precision: 0.7011 - recall: 0.6572 - fmeasure: 0.6784 - categorical_accuracy: 0.6842    \n",
      "Epoch 21/35\n",
      "5291/5291 [==============================] - 31s - loss: 0.6486 - precision: 0.7115 - recall: 0.6623 - fmeasure: 0.6859 - categorical_accuracy: 0.6942    \n",
      "Epoch 22/35\n",
      "5291/5291 [==============================] - 31s - loss: 0.6393 - precision: 0.7143 - recall: 0.6685 - fmeasure: 0.6905 - categorical_accuracy: 0.6968    \n",
      "Epoch 23/35\n",
      "5291/5291 [==============================] - 31s - loss: 0.6315 - precision: 0.7114 - recall: 0.6685 - fmeasure: 0.6892 - categorical_accuracy: 0.6955    \n",
      "Epoch 24/35\n",
      "5291/5291 [==============================] - 31s - loss: 0.6290 - precision: 0.7241 - recall: 0.6806 - fmeasure: 0.7016 - categorical_accuracy: 0.7086    \n",
      "Epoch 25/35\n",
      "5291/5291 [==============================] - 31s - loss: 0.6149 - precision: 0.7229 - recall: 0.6806 - fmeasure: 0.7010 - categorical_accuracy: 0.7063    \n",
      "Epoch 26/35\n",
      "5291/5291 [==============================] - 32s - loss: 0.6094 - precision: 0.7305 - recall: 0.6885 - fmeasure: 0.7088 - categorical_accuracy: 0.7154    \n",
      "Epoch 27/35\n",
      "5291/5291 [==============================] - 31s - loss: 0.5983 - precision: 0.7474 - recall: 0.7053 - fmeasure: 0.7257 - categorical_accuracy: 0.7297    \n",
      "Epoch 28/35\n",
      "5291/5291 [==============================] - 32s - loss: 0.5843 - precision: 0.7413 - recall: 0.7025 - fmeasure: 0.7213 - categorical_accuracy: 0.7284    \n",
      "Epoch 29/35\n",
      "5291/5291 [==============================] - 31s - loss: 0.5655 - precision: 0.7560 - recall: 0.7210 - fmeasure: 0.7380 - categorical_accuracy: 0.7431    \n",
      "Epoch 30/35\n",
      "5291/5291 [==============================] - 31s - loss: 0.5776 - precision: 0.7470 - recall: 0.7106 - fmeasure: 0.7283 - categorical_accuracy: 0.7341    \n",
      "Epoch 31/35\n",
      "5291/5291 [==============================] - 31s - loss: 0.5603 - precision: 0.7607 - recall: 0.7278 - fmeasure: 0.7439 - categorical_accuracy: 0.7477    \n",
      "Epoch 32/35\n",
      "5291/5291 [==============================] - 31s - loss: 0.5487 - precision: 0.7647 - recall: 0.7311 - fmeasure: 0.7475 - categorical_accuracy: 0.7534    \n",
      "Epoch 33/35\n",
      "5291/5291 [==============================] - 32s - loss: 0.5467 - precision: 0.7659 - recall: 0.7329 - fmeasure: 0.7490 - categorical_accuracy: 0.7537    \n",
      "Epoch 34/35\n",
      "5291/5291 [==============================] - 33s - loss: 0.5384 - precision: 0.7689 - recall: 0.7384 - fmeasure: 0.7533 - categorical_accuracy: 0.7551    \n",
      "Epoch 35/35\n",
      "5291/5291 [==============================] - 32s - loss: 0.5362 - precision: 0.7743 - recall: 0.7426 - fmeasure: 0.7580 - categorical_accuracy: 0.7620    \n"
     ]
    }
   ],
   "source": [
    "model.compile(loss='categorical_crossentropy', optimizer='rmsprop', metrics=[precision,recall,fmeasure,categorical_accuracy])\n",
    "bz=128\n",
    "model.fit(x_train, y_train, \n",
    "          nb_epoch=35, batch_size=bz)\n",
    "model.save_weights('../output/model_compfinalgendermodel.h5')"
   ]
  },
  {
   "cell_type": "markdown",
   "metadata": {},
   "source": [
    "# Adjust model and get predictions"
   ]
  },
  {
   "cell_type": "code",
   "execution_count": 101,
   "metadata": {
    "collapsed": false
   },
   "outputs": [
    {
     "name": "stdout",
     "output_type": "stream",
     "text": [
      "['lstm_20', 'dense_20', 'embedding_24', 'dropout_36', 'dropout_35']\n",
      "____________________________________________________________________________________________________\n",
      "Layer (type)                     Output Shape          Param #     Connected to                     \n",
      "====================================================================================================\n",
      "embedding_24 (Embedding)         (None, 208, 300)      1745100     embedding_input_16[0][0]         \n",
      "____________________________________________________________________________________________________\n",
      "dropout_35 (Dropout)             (None, 208, 300)      0           embedding_24[0][0]               \n",
      "____________________________________________________________________________________________________\n",
      "lstm_20 (LSTM)                   (None, 50)            70200       dropout_35[0][0]                 \n",
      "____________________________________________________________________________________________________\n",
      "dropout_36 (Dropout)             (None, 50)            0           lstm_20[0][0]                    \n",
      "____________________________________________________________________________________________________\n",
      "dense_20 (Dense)                 (None, 4)             204         dropout_36[0][0]                 \n",
      "====================================================================================================\n",
      "Total params: 1,815,504\n",
      "Trainable params: 1,815,504\n",
      "Non-trainable params: 0\n",
      "____________________________________________________________________________________________________\n"
     ]
    }
   ],
   "source": [
    "from keras.layers import TimeDistributed\n",
    "model.load_weights('../output/model_compfinalgendermodel.h5')\n",
    "layer_dict = dict([(layer.name, layer) for layer in model.layers])\n",
    "print(layer_dict.keys())\n",
    "model.summary()"
   ]
  },
  {
   "cell_type": "code",
   "execution_count": 102,
   "metadata": {
    "collapsed": true
   },
   "outputs": [],
   "source": [
    "dens=layer_dict['dense_20'].get_weights()\n",
    "lstmw=layer_dict['lstm_20'].get_weights()"
   ]
  },
  {
   "cell_type": "code",
   "execution_count": 103,
   "metadata": {
    "collapsed": false
   },
   "outputs": [
    {
     "name": "stdout",
     "output_type": "stream",
     "text": [
      "____________________________________________________________________________________________________\n",
      "Layer (type)                     Output Shape          Param #     Connected to                     \n",
      "====================================================================================================\n",
      "embedding_25 (Embedding)         (None, 208, 300)      1745100     embedding_input_17[0][0]         \n",
      "____________________________________________________________________________________________________\n",
      "dropout_37 (Dropout)             (None, 208, 300)      0           embedding_25[0][0]               \n",
      "____________________________________________________________________________________________________\n",
      "lstm_21 (LSTM)                   (None, 208, 50)       70200       dropout_37[0][0]                 \n",
      "____________________________________________________________________________________________________\n",
      "dropout_38 (Dropout)             (None, 208, 50)       0           lstm_21[0][0]                    \n",
      "____________________________________________________________________________________________________\n",
      "timedistributed_9 (TimeDistribut (None, 208, 4)        204         dropout_38[0][0]                 \n",
      "====================================================================================================\n",
      "Total params: 1,815,504\n",
      "Trainable params: 1,815,504\n",
      "Non-trainable params: 0\n",
      "____________________________________________________________________________________________________\n"
     ]
    }
   ],
   "source": [
    "#layer_dict['lstm_2'].get_weights()\n",
    "model = Sequential()\n",
    "model.add(Embedding(nb_words + 1,\n",
    "                            EMBEDDING_DIM,\n",
    "                            weights=[embedding_matrix],\n",
    "                            input_length=MAX_SEQUENCE_LENGTH,\n",
    "                            trainable=True,dropout=0.2))\n",
    "model.add(Dropout(0.5))\n",
    "lstmout = LSTM(50,\n",
    "               return_sequences=True,\n",
    "               stateful=False,weights=lstmw)\n",
    "model.add(lstmout)\n",
    "model.add(Dropout(0.5))\n",
    "templayer=TimeDistributed(Dense(len(labels_index), activation='softmax',weights=dens))\n",
    "model.add(templayer)\n",
    "model.load_weights('../output/model_compfinalgendermodel.h5')\n",
    "model.summary()"
   ]
  },
  {
   "cell_type": "code",
   "execution_count": 104,
   "metadata": {
    "collapsed": false
   },
   "outputs": [
    {
     "name": "stdout",
     "output_type": "stream",
     "text": [
      "933/933 [==============================] - 2s     \n"
     ]
    }
   ],
   "source": [
    "outgendernewviz=model.predict(x_test,verbose=1)\n",
    "np.save('../output/model_compfinalgenderdict.npy', index_word) \n",
    "np.save('../output/model_compfinalgenderdictinv.npy', word_index) \n",
    "np.save('../output/model_compfinalgenderoutput.npy', outgendernewviz) \n",
    "np.save('../output/model_compfinalgenderxtestdata.npy', x_test) \n",
    "np.save('../output/model_compfinalgenderytestdata.npy', y_test) \n",
    "thefile = open('../output/model_compfinalgendertextsinput.txt', 'w')\n",
    "for item in textstest:\n",
    "  thefile.write(\"%s\\n\" % item) "
   ]
  },
  {
   "cell_type": "code",
   "execution_count": 105,
   "metadata": {
    "collapsed": false
   },
   "outputs": [
    {
     "data": {
      "text/plain": [
       "0.85138832960220401"
      ]
     },
     "execution_count": 105,
     "metadata": {},
     "output_type": "execute_result"
    }
   ],
   "source": [
    "from sklearn.metrics import f1_score\n",
    "f1_score(np.argmax(y_test, axis=1), np.argmax(outgendernewviz[:, 207, :], axis=1), average='macro', pos_label=None)"
   ]
  },
  {
   "cell_type": "code",
   "execution_count": 106,
   "metadata": {
    "collapsed": false
   },
   "outputs": [
    {
     "name": "stdout",
     "output_type": "stream",
     "text": [
      "1/1 [==============================] - 0s\n"
     ]
    }
   ],
   "source": [
    "#flute prediction\n",
    "essay = ['They are important because I like listening to music and playing my flute. I like having friends and I also enjoy being funny sometimes.']\n",
    "test_seq = tokenizer.texts_to_sequences(essay)\n",
    "full_dat = pad_sequences(test_seq, maxlen=MAX_SEQUENCE_LENGTH)\n",
    "preds = model.predict(full_dat, verbose=1)\n",
    "word_index = tokenizer.word_index\n",
    "index_word={}\n",
    "for i,x in word_index.items():\n",
    "    index_word[x]=i\n",
    "np.save('../output/flute_iw.npy', index_word)\n",
    "np.save('../output/flute_iw_inv.npy', word_index)\n",
    "np.save('../output/flute_preds.npy', preds)\n",
    "np.save('../output/flute_xdat.npy', full_dat)\n",
    "#np.save('../output/testdat_just.npy', df)"
   ]
  },
  {
   "cell_type": "markdown",
   "metadata": {},
   "source": [
    "# Refit the model on the whole dataset"
   ]
  },
  {
   "cell_type": "code",
   "execution_count": 108,
   "metadata": {
    "collapsed": false
   },
   "outputs": [
    {
     "name": "stdout",
     "output_type": "stream",
     "text": [
      "Shape of xtrain tensor: (6224, 208)\n",
      "Shape of ytrain tensor: (6224, 4)\n",
      "Preparing embedding matrix.\n"
     ]
    }
   ],
   "source": [
    "# split the data into a training set and a validation set\n",
    "indices = np.arange(data.shape[0])\n",
    "np.random.shuffle(indices)\n",
    "data = data[indices]\n",
    "labels = labels[indices]\n",
    "x_train = data\n",
    "y_train = labels\n",
    "\n",
    "# split the data into a training set and a validation set\n",
    "indices = np.arange(data.shape[0])\n",
    "np.random.shuffle(indices)\n",
    "data = data[indices]\n",
    "labels = labels[indices]\n",
    "#VALIDATION_SPLIT = 0.15\n",
    "#nb_validation_samples = int(VALIDATION_SPLIT * data.shape[0])\n",
    "\n",
    "x_train = data\n",
    "y_train = labels\n",
    "\n",
    "textstest=[]\n",
    "textsshuff=[]\n",
    "for i in indices:\n",
    "  textsshuff.append(texts[i])\n",
    "index_word={}\n",
    "for i,x in word_index.items():\n",
    "    index_word[x]=i\n",
    "textstest=textsshuff\n",
    "\n",
    "thefile = open('gendercleantimedistmodeltesttexts.txt', 'w')\n",
    "for item in textstest:\n",
    "  thefile.write(\"%s\\n\" % item)  \n",
    "\n",
    "#np.save('gendercleantimedistmodelxtest.npy', x_test)\n",
    "#np.save('gendercleantimedistmodelytest.npy', y_test)\n",
    "\n",
    "print('Shape of xtrain tensor:', x_train.shape)\n",
    "print('Shape of ytrain tensor:', y_train.shape)\n",
    "#print('Shape of xval tensor:', x_val.shape)\n",
    "#print('Shape of yval tensor:', y_val.shape)\n",
    "#print('Shape of xtest tensor:', x_test.shape)\n",
    "#print('Shape of ytest tensor:', y_test.shape)\n",
    "\n",
    "print('Preparing embedding matrix.')\n",
    "# prepare embedding matrix\n",
    "nb_words = min(MAX_NB_WORDS, len(word_index))\n",
    "embedding_matrix = np.zeros((nb_words + 1, EMBEDDING_DIM))\n",
    "for word, i in word_index.items():\n",
    "    if i > MAX_NB_WORDS:\n",
    "        continue\n",
    "    embedding_vector = embeddings_index.get(word)\n",
    "    if embedding_vector is not None:\n",
    "        # words not found in embedding index will be all-zeros.\n",
    "        embedding_matrix[i] = embedding_vector\n",
    "        \n",
    "# load pre-trained word embeddings into an Embedding layer\n",
    "# note that we set trainable = False so as to keep the embeddings fixed\n",
    "embedding_layer = Embedding(nb_words + 1,\n",
    "                            EMBEDDING_DIM,\n",
    "                            weights=[embedding_matrix],\n",
    "                            input_length=MAX_SEQUENCE_LENGTH,\n",
    "                            trainable=True)"
   ]
  },
  {
   "cell_type": "markdown",
   "metadata": {},
   "source": [
    "# Next, we define the model"
   ]
  },
  {
   "cell_type": "code",
   "execution_count": 109,
   "metadata": {
    "collapsed": false
   },
   "outputs": [
    {
     "name": "stdout",
     "output_type": "stream",
     "text": [
      "____________________________________________________________________________________________________\n",
      "Layer (type)                     Output Shape          Param #     Connected to                     \n",
      "====================================================================================================\n",
      "embedding_27 (Embedding)         (None, 208, 300)      1745100     embedding_input_18[0][0]         \n",
      "____________________________________________________________________________________________________\n",
      "dropout_39 (Dropout)             (None, 208, 300)      0           embedding_27[0][0]               \n",
      "____________________________________________________________________________________________________\n",
      "lstm_22 (LSTM)                   (None, 50)            70200       dropout_39[0][0]                 \n",
      "____________________________________________________________________________________________________\n",
      "dropout_40 (Dropout)             (None, 50)            0           lstm_22[0][0]                    \n",
      "____________________________________________________________________________________________________\n",
      "dense_22 (Dense)                 (None, 4)             204         dropout_40[0][0]                 \n",
      "====================================================================================================\n",
      "Total params: 1,815,504\n",
      "Trainable params: 1,815,504\n",
      "Non-trainable params: 0\n",
      "____________________________________________________________________________________________________\n"
     ]
    }
   ],
   "source": [
    "from keras.datasets import imdb\n",
    "from keras.models import Sequential\n",
    "from keras.layers import Dense\n",
    "from keras.layers import LSTM\n",
    "from keras.layers import Dropout\n",
    "from keras.layers.embeddings import Embedding\n",
    "from keras.preprocessing import sequence\n",
    "from keras.models import load_model\n",
    "\n",
    "model = Sequential()\n",
    "model.add(Embedding(nb_words + 1,\n",
    "                            EMBEDDING_DIM,\n",
    "                            weights=[embedding_matrix],\n",
    "                            input_length=MAX_SEQUENCE_LENGTH,\n",
    "                            trainable=True,dropout=0.2))\n",
    "model.add(Dropout(0.5))\n",
    "model.add(LSTM(50))\n",
    "model.add(Dropout(0.5))\n",
    "model.add(Dense(len(labels_index), activation='softmax'))\n",
    "model.summary()"
   ]
  },
  {
   "cell_type": "markdown",
   "metadata": {},
   "source": [
    "# Fit the model\n",
    "\n",
    "I'm fitting it to all the data here, so as to make predictions using novel sentences"
   ]
  },
  {
   "cell_type": "code",
   "execution_count": 110,
   "metadata": {
    "collapsed": false,
    "scrolled": true
   },
   "outputs": [
    {
     "name": "stdout",
     "output_type": "stream",
     "text": [
      "____________________________________________________________________________________________________\n",
      "Layer (type)                     Output Shape          Param #     Connected to                     \n",
      "====================================================================================================\n",
      "embedding_27 (Embedding)         (None, 208, 300)      1745100     embedding_input_18[0][0]         \n",
      "____________________________________________________________________________________________________\n",
      "dropout_39 (Dropout)             (None, 208, 300)      0           embedding_27[0][0]               \n",
      "____________________________________________________________________________________________________\n",
      "lstm_22 (LSTM)                   (None, 50)            70200       dropout_39[0][0]                 \n",
      "____________________________________________________________________________________________________\n",
      "dropout_40 (Dropout)             (None, 50)            0           lstm_22[0][0]                    \n",
      "____________________________________________________________________________________________________\n",
      "dense_22 (Dense)                 (None, 4)             204         dropout_40[0][0]                 \n",
      "====================================================================================================\n",
      "Total params: 1,815,504\n",
      "Trainable params: 1,815,504\n",
      "Non-trainable params: 0\n",
      "____________________________________________________________________________________________________\n",
      "None\n",
      "Epoch 1/35\n",
      "6224/6224 [==============================] - 37s - loss: 1.2250 - precision: 0.4732 - recall: 0.1057 - fmeasure: 0.1584 - categorical_accuracy: 0.3914    \n",
      "Epoch 2/35\n",
      "6224/6224 [==============================] - 37s - loss: 0.9948 - precision: 0.5399 - recall: 0.3176 - fmeasure: 0.3978 - categorical_accuracy: 0.4924    \n",
      "Epoch 3/35\n",
      "6224/6224 [==============================] - 36s - loss: 0.9213 - precision: 0.5494 - recall: 0.3973 - fmeasure: 0.4603 - categorical_accuracy: 0.5174    \n",
      "Epoch 4/35\n",
      "6224/6224 [==============================] - 37s - loss: 0.8684 - precision: 0.5613 - recall: 0.4402 - fmeasure: 0.4932 - categorical_accuracy: 0.5341    \n",
      "Epoch 5/35\n",
      "6224/6224 [==============================] - 37s - loss: 0.8513 - precision: 0.5827 - recall: 0.4635 - fmeasure: 0.5158 - categorical_accuracy: 0.5540    \n",
      "Epoch 6/35\n",
      "6224/6224 [==============================] - 36s - loss: 0.8203 - precision: 0.5926 - recall: 0.4879 - fmeasure: 0.5350 - categorical_accuracy: 0.5636    \n",
      "Epoch 7/35\n",
      "6224/6224 [==============================] - 36s - loss: 0.7997 - precision: 0.6030 - recall: 0.5100 - fmeasure: 0.5523 - categorical_accuracy: 0.5779    \n",
      "Epoch 8/35\n",
      "6224/6224 [==============================] - 36s - loss: 0.7904 - precision: 0.6042 - recall: 0.5209 - fmeasure: 0.5593 - categorical_accuracy: 0.5832    \n",
      "Epoch 9/35\n",
      "6224/6224 [==============================] - 36s - loss: 0.7733 - precision: 0.6236 - recall: 0.5408 - fmeasure: 0.5791 - categorical_accuracy: 0.6004    \n",
      "Epoch 10/35\n",
      "6224/6224 [==============================] - 36s - loss: 0.7622 - precision: 0.6346 - recall: 0.5639 - fmeasure: 0.5971 - categorical_accuracy: 0.6133    \n",
      "Epoch 11/35\n",
      "6224/6224 [==============================] - 36s - loss: 0.7493 - precision: 0.6401 - recall: 0.5594 - fmeasure: 0.5969 - categorical_accuracy: 0.6141    \n",
      "Epoch 12/35\n",
      "6224/6224 [==============================] - 37s - loss: 0.7294 - precision: 0.6566 - recall: 0.5919 - fmeasure: 0.6224 - categorical_accuracy: 0.6369    \n",
      "Epoch 13/35\n",
      "6224/6224 [==============================] - 38s - loss: 0.7313 - precision: 0.6504 - recall: 0.5842 - fmeasure: 0.6154 - categorical_accuracy: 0.6285    \n",
      "Epoch 14/35\n",
      "6224/6224 [==============================] - 37s - loss: 0.7114 - precision: 0.6582 - recall: 0.5977 - fmeasure: 0.6263 - categorical_accuracy: 0.6414    \n",
      "Epoch 15/35\n",
      "6224/6224 [==============================] - 36s - loss: 0.7047 - precision: 0.6722 - recall: 0.6154 - fmeasure: 0.6424 - categorical_accuracy: 0.6541    \n",
      "Epoch 16/35\n",
      "6224/6224 [==============================] - 36s - loss: 0.6908 - precision: 0.6864 - recall: 0.6297 - fmeasure: 0.6566 - categorical_accuracy: 0.6692    \n",
      "Epoch 17/35\n",
      "6224/6224 [==============================] - 38s - loss: 0.6753 - precision: 0.6918 - recall: 0.6411 - fmeasure: 0.6654 - categorical_accuracy: 0.6745    \n",
      "Epoch 18/35\n",
      "6224/6224 [==============================] - 38s - loss: 0.6644 - precision: 0.6952 - recall: 0.6443 - fmeasure: 0.6687 - categorical_accuracy: 0.6759    \n",
      "Epoch 19/35\n",
      "6224/6224 [==============================] - 37s - loss: 0.6611 - precision: 0.6953 - recall: 0.6409 - fmeasure: 0.6668 - categorical_accuracy: 0.6737    \n",
      "Epoch 20/35\n",
      "6224/6224 [==============================] - 37s - loss: 0.6421 - precision: 0.7102 - recall: 0.6679 - fmeasure: 0.6883 - categorical_accuracy: 0.6947    \n",
      "Epoch 21/35\n",
      "6224/6224 [==============================] - 37s - loss: 0.6445 - precision: 0.7134 - recall: 0.6661 - fmeasure: 0.6889 - categorical_accuracy: 0.6960    \n",
      "Epoch 22/35\n",
      "6224/6224 [==============================] - 37s - loss: 0.6271 - precision: 0.7187 - recall: 0.6761 - fmeasure: 0.6966 - categorical_accuracy: 0.7040    \n",
      "Epoch 23/35\n",
      "6224/6224 [==============================] - 37s - loss: 0.6201 - precision: 0.7175 - recall: 0.6753 - fmeasure: 0.6956 - categorical_accuracy: 0.7029    \n",
      "Epoch 24/35\n",
      "6224/6224 [==============================] - 37s - loss: 0.6158 - precision: 0.7203 - recall: 0.6767 - fmeasure: 0.6977 - categorical_accuracy: 0.7007    \n",
      "Epoch 25/35\n",
      "6224/6224 [==============================] - 38s - loss: 0.6077 - precision: 0.7368 - recall: 0.6938 - fmeasure: 0.7145 - categorical_accuracy: 0.7196    \n",
      "Epoch 26/35\n",
      "6224/6224 [==============================] - 38s - loss: 0.6030 - precision: 0.7320 - recall: 0.6915 - fmeasure: 0.7111 - categorical_accuracy: 0.7166    \n",
      "Epoch 27/35\n",
      "6224/6224 [==============================] - 38s - loss: 0.5973 - precision: 0.7368 - recall: 0.6954 - fmeasure: 0.7154 - categorical_accuracy: 0.7204    \n",
      "Epoch 28/35\n",
      "6224/6224 [==============================] - 38s - loss: 0.5845 - precision: 0.7453 - recall: 0.7065 - fmeasure: 0.7253 - categorical_accuracy: 0.7283    \n",
      "Epoch 29/35\n",
      "6224/6224 [==============================] - 39s - loss: 0.5650 - precision: 0.7491 - recall: 0.7138 - fmeasure: 0.7310 - categorical_accuracy: 0.7359    \n",
      "Epoch 30/35\n",
      "6224/6224 [==============================] - 38s - loss: 0.5570 - precision: 0.7618 - recall: 0.7278 - fmeasure: 0.7443 - categorical_accuracy: 0.7471    \n",
      "Epoch 31/35\n",
      "6224/6224 [==============================] - 38s - loss: 0.5644 - precision: 0.7653 - recall: 0.7281 - fmeasure: 0.7462 - categorical_accuracy: 0.7511    \n",
      "Epoch 32/35\n",
      "6224/6224 [==============================] - 37s - loss: 0.5455 - precision: 0.7709 - recall: 0.7373 - fmeasure: 0.7536 - categorical_accuracy: 0.7579    \n",
      "Epoch 33/35\n",
      "6224/6224 [==============================] - 37s - loss: 0.5492 - precision: 0.7636 - recall: 0.7302 - fmeasure: 0.7465 - categorical_accuracy: 0.7495    \n",
      "Epoch 34/35\n",
      "6224/6224 [==============================] - 37s - loss: 0.5342 - precision: 0.7764 - recall: 0.7431 - fmeasure: 0.7593 - categorical_accuracy: 0.7622    \n",
      "Epoch 35/35\n",
      "6224/6224 [==============================] - 36s - loss: 0.5269 - precision: 0.7747 - recall: 0.7410 - fmeasure: 0.7574 - categorical_accuracy: 0.7592    \n"
     ]
    }
   ],
   "source": [
    "model.compile(loss='categorical_crossentropy', optimizer='rmsprop', metrics=[precision,recall,fmeasure,categorical_accuracy])\n",
    "print(model.summary())\n",
    "bz=128\n",
    "model.fit(x_train, y_train, #validation_data=(x_val, y_val),\n",
    "          nb_epoch=35, batch_size=bz)\n",
    "model.save_weights('../output/full_finalgendermodel.h5')"
   ]
  },
  {
   "cell_type": "markdown",
   "metadata": {},
   "source": [
    "# Next, restructure the model to make predictions"
   ]
  },
  {
   "cell_type": "code",
   "execution_count": 111,
   "metadata": {
    "collapsed": false
   },
   "outputs": [
    {
     "name": "stdout",
     "output_type": "stream",
     "text": [
      "____________________________________________________________________________________________________\n",
      "Layer (type)                     Output Shape          Param #     Connected to                     \n",
      "====================================================================================================\n",
      "embedding_27 (Embedding)         (None, 208, 300)      1745100     embedding_input_18[0][0]         \n",
      "____________________________________________________________________________________________________\n",
      "dropout_39 (Dropout)             (None, 208, 300)      0           embedding_27[0][0]               \n",
      "____________________________________________________________________________________________________\n",
      "lstm_22 (LSTM)                   (None, 50)            70200       dropout_39[0][0]                 \n",
      "____________________________________________________________________________________________________\n",
      "dropout_40 (Dropout)             (None, 50)            0           lstm_22[0][0]                    \n",
      "____________________________________________________________________________________________________\n",
      "dense_22 (Dense)                 (None, 4)             204         dropout_40[0][0]                 \n",
      "====================================================================================================\n",
      "Total params: 1,815,504\n",
      "Trainable params: 1,815,504\n",
      "Non-trainable params: 0\n",
      "____________________________________________________________________________________________________\n"
     ]
    },
    {
     "data": {
      "text/plain": [
       "['dense_22', 'dropout_39', 'lstm_22', 'dropout_40', 'embedding_27']"
      ]
     },
     "execution_count": 111,
     "metadata": {},
     "output_type": "execute_result"
    }
   ],
   "source": [
    "from keras.layers import TimeDistributed\n",
    "model.load_weights('../output/full_finalgendermodel.h5')\n",
    "model.summary()\n",
    "layer_dict = dict([(layer.name, layer) for layer in model.layers])\n",
    "layer_dict.keys()"
   ]
  },
  {
   "cell_type": "code",
   "execution_count": 112,
   "metadata": {
    "collapsed": true
   },
   "outputs": [],
   "source": [
    "dens=layer_dict['dense_22'].get_weights()\n",
    "lstmw=layer_dict['lstm_22'].get_weights()"
   ]
  },
  {
   "cell_type": "code",
   "execution_count": 113,
   "metadata": {
    "collapsed": false
   },
   "outputs": [
    {
     "name": "stdout",
     "output_type": "stream",
     "text": [
      "____________________________________________________________________________________________________\n",
      "Layer (type)                     Output Shape          Param #     Connected to                     \n",
      "====================================================================================================\n",
      "embedding_28 (Embedding)         (None, 208, 300)      1745100     embedding_input_19[0][0]         \n",
      "____________________________________________________________________________________________________\n",
      "dropout_41 (Dropout)             (None, 208, 300)      0           embedding_28[0][0]               \n",
      "____________________________________________________________________________________________________\n",
      "lstm_23 (LSTM)                   (None, 208, 50)       70200       dropout_41[0][0]                 \n",
      "____________________________________________________________________________________________________\n",
      "dropout_42 (Dropout)             (None, 208, 50)       0           lstm_23[0][0]                    \n",
      "____________________________________________________________________________________________________\n",
      "timedistributed_10 (TimeDistribu (None, 208, 4)        204         dropout_42[0][0]                 \n",
      "====================================================================================================\n",
      "Total params: 1,815,504\n",
      "Trainable params: 1,815,504\n",
      "Non-trainable params: 0\n",
      "____________________________________________________________________________________________________\n"
     ]
    }
   ],
   "source": [
    "model = Sequential()\n",
    "model.add(Embedding(nb_words + 1,\n",
    "                            EMBEDDING_DIM,\n",
    "                            weights=[embedding_matrix],\n",
    "                            input_length=MAX_SEQUENCE_LENGTH,\n",
    "                            trainable=True,dropout=0.2))\n",
    "model.add(Dropout(0.5))\n",
    "lstmout = LSTM(50,\n",
    "               return_sequences=True,\n",
    "               stateful=False,weights=lstmw)\n",
    "model.add(lstmout)\n",
    "model.add(Dropout(0.5))\n",
    "templayer=TimeDistributed(Dense(len(labels_index), activation='softmax',weights=dens))\n",
    "model.add(templayer)\n",
    "model.load_weights('../output/full_finalgendermodel.h5')\n",
    "model.summary()"
   ]
  },
  {
   "cell_type": "markdown",
   "metadata": {},
   "source": [
    "# Here, I make some novel sentences to pass to the network\n",
    "(Justification with relationships)"
   ]
  },
  {
   "cell_type": "code",
   "execution_count": 118,
   "metadata": {
    "collapsed": false
   },
   "outputs": [
    {
     "data": {
      "text/plain": [
       "(195, 3)"
      ]
     },
     "execution_count": 118,
     "metadata": {},
     "output_type": "execute_result"
    }
   ],
   "source": [
    "import itertools\n",
    "texts = ['Athletic ability is important to me because ', \n",
    "         'Art is important to me because ', \n",
    "         'Being smart is important to me because ', \n",
    "         'Getting good grades is important to me because ', \n",
    "         'Creativity is important to me because ', \n",
    "         'Independence is important to me because ', \n",
    "         'Social groups are important to me because ', \n",
    "         'Music is important to me because ', \n",
    "         'Politics is important to me because ', \n",
    "         'Relationships is important to me because ', \n",
    "         'Religion is important to me because ', \n",
    "         'Sense of humor is important to me because ', \n",
    "         'Living in the moment is important to me because ']\n",
    "\n",
    "justification = ['my friends', 'my family', 'my grandparents', 'my parents', 'my teacher', \n",
    "                 'my friend', 'my dad', 'my mom', 'my sister', 'my brother', \n",
    "                 'my mother', 'my father', 'my cousin', 'my aunt', 'my uncle']\n",
    "\n",
    "\n",
    "a = list(itertools.product(texts, justification))\n",
    "combos = []\n",
    "value = []\n",
    "just = []\n",
    "for i in a:\n",
    "    combos.append(i[0]+i[1])\n",
    "    value.append(i[0].split()[0])\n",
    "    just.append(i[1].split()[1])\n",
    "df = pd.DataFrame({'text':combos,\n",
    "                  'value':value,\n",
    "                  'justification':just})\n",
    "df.shape"
   ]
  },
  {
   "cell_type": "markdown",
   "metadata": {},
   "source": [
    "# Make predictions and save important bits"
   ]
  },
  {
   "cell_type": "code",
   "execution_count": 119,
   "metadata": {
    "collapsed": false,
    "scrolled": true
   },
   "outputs": [
    {
     "name": "stdout",
     "output_type": "stream",
     "text": [
      "195/195 [==============================] - 0s     \n"
     ]
    }
   ],
   "source": [
    "test_seq = tokenizer.texts_to_sequences(combos)\n",
    "full_dat = pad_sequences(test_seq, maxlen=MAX_SEQUENCE_LENGTH)\n",
    "preds = model.predict(full_dat, verbose=1)\n",
    "word_index = tokenizer.word_index\n",
    "index_word={}\n",
    "for i,x in word_index.items():\n",
    "    index_word[x]=i\n",
    "np.save('../output/testsentiw_just.npy', index_word)\n",
    "np.save('../output/testsentiw_inv_just.npy', word_index)\n",
    "np.save('../output/testsentpreds_just.npy', preds)\n",
    "np.save('../output/testsentxdat_just.npy', full_dat)\n",
    "np.save('../output/testdat_just.npy', df)"
   ]
  },
  {
   "cell_type": "markdown",
   "metadata": {},
   "source": [
    "# Here, I make some novel sentences to pass to the network\n",
    "(Justification with the self)"
   ]
  },
  {
   "cell_type": "code",
   "execution_count": 120,
   "metadata": {
    "collapsed": false
   },
   "outputs": [],
   "source": [
    "texts = ['Athletic ability is important to me because ', \n",
    "         'Art is important to me because ', \n",
    "         'Being smart is important to me because ', \n",
    "         'Getting good grades is important to me because ', \n",
    "         'Creativity is important to me because ', \n",
    "         'Independence is important to me because ', \n",
    "         'Social groups are important to me because ', \n",
    "         'Music is important to me because ', \n",
    "         'Politics is important to me because ', \n",
    "         'Relationships is important to me because ', \n",
    "         'Religion is important to me because ', \n",
    "         'Sense of humor is important to me because ', \n",
    "         'Living in the moment is important to me because ']\n",
    "\n",
    "justification = ['I want', 'I need', 'I will', 'I have', 'I can', \n",
    "                 'I feel', 'I should', 'I would', 'I hope', 'I am', \n",
    "                 'I get', 'I might', 'I use', 'I like', 'I take']\n",
    "\n",
    "\n",
    "a = list(itertools.product(texts, justification))\n",
    "combos = []\n",
    "value = []\n",
    "just = []\n",
    "for i in a:\n",
    "    combos.append(i[0]+i[1])\n",
    "    value.append(i[0].split()[0])\n",
    "    just.append(i[1].split()[1])\n",
    "df = pd.DataFrame({'text':combos,\n",
    "                  'value':value,\n",
    "                  'justification':just})"
   ]
  },
  {
   "cell_type": "markdown",
   "metadata": {},
   "source": [
    "# Make predictions and save important bits"
   ]
  },
  {
   "cell_type": "code",
   "execution_count": 121,
   "metadata": {
    "collapsed": false,
    "scrolled": true
   },
   "outputs": [
    {
     "name": "stdout",
     "output_type": "stream",
     "text": [
      "195/195 [==============================] - 0s     \n"
     ]
    }
   ],
   "source": [
    "test_seq = tokenizer.texts_to_sequences(combos)\n",
    "full_dat = pad_sequences(test_seq, maxlen=MAX_SEQUENCE_LENGTH)\n",
    "preds = model.predict(full_dat, verbose=1)\n",
    "word_index = tokenizer.word_index\n",
    "index_word={}\n",
    "for i,x in word_index.items():\n",
    "    index_word[x]=i\n",
    "np.save('../output/testsentiw_justself.npy', index_word)\n",
    "np.save('../output/testsentiw_inv_justself.npy', word_index)\n",
    "np.save('../output/testsentpreds_justself.npy', preds)\n",
    "np.save('../output/testsentxdat_justself.npy', full_dat)\n",
    "np.save('../output/testdat_justself.npy', df)"
   ]
  },
  {
   "cell_type": "markdown",
   "metadata": {},
   "source": [
    "# Below here is other stuff not in the paper"
   ]
  },
  {
   "cell_type": "markdown",
   "metadata": {},
   "source": [
    "## Here, I make some novel sentences to pass to the network\n",
    "(social words)"
   ]
  },
  {
   "cell_type": "code",
   "execution_count": 17,
   "metadata": {
    "collapsed": false,
    "scrolled": true
   },
   "outputs": [],
   "source": [
    "import spacy\n",
    "nlp = spacy.load('en')"
   ]
  },
  {
   "cell_type": "code",
   "execution_count": 69,
   "metadata": {
    "collapsed": false
   },
   "outputs": [],
   "source": [
    "df = pd.read_csv('../../liwcpy/liwc-dict/Social.csv', header=None, names=['word'], encoding='UTF-8')\n",
    "df = df[~df.word.str.contains('\\*')]"
   ]
  },
  {
   "cell_type": "code",
   "execution_count": 70,
   "metadata": {
    "collapsed": false
   },
   "outputs": [],
   "source": [
    "df['pos'] = df['word'].apply(lambda x: nlp(x)[0].pos_)\n",
    "df['lemma'] = df['word'].apply(lambda x: nlp(x)[0].lemma_)\n",
    "\n",
    "df['sent'] = 'These values are important because my'\n",
    "df.sent.loc[df.pos=='VERB'] = 'These values'\n",
    "df.sent.loc[df.pos=='PRON'] = 'These values are important to'\n",
    "df.sent.loc[df.pos=='ADJ'] = 'These values are important because my'\n",
    "df.sent.loc[df.pos=='INTJ'] = ''\n",
    "df.sent.loc[df.pos=='ADV'] = 'These values are important because my'\n",
    "df['test_sent'] = df.sent+' '+df.word\n",
    "df['sent_wo'] = 'These values are important because without my'\n",
    "df.sent_wo.loc[df.pos=='VERB'] = 'These values don\\'t' \n",
    "df.sent_wo.loc[df.pos=='PRON'] = 'These values are not important to'\n",
    "df.sent_wo.loc[df.pos=='ADJ'] = 'These values are important because without my'\n",
    "df.sent_wo.loc[df.pos=='INTJ'] = ''\n",
    "df.sent_wo.loc[df.pos=='ADV'] = 'These values are important because without my'\n",
    "df['test_sent_wo'] = df.sent_wo+' '+df.lemma\n",
    "df.test_sent_wo.loc[df.pos=='PRON'] = df.sent_wo + ' ' + df.word"
   ]
  },
  {
   "cell_type": "markdown",
   "metadata": {},
   "source": [
    "## Make predictions and save important bits"
   ]
  },
  {
   "cell_type": "code",
   "execution_count": 71,
   "metadata": {
    "collapsed": false
   },
   "outputs": [
    {
     "name": "stdout",
     "output_type": "stream",
     "text": [
      "259/259 [==============================] - 1s     \n",
      "259/259 [==============================] - 0s     \n"
     ]
    }
   ],
   "source": [
    "subdat = df.drop_duplicates(subset='test_sent')\n",
    "subdat['test_sent'] = subdat['test_sent'].apply(lambda x: str(x))\n",
    "test_seq = tokenizer.texts_to_sequences(subdat['test_sent'])\n",
    "full_dat = pad_sequences(test_seq, maxlen=MAX_SEQUENCE_LENGTH)\n",
    "preds = model.predict(full_dat, verbose=1)\n",
    "word_index = tokenizer.word_index\n",
    "index_word={}\n",
    "for i,x in word_index.items():\n",
    "    index_word[x]=i\n",
    "np.save('testsentiw_soc.npy', index_word)\n",
    "np.save('testsentiw_inv_soc.npy', word_index)\n",
    "np.save('testsentpreds_soc.npy', preds)\n",
    "np.save('testsentxdat_soc.npy', full_dat)\n",
    "np.save('testdat_soc.npy', subdat)\n",
    "\n",
    "subdat['test_sent_wo'] = subdat['test_sent_wo'].apply(lambda x: str(x))\n",
    "test_seq = tokenizer.texts_to_sequences(subdat['test_sent_wo'])\n",
    "full_dat = pad_sequences(test_seq, maxlen=MAX_SEQUENCE_LENGTH)\n",
    "preds_wo = model.predict(full_dat, verbose=1)\n",
    "word_index_wo = tokenizer.word_index\n",
    "index_word_wo={}\n",
    "for i,x in word_index_wo.items():\n",
    "    index_word_wo[x]=i\n",
    "np.save('testsentiw_wo_soc.npy', index_word_wo)\n",
    "np.save('testsentiw_inv_wo_soc.npy', word_index_wo)\n",
    "np.save('testsentpreds_wo_soc.npy', preds_wo)\n",
    "np.save('testsentxdat_wo_soc.npy', full_dat)"
   ]
  },
  {
   "cell_type": "markdown",
   "metadata": {},
   "source": [
    "## Here, I make some novel sentences to pass to the network\n",
    "(positive emotion words)"
   ]
  },
  {
   "cell_type": "code",
   "execution_count": 73,
   "metadata": {
    "collapsed": false
   },
   "outputs": [],
   "source": [
    "df = pd.read_csv('../../liwcpy/liwc-dict/Posemo.csv', header=None, names=['word'], encoding='UTF-8')"
   ]
  },
  {
   "cell_type": "code",
   "execution_count": 74,
   "metadata": {
    "collapsed": false
   },
   "outputs": [],
   "source": [
    "df = df[~df.word.str.contains('\\*')]"
   ]
  },
  {
   "cell_type": "code",
   "execution_count": 75,
   "metadata": {
    "collapsed": false
   },
   "outputs": [],
   "source": [
    "#df[df.word.str.contains('\\*')]\n",
    "df['pos'] = df['word'].apply(lambda x: nlp(x)[0].pos_)\n",
    "df['lemma'] = df['word'].apply(lambda x: nlp(x)[0].lemma_)\n",
    "\n",
    "df['sent'] = 'These values are important because my'\n",
    "df.sent.loc[df.pos=='VERB'] = 'These values'\n",
    "df.sent.loc[df.pos=='PRON'] = 'These values are important to'\n",
    "df.sent.loc[df.pos=='ADJ'] = 'These values are important because my'\n",
    "df.sent.loc[df.pos=='INTJ'] = ''\n",
    "df.sent.loc[df.pos=='ADV'] = 'These values are important because my'\n",
    "df['test_sent'] = df.sent+' '+df.word\n",
    "df['sent_wo'] = 'These values are important because without my'\n",
    "df.sent_wo.loc[df.pos=='VERB'] = 'These values don\\'t' \n",
    "df.sent_wo.loc[df.pos=='PRON'] = 'These values are not important to'\n",
    "df.sent_wo.loc[df.pos=='ADJ'] = 'These values are important because without my'\n",
    "df.sent_wo.loc[df.pos=='INTJ'] = ''\n",
    "df.sent_wo.loc[df.pos=='ADV'] = 'These values are important because without my'\n",
    "df['test_sent_wo'] = df.sent_wo+' '+df.lemma\n",
    "df.test_sent_wo.loc[df.pos=='PRON'] = df.sent_wo + ' ' + df.word"
   ]
  },
  {
   "cell_type": "markdown",
   "metadata": {},
   "source": [
    "## Make predictions and save important bits"
   ]
  },
  {
   "cell_type": "code",
   "execution_count": 76,
   "metadata": {
    "collapsed": false
   },
   "outputs": [
    {
     "name": "stdout",
     "output_type": "stream",
     "text": [
      "159/159 [==============================] - 0s     \n",
      "159/159 [==============================] - 0s     \n"
     ]
    }
   ],
   "source": [
    "subdat = df.drop_duplicates(subset='test_sent')\n",
    "subdat['test_sent'] = subdat['test_sent'].apply(lambda x: str(x))\n",
    "test_seq = tokenizer.texts_to_sequences(subdat['test_sent'])\n",
    "full_dat = pad_sequences(test_seq, maxlen=MAX_SEQUENCE_LENGTH)\n",
    "preds = model.predict(full_dat, verbose=1)\n",
    "word_index = tokenizer.word_index\n",
    "index_word={}\n",
    "for i,x in word_index.items():\n",
    "    index_word[x]=i\n",
    "np.save('testsentiw_posem.npy', index_word)\n",
    "np.save('testsentiw_inv_posem.npy', word_index)\n",
    "np.save('testsentpreds_posem.npy', preds)\n",
    "np.save('testsentxdat_posem.npy', full_dat)\n",
    "np.save('testdat_posem.npy', subdat)\n",
    "\n",
    "subdat['test_sent_wo'] = subdat['test_sent_wo'].apply(lambda x: str(x))\n",
    "test_seq = tokenizer.texts_to_sequences(subdat['test_sent_wo'])\n",
    "full_dat = pad_sequences(test_seq, maxlen=MAX_SEQUENCE_LENGTH)\n",
    "preds_wo = model.predict(full_dat, verbose=1)\n",
    "word_index_wo = tokenizer.word_index\n",
    "index_word_wo={}\n",
    "for i,x in word_index_wo.items():\n",
    "    index_word_wo[x]=i\n",
    "np.save('testsentiw_wo_posem.npy', index_word_wo)\n",
    "np.save('testsentiw_inv_wo_posem.npy', word_index_wo)\n",
    "np.save('testsentpreds_wo_posem.npy', preds_wo)\n",
    "np.save('testsentxdat_wo_posem.npy', full_dat)"
   ]
  },
  {
   "cell_type": "markdown",
   "metadata": {},
   "source": [
    "## Here, I make some novel sentences to pass to the network\n",
    "(Negative emotion words)"
   ]
  },
  {
   "cell_type": "code",
   "execution_count": 77,
   "metadata": {
    "collapsed": false
   },
   "outputs": [],
   "source": [
    "df = pd.read_csv('../../liwcpy/liwc-dict/Negemo.csv', header=None, names=['word'], encoding='UTF-8')"
   ]
  },
  {
   "cell_type": "code",
   "execution_count": 78,
   "metadata": {
    "collapsed": false
   },
   "outputs": [],
   "source": [
    "df = df[~df.word.str.contains('\\*')]"
   ]
  },
  {
   "cell_type": "code",
   "execution_count": 79,
   "metadata": {
    "collapsed": false
   },
   "outputs": [],
   "source": [
    "#df[df.word.str.contains('\\*')]\n",
    "df['pos'] = df['word'].apply(lambda x: nlp(x)[0].pos_)\n",
    "df['lemma'] = df['word'].apply(lambda x: nlp(x)[0].lemma_)\n",
    "\n",
    "df['sent'] = 'These values are important because my'\n",
    "df.sent.loc[df.pos=='VERB'] = 'These values'\n",
    "df.sent.loc[df.pos=='PRON'] = 'These values are important to'\n",
    "df.sent.loc[df.pos=='ADJ'] = 'These values are important because my'\n",
    "df.sent.loc[df.pos=='INTJ'] = ''\n",
    "df.sent.loc[df.pos=='ADV'] = 'These values are important because my'\n",
    "df['test_sent'] = df.sent+' '+df.word\n",
    "df['sent_wo'] = 'These values are important because without my'\n",
    "df.sent_wo.loc[df.pos=='VERB'] = 'These values don\\'t' \n",
    "df.sent_wo.loc[df.pos=='PRON'] = 'These values are not important to'\n",
    "df.sent_wo.loc[df.pos=='ADJ'] = 'These values are important because without my'\n",
    "df.sent_wo.loc[df.pos=='INTJ'] = ''\n",
    "df.sent_wo.loc[df.pos=='ADV'] = 'These values are important because without my'\n",
    "df['test_sent_wo'] = df.sent_wo+' '+df.lemma\n",
    "df.test_sent_wo.loc[df.pos=='PRON'] = df.sent_wo + ' ' + df.word"
   ]
  },
  {
   "cell_type": "markdown",
   "metadata": {},
   "source": [
    "## Make predictions and save important bits"
   ]
  },
  {
   "cell_type": "code",
   "execution_count": 80,
   "metadata": {
    "collapsed": false,
    "scrolled": true
   },
   "outputs": [
    {
     "name": "stdout",
     "output_type": "stream",
     "text": [
      "150/150 [==============================] - 0s     \n",
      "150/150 [==============================] - 0s     \n"
     ]
    }
   ],
   "source": [
    "subdat = df.drop_duplicates(subset='test_sent')\n",
    "subdat['test_sent'] = subdat['test_sent'].apply(lambda x: str(x))\n",
    "test_seq = tokenizer.texts_to_sequences(subdat['test_sent'])\n",
    "full_dat = pad_sequences(test_seq, maxlen=MAX_SEQUENCE_LENGTH)\n",
    "preds = model.predict(full_dat, verbose=1)\n",
    "word_index = tokenizer.word_index\n",
    "index_word={}\n",
    "for i,x in word_index.items():\n",
    "    index_word[x]=i\n",
    "np.save('testsentiw_negem.npy', index_word)\n",
    "np.save('testsentiw_inv_negem.npy', word_index)\n",
    "np.save('testsentpreds_negem.npy', preds)\n",
    "np.save('testsentxdat_negem.npy', full_dat)\n",
    "np.save('testdat_negem.npy', subdat)\n",
    "\n",
    "subdat['test_sent_wo'] = subdat['test_sent_wo'].apply(lambda x: str(x))\n",
    "test_seq = tokenizer.texts_to_sequences(subdat['test_sent_wo'])\n",
    "full_dat = pad_sequences(test_seq, maxlen=MAX_SEQUENCE_LENGTH)\n",
    "preds_wo = model.predict(full_dat, verbose=1)\n",
    "word_index_wo = tokenizer.word_index\n",
    "index_word_wo={}\n",
    "for i,x in word_index_wo.items():\n",
    "    index_word_wo[x]=i\n",
    "np.save('testsentiw_wo_negem.npy', index_word_wo)\n",
    "np.save('testsentiw_inv_wo_negem.npy', word_index_wo)\n",
    "np.save('testsentpreds_wo_negem.npy', preds_wo)\n",
    "np.save('testsentxdat_wo_negem.npy', full_dat)"
   ]
  },
  {
   "cell_type": "markdown",
   "metadata": {},
   "source": [
    "## Here, I make some novel sentences to pass to the network\n",
    "(Value-specific sentences)"
   ]
  },
  {
   "cell_type": "code",
   "execution_count": 81,
   "metadata": {
    "collapsed": false
   },
   "outputs": [],
   "source": [
    "texts = ['Athletic ability is important to me', \n",
    "         'Art is important to me', \n",
    "         'Being smart is important to me', \n",
    "         'Getting good grades is important to me', \n",
    "         'Creativity is important to me', \n",
    "         'Independence is important to me', \n",
    "         'Social groups are important to me', \n",
    "         'Music is important to me', \n",
    "         'Politics is important to me', \n",
    "         'Relationships is important to me', \n",
    "         'Religion is important to me', \n",
    "         'Sense of humor is important to me', \n",
    "         'Living in the moment is important to me']\n",
    "\n",
    "val = ['Athletics', 'Art', 'Being Smart', 'Good Grades', 'Creativity', \n",
    "      'Independence', 'Social Groups', 'Music', 'Politics', 'Relationships',\n",
    "      'Religion', 'Sense of Humor', 'Living in the Moment']\n",
    "\n",
    "texts_not = ['Athletic ability is not important to me', \n",
    "         'Art is not important to me', \n",
    "         'Being smart is not important to me', \n",
    "         'Getting good grades is not important to me', \n",
    "         'Creativity is not important to me', \n",
    "         'Independence is not important to me', \n",
    "         'Social groups are not important to me', \n",
    "         'Music is not important to me', \n",
    "         'Politics is not important to me', \n",
    "         'Relationships is not important to me', \n",
    "         'Religion is not important to me', \n",
    "         'Sense of humor is not important to me', \n",
    "         'Living in the moment is not important to me']\n",
    "\n",
    "df = pd.DataFrame({'text':texts,\n",
    "                  'value':val})"
   ]
  },
  {
   "cell_type": "markdown",
   "metadata": {},
   "source": [
    "## Make predictions and save important bits"
   ]
  },
  {
   "cell_type": "code",
   "execution_count": 82,
   "metadata": {
    "collapsed": false,
    "scrolled": true
   },
   "outputs": [
    {
     "name": "stdout",
     "output_type": "stream",
     "text": [
      "13/13 [==============================] - 0s\n",
      "13/13 [==============================] - 0s\n"
     ]
    }
   ],
   "source": [
    "test_seq = tokenizer.texts_to_sequences(texts)\n",
    "full_dat = pad_sequences(test_seq, maxlen=MAX_SEQUENCE_LENGTH)\n",
    "preds = model.predict(full_dat, verbose=1)\n",
    "word_index = tokenizer.word_index\n",
    "index_word={}\n",
    "for i,x in word_index.items():\n",
    "    index_word[x]=i\n",
    "np.save('testsentiw_val.npy', index_word)\n",
    "np.save('testsentiw_inv_val.npy', word_index)\n",
    "np.save('testsentpreds_val.npy', preds)\n",
    "np.save('testsentxdat_val.npy', full_dat)\n",
    "np.save('testdat_val.npy', df)\n",
    "\n",
    "test_seq = tokenizer.texts_to_sequences(texts_not)\n",
    "full_dat = pad_sequences(test_seq, maxlen=MAX_SEQUENCE_LENGTH)\n",
    "preds_not = model.predict(full_dat, verbose=1)\n",
    "word_index_not = tokenizer.word_index\n",
    "index_word_not={}\n",
    "for i,x in word_index_not.items():\n",
    "    index_word_not[x]=i\n",
    "np.save('testsentiw_wo_val.npy', index_word_not)\n",
    "np.save('testsentiw_inv_wo_val.npy', word_index_not)\n",
    "np.save('testsentpreds_wo_val.npy', preds_not)\n",
    "np.save('testsentxdat_wo_val.npy', full_dat)"
   ]
  },
  {
   "cell_type": "code",
   "execution_count": 42,
   "metadata": {
    "collapsed": false
   },
   "outputs": [
    {
     "name": "stdout",
     "output_type": "stream",
     "text": [
      "13/13 [==============================] - 0s\n"
     ]
    }
   ],
   "source": [
    "texts = ['Athletic ability is important to me', \n",
    "         'Art is important to me', \n",
    "         'Being smart is important to me', \n",
    "         'Getting good grades is important to me', \n",
    "         'Creativity is important to me', \n",
    "         'Independence is important to me', \n",
    "         'Social groups are important to me', \n",
    "         'Music is important to me', \n",
    "         'Politics is important to me', \n",
    "         'Relationships is important to me', \n",
    "         'Religion is important to me', \n",
    "         'Sense of humor is important to me', \n",
    "         'Living in the moment is important to me']\n",
    "test_seq = tokenizer.texts_to_sequences(texts)\n",
    "full_dat = pad_sequences(test_seq, maxlen=MAX_SEQUENCE_LENGTH)\n",
    "preds = model.predict(full_dat, verbose=1)"
   ]
  },
  {
   "cell_type": "markdown",
   "metadata": {},
   "source": [
    "overleaf create project, add acl style file and start editing!"
   ]
  }
 ],
 "metadata": {
  "anaconda-cloud": {},
  "kernelspec": {
   "display_name": "Python 2",
   "language": "python",
   "name": "python2"
  },
  "language_info": {
   "codemirror_mode": {
    "name": "ipython",
    "version": 2
   },
   "file_extension": ".py",
   "mimetype": "text/x-python",
   "name": "python",
   "nbconvert_exporter": "python",
   "pygments_lexer": "ipython2",
   "version": "2.7.12"
  }
 },
 "nbformat": 4,
 "nbformat_minor": 1
}

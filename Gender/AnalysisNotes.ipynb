{
 "cells": [
  {
   "cell_type": "code",
   "execution_count": 213,
   "metadata": {
    "collapsed": false
   },
   "outputs": [],
   "source": [
    "def transitions(x,y,o,iw):\n",
    "    worddeltas={}\n",
    "    endpoint = o.shape[0]\n",
    "    startpoint = endpoint-np.count_nonzero(x)\n",
    "    initval=o[startpoint-1]\n",
    "    for i in range(startpoint,endpoint):\n",
    "        deltacuzofx=np.subtract(o[i],initval)\n",
    "        word=iw[x[i]]\n",
    "        if word in worddeltas:\n",
    "            worddeltas[word]=worddeltas[word]+deltacuzofx\n",
    "        else:\n",
    "            worddeltas[word]=deltacuzofx\n",
    "        initval=o[i]\n",
    "    return worddeltas"
   ]
  },
  {
   "cell_type": "code",
   "execution_count": 214,
   "metadata": {
    "collapsed": false
   },
   "outputs": [],
   "source": [
    "def addtransitions(x,y,o,iw):\n",
    "    addworddeltas={}\n",
    "    for i in range(x.shape[0]):\n",
    "        wd=transitions(x[i],y[i],o[i],iw)\n",
    "        for key, value in wd.iteritems():\n",
    "            if key in addworddeltas:\n",
    "                addworddeltas[key]=addworddeltas[key]+value\n",
    "            else:\n",
    "                addworddeltas[key]=value\n",
    "    return addworddeltas"
   ]
  },
  {
   "cell_type": "code",
   "execution_count": 215,
   "metadata": {
    "collapsed": false
   },
   "outputs": [],
   "source": [
    "def filtertestdata(x,y,o,t,pos):\n",
    "    t=np.asarray(t)\n",
    "    ynew=y[(y[:,pos]==1)]\n",
    "    xnew=x[(y[:,pos]==1)]\n",
    "    onew=o[(y[:,pos]==1)]\n",
    "    tnew=t[(y[:,pos]==1)]\n",
    "    return xnew,ynew,onew,tnew.tolist()"
   ]
  },
  {
   "cell_type": "code",
   "execution_count": 216,
   "metadata": {
    "collapsed": true
   },
   "outputs": [],
   "source": [
    "def filterdictionary(d,pos):\n",
    "    newdic={}\n",
    "    values=[]\n",
    "    words=[]\n",
    "    for key, value in d.iteritems():\n",
    "        words.append(key)\n",
    "        values.append(value[pos])\n",
    "    words=[x for (y,x) in sorted(zip(values,words))]\n",
    "    values=[y for (y,x) in sorted(zip(values,words))]\n",
    "    newdic = dict(zip(words, values))\n",
    "    return words,values,newdic\n",
    "    "
   ]
  },
  {
   "cell_type": "code",
   "execution_count": 235,
   "metadata": {
    "collapsed": false
   },
   "outputs": [
    {
     "data": {
      "text/plain": [
       "58.8"
      ]
     },
     "execution_count": 235,
     "metadata": {},
     "output_type": "execute_result"
    }
   ],
   "source": [
    "# main function - Values(-1-ALL, 0-control male, 1-control female, 2-affirmation male, 3-affirmation female)\n",
    "from __future__ import division\n",
    "import numpy as np\n",
    "index_word=np.load('finalgenderdict.npy').item()\n",
    "word_index=np.load('finalgenderdictinv.npy').item()\n",
    "testdata_output=np.load('finalgendertestoutput.npy')\n",
    "testdata_x=np.load('finalgenderxtestdata.npy')\n",
    "testdata_y=np.load('finalgenderytestdata.npy')\n",
    "with open('finalgendertextsinput.txt') as f:\n",
    "    text_content = f.readlines()\n",
    "filtertestdatavalue=-1\n",
    "filterdictionaryvalue=1\n",
    "if filtertestdatavalue!=-1:\n",
    "    testdata_x,testdata_y,testdata_output,text_content=filtertestdata(testdata_x,testdata_y,testdata_output,text_content,filtertestdatavalue)\n",
    "maxindexoutput=np.argmax(testdata_output[:,-1,:],axis=1)\n",
    "maxindexyval=np.argmax(testdata_y,axis=1)\n",
    "accuracy=(np.count_nonzero(maxindexoutput == maxindexyval)/maxindexyval.shape[0])*100\n",
    "addwd=addtransitions(testdata_x,testdata_y,testdata_output,index_word)\n",
    "words,values,dic=filterdictionary(addwd,filterdictionaryvalue)\n",
    "accuracy"
   ]
  },
  {
   "cell_type": "code",
   "execution_count": 230,
   "metadata": {
    "collapsed": false
   },
   "outputs": [
    {
     "data": {
      "text/plain": [
       "'I got up at 6:20 today. It took me about 45 minutes. I had a piece of toast. My grandmother brought me to school in her car.\\n'"
      ]
     },
     "execution_count": 230,
     "metadata": {},
     "output_type": "execute_result"
    }
   ],
   "source": [
    "maxindexoutput\n",
    "text_content[0]"
   ]
  },
  {
   "cell_type": "code",
   "execution_count": 231,
   "metadata": {
    "collapsed": true
   },
   "outputs": [
    {
     "data": {
      "text/plain": [
       "{'20': array([ 0.10883856, -0.00810401, -0.07530315, -0.02543134], dtype=float32),\n",
       " '45': array([-0.05768275,  0.06013788, -0.0007921 , -0.00166302], dtype=float32),\n",
       " '6': array([ 0.07344997,  0.07182492, -0.14791961,  0.00264474], dtype=float32),\n",
       " 'a': array([ -3.51312160e-02,   3.48006934e-02,   3.89785913e-04,\n",
       "         -5.94360754e-05], dtype=float32),\n",
       " 'about': array([ 0.07320356, -0.06016131, -0.00554665, -0.00749557], dtype=float32),\n",
       " 'at': array([ 0.22368672, -0.03139466, -0.1606205 , -0.03167168], dtype=float32),\n",
       " 'brought': array([-0.08453411,  0.08544153, -0.00067833, -0.00022915], dtype=float32),\n",
       " 'car': array([  7.88849127e-03,  -7.80087709e-03,  -7.28170126e-05,\n",
       "         -1.46920047e-05], dtype=float32),\n",
       " 'got': array([-0.00328749,  0.02005143, -0.00788431, -0.00887963], dtype=float32),\n",
       " 'grandmother': array([ -3.14992815e-01,   3.15315545e-01,  -4.03674785e-05,\n",
       "         -2.82257941e-04], dtype=float32),\n",
       " 'had': array([-0.05286336,  0.05181815,  0.00041514,  0.00063016], dtype=float32),\n",
       " 'her': array([ -1.57034909e-03,   1.61910057e-03,  -1.82524309e-05,\n",
       "         -3.05163339e-05], dtype=float32),\n",
       " 'i': array([ 0.00837576, -0.05459255,  0.05928667, -0.01306988], dtype=float32),\n",
       " 'in': array([ -1.47335418e-03,   1.44445896e-03,   2.83598129e-05,\n",
       "          5.26517397e-07], dtype=float32),\n",
       " 'it': array([ 0.00160742,  0.00471299, -0.00413894, -0.00218152], dtype=float32),\n",
       " 'me': array([-0.11116417,  0.09867518,  0.00507592,  0.00741312], dtype=float32),\n",
       " 'minutes': array([ 0.01786232, -0.01709513, -0.00021585, -0.00055135], dtype=float32),\n",
       " 'my': array([ 0.00341123, -0.00464803,  0.0008043 ,  0.00043242], dtype=float32),\n",
       " 'of': array([ -4.15983796e-02,   4.13466096e-02,   1.92867999e-04,\n",
       "          5.89358096e-05], dtype=float32),\n",
       " 'piece': array([ -2.60485977e-01,   2.61077404e-01,  -2.19655223e-04,\n",
       "         -3.71690810e-04], dtype=float32),\n",
       " 'school': array([ -3.30759259e-03,   3.59964371e-03,  -2.16694971e-04,\n",
       "         -7.54575449e-05], dtype=float32),\n",
       " 'to': array([  4.80648503e-03,  -4.63730097e-03,  -1.78951712e-04,\n",
       "          9.81401536e-06], dtype=float32),\n",
       " 'toast': array([-0.03578299,  0.03611839, -0.00017696, -0.00015847], dtype=float32),\n",
       " 'today': array([ 0.04513627, -0.0388779 , -0.00066837, -0.00558995], dtype=float32),\n",
       " 'took': array([ 0.05308837, -0.04968733, -0.00257214, -0.00082889], dtype=float32),\n",
       " 'up': array([-0.14862946, -0.01979934,  0.15839684,  0.01003198], dtype=float32)}"
      ]
     },
     "execution_count": 231,
     "metadata": {},
     "output_type": "execute_result"
    }
   ],
   "source": [
    "wd=transitions(testdata_x[0],testdata_y[0],testdata_output[0],index_word)\n",
    "wd"
   ]
  },
  {
   "cell_type": "code",
   "execution_count": 236,
   "metadata": {
    "collapsed": false
   },
   "outputs": [
    {
     "data": {
      "text/plain": [
       "500"
      ]
     },
     "execution_count": 236,
     "metadata": {},
     "output_type": "execute_result"
    }
   ],
   "source": [
    "len(text_content)"
   ]
  },
  {
   "cell_type": "code",
   "execution_count": null,
   "metadata": {
    "collapsed": true
   },
   "outputs": [],
   "source": []
  }
 ],
 "metadata": {
  "kernelspec": {
   "display_name": "Python 2",
   "language": "python",
   "name": "python2"
  },
  "language_info": {
   "codemirror_mode": {
    "name": "ipython",
    "version": 2
   },
   "file_extension": ".py",
   "mimetype": "text/x-python",
   "name": "python",
   "nbconvert_exporter": "python",
   "pygments_lexer": "ipython2",
   "version": "2.7.12"
  }
 },
 "nbformat": 4,
 "nbformat_minor": 0
}

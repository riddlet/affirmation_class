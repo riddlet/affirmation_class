{
 "cells": [
  {
   "cell_type": "code",
   "execution_count": 1,
   "metadata": {
    "collapsed": false
   },
   "outputs": [
    {
     "name": "stderr",
     "output_type": "stream",
     "text": [
      "Using Theano backend.\n"
     ]
    },
    {
     "name": "stdout",
     "output_type": "stream",
     "text": [
      "Indexing word vectors.\n",
      "Found 2196016 word vectors.\n"
     ]
    }
   ],
   "source": [
    "from __future__ import print_function\n",
    "import os\n",
    "import numpy as np\n",
    "np.random.seed(1337)\n",
    "__docformat__ = 'restructedtext en'\n",
    "import timeit\n",
    "import numpy\n",
    "import scipy.io\n",
    "\n",
    "from keras.preprocessing.text import Tokenizer\n",
    "from keras.preprocessing.sequence import pad_sequences\n",
    "from keras.utils.np_utils import to_categorical\n",
    "from keras.layers import Dense, Input, Flatten\n",
    "from keras.layers import Conv1D, MaxPooling1D, Embedding\n",
    "from keras.models import Model\n",
    "import sys\n",
    "BASE_DIR = '/Users/triddle/Documents/Gits'\n",
    "GLOVE_DIR = BASE_DIR + '/Data/'\n",
    "#MAX_SEQUENCE_LENGTH = 210\n",
    "MAX_NB_WORDS = 20000\n",
    "EMBEDDING_DIM = 300\n",
    "VALIDATION_SPLIT = 0.2\n",
    "# first, build index mapping words in the embeddings set\n",
    "# to their embedding vector\n",
    "\n",
    "print('Indexing word vectors.')\n",
    "\n",
    "embeddings_index = {}\n",
    "f = open(os.path.join(GLOVE_DIR, 'glove.840B.300d.txt'))\n",
    "for line in f:\n",
    "    values = line.split()\n",
    "    word = values[0]\n",
    "    coefs = np.asarray(values[1:], dtype='float32')\n",
    "    embeddings_index[word] = coefs\n",
    "f.close()\n",
    "\n",
    "print('Found %s word vectors.' % len(embeddings_index))\n",
    "\n"
   ]
  },
  {
   "cell_type": "code",
   "execution_count": 2,
   "metadata": {
    "collapsed": true
   },
   "outputs": [],
   "source": [
    "# for custom metrics\n",
    "import keras.backend as K\n",
    "from keras.utils.generic_utils import get_from_module\n",
    "\n",
    "def categorical_accuracy(y_true, y_pred):\n",
    "    \"\"\"Categorical accuracy metric.\n",
    "\n",
    "    Computes the mean accuracy rate across all predictions for\n",
    "    multiclass classification problems.\n",
    "    \"\"\"\n",
    "    return K.mean(K.equal(K.argmax(y_true, axis=-1),\n",
    "                          K.argmax(y_pred, axis=-1)))\n",
    "\n",
    "\n",
    "def precision(y_true, y_pred):\n",
    "    \"\"\"Precision metric.\n",
    "\n",
    "    Only computes a batch-wise average of precision.\n",
    "\n",
    "    Computes the precision, a metric for multi-label classification of\n",
    "    how many selected items are relevant.\n",
    "    \"\"\"\n",
    "    true_positives = K.sum(K.round(K.clip(y_true * y_pred, 0, 1)))\n",
    "    predicted_positives = K.sum(K.round(K.clip(y_pred, 0, 1)))\n",
    "    precision = true_positives / (predicted_positives + K.epsilon())\n",
    "    return precision\n",
    "\n",
    "\n",
    "def recall(y_true, y_pred):\n",
    "    \"\"\"Recall metric.\n",
    "\n",
    "    Only computes a batch-wise average of recall.\n",
    "\n",
    "    Computes the recall, a metric for multi-label classification of\n",
    "    how many relevant items are selected.\n",
    "    \"\"\"\n",
    "    true_positives = K.sum(K.round(K.clip(y_true * y_pred, 0, 1)))\n",
    "    possible_positives = K.sum(K.round(K.clip(y_true, 0, 1)))\n",
    "    recall = true_positives / (possible_positives + K.epsilon())\n",
    "    return recall\n",
    "\n",
    "\n",
    "def fbeta_score(y_true, y_pred, beta=1):\n",
    "    \"\"\"Computes the F score.\n",
    "\n",
    "    The F score is the weighted harmonic mean of precision and recall.\n",
    "    Here it is only computed as a batch-wise average, not globally.\n",
    "\n",
    "    This is useful for multi-label classification, where input samples can be\n",
    "    classified as sets of labels. By only using accuracy (precision) a model\n",
    "    would achieve a perfect score by simply assigning every class to every\n",
    "    input. In order to avoid this, a metric should penalize incorrect class\n",
    "    assignments as well (recall). The F-beta score (ranged from 0.0 to 1.0)\n",
    "    computes this, as a weighted mean of the proportion of correct class\n",
    "    assignments vs. the proportion of incorrect class assignments.\n",
    "\n",
    "    With beta = 1, this is equivalent to a F-measure. With beta < 1, assigning\n",
    "    correct classes becomes more important, and with beta > 1 the metric is\n",
    "    instead weighted towards penalizing incorrect class assignments.\n",
    "    \"\"\"\n",
    "    if beta < 0:\n",
    "        raise ValueError('The lowest choosable beta is zero (only precision).')\n",
    "\n",
    "    # If there are no true positives, fix the F score at 0 like sklearn.\n",
    "    if K.sum(K.round(K.clip(y_true, 0, 1))) == 0:\n",
    "        return 0\n",
    "\n",
    "    p = precision(y_true, y_pred)\n",
    "    r = recall(y_true, y_pred)\n",
    "    bb = beta ** 2\n",
    "    fbeta_score = (1 + bb) * (p * r) / (bb * p + r + K.epsilon())\n",
    "    return fbeta_score\n",
    "\n",
    "\n",
    "def fmeasure(y_true, y_pred):\n",
    "    \"\"\"Computes the f-measure, the harmonic mean of precision and recall.\n",
    "\n",
    "    Here it is only computed as a batch-wise average, not globally.\n",
    "    \"\"\"\n",
    "    return fbeta_score(y_true, y_pred, beta=1)\n"
   ]
  },
  {
   "cell_type": "code",
   "execution_count": 3,
   "metadata": {
    "collapsed": true
   },
   "outputs": [],
   "source": [
    "def create_dat(df_ess, df_dem):\n",
    "    df_ess = df_ess[df_ess.Study=='Connecticut']\n",
    "    df_ess.Condition.replace(['c', 'c2', 'c1', 'c3', 'ca', 'cb', '3'], 'Control', inplace=True)\n",
    "    df_ess.Condition.replace(['t', 't2', 't3', 't1', '1', '2', 'ta', 'tb'], 'Treatment', inplace=True)\n",
    "    df_ess.Condition.replace(['c/t'], np.nan, inplace=True)\n",
    "    \n",
    "    df_dem = df_dem[df_dem.Study=='Connecticut']\n",
    "    df_dem.Ethnicity.replace('Asian', 'Asian American', inplace=True)\n",
    "    df_dem.Ethnicity.replace('Other/Mixed', 'Other', inplace=True)\n",
    "    df_dem = df_dem[['ID', 'Ethnicity', 'Gender']].dropna()\n",
    "    \n",
    "    outdat = pd.merge(df_ess[['ID', 'Intervention_number', 'Essay', 'Condition', 'Intervention_Date', 'corrected']], \n",
    "                    df_dem, how='left', on='ID').drop_duplicates()\n",
    "    \n",
    "    return(outdat)"
   ]
  },
  {
   "cell_type": "markdown",
   "metadata": {},
   "source": [
    "# Here, we're preparing the data"
   ]
  },
  {
   "cell_type": "code",
   "execution_count": 40,
   "metadata": {
    "collapsed": false
   },
   "outputs": [
    {
     "name": "stdout",
     "output_type": "stream",
     "text": [
      "Processing text dataset\n",
      "Found 6224 texts.\n",
      "Found 5816 unique tokens.\n",
      "Shape of data tensor: (6224, 208)\n",
      "Shape of label tensor: (6224, 4)\n",
      "Shape of xtrain tensor: (5291, 208)\n",
      "Shape of ytrain tensor: (5291, 4)\n",
      "Shape of xval tensor: (933, 208)\n",
      "Shape of yval tensor: (933, 4)\n",
      "Preparing embedding matrix.\n"
     ]
    }
   ],
   "source": [
    "import pandas as pd\n",
    "import matplotlib\n",
    "from pandas import DataFrame, read_csv\n",
    "import matplotlib.pyplot as plt\n",
    "import pandas as pd #this is how I usually import pandas\n",
    "import sys #only needed to determine Python version number\n",
    "import matplotlib #only needed to determine Matplotlib version number\n",
    "import numpy as np\n",
    "# second, prepare text samples and their labels\n",
    "print('Processing text dataset')\n",
    "df_ess = pd.read_csv('../../Data/3 CSV Files/essays1.23.16.csv', sep='|')\n",
    "df_dem = pd.read_csv('../../Data/3 CSV Files/demog3.2.16.csv')\n",
    "df = create_dat(df_ess, df_dem)\n",
    "df.dropna(axis=0, subset=['corrected', 'Condition'], inplace=True)\n",
    "texts = []  # list of text samples\n",
    "labels_index = {}  # dictionary mapping label name to numeric id\n",
    "labels = []  # list of label ids\n",
    "labels_index['conm']=0\n",
    "labels_index['conf']=1\n",
    "labels_index['affm']=2\n",
    "labels_index['afff']=3\n",
    "texts = df[\"corrected\"].tolist()\n",
    "labelsType = df[\"Condition\"].tolist()\n",
    "labelsRace = df[\"Gender\"].tolist()\n",
    "labelsCombined=[]\n",
    "for i in range(len(labelsType)):\n",
    "    if labelsType[i]=='Control' and labelsRace[i]=='m':\n",
    "        labelsCombined.append(0)\n",
    "    elif labelsType[i]=='Control' and labelsRace[i]=='f':\n",
    "        labelsCombined.append(1)\n",
    "    elif labelsType[i]=='Treatment' and labelsRace[i]=='m':\n",
    "        labelsCombined.append(2)\n",
    "    elif labelsType[i]=='Treatment' and labelsRace[i]=='f':\n",
    "        labelsCombined.append(3)\n",
    "        \n",
    "print('Found %s texts.' % len(texts))\n",
    "\n",
    "# finally, vectorize the text samples into a 2D integer tensor\n",
    "tokenizer = Tokenizer(nb_words=MAX_NB_WORDS)\n",
    "tokenizer.fit_on_texts(texts)\n",
    "sequences = tokenizer.texts_to_sequences(texts)\n",
    "\n",
    "maxseqval=0\n",
    "for i in range(len(sequences)):\n",
    "    if len(sequences[i])>maxseqval:\n",
    "        maxseqval=len(sequences[i])\n",
    "        \n",
    "MAX_SEQUENCE_LENGTH = maxseqval\n",
    "\n",
    "word_index = tokenizer.word_index\n",
    "print('Found %s unique tokens.' % len(word_index))\n",
    "\n",
    "data = pad_sequences(sequences, maxlen=MAX_SEQUENCE_LENGTH)\n",
    "\n",
    "labels = to_categorical(np.asarray(labelsCombined))\n",
    "print('Shape of data tensor:', data.shape)\n",
    "print('Shape of label tensor:', labels.shape)\n",
    "\n",
    "# split the data into a training set and a validation set\n",
    "indices = np.arange(data.shape[0])\n",
    "np.random.shuffle(indices)\n",
    "data = data[indices]\n",
    "labels = labels[indices]\n",
    "x_train = data\n",
    "y_train = labels\n",
    "\n",
    "# split the data into a training set and a validation set\n",
    "indices = np.arange(data.shape[0])\n",
    "np.random.shuffle(indices)\n",
    "data = data[indices]\n",
    "labels = labels[indices]\n",
    "VALIDATION_SPLIT = 0.15\n",
    "nb_validation_samples = int(VALIDATION_SPLIT * data.shape[0])\n",
    "\n",
    "x_train = data[:-nb_validation_samples]\n",
    "y_train = labels[:-nb_validation_samples]\n",
    "x_val = data[-nb_validation_samples:]\n",
    "y_val = labels[-nb_validation_samples:]\n",
    "\n",
    "textstest=[]\n",
    "textsshuff=[]\n",
    "for i in indices:\n",
    "  textsshuff.append(texts[i])\n",
    "index_word={}\n",
    "for i,x in word_index.items():\n",
    "    index_word[x]=i\n",
    "textstest=textsshuff[-nb_validation_samples:-nb_validation_samples]\n",
    "\n",
    "thefile = open('gendercleantimedistmodeltesttexts.txt', 'w')\n",
    "for item in textstest:\n",
    "  thefile.write(\"%s\\n\" % item)  \n",
    "\n",
    "#np.save('gendercleantimedistmodelxtest.npy', x_test)\n",
    "#np.save('gendercleantimedistmodelytest.npy', y_test)\n",
    "\n",
    "print('Shape of xtrain tensor:', x_train.shape)\n",
    "print('Shape of ytrain tensor:', y_train.shape)\n",
    "print('Shape of xval tensor:', x_val.shape)\n",
    "print('Shape of yval tensor:', y_val.shape)\n",
    "#print('Shape of xtest tensor:', x_test.shape)\n",
    "#print('Shape of ytest tensor:', y_test.shape)\n",
    "\n",
    "print('Preparing embedding matrix.')\n",
    "# prepare embedding matrix\n",
    "nb_words = min(MAX_NB_WORDS, len(word_index))\n",
    "embedding_matrix = np.zeros((nb_words + 1, EMBEDDING_DIM))\n",
    "for word, i in word_index.items():\n",
    "    if i > MAX_NB_WORDS:\n",
    "        continue\n",
    "    embedding_vector = embeddings_index.get(word)\n",
    "    if embedding_vector is not None:\n",
    "        # words not found in embedding index will be all-zeros.\n",
    "        embedding_matrix[i] = embedding_vector\n",
    "        \n",
    "# load pre-trained word embeddings into an Embedding layer\n",
    "# note that we set trainable = False so as to keep the embeddings fixed\n",
    "embedding_layer = Embedding(nb_words + 1,\n",
    "                            EMBEDDING_DIM,\n",
    "                            weights=[embedding_matrix],\n",
    "                            input_length=MAX_SEQUENCE_LENGTH,\n",
    "                            trainable=True)"
   ]
  },
  {
   "cell_type": "markdown",
   "metadata": {},
   "source": [
    "# Next, we define the model"
   ]
  },
  {
   "cell_type": "code",
   "execution_count": 5,
   "metadata": {
    "collapsed": false
   },
   "outputs": [
    {
     "name": "stdout",
     "output_type": "stream",
     "text": [
      "____________________________________________________________________________________________________\n",
      "Layer (type)                     Output Shape          Param #     Connected to                     \n",
      "====================================================================================================\n",
      "embedding_2 (Embedding)          (None, 208, 300)      1745100     embedding_input_1[0][0]          \n",
      "____________________________________________________________________________________________________\n",
      "dropout_1 (Dropout)              (None, 208, 300)      0           embedding_2[0][0]                \n",
      "____________________________________________________________________________________________________\n",
      "lstm_1 (LSTM)                    (None, 50)            70200       dropout_1[0][0]                  \n",
      "____________________________________________________________________________________________________\n",
      "dropout_2 (Dropout)              (None, 50)            0           lstm_1[0][0]                     \n",
      "____________________________________________________________________________________________________\n",
      "dense_1 (Dense)                  (None, 4)             204         dropout_2[0][0]                  \n",
      "====================================================================================================\n",
      "Total params: 1,815,504\n",
      "Trainable params: 1,815,504\n",
      "Non-trainable params: 0\n",
      "____________________________________________________________________________________________________\n"
     ]
    }
   ],
   "source": [
    "from keras.datasets import imdb\n",
    "from keras.models import Sequential\n",
    "from keras.layers import Dense\n",
    "from keras.layers import LSTM\n",
    "from keras.layers import Dropout\n",
    "from keras.layers.embeddings import Embedding\n",
    "from keras.preprocessing import sequence\n",
    "from keras.models import load_model\n",
    "\n",
    "model = Sequential()\n",
    "model.add(Embedding(nb_words + 1,\n",
    "                            EMBEDDING_DIM,\n",
    "                            weights=[embedding_matrix],\n",
    "                            input_length=MAX_SEQUENCE_LENGTH,\n",
    "                            trainable=True,dropout=0.2))\n",
    "model.add(Dropout(0.5))\n",
    "model.add(LSTM(50))\n",
    "model.add(Dropout(0.5))\n",
    "model.add(Dense(len(labels_index), activation='softmax'))\n",
    "model.summary()"
   ]
  },
  {
   "cell_type": "markdown",
   "metadata": {},
   "source": [
    "# Fit the model\n",
    "\n",
    "I'm fitting it to all the data here, so as to make predictions using novel sentences"
   ]
  },
  {
   "cell_type": "code",
   "execution_count": 75,
   "metadata": {
    "collapsed": false,
    "scrolled": true
   },
   "outputs": [
    {
     "name": "stdout",
     "output_type": "stream",
     "text": [
      "____________________________________________________________________________________________________\n",
      "Layer (type)                     Output Shape          Param #     Connected to                     \n",
      "====================================================================================================\n",
      "embedding_4 (Embedding)          (None, 208, 300)      1745100     embedding_input_2[0][0]          \n",
      "____________________________________________________________________________________________________\n",
      "dropout_5 (Dropout)              (None, 208, 300)      0           embedding_4[0][0]                \n",
      "____________________________________________________________________________________________________\n",
      "lstm_4 (LSTM)                    (None, 50)            70200       dropout_5[0][0]                  \n",
      "____________________________________________________________________________________________________\n",
      "dropout_6 (Dropout)              (None, 50)            0           lstm_4[0][0]                     \n",
      "____________________________________________________________________________________________________\n",
      "dense_4 (Dense)                  (None, 4)             204         dropout_6[0][0]                  \n",
      "====================================================================================================\n",
      "Total params: 1,815,504\n",
      "Trainable params: 1,815,504\n",
      "Non-trainable params: 0\n",
      "____________________________________________________________________________________________________\n",
      "None\n",
      "Train on 5291 samples, validate on 933 samples\n",
      "Epoch 1/35\n",
      "5291/5291 [==============================] - 34s - loss: 1.2839 - precision: 0.4631 - recall: 0.0571 - fmeasure: 0.0926 - categorical_accuracy: 0.3674 - val_loss: 1.0163 - val_precision: 0.5177 - val_recall: 0.2594 - val_fmeasure: 0.3452 - val_categorical_accuracy: 0.4587\n",
      "Epoch 2/35\n",
      "5291/5291 [==============================] - 34s - loss: 1.0201 - precision: 0.5285 - recall: 0.2839 - fmeasure: 0.3672 - categorical_accuracy: 0.4776 - val_loss: 0.8966 - val_precision: 0.5136 - val_recall: 0.4330 - val_fmeasure: 0.4698 - val_categorical_accuracy: 0.5005\n",
      "Epoch 3/35\n",
      "5291/5291 [==============================] - 34s - loss: 0.9266 - precision: 0.5433 - recall: 0.3699 - fmeasure: 0.4390 - categorical_accuracy: 0.5095 - val_loss: 0.9243 - val_precision: 0.5171 - val_recall: 0.4577 - val_fmeasure: 0.4855 - val_categorical_accuracy: 0.4877\n",
      "Epoch 4/35\n",
      "5291/5291 [==============================] - 34s - loss: 0.8893 - precision: 0.5603 - recall: 0.4190 - fmeasure: 0.4790 - categorical_accuracy: 0.5320 - val_loss: 0.9560 - val_precision: 0.5252 - val_recall: 0.4695 - val_fmeasure: 0.4956 - val_categorical_accuracy: 0.4995\n",
      "Epoch 5/35\n",
      "5291/5291 [==============================] - 34s - loss: 0.8701 - precision: 0.5665 - recall: 0.4406 - fmeasure: 0.4952 - categorical_accuracy: 0.5434 - val_loss: 0.8706 - val_precision: 0.5354 - val_recall: 0.4770 - val_fmeasure: 0.5044 - val_categorical_accuracy: 0.5209\n",
      "Epoch 6/35\n",
      "5291/5291 [==============================] - 35s - loss: 0.8485 - precision: 0.5774 - recall: 0.4625 - fmeasure: 0.5132 - categorical_accuracy: 0.5530 - val_loss: 0.7952 - val_precision: 0.5839 - val_recall: 0.5305 - val_fmeasure: 0.5559 - val_categorical_accuracy: 0.5627\n",
      "Epoch 7/35\n",
      "5291/5291 [==============================] - 33s - loss: 0.8283 - precision: 0.5931 - recall: 0.4944 - fmeasure: 0.5391 - categorical_accuracy: 0.5685 - val_loss: 0.7728 - val_precision: 0.5942 - val_recall: 0.5423 - val_fmeasure: 0.5670 - val_categorical_accuracy: 0.5831\n",
      "Epoch 8/35\n",
      "5291/5291 [==============================] - 35s - loss: 0.7914 - precision: 0.6089 - recall: 0.5135 - fmeasure: 0.5570 - categorical_accuracy: 0.5844 - val_loss: 0.8741 - val_precision: 0.5559 - val_recall: 0.5134 - val_fmeasure: 0.5337 - val_categorical_accuracy: 0.5402\n",
      "Epoch 9/35\n",
      "5291/5291 [==============================] - 33s - loss: 0.7844 - precision: 0.6180 - recall: 0.5273 - fmeasure: 0.5688 - categorical_accuracy: 0.5904 - val_loss: 0.7632 - val_precision: 0.6051 - val_recall: 0.5563 - val_fmeasure: 0.5795 - val_categorical_accuracy: 0.5916\n",
      "Epoch 10/35\n",
      "5291/5291 [==============================] - 34s - loss: 0.7742 - precision: 0.6200 - recall: 0.5409 - fmeasure: 0.5775 - categorical_accuracy: 0.5969 - val_loss: 0.7884 - val_precision: 0.5583 - val_recall: 0.5241 - val_fmeasure: 0.5406 - val_categorical_accuracy: 0.5552\n",
      "Epoch 11/35\n",
      "5291/5291 [==============================] - 35s - loss: 0.7704 - precision: 0.6304 - recall: 0.5417 - fmeasure: 0.5824 - categorical_accuracy: 0.6040 - val_loss: 0.8157 - val_precision: 0.5761 - val_recall: 0.4759 - val_fmeasure: 0.5209 - val_categorical_accuracy: 0.5509\n",
      "Epoch 12/35\n",
      "5291/5291 [==============================] - 33s - loss: 0.7499 - precision: 0.6373 - recall: 0.5557 - fmeasure: 0.5931 - categorical_accuracy: 0.6152 - val_loss: 0.8075 - val_precision: 0.5822 - val_recall: 0.5659 - val_fmeasure: 0.5739 - val_categorical_accuracy: 0.5756\n",
      "Epoch 13/35\n",
      "5291/5291 [==============================] - 33s - loss: 0.7316 - precision: 0.6475 - recall: 0.5812 - fmeasure: 0.6125 - categorical_accuracy: 0.6262 - val_loss: 0.7445 - val_precision: 0.6121 - val_recall: 0.5756 - val_fmeasure: 0.5932 - val_categorical_accuracy: 0.5927\n",
      "Epoch 14/35\n",
      "5291/5291 [==============================] - 34s - loss: 0.7179 - precision: 0.6635 - recall: 0.5980 - fmeasure: 0.6289 - categorical_accuracy: 0.6454 - val_loss: 0.8089 - val_precision: 0.5857 - val_recall: 0.5670 - val_fmeasure: 0.5761 - val_categorical_accuracy: 0.5809\n",
      "Epoch 15/35\n",
      "5291/5291 [==============================] - 32s - loss: 0.7060 - precision: 0.6704 - recall: 0.6071 - fmeasure: 0.6371 - categorical_accuracy: 0.6460 - val_loss: 0.7889 - val_precision: 0.6086 - val_recall: 0.5820 - val_fmeasure: 0.5950 - val_categorical_accuracy: 0.6013\n",
      "Epoch 16/35\n",
      "5291/5291 [==============================] - 35s - loss: 0.6955 - precision: 0.6797 - recall: 0.6173 - fmeasure: 0.6468 - categorical_accuracy: 0.6577 - val_loss: 0.8431 - val_precision: 0.6051 - val_recall: 0.5798 - val_fmeasure: 0.5921 - val_categorical_accuracy: 0.5970\n",
      "Epoch 17/35\n",
      "5291/5291 [==============================] - 34s - loss: 0.6918 - precision: 0.6746 - recall: 0.6184 - fmeasure: 0.6452 - categorical_accuracy: 0.6541 - val_loss: 0.7716 - val_precision: 0.6165 - val_recall: 0.5938 - val_fmeasure: 0.6049 - val_categorical_accuracy: 0.6056\n",
      "Epoch 18/35\n",
      "5291/5291 [==============================] - 33s - loss: 0.6817 - precision: 0.6866 - recall: 0.6284 - fmeasure: 0.6561 - categorical_accuracy: 0.6638 - val_loss: 0.7784 - val_precision: 0.6159 - val_recall: 0.5906 - val_fmeasure: 0.6029 - val_categorical_accuracy: 0.6034\n",
      "Epoch 19/35\n",
      "5291/5291 [==============================] - 34s - loss: 0.6803 - precision: 0.6926 - recall: 0.6432 - fmeasure: 0.6669 - categorical_accuracy: 0.6745 - val_loss: 0.7555 - val_precision: 0.6236 - val_recall: 0.5959 - val_fmeasure: 0.6094 - val_categorical_accuracy: 0.6141\n",
      "Epoch 20/35\n",
      "5291/5291 [==============================] - 34s - loss: 0.6632 - precision: 0.6956 - recall: 0.6473 - fmeasure: 0.6704 - categorical_accuracy: 0.6770 - val_loss: 0.7885 - val_precision: 0.6150 - val_recall: 0.5916 - val_fmeasure: 0.6030 - val_categorical_accuracy: 0.6045\n",
      "Epoch 21/35\n",
      "5291/5291 [==============================] - 34s - loss: 0.6577 - precision: 0.7020 - recall: 0.6502 - fmeasure: 0.6749 - categorical_accuracy: 0.6825 - val_loss: 0.7521 - val_precision: 0.6230 - val_recall: 0.6013 - val_fmeasure: 0.6119 - val_categorical_accuracy: 0.6120\n",
      "Epoch 22/35\n",
      "5291/5291 [==============================] - 34s - loss: 0.6441 - precision: 0.7131 - recall: 0.6645 - fmeasure: 0.6878 - categorical_accuracy: 0.6974 - val_loss: 0.8866 - val_precision: 0.6076 - val_recall: 0.5852 - val_fmeasure: 0.5961 - val_categorical_accuracy: 0.6002\n",
      "Epoch 23/35\n",
      "5291/5291 [==============================] - 33s - loss: 0.6461 - precision: 0.7153 - recall: 0.6715 - fmeasure: 0.6926 - categorical_accuracy: 0.6995 - val_loss: 0.7769 - val_precision: 0.6406 - val_recall: 0.6227 - val_fmeasure: 0.6315 - val_categorical_accuracy: 0.6324\n",
      "Epoch 24/35\n",
      "5291/5291 [==============================] - 33s - loss: 0.6271 - precision: 0.7156 - recall: 0.6706 - fmeasure: 0.6923 - categorical_accuracy: 0.7010 - val_loss: 0.7810 - val_precision: 0.6354 - val_recall: 0.6077 - val_fmeasure: 0.6211 - val_categorical_accuracy: 0.6238\n",
      "Epoch 25/35\n",
      "5291/5291 [==============================] - 33s - loss: 0.6229 - precision: 0.7180 - recall: 0.6744 - fmeasure: 0.6954 - categorical_accuracy: 0.7029 - val_loss: 0.7293 - val_precision: 0.6413 - val_recall: 0.6141 - val_fmeasure: 0.6273 - val_categorical_accuracy: 0.6281\n",
      "Epoch 26/35\n",
      "5291/5291 [==============================] - 34s - loss: 0.6089 - precision: 0.7336 - recall: 0.6936 - fmeasure: 0.7130 - categorical_accuracy: 0.7188 - val_loss: 0.7296 - val_precision: 0.6484 - val_recall: 0.6238 - val_fmeasure: 0.6358 - val_categorical_accuracy: 0.6409\n",
      "Epoch 27/35\n",
      "5291/5291 [==============================] - 34s - loss: 0.5975 - precision: 0.7395 - recall: 0.7016 - fmeasure: 0.7199 - categorical_accuracy: 0.7233 - val_loss: 0.7692 - val_precision: 0.6293 - val_recall: 0.6099 - val_fmeasure: 0.6194 - val_categorical_accuracy: 0.6249\n",
      "Epoch 28/35\n",
      "5291/5291 [==============================] - 34s - loss: 0.5988 - precision: 0.7453 - recall: 0.7063 - fmeasure: 0.7251 - categorical_accuracy: 0.7331 - val_loss: 0.7969 - val_precision: 0.6100 - val_recall: 0.5981 - val_fmeasure: 0.6039 - val_categorical_accuracy: 0.6066\n",
      "Epoch 29/35\n",
      "5291/5291 [==============================] - 36s - loss: 0.5867 - precision: 0.7433 - recall: 0.7042 - fmeasure: 0.7231 - categorical_accuracy: 0.7284 - val_loss: 0.8138 - val_precision: 0.6205 - val_recall: 0.6077 - val_fmeasure: 0.6140 - val_categorical_accuracy: 0.6131\n",
      "Epoch 30/35\n",
      "5291/5291 [==============================] - 33s - loss: 0.5732 - precision: 0.7582 - recall: 0.7165 - fmeasure: 0.7367 - categorical_accuracy: 0.7435 - val_loss: 0.8641 - val_precision: 0.6154 - val_recall: 0.6013 - val_fmeasure: 0.6082 - val_categorical_accuracy: 0.6120\n",
      "Epoch 31/35\n",
      "5291/5291 [==============================] - 32s - loss: 0.5590 - precision: 0.7627 - recall: 0.7303 - fmeasure: 0.7461 - categorical_accuracy: 0.7507 - val_loss: 0.8147 - val_precision: 0.6287 - val_recall: 0.6109 - val_fmeasure: 0.6197 - val_categorical_accuracy: 0.6227\n",
      "Epoch 32/35\n",
      "5291/5291 [==============================] - 33s - loss: 0.5649 - precision: 0.7577 - recall: 0.7235 - fmeasure: 0.7401 - categorical_accuracy: 0.7437 - val_loss: 0.8198 - val_precision: 0.6351 - val_recall: 0.6195 - val_fmeasure: 0.6272 - val_categorical_accuracy: 0.6281\n",
      "Epoch 33/35\n",
      "5291/5291 [==============================] - 32s - loss: 0.5459 - precision: 0.7758 - recall: 0.7454 - fmeasure: 0.7603 - categorical_accuracy: 0.7607 - val_loss: 0.8255 - val_precision: 0.6357 - val_recall: 0.6206 - val_fmeasure: 0.6280 - val_categorical_accuracy: 0.6302\n",
      "Epoch 34/35\n",
      "5291/5291 [==============================] - 33s - loss: 0.5530 - precision: 0.7655 - recall: 0.7322 - fmeasure: 0.7484 - categorical_accuracy: 0.7507 - val_loss: 0.8133 - val_precision: 0.6300 - val_recall: 0.6088 - val_fmeasure: 0.6192 - val_categorical_accuracy: 0.6174\n",
      "Epoch 35/35\n",
      "5291/5291 [==============================] - 33s - loss: 0.5276 - precision: 0.7841 - recall: 0.7515 - fmeasure: 0.7674 - categorical_accuracy: 0.7689 - val_loss: 0.8591 - val_precision: 0.6203 - val_recall: 0.6002 - val_fmeasure: 0.6101 - val_categorical_accuracy: 0.6077\n"
     ]
    }
   ],
   "source": [
    "#model.compile(loss='categorical_crossentropy', optimizer='rmsprop', metrics=[precision,recall,fmeasure,categorical_accuracy])\n",
    "#print(model.summary())\n",
    "#bz=128\n",
    "#model.fit(x_train, y_train, validation_data=(x_val, y_val),\n",
    "#          nb_epoch=35, batch_size=bz)\n",
    "#model.save_weights('finalgendermodel.h5')"
   ]
  },
  {
   "cell_type": "markdown",
   "metadata": {},
   "source": [
    "# Next, restructure the model to make predictions"
   ]
  },
  {
   "cell_type": "code",
   "execution_count": 6,
   "metadata": {
    "collapsed": false
   },
   "outputs": [
    {
     "name": "stdout",
     "output_type": "stream",
     "text": [
      "____________________________________________________________________________________________________\n",
      "Layer (type)                     Output Shape          Param #     Connected to                     \n",
      "====================================================================================================\n",
      "embedding_2 (Embedding)          (None, 208, 300)      1745100     embedding_input_1[0][0]          \n",
      "____________________________________________________________________________________________________\n",
      "dropout_1 (Dropout)              (None, 208, 300)      0           embedding_2[0][0]                \n",
      "____________________________________________________________________________________________________\n",
      "lstm_1 (LSTM)                    (None, 50)            70200       dropout_1[0][0]                  \n",
      "____________________________________________________________________________________________________\n",
      "dropout_2 (Dropout)              (None, 50)            0           lstm_1[0][0]                     \n",
      "____________________________________________________________________________________________________\n",
      "dense_1 (Dense)                  (None, 4)             204         dropout_2[0][0]                  \n",
      "====================================================================================================\n",
      "Total params: 1,815,504\n",
      "Trainable params: 1,815,504\n",
      "Non-trainable params: 0\n",
      "____________________________________________________________________________________________________\n"
     ]
    },
    {
     "data": {
      "text/plain": [
       "['dropout_1', 'lstm_1', 'dense_1', 'dropout_2', 'embedding_2']"
      ]
     },
     "execution_count": 6,
     "metadata": {},
     "output_type": "execute_result"
    }
   ],
   "source": [
    "from keras.layers import TimeDistributed\n",
    "model.load_weights('finalgendermodel.h5')\n",
    "model.summary()\n",
    "layer_dict = dict([(layer.name, layer) for layer in model.layers])\n",
    "layer_dict.keys()"
   ]
  },
  {
   "cell_type": "code",
   "execution_count": 7,
   "metadata": {
    "collapsed": false
   },
   "outputs": [
    {
     "name": "stdout",
     "output_type": "stream",
     "text": [
      "____________________________________________________________________________________________________\n",
      "Layer (type)                     Output Shape          Param #     Connected to                     \n",
      "====================================================================================================\n",
      "embedding_2 (Embedding)          (None, 208, 300)      1745100     embedding_input_1[0][0]          \n",
      "____________________________________________________________________________________________________\n",
      "dropout_1 (Dropout)              (None, 208, 300)      0           embedding_2[0][0]                \n",
      "____________________________________________________________________________________________________\n",
      "lstm_2 (LSTM)                    (None, 208, 50)       70200       dropout_1[0][0]                  \n",
      "____________________________________________________________________________________________________\n",
      "dropout_3 (Dropout)              (None, 208, 50)       0           lstm_2[0][0]                     \n",
      "____________________________________________________________________________________________________\n",
      "timedistributed_1 (TimeDistribut (None, 208, 4)        204         dropout_3[0][0]                  \n",
      "====================================================================================================\n",
      "Total params: 1,815,504\n",
      "Trainable params: 1,815,504\n",
      "Non-trainable params: 0\n",
      "____________________________________________________________________________________________________\n"
     ]
    }
   ],
   "source": [
    "#layer_dict['lstm_2'].get_weights()\n",
    "dens=layer_dict['dense_1'].get_weights()\n",
    "lstmw=layer_dict['lstm_1'].get_weights()\n",
    "model.pop()\n",
    "model.pop()\n",
    "model.pop()\n",
    "lstmout = LSTM(50,\n",
    "               return_sequences=True,\n",
    "               stateful=False,weights=lstmw)\n",
    "model.add(lstmout)\n",
    "model.add(Dropout(0.5))\n",
    "templayer=TimeDistributed(Dense(len(labels_index), activation='softmax',weights=dens))\n",
    "model.add(templayer)\n",
    "model.summary()"
   ]
  },
  {
   "cell_type": "markdown",
   "metadata": {},
   "source": [
    "# Here, I make some novel sentences to pass to the network\n",
    "(social words)"
   ]
  },
  {
   "cell_type": "code",
   "execution_count": 93,
   "metadata": {
    "collapsed": false
   },
   "outputs": [],
   "source": [
    "import spacy\n",
    "nlp = spacy.load('en')\n",
    "df = pd.read_csv('../../Text_dictionaries/LIWC/Social.csv', header=None, names=['word'], encoding='UTF-8')"
   ]
  },
  {
   "cell_type": "code",
   "execution_count": 109,
   "metadata": {
    "collapsed": false
   },
   "outputs": [],
   "source": [
    "df = df[~df.word.str.contains('\\*')]"
   ]
  },
  {
   "cell_type": "code",
   "execution_count": 110,
   "metadata": {
    "collapsed": false
   },
   "outputs": [],
   "source": [
    "#df[df.word.str.contains('\\*')]\n",
    "df['pos'] = df['word'].apply(lambda x: nlp(x)[0].pos_)\n",
    "df['lemma'] = df['word'].apply(lambda x: nlp(x)[0].lemma_)\n",
    "\n",
    "df['sent'] = 'These values are important because my'\n",
    "df.sent.loc[df.pos=='VERB'] = 'These values'\n",
    "df.sent.loc[df.pos=='PRON'] = 'These values are important to'\n",
    "df.sent.loc[df.pos=='ADJ'] = 'These values are important because my'\n",
    "df.sent.loc[df.pos=='INTJ'] = ''\n",
    "df.sent.loc[df.pos=='ADV'] = 'These values are important because my'\n",
    "df['test_sent'] = df.sent+' '+df.word\n",
    "df['sent_wo'] = 'These values are important because without my'\n",
    "df.sent_wo.loc[df.pos=='VERB'] = 'These values don\\'t' \n",
    "df.sent_wo.loc[df.pos=='PRON'] = 'These values are not important to'\n",
    "df.sent_wo.loc[df.pos=='ADJ'] = 'These values are important because without my'\n",
    "df.sent_wo.loc[df.pos=='INTJ'] = ''\n",
    "df.sent_wo.loc[df.pos=='ADV'] = 'These values are important because without my'\n",
    "df['test_sent_wo'] = df.sent_wo+' '+df.lemma\n",
    "df.test_sent_wo.loc[df.pos=='PRON'] = df.sent_wo + ' ' + df.word"
   ]
  },
  {
   "cell_type": "markdown",
   "metadata": {},
   "source": [
    "# Make predictions and save important bits"
   ]
  },
  {
   "cell_type": "code",
   "execution_count": 111,
   "metadata": {
    "collapsed": false
   },
   "outputs": [
    {
     "name": "stdout",
     "output_type": "stream",
     "text": [
      "259/259 [==============================] - 0s     \n",
      "259/259 [==============================] - 0s     \n"
     ]
    }
   ],
   "source": [
    "subdat = df.drop_duplicates(subset='test_sent')\n",
    "subdat['test_sent'] = subdat['test_sent'].apply(lambda x: str(x))\n",
    "test_seq = tokenizer.texts_to_sequences(subdat['test_sent'])\n",
    "full_dat = pad_sequences(test_seq, maxlen=MAX_SEQUENCE_LENGTH)\n",
    "preds = model.predict(full_dat, verbose=1)\n",
    "word_index = tokenizer.word_index\n",
    "index_word={}\n",
    "for i,x in word_index.items():\n",
    "    index_word[x]=i\n",
    "np.save('testsentiw.npy', index_word)\n",
    "np.save('testsentiw_inv.npy', word_index)\n",
    "np.save('testsentpreds.npy', preds)\n",
    "np.save('testsentxdat.npy', full_dat)\n",
    "np.save('testdat.npy', subdat)\n",
    "\n",
    "subdat['test_sent_wo'] = subdat['test_sent_wo'].apply(lambda x: str(x))\n",
    "test_seq = tokenizer.texts_to_sequences(subdat['test_sent_wo'])\n",
    "full_dat = pad_sequences(test_seq, maxlen=MAX_SEQUENCE_LENGTH)\n",
    "preds_wo = model.predict(full_dat, verbose=1)\n",
    "word_index_wo = tokenizer.word_index\n",
    "index_word_wo={}\n",
    "for i,x in word_index_wo.items():\n",
    "    index_word_wo[x]=i\n",
    "np.save('testsentiw_wo.npy', index_word_wo)\n",
    "np.save('testsentiw_inv_wo.npy', word_index_wo)\n",
    "np.save('testsentpreds_wo.npy', preds_wo)\n",
    "np.save('testsentxdat_wo.npy', full_dat)"
   ]
  },
  {
   "cell_type": "markdown",
   "metadata": {},
   "source": [
    "# Here, I make some novel sentences to pass to the network\n",
    "(positive emotion words)"
   ]
  },
  {
   "cell_type": "code",
   "execution_count": 118,
   "metadata": {
    "collapsed": false
   },
   "outputs": [],
   "source": [
    "df = pd.read_csv('../../Text_dictionaries/LIWC/Posemo.csv', header=None, names=['word'], encoding='UTF-8')"
   ]
  },
  {
   "cell_type": "code",
   "execution_count": 119,
   "metadata": {
    "collapsed": false
   },
   "outputs": [],
   "source": [
    "df = df[~df.word.str.contains('\\*')]"
   ]
  },
  {
   "cell_type": "code",
   "execution_count": 120,
   "metadata": {
    "collapsed": false
   },
   "outputs": [],
   "source": [
    "#df[df.word.str.contains('\\*')]\n",
    "df['pos'] = df['word'].apply(lambda x: nlp(x)[0].pos_)\n",
    "df['lemma'] = df['word'].apply(lambda x: nlp(x)[0].lemma_)\n",
    "\n",
    "df['sent'] = 'These values are important because my'\n",
    "df.sent.loc[df.pos=='VERB'] = 'These values'\n",
    "df.sent.loc[df.pos=='PRON'] = 'These values are important to'\n",
    "df.sent.loc[df.pos=='ADJ'] = 'These values are important because my'\n",
    "df.sent.loc[df.pos=='INTJ'] = ''\n",
    "df.sent.loc[df.pos=='ADV'] = 'These values are important because my'\n",
    "df['test_sent'] = df.sent+' '+df.word\n",
    "df['sent_wo'] = 'These values are important because without my'\n",
    "df.sent_wo.loc[df.pos=='VERB'] = 'These values don\\'t' \n",
    "df.sent_wo.loc[df.pos=='PRON'] = 'These values are not important to'\n",
    "df.sent_wo.loc[df.pos=='ADJ'] = 'These values are important because without my'\n",
    "df.sent_wo.loc[df.pos=='INTJ'] = ''\n",
    "df.sent_wo.loc[df.pos=='ADV'] = 'These values are important because without my'\n",
    "df['test_sent_wo'] = df.sent_wo+' '+df.lemma\n",
    "df.test_sent_wo.loc[df.pos=='PRON'] = df.sent_wo + ' ' + df.word"
   ]
  },
  {
   "cell_type": "markdown",
   "metadata": {},
   "source": [
    "# Make predictions and save important bits"
   ]
  },
  {
   "cell_type": "code",
   "execution_count": 121,
   "metadata": {
    "collapsed": false
   },
   "outputs": [
    {
     "name": "stdout",
     "output_type": "stream",
     "text": [
      "159/159 [==============================] - 0s     \n",
      "159/159 [==============================] - 0s     \n"
     ]
    }
   ],
   "source": [
    "subdat = df.drop_duplicates(subset='test_sent')\n",
    "subdat['test_sent'] = subdat['test_sent'].apply(lambda x: str(x))\n",
    "test_seq = tokenizer.texts_to_sequences(subdat['test_sent'])\n",
    "full_dat = pad_sequences(test_seq, maxlen=MAX_SEQUENCE_LENGTH)\n",
    "preds = model.predict(full_dat, verbose=1)\n",
    "word_index = tokenizer.word_index\n",
    "index_word={}\n",
    "for i,x in word_index.items():\n",
    "    index_word[x]=i\n",
    "np.save('testsentiw.npy', index_word)\n",
    "np.save('testsentiw_inv.npy', word_index)\n",
    "np.save('testsentpreds.npy', preds)\n",
    "np.save('testsentxdat.npy', full_dat)\n",
    "np.save('testdat.npy', subdat)\n",
    "\n",
    "subdat['test_sent_wo'] = subdat['test_sent_wo'].apply(lambda x: str(x))\n",
    "test_seq = tokenizer.texts_to_sequences(subdat['test_sent_wo'])\n",
    "full_dat = pad_sequences(test_seq, maxlen=MAX_SEQUENCE_LENGTH)\n",
    "preds_wo = model.predict(full_dat, verbose=1)\n",
    "word_index_wo = tokenizer.word_index\n",
    "index_word_wo={}\n",
    "for i,x in word_index_wo.items():\n",
    "    index_word_wo[x]=i\n",
    "np.save('testsentiw_wo.npy', index_word_wo)\n",
    "np.save('testsentiw_inv_wo.npy', word_index_wo)\n",
    "np.save('testsentpreds_wo.npy', preds_wo)\n",
    "np.save('testsentxdat_wo.npy', full_dat)"
   ]
  },
  {
   "cell_type": "markdown",
   "metadata": {},
   "source": [
    "# Here, I make some novel sentences to pass to the network\n",
    "(positive emotion words)"
   ]
  },
  {
   "cell_type": "code",
   "execution_count": 122,
   "metadata": {
    "collapsed": false
   },
   "outputs": [],
   "source": [
    "df = pd.read_csv('../../Text_dictionaries/LIWC/Negemo.csv', header=None, names=['word'], encoding='UTF-8')"
   ]
  },
  {
   "cell_type": "code",
   "execution_count": 123,
   "metadata": {
    "collapsed": false
   },
   "outputs": [],
   "source": [
    "df = df[~df.word.str.contains('\\*')]"
   ]
  },
  {
   "cell_type": "code",
   "execution_count": 124,
   "metadata": {
    "collapsed": false
   },
   "outputs": [],
   "source": [
    "#df[df.word.str.contains('\\*')]\n",
    "df['pos'] = df['word'].apply(lambda x: nlp(x)[0].pos_)\n",
    "df['lemma'] = df['word'].apply(lambda x: nlp(x)[0].lemma_)\n",
    "\n",
    "df['sent'] = 'These values are important because my'\n",
    "df.sent.loc[df.pos=='VERB'] = 'These values'\n",
    "df.sent.loc[df.pos=='PRON'] = 'These values are important to'\n",
    "df.sent.loc[df.pos=='ADJ'] = 'These values are important because my'\n",
    "df.sent.loc[df.pos=='INTJ'] = ''\n",
    "df.sent.loc[df.pos=='ADV'] = 'These values are important because my'\n",
    "df['test_sent'] = df.sent+' '+df.word\n",
    "df['sent_wo'] = 'These values are important because without my'\n",
    "df.sent_wo.loc[df.pos=='VERB'] = 'These values don\\'t' \n",
    "df.sent_wo.loc[df.pos=='PRON'] = 'These values are not important to'\n",
    "df.sent_wo.loc[df.pos=='ADJ'] = 'These values are important because without my'\n",
    "df.sent_wo.loc[df.pos=='INTJ'] = ''\n",
    "df.sent_wo.loc[df.pos=='ADV'] = 'These values are important because without my'\n",
    "df['test_sent_wo'] = df.sent_wo+' '+df.lemma\n",
    "df.test_sent_wo.loc[df.pos=='PRON'] = df.sent_wo + ' ' + df.word"
   ]
  },
  {
   "cell_type": "markdown",
   "metadata": {},
   "source": [
    "# Make predictions and save important bits"
   ]
  },
  {
   "cell_type": "code",
   "execution_count": 125,
   "metadata": {
    "collapsed": false
   },
   "outputs": [
    {
     "name": "stdout",
     "output_type": "stream",
     "text": [
      "150/150 [==============================] - 0s     \n",
      "150/150 [==============================] - 0s     \n"
     ]
    }
   ],
   "source": [
    "subdat = df.drop_duplicates(subset='test_sent')\n",
    "subdat['test_sent'] = subdat['test_sent'].apply(lambda x: str(x))\n",
    "test_seq = tokenizer.texts_to_sequences(subdat['test_sent'])\n",
    "full_dat = pad_sequences(test_seq, maxlen=MAX_SEQUENCE_LENGTH)\n",
    "preds = model.predict(full_dat, verbose=1)\n",
    "word_index = tokenizer.word_index\n",
    "index_word={}\n",
    "for i,x in word_index.items():\n",
    "    index_word[x]=i\n",
    "np.save('testsentiw.npy', index_word)\n",
    "np.save('testsentiw_inv.npy', word_index)\n",
    "np.save('testsentpreds.npy', preds)\n",
    "np.save('testsentxdat.npy', full_dat)\n",
    "np.save('testdat.npy', subdat)\n",
    "\n",
    "subdat['test_sent_wo'] = subdat['test_sent_wo'].apply(lambda x: str(x))\n",
    "test_seq = tokenizer.texts_to_sequences(subdat['test_sent_wo'])\n",
    "full_dat = pad_sequences(test_seq, maxlen=MAX_SEQUENCE_LENGTH)\n",
    "preds_wo = model.predict(full_dat, verbose=1)\n",
    "word_index_wo = tokenizer.word_index\n",
    "index_word_wo={}\n",
    "for i,x in word_index_wo.items():\n",
    "    index_word_wo[x]=i\n",
    "np.save('testsentiw_wo.npy', index_word_wo)\n",
    "np.save('testsentiw_inv_wo.npy', word_index_wo)\n",
    "np.save('testsentpreds_wo.npy', preds_wo)\n",
    "np.save('testsentxdat_wo.npy', full_dat)"
   ]
  },
  {
   "cell_type": "code",
   "execution_count": null,
   "metadata": {
    "collapsed": true
   },
   "outputs": [],
   "source": []
  }
 ],
 "metadata": {
  "anaconda-cloud": {},
  "kernelspec": {
   "display_name": "Python 2",
   "language": "python",
   "name": "python2"
  },
  "language_info": {
   "codemirror_mode": {
    "name": "ipython",
    "version": 2
   },
   "file_extension": ".py",
   "mimetype": "text/x-python",
   "name": "python",
   "nbconvert_exporter": "python",
   "pygments_lexer": "ipython2",
   "version": "2.7.12"
  }
 },
 "nbformat": 4,
 "nbformat_minor": 1
}

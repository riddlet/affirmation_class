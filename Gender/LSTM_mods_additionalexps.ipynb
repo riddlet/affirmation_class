{
 "cells": [
  {
   "cell_type": "code",
   "execution_count": 2,
   "metadata": {
    "collapsed": false
   },
   "outputs": [
    {
     "name": "stdout",
     "output_type": "stream",
     "text": [
      "Indexing word vectors.\n",
      "Found 2196016 word vectors.\n"
     ]
    }
   ],
   "source": [
    "from __future__ import print_function\n",
    "import os\n",
    "import numpy as np\n",
    "np.random.seed(1337)\n",
    "__docformat__ = 'restructedtext en'\n",
    "import timeit\n",
    "import numpy\n",
    "import scipy.io\n",
    "\n",
    "from keras.preprocessing.text import Tokenizer\n",
    "from keras.preprocessing.sequence import pad_sequences\n",
    "from keras.utils.np_utils import to_categorical\n",
    "from keras.layers import Dense, Input, Flatten\n",
    "from keras.layers import Conv1D, MaxPooling1D, Embedding\n",
    "from keras.models import Model\n",
    "import sys\n",
    "BASE_DIR = '/Users/triddle/Documents/Gits/'\n",
    "GLOVE_DIR = BASE_DIR + '/Data/'\n",
    "#MAX_SEQUENCE_LENGTH = 210\n",
    "MAX_NB_WORDS = 20000\n",
    "EMBEDDING_DIM = 300\n",
    "VALIDATION_SPLIT = 0.2\n",
    "# first, build index mapping words in the embeddings set\n",
    "# to their embedding vector\n",
    "\n",
    "print('Indexing word vectors.')\n",
    "\n",
    "embeddings_index = {}\n",
    "f = open(os.path.join(GLOVE_DIR, 'glove.840B.300d.txt'))\n",
    "for line in f:\n",
    "    values = line.split()\n",
    "    word = values[0]\n",
    "    coefs = np.asarray(values[1:], dtype='float32')\n",
    "    embeddings_index[word] = coefs\n",
    "f.close()\n",
    "\n",
    "print('Found %s word vectors.' % len(embeddings_index))\n"
   ]
  },
  {
   "cell_type": "code",
   "execution_count": 1,
   "metadata": {
    "collapsed": false
   },
   "outputs": [
    {
     "name": "stderr",
     "output_type": "stream",
     "text": [
      "Using Theano backend.\n"
     ]
    }
   ],
   "source": [
    "# for custom metrics\n",
    "import keras.backend as K\n",
    "from keras.utils.generic_utils import get_from_module\n",
    "\n",
    "def categorical_accuracy(y_true, y_pred):\n",
    "    \"\"\"Categorical accuracy metric.\n",
    "\n",
    "    Computes the mean accuracy rate across all predictions for\n",
    "    multiclass classification problems.\n",
    "    \"\"\"\n",
    "    return K.mean(K.equal(K.argmax(y_true, axis=-1),\n",
    "                          K.argmax(y_pred, axis=-1)))\n",
    "\n",
    "\n",
    "def precision(y_true, y_pred):\n",
    "    \"\"\"Precision metric.\n",
    "\n",
    "    Only computes a batch-wise average of precision.\n",
    "\n",
    "    Computes the precision, a metric for multi-label classification of\n",
    "    how many selected items are relevant.\n",
    "    \"\"\"\n",
    "    true_positives = K.sum(K.round(K.clip(y_true * y_pred, 0, 1)))\n",
    "    predicted_positives = K.sum(K.round(K.clip(y_pred, 0, 1)))\n",
    "    precision = true_positives / (predicted_positives + K.epsilon())\n",
    "    return precision\n",
    "\n",
    "\n",
    "def recall(y_true, y_pred):\n",
    "    \"\"\"Recall metric.\n",
    "\n",
    "    Only computes a batch-wise average of recall.\n",
    "\n",
    "    Computes the recall, a metric for multi-label classification of\n",
    "    how many relevant items are selected.\n",
    "    \"\"\"\n",
    "    true_positives = K.sum(K.round(K.clip(y_true * y_pred, 0, 1)))\n",
    "    possible_positives = K.sum(K.round(K.clip(y_true, 0, 1)))\n",
    "    recall = true_positives / (possible_positives + K.epsilon())\n",
    "    return recall\n",
    "\n",
    "\n",
    "def fbeta_score(y_true, y_pred, beta=1):\n",
    "    \"\"\"Computes the F score.\n",
    "\n",
    "    The F score is the weighted harmonic mean of precision and recall.\n",
    "    Here it is only computed as a batch-wise average, not globally.\n",
    "\n",
    "    This is useful for multi-label classification, where input samples can be\n",
    "    classified as sets of labels. By only using accuracy (precision) a model\n",
    "    would achieve a perfect score by simply assigning every class to every\n",
    "    input. In order to avoid this, a metric should penalize incorrect class\n",
    "    assignments as well (recall). The F-beta score (ranged from 0.0 to 1.0)\n",
    "    computes this, as a weighted mean of the proportion of correct class\n",
    "    assignments vs. the proportion of incorrect class assignments.\n",
    "\n",
    "    With beta = 1, this is equivalent to a F-measure. With beta < 1, assigning\n",
    "    correct classes becomes more important, and with beta > 1 the metric is\n",
    "    instead weighted towards penalizing incorrect class assignments.\n",
    "    \"\"\"\n",
    "    if beta < 0:\n",
    "        raise ValueError('The lowest choosable beta is zero (only precision).')\n",
    "\n",
    "    # If there are no true positives, fix the F score at 0 like sklearn.\n",
    "    if K.sum(K.round(K.clip(y_true, 0, 1))) == 0:\n",
    "        return 0\n",
    "\n",
    "    p = precision(y_true, y_pred)\n",
    "    r = recall(y_true, y_pred)\n",
    "    bb = beta ** 2\n",
    "    fbeta_score = (1 + bb) * (p * r) / (bb * p + r + K.epsilon())\n",
    "    return fbeta_score\n",
    "\n",
    "\n",
    "def fmeasure(y_true, y_pred):\n",
    "    \"\"\"Computes the f-measure, the harmonic mean of precision and recall.\n",
    "\n",
    "    Here it is only computed as a batch-wise average, not globally.\n",
    "    \"\"\"\n",
    "    return fbeta_score(y_true, y_pred, beta=1)\n"
   ]
  },
  {
   "cell_type": "code",
   "execution_count": 3,
   "metadata": {
    "collapsed": true
   },
   "outputs": [],
   "source": [
    "def create_dat(df_ess, df_dem):\n",
    "    df_ess = df_ess[df_ess.Study=='Connecticut']\n",
    "    df_ess.Condition.replace(['c', 'c2', 'c1', 'c3', 'ca', 'cb', '3'], 'Control', inplace=True)\n",
    "    df_ess.Condition.replace(['t', 't2', 't3', 't1', '1', '2', 'ta', 'tb'], 'Treatment', inplace=True)\n",
    "    df_ess.Condition.replace(['c/t'], np.nan, inplace=True)\n",
    "    \n",
    "    df_dem = df_dem[df_dem.Study=='Connecticut']\n",
    "    df_dem.Ethnicity.replace('Asian', 'Asian American', inplace=True)\n",
    "    df_dem.Ethnicity.replace('Other/Mixed', 'Other', inplace=True)\n",
    "    df_dem = df_dem[['ID', 'Ethnicity', 'Gender']].dropna()\n",
    "    \n",
    "    outdat = pd.merge(df_ess[['ID', 'Intervention_number', 'Essay', 'Condition', 'Intervention_Date', 'corrected']], \n",
    "                    df_dem, how='left', on='ID').drop_duplicates()\n",
    "    \n",
    "    return(outdat)"
   ]
  },
  {
   "cell_type": "markdown",
   "metadata": {},
   "source": [
    "# Here, we're preparing the data"
   ]
  },
  {
   "cell_type": "code",
   "execution_count": 4,
   "metadata": {
    "collapsed": false
   },
   "outputs": [
    {
     "name": "stderr",
     "output_type": "stream",
     "text": [
      "/Users/triddle/anaconda/lib/python2.7/site-packages/matplotlib/font_manager.py:273: UserWarning: Matplotlib is building the font cache using fc-list. This may take a moment.\n",
      "  warnings.warn('Matplotlib is building the font cache using fc-list. This may take a moment.')\n"
     ]
    },
    {
     "name": "stdout",
     "output_type": "stream",
     "text": [
      "Processing text dataset\n"
     ]
    },
    {
     "name": "stderr",
     "output_type": "stream",
     "text": [
      "/Users/triddle/anaconda/lib/python2.7/site-packages/pandas/core/generic.py:3430: SettingWithCopyWarning: \n",
      "A value is trying to be set on a copy of a slice from a DataFrame\n",
      "\n",
      "See the caveats in the documentation: http://pandas.pydata.org/pandas-docs/stable/indexing.html#indexing-view-versus-copy\n",
      "  self._update_inplace(new_data)\n"
     ]
    },
    {
     "name": "stdout",
     "output_type": "stream",
     "text": [
      "Found 1232 total students\n",
      "f    3315\n",
      "m    2909\n",
      "Name: Gender, dtype: int64\n",
      "Control      3473\n",
      "Treatment    2751\n",
      "Name: Condition, dtype: int64\n",
      "mean essay length = 42.8125\n",
      "sd essay length = 23.8684140013\n",
      "Found 6224 texts.\n",
      "Gender  Condition\n",
      "f       Control      1851\n",
      "        Treatment    1464\n",
      "m       Control      1622\n",
      "        Treatment    1287\n",
      "dtype: int64\n",
      "Found 5816 unique tokens.\n",
      "Shape of data tensor: (6224, 208)\n",
      "Shape of label tensor: (6224, 4)\n",
      "Shape of xtrain tensor: (4497, 208)\n",
      "Shape of ytrain tensor: (4497, 4)\n",
      "Shape of xval tensor: (793, 208)\n",
      "Shape of yval tensor: (793, 4)\n",
      "Shape of xtest tensor: (934, 208)\n",
      "Shape of ytest tensor: (934, 4)\n",
      "Preparing embedding matrix.\n"
     ]
    }
   ],
   "source": [
    "import pandas as pd\n",
    "import matplotlib\n",
    "from pandas import DataFrame, read_csv\n",
    "import matplotlib.pyplot as plt\n",
    "import pandas as pd #this is how I usually import pandas\n",
    "import sys #only needed to determine Python version number\n",
    "import matplotlib #only needed to determine Matplotlib version number\n",
    "import numpy as np\n",
    "from sklearn.cross_validation import train_test_split\n",
    "# second, prepare text samples and their labels\n",
    "print('Processing text dataset')\n",
    "df_ess = pd.read_csv('../../Data/3 CSV Files/essays1.23.16.csv', sep='|')\n",
    "df_dem = pd.read_csv('../../Data/3 CSV Files/demog3.2.16.csv')\n",
    "df = create_dat(df_ess, df_dem)\n",
    "df.dropna(axis=0, subset=['corrected', 'Condition'], inplace=True)\n",
    "df['word_count'] = df.corrected.apply(lambda x: len(x.split()))\n",
    "print('Found %s total students' % len(df.ID.value_counts()))\n",
    "print(df.Gender.value_counts())\n",
    "print(df.Condition.value_counts())\n",
    "print('mean essay length = %s' % np.mean(df.word_count))\n",
    "print('sd essay length = %s' % np.std(df.word_count))\n",
    "texts = []  # list of text samples\n",
    "labels_index = {}  # dictionary mapping label name to numeric id\n",
    "labels = []  # list of label ids\n",
    "labels_index['conm']=0\n",
    "labels_index['conf']=1\n",
    "labels_index['affm']=2\n",
    "labels_index['afff']=3\n",
    "texts = df[\"corrected\"].tolist()\n",
    "labelsType = df[\"Condition\"].tolist()\n",
    "labelsRace = df[\"Gender\"].tolist()\n",
    "labelsCombined=[]\n",
    "for i in range(len(labelsType)):\n",
    "    if labelsType[i]=='Control' and labelsRace[i]=='m':\n",
    "        labelsCombined.append(0)\n",
    "    elif labelsType[i]=='Control' and labelsRace[i]=='f':\n",
    "        labelsCombined.append(1)\n",
    "    elif labelsType[i]=='Treatment' and labelsRace[i]=='m':\n",
    "        labelsCombined.append(2)\n",
    "    elif labelsType[i]=='Treatment' and labelsRace[i]=='f':\n",
    "        labelsCombined.append(3)\n",
    "        \n",
    "print('Found %s texts.' % len(texts))\n",
    "\n",
    "print(df.groupby(['Gender', 'Condition']).size())\n",
    "\n",
    "# finally, vectorize the text samples into a 2D integer tensor\n",
    "tokenizer = Tokenizer(nb_words=MAX_NB_WORDS)\n",
    "tokenizer.fit_on_texts(texts)\n",
    "sequences = tokenizer.texts_to_sequences(texts)\n",
    "\n",
    "maxseqval=0\n",
    "for i in range(len(sequences)):\n",
    "    if len(sequences[i])>maxseqval:\n",
    "        maxseqval=len(sequences[i])\n",
    "        \n",
    "MAX_SEQUENCE_LENGTH = maxseqval\n",
    "\n",
    "word_index = tokenizer.word_index\n",
    "print('Found %s unique tokens.' % len(word_index))\n",
    "\n",
    "data = pad_sequences(sequences, maxlen=MAX_SEQUENCE_LENGTH)\n",
    "\n",
    "labels = to_categorical(np.asarray(labelsCombined))\n",
    "print('Shape of data tensor:', data.shape)\n",
    "print('Shape of label tensor:', labels.shape)\n",
    "\n",
    "x_train, x_test, y_train, y_test = train_test_split(data, labels, test_size=.15)\n",
    "\n",
    "# split the data into a training set and a validation set\n",
    "indices = np.arange(x_train.shape[0])\n",
    "np.random.shuffle(indices)\n",
    "data = x_train[indices]\n",
    "labels = y_train[indices]\n",
    "VALIDATION_SPLIT = 0.15\n",
    "#TEST_SPLIT = 0.15\n",
    "nb_val_samples = int(VALIDATION_SPLIT * data.shape[0])\n",
    "#nb_validation_samples = int(VALIDATION_SPLIT * (data.shape[0]-nb_test_samples))\n",
    "\n",
    "\n",
    "x_val = data[-nb_val_samples:]\n",
    "y_val = labels[-nb_val_samples:]\n",
    "#y_val=np.swapaxes(np.tile(y_val, (MAX_SEQUENCE_LENGTH, 1, 1)),0,1)\n",
    "#y_train=np.swapaxes(np.tile(y_train, (MAX_SEQUENCE_LENGTH, 1, 1)),0,1)\n",
    "x_train = data[:-nb_val_samples]\n",
    "y_train = labels[:-nb_val_samples]\n",
    "\n",
    "textstest=[]\n",
    "textsshuff=[]\n",
    "for i in indices:\n",
    "  textsshuff.append(texts[i])\n",
    "index_word={}\n",
    "for i,x in word_index.items():\n",
    "    index_word[x]=i\n",
    "textstest=textsshuff[:nb_val_samples]\n",
    "\n",
    "thefile = open('../output/gendercleantimedistmodeltesttexts.txt', 'w')\n",
    "for item in textstest:\n",
    "  thefile.write(\"%s\\n\" % item)  \n",
    "\n",
    "np.save('../output/gendercleantimedistmodelxtest.npy', x_test)\n",
    "np.save('../output/gendercleantimedistmodelytest.npy', y_test)\n",
    "\n",
    "print('Shape of xtrain tensor:', x_train.shape)\n",
    "print('Shape of ytrain tensor:', y_train.shape)\n",
    "print('Shape of xval tensor:', x_val.shape)\n",
    "print('Shape of yval tensor:', y_val.shape)\n",
    "print('Shape of xtest tensor:', x_test.shape)\n",
    "print('Shape of ytest tensor:', y_test.shape)\n",
    "\n",
    "print('Preparing embedding matrix.')\n",
    "# prepare embedding matrix\n",
    "nb_words = min(MAX_NB_WORDS, len(word_index))\n",
    "embedding_matrix = np.zeros((nb_words + 1, EMBEDDING_DIM))\n",
    "for word, i in word_index.items():\n",
    "    if i > MAX_NB_WORDS:\n",
    "        continue\n",
    "    embedding_vector = embeddings_index.get(word)\n",
    "    if embedding_vector is not None:\n",
    "        # words not found in embedding index will be all-zeros.\n",
    "        embedding_matrix[i] = embedding_vector\n",
    "        \n",
    "# load pre-trained word embeddings into an Embedding layer\n",
    "# note that we set trainable = False so as to keep the embeddings fixed\n",
    "embedding_layer = Embedding(nb_words + 1,\n",
    "                            EMBEDDING_DIM,\n",
    "                            weights=[embedding_matrix],\n",
    "                            input_length=MAX_SEQUENCE_LENGTH,\n",
    "                            trainable=True)\n"
   ]
  },
  {
   "cell_type": "code",
   "execution_count": 5,
   "metadata": {
    "collapsed": false
   },
   "outputs": [
    {
     "name": "stdout",
     "output_type": "stream",
     "text": [
      "____________________________________________________________________________________________________\n",
      "Layer (type)                     Output Shape          Param #     Connected to                     \n",
      "====================================================================================================\n",
      "embedding_2 (Embedding)          (None, 208, 300)      1745100     embedding_input_1[0][0]          \n",
      "____________________________________________________________________________________________________\n",
      "dropout_1 (Dropout)              (None, 208, 300)      0           embedding_2[0][0]                \n",
      "____________________________________________________________________________________________________\n",
      "lstm_1 (LSTM)                    (None, 50)            70200       dropout_1[0][0]                  \n",
      "____________________________________________________________________________________________________\n",
      "dropout_2 (Dropout)              (None, 50)            0           lstm_1[0][0]                     \n",
      "____________________________________________________________________________________________________\n",
      "dense_1 (Dense)                  (None, 4)             204         dropout_2[0][0]                  \n",
      "====================================================================================================\n",
      "Total params: 1,815,504\n",
      "Trainable params: 1,815,504\n",
      "Non-trainable params: 0\n",
      "____________________________________________________________________________________________________\n"
     ]
    }
   ],
   "source": [
    "from keras.datasets import imdb\n",
    "from keras.models import Sequential\n",
    "from keras.layers import Dense\n",
    "from keras.layers import LSTM\n",
    "from keras.layers import Dropout\n",
    "from keras.layers.embeddings import Embedding\n",
    "from keras.preprocessing import sequence\n",
    "from keras.models import load_model\n",
    "\n",
    "model = Sequential()\n",
    "model.add(Embedding(nb_words + 1,\n",
    "                            EMBEDDING_DIM,\n",
    "                            weights=[embedding_matrix],\n",
    "                            input_length=MAX_SEQUENCE_LENGTH,\n",
    "                            trainable=True,dropout=0.2))\n",
    "model.add(Dropout(0.5))\n",
    "model.add(LSTM(50))\n",
    "model.add(Dropout(0.5))\n",
    "model.add(Dense(len(labels_index), activation='softmax'))\n",
    "model.summary()"
   ]
  },
  {
   "cell_type": "code",
   "execution_count": 6,
   "metadata": {
    "collapsed": false
   },
   "outputs": [
    {
     "name": "stdout",
     "output_type": "stream",
     "text": [
      "____________________________________________________________________________________________________\n",
      "Layer (type)                     Output Shape          Param #     Connected to                     \n",
      "====================================================================================================\n",
      "embedding_2 (Embedding)          (None, 208, 300)      1745100     embedding_input_1[0][0]          \n",
      "____________________________________________________________________________________________________\n",
      "dropout_1 (Dropout)              (None, 208, 300)      0           embedding_2[0][0]                \n",
      "____________________________________________________________________________________________________\n",
      "lstm_1 (LSTM)                    (None, 50)            70200       dropout_1[0][0]                  \n",
      "____________________________________________________________________________________________________\n",
      "dropout_2 (Dropout)              (None, 50)            0           lstm_1[0][0]                     \n",
      "____________________________________________________________________________________________________\n",
      "dense_1 (Dense)                  (None, 4)             204         dropout_2[0][0]                  \n",
      "====================================================================================================\n",
      "Total params: 1,815,504\n",
      "Trainable params: 1,815,504\n",
      "Non-trainable params: 0\n",
      "____________________________________________________________________________________________________\n",
      "None\n"
     ]
    }
   ],
   "source": [
    "model.compile(loss='categorical_crossentropy', optimizer='rmsprop', metrics=[precision,recall,fmeasure,categorical_accuracy])\n",
    "print(model.summary())\n",
    "bz=128"
   ]
  },
  {
   "cell_type": "markdown",
   "metadata": {},
   "source": [
    "# Next, restructure the model to make predictions"
   ]
  },
  {
   "cell_type": "code",
   "execution_count": 7,
   "metadata": {
    "collapsed": false
   },
   "outputs": [
    {
     "name": "stdout",
     "output_type": "stream",
     "text": [
      "____________________________________________________________________________________________________\n",
      "Layer (type)                     Output Shape          Param #     Connected to                     \n",
      "====================================================================================================\n",
      "embedding_2 (Embedding)          (None, 208, 300)      1745100     embedding_input_1[0][0]          \n",
      "____________________________________________________________________________________________________\n",
      "dropout_1 (Dropout)              (None, 208, 300)      0           embedding_2[0][0]                \n",
      "____________________________________________________________________________________________________\n",
      "lstm_1 (LSTM)                    (None, 50)            70200       dropout_1[0][0]                  \n",
      "____________________________________________________________________________________________________\n",
      "dropout_2 (Dropout)              (None, 50)            0           lstm_1[0][0]                     \n",
      "____________________________________________________________________________________________________\n",
      "dense_1 (Dense)                  (None, 4)             204         dropout_2[0][0]                  \n",
      "====================================================================================================\n",
      "Total params: 1,815,504\n",
      "Trainable params: 1,815,504\n",
      "Non-trainable params: 0\n",
      "____________________________________________________________________________________________________\n"
     ]
    },
    {
     "data": {
      "text/plain": [
       "['dropout_1', 'lstm_1', 'dense_1', 'dropout_2', 'embedding_2']"
      ]
     },
     "execution_count": 7,
     "metadata": {},
     "output_type": "execute_result"
    }
   ],
   "source": [
    "from keras.layers import TimeDistributed\n",
    "model.load_weights('../output/full_finalgendermodel.h5')\n",
    "model.summary()\n",
    "layer_dict = dict([(layer.name, layer) for layer in model.layers])\n",
    "layer_dict.keys()"
   ]
  },
  {
   "cell_type": "code",
   "execution_count": 8,
   "metadata": {
    "collapsed": true
   },
   "outputs": [],
   "source": [
    "dens=layer_dict['dense_1'].get_weights()\n",
    "lstmw=layer_dict['lstm_1'].get_weights()"
   ]
  },
  {
   "cell_type": "code",
   "execution_count": 9,
   "metadata": {
    "collapsed": false
   },
   "outputs": [
    {
     "name": "stdout",
     "output_type": "stream",
     "text": [
      "____________________________________________________________________________________________________\n",
      "Layer (type)                     Output Shape          Param #     Connected to                     \n",
      "====================================================================================================\n",
      "embedding_3 (Embedding)          (None, 208, 300)      1745100     embedding_input_2[0][0]          \n",
      "____________________________________________________________________________________________________\n",
      "dropout_3 (Dropout)              (None, 208, 300)      0           embedding_3[0][0]                \n",
      "____________________________________________________________________________________________________\n",
      "lstm_2 (LSTM)                    (None, 208, 50)       70200       dropout_3[0][0]                  \n",
      "____________________________________________________________________________________________________\n",
      "dropout_4 (Dropout)              (None, 208, 50)       0           lstm_2[0][0]                     \n",
      "____________________________________________________________________________________________________\n",
      "timedistributed_1 (TimeDistribut (None, 208, 4)        204         dropout_4[0][0]                  \n",
      "====================================================================================================\n",
      "Total params: 1,815,504\n",
      "Trainable params: 1,815,504\n",
      "Non-trainable params: 0\n",
      "____________________________________________________________________________________________________\n"
     ]
    }
   ],
   "source": [
    "model = Sequential()\n",
    "model.add(Embedding(nb_words + 1,\n",
    "                            EMBEDDING_DIM,\n",
    "                            weights=[embedding_matrix],\n",
    "                            input_length=MAX_SEQUENCE_LENGTH,\n",
    "                            trainable=True,dropout=0.2))\n",
    "model.add(Dropout(0.5))\n",
    "lstmout = LSTM(50,\n",
    "               return_sequences=True,\n",
    "               stateful=False,weights=lstmw)\n",
    "model.add(lstmout)\n",
    "model.add(Dropout(0.5))\n",
    "templayer=TimeDistributed(Dense(len(labels_index), activation='softmax',weights=dens))\n",
    "model.add(templayer)\n",
    "model.load_weights('../output/full_finalgendermodel.h5')\n",
    "model.summary()"
   ]
  },
  {
   "cell_type": "markdown",
   "metadata": {},
   "source": [
    "# Here, I make some novel sentences to pass to the network\n",
    "(Justification with relationships)"
   ]
  },
  {
   "cell_type": "code",
   "execution_count": 16,
   "metadata": {
    "collapsed": false
   },
   "outputs": [
    {
     "data": {
      "text/plain": [
       "(195, 3)"
      ]
     },
     "execution_count": 16,
     "metadata": {},
     "output_type": "execute_result"
    }
   ],
   "source": [
    "import itertools\n",
    "texts = ['Athletic ability might be important because ', \n",
    "         'Art might be important because ', \n",
    "         'Being smart might be important because ', \n",
    "         'Getting good grades might be important because ', \n",
    "         'Creativity might be important because ', \n",
    "         'Independence might be important because ', \n",
    "         'Social groups might be important because ', \n",
    "         'Music might be important because ', \n",
    "         'Politics might be important because ', \n",
    "         'Relationships might be important because ', \n",
    "         'Religion might be important because ', \n",
    "         'Sense of humor might be important because ', \n",
    "         'Living in the moment might be important because ']\n",
    "\n",
    "justification = ['my friends', 'my family', 'my grandparents', 'my parents', 'my teacher', \n",
    "                 'my friend', 'my dad', 'my mom', 'my sister', 'my brother', \n",
    "                 'my mother', 'my father', 'my cousin', 'my aunt', 'my uncle']\n",
    "\n",
    "\n",
    "a = list(itertools.product(texts, justification))\n",
    "combos = []\n",
    "value = []\n",
    "just = []\n",
    "for i in a:\n",
    "    combos.append(i[0]+i[1])\n",
    "    value.append(i[0].split()[0])\n",
    "    just.append(i[1].split()[1])\n",
    "df = pd.DataFrame({'text':combos,\n",
    "                  'value':value,\n",
    "                  'justification':just})\n",
    "df.shape"
   ]
  },
  {
   "cell_type": "markdown",
   "metadata": {},
   "source": [
    "# Make predictions and save important bits"
   ]
  },
  {
   "cell_type": "code",
   "execution_count": 17,
   "metadata": {
    "collapsed": false,
    "scrolled": true
   },
   "outputs": [
    {
     "name": "stdout",
     "output_type": "stream",
     "text": [
      "195/195 [==============================] - 0s     \n"
     ]
    }
   ],
   "source": [
    "test_seq = tokenizer.texts_to_sequences(combos)\n",
    "full_dat = pad_sequences(test_seq, maxlen=MAX_SEQUENCE_LENGTH)\n",
    "preds = model.predict(full_dat, verbose=1)\n",
    "word_index = tokenizer.word_index\n",
    "index_word={}\n",
    "for i,x in word_index.items():\n",
    "    index_word[x]=i\n",
    "np.save('../output/mightsentiw_just.npy', index_word)\n",
    "np.save('../output/mightsentiw_inv_just.npy', word_index)\n",
    "np.save('../output/mightsentpreds_just.npy', preds)\n",
    "np.save('../output/mightsentxdat_just.npy', full_dat)\n",
    "np.save('../output/mightdat_just.npy', df)"
   ]
  },
  {
   "cell_type": "markdown",
   "metadata": {},
   "source": [
    "# Here, I make some novel sentences to pass to the network\n",
    "(Justification with the self)"
   ]
  },
  {
   "cell_type": "code",
   "execution_count": 31,
   "metadata": {
    "collapsed": false
   },
   "outputs": [],
   "source": [
    "texts = ['Athletic ability is important to me because ', \n",
    "         'Art is important to me because ', \n",
    "         'Being smart is important to me because ', \n",
    "         'Getting good grades is important to me because ', \n",
    "         'Creativity is important to me because ', \n",
    "         'Independence is important to me because ', \n",
    "         'Social groups are important to me because ', \n",
    "         'Music is important to me because ', \n",
    "         'Politics is important to me because ', \n",
    "         'Relationships is important to me because ', \n",
    "         'Religion is important to me because ', \n",
    "         'Sense of humor is important to me because ', \n",
    "         'Living in the moment is important to me because ']\n",
    "\n",
    "justification = ['I want', 'I need', 'I will', 'I have', 'I can', \n",
    "                 'I feel', 'I should', 'I would', 'I hope', 'I am', \n",
    "                 'I get', 'I might', 'I use', 'I like', 'I take']\n",
    "\n",
    "\n",
    "a = list(itertools.product(texts, justification))\n",
    "combos = []\n",
    "value = []\n",
    "just = []\n",
    "for i in a:\n",
    "    combos.append(i[0]+i[1])\n",
    "    value.append(i[0].split()[0])\n",
    "    just.append(i[1].split()[1])\n",
    "df = pd.DataFrame({'text':combos,\n",
    "                  'value':value,\n",
    "                  'justification':just})"
   ]
  },
  {
   "cell_type": "markdown",
   "metadata": {},
   "source": [
    "# Make predictions and save important bits"
   ]
  },
  {
   "cell_type": "code",
   "execution_count": 32,
   "metadata": {
    "collapsed": false,
    "scrolled": true
   },
   "outputs": [
    {
     "name": "stdout",
     "output_type": "stream",
     "text": [
      "195/195 [==============================] - 0s     \n"
     ]
    }
   ],
   "source": [
    "test_seq = tokenizer.texts_to_sequences(combos)\n",
    "full_dat = pad_sequences(test_seq, maxlen=MAX_SEQUENCE_LENGTH)\n",
    "preds = model.predict(full_dat, verbose=1)\n",
    "word_index = tokenizer.word_index\n",
    "index_word={}\n",
    "for i,x in word_index.items():\n",
    "    index_word[x]=i\n",
    "np.save('../output/testsentiw_justself.npy', index_word)\n",
    "np.save('../output/testsentiw_inv_justself.npy', word_index)\n",
    "np.save('../output/testsentpreds_justself.npy', preds)\n",
    "np.save('../output/testsentxdat_justself.npy', full_dat)\n",
    "np.save('../output/testdat_justself.npy', df)"
   ]
  },
  {
   "cell_type": "code",
   "execution_count": 40,
   "metadata": {
    "collapsed": false
   },
   "outputs": [
    {
     "data": {
      "text/plain": [
       "(1560, 5)"
      ]
     },
     "execution_count": 40,
     "metadata": {},
     "output_type": "execute_result"
    }
   ],
   "source": [
    "import itertools\n",
    "value = ['Athletic ability ', \n",
    "        'Art ',\n",
    "        'Being smart ',\n",
    "        'Getting good grades ',\n",
    "        'Creativity ',\n",
    "        'Independence ',\n",
    "        'Social groups ',\n",
    "        'Music ',\n",
    "        'Politics ',\n",
    "        'Relationships ',\n",
    "        'Religion ', \n",
    "        'Sense of humor ',\n",
    "        'Living in the moment ']\n",
    "\n",
    "modifier = ['might ', 'could ', 'should ', 'may ', 'would', 'will', 'must', 'can']\n",
    "text = ['be important because ']\n",
    "justification = ['my friends', 'my family', 'my grandparents', 'my parents', 'my teacher', \n",
    "                 'my friend', 'my dad', 'my mom', 'my sister', 'my brother', \n",
    "                 'my mother', 'my father', 'my cousin', 'my aunt', 'my uncle']\n",
    "\n",
    "a = list(itertools.product(value, modifier, text, justification))\n",
    "combos = []\n",
    "value = []\n",
    "modifier = []\n",
    "just = []\n",
    "for i in a:\n",
    "    combos.append(i[0]+i[1]+i[2]+i[3])\n",
    "    value.append(i[0].split()[0])\n",
    "    modifier.append(i[1].split()[0])\n",
    "    just.append(i[3].split()[1])\n",
    "df = pd.DataFrame({'text':combos,\n",
    "                  'value':value,\n",
    "                  'justification':just,\n",
    "                  'modifier':modifier})\n",
    "df['modif_type'] = 'certain'\n",
    "df['modif_type'][df.modifier.isin(['might', 'could','should','may'])] = 'uncertain'\n",
    "df.shape"
   ]
  },
  {
   "cell_type": "markdown",
   "metadata": {},
   "source": [
    "# Make predictions and save important bits"
   ]
  },
  {
   "cell_type": "code",
   "execution_count": 41,
   "metadata": {
    "collapsed": false,
    "scrolled": true
   },
   "outputs": [
    {
     "name": "stdout",
     "output_type": "stream",
     "text": [
      "1560/1560 [==============================] - 3s     \n"
     ]
    }
   ],
   "source": [
    "test_seq = tokenizer.texts_to_sequences(combos)\n",
    "full_dat = pad_sequences(test_seq, maxlen=MAX_SEQUENCE_LENGTH)\n",
    "preds = model.predict(full_dat, verbose=1)\n",
    "word_index = tokenizer.word_index\n",
    "index_word={}\n",
    "for i,x in word_index.items():\n",
    "    index_word[x]=i\n",
    "np.save('../output/testsentiw_cert.npy', index_word)\n",
    "np.save('../output/testsentiw_inv_cert.npy', word_index)\n",
    "np.save('../output/testsentpreds_cert.npy', preds)\n",
    "np.save('../output/testsentxdat_cert.npy', full_dat)\n",
    "np.save('../output/testdat_cert.npy', df)"
   ]
  }
 ],
 "metadata": {
  "anaconda-cloud": {},
  "kernelspec": {
   "display_name": "Python 2",
   "language": "python",
   "name": "python2"
  },
  "language_info": {
   "codemirror_mode": {
    "name": "ipython",
    "version": 2
   },
   "file_extension": ".py",
   "mimetype": "text/x-python",
   "name": "python",
   "nbconvert_exporter": "python",
   "pygments_lexer": "ipython2",
   "version": "2.7.12"
  }
 },
 "nbformat": 4,
 "nbformat_minor": 1
}

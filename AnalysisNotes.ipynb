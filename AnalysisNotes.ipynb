{
 "cells": [
  {
   "cell_type": "code",
   "execution_count": 8,
   "metadata": {
    "collapsed": false
   },
   "outputs": [],
   "source": [
    "%matplotlib inline\n",
    "import numpy as np\n",
    "import pandas as pd\n",
    "import seaborn as sns"
   ]
  },
  {
   "cell_type": "code",
   "execution_count": 15,
   "metadata": {
    "collapsed": false
   },
   "outputs": [],
   "source": [
    "def transitions(x,o,iw):\n",
    "    \"\"\"for a given essay, return the probability shifts for each word\n",
    "    this has been adjusted to just return probabilities sequentially,\n",
    "    instead of adding all probabilities from the same word\"\"\"\n",
    "    worddeltas=[]\n",
    "    endpoint = o.shape[0]\n",
    "    startpoint = endpoint-np.count_nonzero(x)\n",
    "    initval=o[startpoint-1]\n",
    "    words = []\n",
    "    probs = np.empty((0,4))\n",
    "    for i in range(startpoint,endpoint):\n",
    "        deltacuzofx=np.subtract(o[i],initval)\n",
    "        words.append(iw[x[i]])\n",
    "        probs = np.append(probs, deltacuzofx.reshape(1,4), axis=0)\n",
    "        #if word in worddeltas:\n",
    "        #    worddeltas[word]=worddeltas[word]+deltacuzofx\n",
    "        #else:\n",
    "        #    worddeltas[word]=deltacuzofx\n",
    "        initval=o[i]\n",
    "    return (words, probs)"
   ]
  },
  {
   "cell_type": "code",
   "execution_count": 16,
   "metadata": {
    "collapsed": false
   },
   "outputs": [],
   "source": [
    "def addtransitions(x,o,iw):\n",
    "    \"\"\"for each essay, get the transitions associated with each word\n",
    "    return a dictionary of word transitions summed across the corpus\"\"\"\n",
    "    addworddeltas={}\n",
    "    for i in range(x.shape[0]):\n",
    "        wd=transitions(x[i],o[i],iw)\n",
    "        for key, value in wd.iteritems():\n",
    "            if key in addworddeltas:\n",
    "                addworddeltas[key]=addworddeltas[key]+value\n",
    "            else:\n",
    "                addworddeltas[key]=value\n",
    "    return addworddeltas"
   ]
  },
  {
   "cell_type": "code",
   "execution_count": 4,
   "metadata": {
    "collapsed": false
   },
   "outputs": [],
   "source": [
    "def filtertestdata(x,y,o,t,pos):\n",
    "    t=np.asarray(t)\n",
    "    ynew=y[(y[:,pos]==1)]\n",
    "    xnew=x[(y[:,pos]==1)]\n",
    "    onew=o[(y[:,pos]==1)]\n",
    "    tnew=t[(y[:,pos]==1)]\n",
    "    return xnew,ynew,onew,tnew.tolist()"
   ]
  },
  {
   "cell_type": "code",
   "execution_count": 5,
   "metadata": {
    "collapsed": true
   },
   "outputs": [],
   "source": [
    "def filterdictionary(d,pos):\n",
    "    newdic={}\n",
    "    values=[]\n",
    "    words=[]\n",
    "    for key, value in d.iteritems():\n",
    "        words.append(key)\n",
    "        values.append(value[pos])\n",
    "    words=[x for (y,x) in sorted(zip(values,words))]\n",
    "    values=[y for (y,x) in sorted(zip(values,words))]\n",
    "    newdic = dict(zip(words, values))\n",
    "    return words,values,newdic\n",
    "    "
   ]
  },
  {
   "cell_type": "code",
   "execution_count": 2,
   "metadata": {
    "collapsed": false
   },
   "outputs": [
    {
     "data": {
      "text/plain": [
       "58.8"
      ]
     },
     "execution_count": 2,
     "metadata": {},
     "output_type": "execute_result"
    }
   ],
   "source": [
    "# main function - Values(-1-ALL, 0-control male, 1-control female, 2-affirmation male, 3-affirmation female)\n",
    "from __future__ import division\n",
    "index_word=np.load('Data/finalgenderdict.npy').item()\n",
    "word_index=np.load('Data/finalgenderdictinv.npy').item()\n",
    "testdata_output=np.load('Data/finalgendertestoutput.npy')\n",
    "testdata_x=np.load('Data/finalgenderxtestdata.npy')\n",
    "testdata_y=np.load('Data/finalgenderytestdata.npy')\n",
    "with open('Data/finalgendertextsinput.txt') as f:\n",
    "    text_content = f.readlines()\n",
    "filtertestdatavalue=-1\n",
    "filterdictionaryvalue=1\n",
    "if filtertestdatavalue!=-1:\n",
    "    testdata_x,testdata_y,testdata_output,text_content=filtertestdata(testdata_x,testdata_y,testdata_output,text_content,filtertestdatavalue)\n",
    "maxindexoutput=np.argmax(testdata_output[:,-1,:],axis=1)\n",
    "maxindexyval=np.argmax(testdata_y,axis=1)\n",
    "accuracy=(np.count_nonzero(maxindexoutput == maxindexyval)/maxindexyval.shape[0])*100\n",
    "#addwd=addtransitions(testdata_x,testdata_y,testdata_output,index_word)\n",
    "#words,values,dic=filterdictionary(addwd,filterdictionaryvalue)\n",
    "accuracy"
   ]
  },
  {
   "cell_type": "code",
   "execution_count": 68,
   "metadata": {
    "collapsed": false
   },
   "outputs": [],
   "source": [
    "index_word = np.load('Gender/testsentiw.npy').item()\n",
    "word_index = np.load('Gender/testsentiw_inv.npy').item()\n",
    "preds = np.load('Gender/testsentpreds.npy')\n",
    "x_dat = np.load('Gender/testsentxdat.npy')\n",
    "df = np.load('Gender/testdat.npy')\n",
    "\n",
    "index_word_wo = np.load('Gender/testsentiw_wo.npy').item()\n",
    "word_index_wo = np.load('Gender/testsentiw_inv_wo.npy').item()\n",
    "preds_wo = np.load('Gender/testsentpreds_wo.npy')\n",
    "x_dat_wo = np.load('Gender/testsentxdat_wo.npy')"
   ]
  },
  {
   "cell_type": "code",
   "execution_count": 69,
   "metadata": {
    "collapsed": false
   },
   "outputs": [],
   "source": [
    "df = pd.DataFrame(df, columns=['word', 'pos', 'lemma', 'sent', 'test_sent', 'sent_wo', 'test_sent_wo'])\n"
   ]
  },
  {
   "cell_type": "markdown",
   "metadata": {
    "collapsed": false
   },
   "source": [
    "- index_word is pairing of index numbers with words\n",
    "- word_index is the pairing of words with index numbers\n",
    "- testdata_output is the sequential probabilities for each of the 500 test essays\n",
    "- testdata_x is a matrix of index_word values (i.e. tells you what word is in the essay\n",
    "- testdata_y is a matrix that indicates the class for each essay\n",
    "- accuracy is not scored in the same manner as essay classification (f1 score)"
   ]
  },
  {
   "cell_type": "markdown",
   "metadata": {},
   "source": [
    "First, "
   ]
  },
  {
   "cell_type": "code",
   "execution_count": 70,
   "metadata": {
    "collapsed": false
   },
   "outputs": [],
   "source": [
    "words=[]\n",
    "essay=[]\n",
    "probs = np.empty((0,4))\n",
    "pos = []\n",
    "for i in range(0, len(x_dat)):\n",
    "    word_dists = transitions(x_dat[i],preds[i],index_word)\n",
    "    words.append(word_dists[0])\n",
    "    essay.append([i]*len(word_dists[0]))\n",
    "    pos.append([df.pos.loc[i]]*len(word_dists[0]))\n",
    "    probs = np.append(probs, word_dists[1], axis=0)\n",
    "df1 = pd.DataFrame({'word': [w for e in words for w in e],\n",
    "                    'prob': probs[:,0],\n",
    "                    'class': ['control_m']*len(probs),\n",
    "                    'sentence_num': [w for e in essay for w in e],\n",
    "                    'pos': [p for w in pos for p in w]})\n",
    "df2 = pd.DataFrame({'word': [w for e in words for w in e],\n",
    "                    'prob': probs[:,1],\n",
    "                    'class': ['control_f']*len(probs),\n",
    "                    'sentence_num': [w for e in essay for w in e],\n",
    "                    'pos': [p for w in pos for p in w]})\n",
    "df3 = pd.DataFrame({'word': [w for e in words for w in e],\n",
    "                    'prob': probs[:,2],\n",
    "                    'class': ['aff_m']*len(probs),\n",
    "                    'sentence_num': [w for e in essay for w in e],\n",
    "                    'pos': [p for w in pos for p in w]})\n",
    "df4 = pd.DataFrame({'word': [w for e in words for w in e],\n",
    "                    'prob': probs[:,3],\n",
    "                    'class': ['aff_f']*len(probs),\n",
    "                    'sentence_num': [w for e in essay for w in e],\n",
    "                    'pos': [p for w in pos for p in w]})\n",
    "df_w = pd.concat([df1,df2,df3,df4])\n",
    "#df.to_csv('output/nn_probs.csv', index=False, encoding='utf-8')"
   ]
  },
  {
   "cell_type": "code",
   "execution_count": 71,
   "metadata": {
    "collapsed": false
   },
   "outputs": [],
   "source": [
    "words=[]\n",
    "essay=[]\n",
    "probs = np.empty((0,4))\n",
    "pos = []\n",
    "for i in range(0, len(x_dat)):\n",
    "    word_dists = transitions(x_dat_wo[i],preds_wo[i],index_word_wo)\n",
    "    words.append(word_dists[0])\n",
    "    essay.append([i]*len(word_dists[0]))\n",
    "    pos.append([df.pos.loc[i]]*len(word_dists[0]))\n",
    "    probs = np.append(probs, word_dists[1], axis=0)\n",
    "df1 = pd.DataFrame({'word': [w for e in words for w in e],\n",
    "                    'prob': probs[:,0],\n",
    "                    'class': ['control_m']*len(probs),\n",
    "                    'sentence_num': [w for e in essay for w in e],\n",
    "                    'pos': [p for w in pos for p in w]})\n",
    "df2 = pd.DataFrame({'word': [w for e in words for w in e],\n",
    "                    'prob': probs[:,1],\n",
    "                    'class': ['control_f']*len(probs),\n",
    "                    'sentence_num': [w for e in essay for w in e],\n",
    "                    'pos': [p for w in pos for p in w]})\n",
    "df3 = pd.DataFrame({'word': [w for e in words for w in e],\n",
    "                    'prob': probs[:,2],\n",
    "                    'class': ['aff_m']*len(probs),\n",
    "                    'sentence_num': [w for e in essay for w in e],\n",
    "                    'pos': [p for w in pos for p in w]})\n",
    "df4 = pd.DataFrame({'word': [w for e in words for w in e],\n",
    "                    'prob': probs[:,3],\n",
    "                    'class': ['aff_f']*len(probs),\n",
    "                    'sentence_num': [w for e in essay for w in e],\n",
    "                    'pos': [p for w in pos for p in w]})\n",
    "df_wo = pd.concat([df1,df2,df3,df4])"
   ]
  },
  {
   "cell_type": "code",
   "execution_count": 72,
   "metadata": {
    "collapsed": false
   },
   "outputs": [],
   "source": [
    "df_wo['cond'] = 'without'\n",
    "df_w['cond'] = 'with'\n",
    "outdat = pd.concat([df_wo, df_w])\n",
    "outdat.to_csv('w_wo_nnprobs.csv', index=False, encoding='utf-8')"
   ]
  },
  {
   "cell_type": "code",
   "execution_count": 62,
   "metadata": {
    "collapsed": false
   },
   "outputs": [
    {
     "data": {
      "text/plain": [
       "aff_f        2922\n",
       "aff_m        2922\n",
       "control_m    2922\n",
       "control_f    2922\n",
       "Name: class, dtype: int64"
      ]
     },
     "execution_count": 62,
     "metadata": {},
     "output_type": "execute_result"
    }
   ],
   "source": [
    "outdat['class'].value_counts()"
   ]
  },
  {
   "cell_type": "code",
   "execution_count": 45,
   "metadata": {
    "collapsed": false
   },
   "outputs": [
    {
     "data": {
      "text/plain": [
       "(15840, 6)"
      ]
     },
     "execution_count": 45,
     "metadata": {},
     "output_type": "execute_result"
    }
   ],
   "source": [
    "outdat.shape"
   ]
  },
  {
   "cell_type": "code",
   "execution_count": null,
   "metadata": {
    "collapsed": true
   },
   "outputs": [],
   "source": []
  }
 ],
 "metadata": {
  "kernelspec": {
   "display_name": "Python 2",
   "language": "python",
   "name": "python2"
  },
  "language_info": {
   "codemirror_mode": {
    "name": "ipython",
    "version": 2
   },
   "file_extension": ".py",
   "mimetype": "text/x-python",
   "name": "python",
   "nbconvert_exporter": "python",
   "pygments_lexer": "ipython2",
   "version": "2.7.12"
  }
 },
 "nbformat": 4,
 "nbformat_minor": 0
}

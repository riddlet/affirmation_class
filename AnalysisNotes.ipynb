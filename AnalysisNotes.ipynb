{
 "cells": [
  {
   "cell_type": "code",
   "execution_count": 1,
   "metadata": {
    "collapsed": false
   },
   "outputs": [
    {
     "name": "stderr",
     "output_type": "stream",
     "text": [
      "/Users/triddle/anaconda/lib/python2.7/site-packages/matplotlib/font_manager.py:273: UserWarning: Matplotlib is building the font cache using fc-list. This may take a moment.\n",
      "  warnings.warn('Matplotlib is building the font cache using fc-list. This may take a moment.')\n"
     ]
    }
   ],
   "source": [
    "%matplotlib inline\n",
    "import pandas as pd\n",
    "import seaborn as sns"
   ]
  },
  {
   "cell_type": "code",
   "execution_count": 2,
   "metadata": {
    "collapsed": false
   },
   "outputs": [],
   "source": [
    "def transitions(x,y,o,iw):\n",
    "    \"\"\"for a given essay, return the probability shifts for each word\n",
    "    this has been adjusted to just return probabilities sequentially,\n",
    "    instead of adding all probabilities from the same word\"\"\"\n",
    "    worddeltas=[]\n",
    "    endpoint = o.shape[0]\n",
    "    startpoint = endpoint-np.count_nonzero(x)\n",
    "    initval=o[startpoint-1]\n",
    "    words = []\n",
    "    probs = np.empty((0,4))\n",
    "    for i in range(startpoint,endpoint):\n",
    "        deltacuzofx=np.subtract(o[i],initval)\n",
    "        words.append(iw[x[i]])\n",
    "        probs = np.append(probs, deltacuzofx.reshape(1,4), axis=0)\n",
    "        #if word in worddeltas:\n",
    "        #    worddeltas[word]=worddeltas[word]+deltacuzofx\n",
    "        #else:\n",
    "        #    worddeltas[word]=deltacuzofx\n",
    "        initval=o[i]\n",
    "    return (words, probs)"
   ]
  },
  {
   "cell_type": "code",
   "execution_count": 3,
   "metadata": {
    "collapsed": false
   },
   "outputs": [],
   "source": [
    "def addtransitions(x,y,o,iw):\n",
    "    \"\"\"for each essay, get the transitions associated with each word\n",
    "    return a dictionary of word transitions summed across the corpus\"\"\"\n",
    "    addworddeltas={}\n",
    "    for i in range(x.shape[0]):\n",
    "        wd=transitions(x[i],y[i],o[i],iw)\n",
    "        for key, value in wd.iteritems():\n",
    "            if key in addworddeltas:\n",
    "                addworddeltas[key]=addworddeltas[key]+value\n",
    "            else:\n",
    "                addworddeltas[key]=value\n",
    "    return addworddeltas"
   ]
  },
  {
   "cell_type": "code",
   "execution_count": 4,
   "metadata": {
    "collapsed": false
   },
   "outputs": [],
   "source": [
    "def filtertestdata(x,y,o,t,pos):\n",
    "    t=np.asarray(t)\n",
    "    ynew=y[(y[:,pos]==1)]\n",
    "    xnew=x[(y[:,pos]==1)]\n",
    "    onew=o[(y[:,pos]==1)]\n",
    "    tnew=t[(y[:,pos]==1)]\n",
    "    return xnew,ynew,onew,tnew.tolist()"
   ]
  },
  {
   "cell_type": "code",
   "execution_count": 5,
   "metadata": {
    "collapsed": true
   },
   "outputs": [],
   "source": [
    "def filterdictionary(d,pos):\n",
    "    newdic={}\n",
    "    values=[]\n",
    "    words=[]\n",
    "    for key, value in d.iteritems():\n",
    "        words.append(key)\n",
    "        values.append(value[pos])\n",
    "    words=[x for (y,x) in sorted(zip(values,words))]\n",
    "    values=[y for (y,x) in sorted(zip(values,words))]\n",
    "    newdic = dict(zip(words, values))\n",
    "    return words,values,newdic\n",
    "    "
   ]
  },
  {
   "cell_type": "code",
   "execution_count": 2,
   "metadata": {
    "collapsed": false
   },
   "outputs": [
    {
     "data": {
      "text/plain": [
       "58.8"
      ]
     },
     "execution_count": 2,
     "metadata": {},
     "output_type": "execute_result"
    }
   ],
   "source": [
    "# main function - Values(-1-ALL, 0-control male, 1-control female, 2-affirmation male, 3-affirmation female)\n",
    "from __future__ import division\n",
    "import numpy as np\n",
    "index_word=np.load('Data/finalgenderdict.npy').item()\n",
    "word_index=np.load('Data/finalgenderdictinv.npy').item()\n",
    "testdata_output=np.load('Data/finalgendertestoutput.npy')\n",
    "testdata_x=np.load('Data/finalgenderxtestdata.npy')\n",
    "testdata_y=np.load('Data/finalgenderytestdata.npy')\n",
    "with open('Data/finalgendertextsinput.txt') as f:\n",
    "    text_content = f.readlines()\n",
    "filtertestdatavalue=-1\n",
    "filterdictionaryvalue=1\n",
    "if filtertestdatavalue!=-1:\n",
    "    testdata_x,testdata_y,testdata_output,text_content=filtertestdata(testdata_x,testdata_y,testdata_output,text_content,filtertestdatavalue)\n",
    "maxindexoutput=np.argmax(testdata_output[:,-1,:],axis=1)\n",
    "maxindexyval=np.argmax(testdata_y,axis=1)\n",
    "accuracy=(np.count_nonzero(maxindexoutput == maxindexyval)/maxindexyval.shape[0])*100\n",
    "#addwd=addtransitions(testdata_x,testdata_y,testdata_output,index_word)\n",
    "#words,values,dic=filterdictionary(addwd,filterdictionaryvalue)\n",
    "accuracy"
   ]
  },
  {
   "cell_type": "code",
   "execution_count": 9,
   "metadata": {
    "collapsed": false
   },
   "outputs": [
    {
     "data": {
      "text/plain": [
       "(500, 208, 4)"
      ]
     },
     "execution_count": 9,
     "metadata": {},
     "output_type": "execute_result"
    }
   ],
   "source": [
    "#maxindexoutput\n",
    "#testdata_x\n",
    "testdata_output.shape"
   ]
  },
  {
   "cell_type": "code",
   "execution_count": 11,
   "metadata": {
    "collapsed": false
   },
   "outputs": [],
   "source": [
    "wd=transitions(testdata_x[0],testdata_y[0],testdata_output[0],index_word)"
   ]
  },
  {
   "cell_type": "markdown",
   "metadata": {
    "collapsed": false
   },
   "source": [
    "- index_word is pairing of index numbers with words\n",
    "- word_index is the pairing of words with index numbers\n",
    "- testdata_output is the sequential probabilities for each of the 500 test essays\n",
    "- testdata_x is a matrix of index_word values (i.e. tells you what word is in the essay\n",
    "- testdata_y is a matrix that indicates the class for each essay\n",
    "- accuracy is not scored in the same manner as essay classification (f1 score)"
   ]
  },
  {
   "cell_type": "markdown",
   "metadata": {},
   "source": [
    "First, "
   ]
  },
  {
   "cell_type": "code",
   "execution_count": 30,
   "metadata": {
    "collapsed": false
   },
   "outputs": [],
   "source": [
    "words=[]\n",
    "essay=[]\n",
    "probs = np.empty((0,4))\n",
    "for i in range(0, len(testdata_x)):\n",
    "    word_dists = transitions(testdata_x[i],testdata_y[i],testdata_output[i],index_word)\n",
    "    words.append(word_dists[0])\n",
    "    essay.append([i]*len(word_dists[0]))\n",
    "    probs = np.append(probs, word_dists[1], axis=0)\n",
    "df1 = pd.DataFrame({'feature': [w for e in words for w in e],\n",
    "                    'prob': probs[:,0],\n",
    "                    'class': ['control_m']*len(probs),\n",
    "                    'essay_num': [w for e in essay for w in e]})\n",
    "df2 = pd.DataFrame({'feature': [w for e in words for w in e],\n",
    "                    'prob': probs[:,1],\n",
    "                    'class': ['control_f']*len(probs),\n",
    "                    'essay_num': [w for e in essay for w in e]})\n",
    "df3 = pd.DataFrame({'feature': [w for e in words for w in e],\n",
    "                    'prob': probs[:,2],\n",
    "                    'class': ['aff_m']*len(probs),\n",
    "                    'essay_num': [w for e in essay for w in e]})\n",
    "df4 = pd.DataFrame({'feature': [w for e in words for w in e],\n",
    "                    'prob': probs[:,3],\n",
    "                    'class': ['aff_f']*len(probs),\n",
    "                    'essay_num': [w for e in essay for w in e]})\n",
    "df = pd.concat([df1,df2,df3,df4])\n",
    "df.to_csv('output/nn_probs.csv', index=False, encoding='utf-8')"
   ]
  },
  {
   "cell_type": "code",
   "execution_count": 1,
   "metadata": {
    "collapsed": false
   },
   "outputs": [
    {
     "ename": "NameError",
     "evalue": "name 'testdata_output' is not defined",
     "output_type": "error",
     "traceback": [
      "\u001b[0;31m---------------------------------------------------------------------------\u001b[0m",
      "\u001b[0;31mNameError\u001b[0m                                 Traceback (most recent call last)",
      "\u001b[0;32m<ipython-input-1-95f72d6604c4>\u001b[0m in \u001b[0;36m<module>\u001b[0;34m()\u001b[0m\n\u001b[0;32m----> 1\u001b[0;31m \u001b[0mlen\u001b[0m\u001b[0;34m(\u001b[0m\u001b[0mtestdata_output\u001b[0m\u001b[0;34m)\u001b[0m\u001b[0;34m\u001b[0m\u001b[0m\n\u001b[0m",
      "\u001b[0;31mNameError\u001b[0m: name 'testdata_output' is not defined"
     ]
    }
   ],
   "source": [
    "len(testdata_output)"
   ]
  },
  {
   "cell_type": "code",
   "execution_count": 217,
   "metadata": {
    "collapsed": false
   },
   "outputs": [
    {
     "data": {
      "text/plain": [
       "<matplotlib.axes._subplots.AxesSubplot at 0x110500110>"
      ]
     },
     "execution_count": 217,
     "metadata": {},
     "output_type": "execute_result"
    },
    {
     "data": {
      "image/png": "[encoded data removed]",
      "text/plain": [
       "<matplotlib.figure.Figure at 0x1100d4f10>"
      ]
     },
     "metadata": {},
     "output_type": "display_data"
    }
   ],
   "source": [
    "sns.distplot(df.control_f[df.words=='friends'])"
   ]
  },
  {
   "cell_type": "code",
   "execution_count": 208,
   "metadata": {
    "collapsed": false
   },
   "outputs": [
    {
     "data": {
      "text/plain": [
       "i                 1168\n",
       "to                1154\n",
       "and                707\n",
       "my                 486\n",
       "a                  469\n",
       "important          448\n",
       "be                 435\n",
       "the                429\n",
       "because            424\n",
       "me                 397\n",
       "is                 371\n",
       "it                 263\n",
       "in                 247\n",
       "of                 227\n",
       "have               216\n",
       "they               206\n",
       "that               205\n",
       "good               200\n",
       "get                199\n",
       "at                 198\n",
       "are                194\n",
       "family             191\n",
       "or                 188\n",
       "like               187\n",
       "for                179\n",
       "when               175\n",
       "with               174\n",
       "friends            171\n",
       "you                167\n",
       "would              164\n",
       "                  ... \n",
       "clarinet             1\n",
       "indian               1\n",
       "ill                  1\n",
       "viola                1\n",
       "video                1\n",
       "exercise             1\n",
       "3d                   1\n",
       "transportation       1\n",
       "degree               1\n",
       "grandparents         1\n",
       "makeup               1\n",
       "fullana              1\n",
       "cost                 1\n",
       "imortant             1\n",
       "respectful           1\n",
       "puffs                1\n",
       "string               1\n",
       "choice               1\n",
       "telling              1\n",
       "minute               1\n",
       "cool                 1\n",
       "button               1\n",
       "thinker              1\n",
       "win                  1\n",
       "guy                  1\n",
       "someday              1\n",
       "you'd                1\n",
       "dealing              1\n",
       "jump                 1\n",
       "models               1\n",
       "Name: words, dtype: int64"
      ]
     },
     "execution_count": 208,
     "metadata": {},
     "output_type": "execute_result"
    }
   ],
   "source": [
    "df.words.value_counts()"
   ]
  },
  {
   "cell_type": "code",
   "execution_count": null,
   "metadata": {
    "collapsed": true
   },
   "outputs": [],
   "source": []
  }
 ],
 "metadata": {
  "kernelspec": {
   "display_name": "Python 2",
   "language": "python",
   "name": "python2"
  },
  "language_info": {
   "codemirror_mode": {
    "name": "ipython",
    "version": 2
   },
   "file_extension": ".py",
   "mimetype": "text/x-python",
   "name": "python",
   "nbconvert_exporter": "python",
   "pygments_lexer": "ipython2",
   "version": "2.7.12"
  }
 },
 "nbformat": 4,
 "nbformat_minor": 0
}

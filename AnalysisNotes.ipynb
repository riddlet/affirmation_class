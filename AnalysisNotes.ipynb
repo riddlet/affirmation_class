{
 "cells": [
  {
   "cell_type": "code",
   "execution_count": 1,
   "metadata": {
    "collapsed": false
   },
   "outputs": [
    {
     "name": "stderr",
     "output_type": "stream",
     "text": [
      "/Users/triddle/anaconda/lib/python2.7/site-packages/matplotlib/font_manager.py:273: UserWarning: Matplotlib is building the font cache using fc-list. This may take a moment.\n",
      "  warnings.warn('Matplotlib is building the font cache using fc-list. This may take a moment.')\n"
     ]
    }
   ],
   "source": [
    "%matplotlib inline\n",
    "import numpy as np\n",
    "import pandas as pd\n",
    "import seaborn as sns"
   ]
  },
  {
   "cell_type": "code",
   "execution_count": 2,
   "metadata": {
    "collapsed": false
   },
   "outputs": [],
   "source": [
    "def transitions(x,o,iw):\n",
    "    \"\"\"for a given essay, return the probability shifts for each word\n",
    "    this has been adjusted to just return probabilities sequentially,\n",
    "    instead of adding all probabilities from the same word\"\"\"\n",
    "    worddeltas=[]\n",
    "    endpoint = o.shape[0]\n",
    "    startpoint = endpoint-np.count_nonzero(x)\n",
    "    initval=o[startpoint-1]\n",
    "    words = []\n",
    "    probs = np.empty((0,4))\n",
    "    for i in range(startpoint,endpoint):\n",
    "        deltacuzofx=np.subtract(o[i],initval)\n",
    "        words.append(iw[x[i]])\n",
    "        probs = np.append(probs, deltacuzofx.reshape(1,4), axis=0)\n",
    "        #if word in worddeltas:\n",
    "        #    worddeltas[word]=worddeltas[word]+deltacuzofx\n",
    "        #else:\n",
    "        #    worddeltas[word]=deltacuzofx\n",
    "        initval=o[i]\n",
    "    return (words, probs)"
   ]
  },
  {
   "cell_type": "code",
   "execution_count": 3,
   "metadata": {
    "collapsed": false
   },
   "outputs": [],
   "source": [
    "def addtransitions(x,o,iw):\n",
    "    \"\"\"for each essay, get the transitions associated with each word\n",
    "    return a dictionary of word transitions summed across the corpus\"\"\"\n",
    "    addworddeltas={}\n",
    "    for i in range(x.shape[0]):\n",
    "        wd=transitions(x[i],o[i],iw)\n",
    "        for key, value in wd.iteritems():\n",
    "            if key in addworddeltas:\n",
    "                addworddeltas[key]=addworddeltas[key]+value\n",
    "            else:\n",
    "                addworddeltas[key]=value\n",
    "    return addworddeltas"
   ]
  },
  {
   "cell_type": "code",
   "execution_count": 4,
   "metadata": {
    "collapsed": false
   },
   "outputs": [],
   "source": [
    "def filtertestdata(x,y,o,t,pos):\n",
    "    t=np.asarray(t)\n",
    "    ynew=y[(y[:,pos]==1)]\n",
    "    xnew=x[(y[:,pos]==1)]\n",
    "    onew=o[(y[:,pos]==1)]\n",
    "    tnew=t[(y[:,pos]==1)]\n",
    "    return xnew,ynew,onew,tnew.tolist()"
   ]
  },
  {
   "cell_type": "code",
   "execution_count": 7,
   "metadata": {
    "collapsed": true
   },
   "outputs": [],
   "source": [
    "def filterdictionary(d,pos):\n",
    "    newdic={}\n",
    "    values=[]\n",
    "    words=[]\n",
    "    for key, value in d.iteritems():\n",
    "        words.append(key)\n",
    "        values.append(value[pos])\n",
    "    words=[x for (y,x) in sorted(zip(values,words))]\n",
    "    values=[y for (y,x) in sorted(zip(values,words))]\n",
    "    newdic = dict(zip(words, values))\n",
    "    return words,values,newdic\n",
    "    "
   ]
  },
  {
   "cell_type": "code",
   "execution_count": 8,
   "metadata": {
    "collapsed": false
   },
   "outputs": [
    {
     "data": {
      "text/plain": [
       "58.8"
      ]
     },
     "execution_count": 8,
     "metadata": {},
     "output_type": "execute_result"
    }
   ],
   "source": [
    "# main function - Values(-1-ALL, 0-control male, 1-control female, 2-affirmation male, 3-affirmation female)\n",
    "from __future__ import division\n",
    "index_word=np.load('output/finalgenderdict.npy').item()\n",
    "word_index=np.load('Data/finalgenderdictinv.npy').item()\n",
    "testdata_output=np.load('Data/finalgendertestoutput.npy')\n",
    "testdata_x=np.load('Data/finalgenderxtestdata.npy')\n",
    "testdata_y=np.load('Data/finalgenderytestdata.npy')\n",
    "with open('Data/finalgendertextsinput.txt') as f:\n",
    "    text_content = f.readlines()\n",
    "filtertestdatavalue=-1\n",
    "filterdictionaryvalue=1\n",
    "if filtertestdatavalue!=-1:\n",
    "    testdata_x,testdata_y,testdata_output,text_content=filtertestdata(testdata_x,testdata_y,testdata_output,text_content,filtertestdatavalue)\n",
    "maxindexoutput=np.argmax(testdata_output[:,-1,:],axis=1)\n",
    "maxindexyval=np.argmax(testdata_y,axis=1)\n",
    "accuracy=(np.count_nonzero(maxindexoutput == maxindexyval)/maxindexyval.shape[0])*100\n",
    "#addwd=addtransitions(testdata_x,testdata_y,testdata_output,index_word)\n",
    "#words,values,dic=filterdictionary(addwd,filterdictionaryvalue)\n",
    "accuracy"
   ]
  },
  {
   "cell_type": "markdown",
   "metadata": {
    "collapsed": false
   },
   "source": [
    "- index_word is pairing of index numbers with words\n",
    "- word_index is the pairing of words with index numbers\n",
    "- testdata_output is the sequential probabilities for each of the 500 test essays\n",
    "- testdata_x is a matrix of index_word values (i.e. tells you what word is in the essay\n",
    "- testdata_y is a matrix that indicates the class for each essay\n",
    "- accuracy is not scored in the same manner as essay classification (f1 score)"
   ]
  },
  {
   "cell_type": "markdown",
   "metadata": {},
   "source": [
    "# Model comparison model information"
   ]
  },
  {
   "cell_type": "code",
   "execution_count": null,
   "metadata": {
    "collapsed": true
   },
   "outputs": [],
   "source": [
    "words=[]\n",
    "essay=[]\n",
    "probs = np.empty((0,4))\n",
    "for i in range(0, len(testdata_x)):\n",
    "    word_dists = transitions(testdata_x[i],testdata_y[i],testdata_output[i],index_word)\n",
    "    words.append(word_dists[0])\n",
    "    essay.append([i]*len(word_dists[0]))\n",
    "    probs = np.append(probs, word_dists[1], axis=0)\n",
    "df1 = pd.DataFrame({'feature': [w for e in words for w in e],\n",
    "                    'prob': probs[:,0],\n",
    "                    'class': ['control_m']*len(probs),\n",
    "                    'essay_num': [w for e in essay for w in e]})\n",
    "df2 = pd.DataFrame({'feature': [w for e in words for w in e],\n",
    "                    'prob': probs[:,1],\n",
    "                    'class': ['control_f']*len(probs),\n",
    "                    'essay_num': [w for e in essay for w in e]})\n",
    "df3 = pd.DataFrame({'feature': [w for e in words for w in e],\n",
    "                    'prob': probs[:,2],\n",
    "                    'class': ['aff_m']*len(probs),\n",
    "                    'essay_num': [w for e in essay for w in e]})\n",
    "df4 = pd.DataFrame({'feature': [w for e in words for w in e],\n",
    "                    'prob': probs[:,3],\n",
    "                    'class': ['aff_f']*len(probs),\n",
    "                    'essay_num': [w for e in essay for w in e]})\n",
    "df = pd.concat([df1,df2,df3,df4])\n",
    "df.to_csv('output/nn_probs.csv', index=False, encoding='utf-8')"
   ]
  },
  {
   "cell_type": "markdown",
   "metadata": {},
   "source": [
    "# Social words"
   ]
  },
  {
   "cell_type": "code",
   "execution_count": 33,
   "metadata": {
    "collapsed": false
   },
   "outputs": [],
   "source": [
    "index_word = np.load('Gender/testsentiw_soc.npy').item()\n",
    "word_index = np.load('Gender/testsentiw_inv_soc.npy').item()\n",
    "preds = np.load('Gender/testsentpreds_soc.npy')\n",
    "x_dat = np.load('Gender/testsentxdat_soc.npy')\n",
    "df = np.load('Gender/testdat_soc.npy')\n",
    "\n",
    "index_word_wo = np.load('Gender/testsentiw_wo_soc.npy').item()\n",
    "word_index_wo = np.load('Gender/testsentiw_inv_wo_soc.npy').item()\n",
    "preds_wo = np.load('Gender/testsentpreds_wo_soc.npy')\n",
    "x_dat_wo = np.load('Gender/testsentxdat_wo_soc.npy')"
   ]
  },
  {
   "cell_type": "code",
   "execution_count": 34,
   "metadata": {
    "collapsed": false
   },
   "outputs": [],
   "source": [
    "df = pd.DataFrame(df, columns=['word', 'pos', 'lemma', 'sent', 'test_sent', 'sent_wo', 'test_sent_wo'])"
   ]
  },
  {
   "cell_type": "code",
   "execution_count": 35,
   "metadata": {
    "collapsed": false
   },
   "outputs": [],
   "source": [
    "words=[]\n",
    "essay=[]\n",
    "probs = np.empty((0,4))\n",
    "pos = []\n",
    "for i in range(0, len(x_dat)):\n",
    "    word_dists = transitions(x_dat[i],preds[i],index_word)\n",
    "    words.append(word_dists[0])\n",
    "    essay.append([i]*len(word_dists[0]))\n",
    "    pos.append([df.pos.loc[i]]*len(word_dists[0]))\n",
    "    probs = np.append(probs, word_dists[1], axis=0)\n",
    "df1 = pd.DataFrame({'word': [w for e in words for w in e],\n",
    "                    'prob': probs[:,0],\n",
    "                    'class': ['control_m']*len(probs),\n",
    "                    'sentence_num': [w for e in essay for w in e],\n",
    "                    'pos': [p for w in pos for p in w]})\n",
    "df2 = pd.DataFrame({'word': [w for e in words for w in e],\n",
    "                    'prob': probs[:,1],\n",
    "                    'class': ['control_f']*len(probs),\n",
    "                    'sentence_num': [w for e in essay for w in e],\n",
    "                    'pos': [p for w in pos for p in w]})\n",
    "df3 = pd.DataFrame({'word': [w for e in words for w in e],\n",
    "                    'prob': probs[:,2],\n",
    "                    'class': ['aff_m']*len(probs),\n",
    "                    'sentence_num': [w for e in essay for w in e],\n",
    "                    'pos': [p for w in pos for p in w]})\n",
    "df4 = pd.DataFrame({'word': [w for e in words for w in e],\n",
    "                    'prob': probs[:,3],\n",
    "                    'class': ['aff_f']*len(probs),\n",
    "                    'sentence_num': [w for e in essay for w in e],\n",
    "                    'pos': [p for w in pos for p in w]})\n",
    "df_w = pd.concat([df1,df2,df3,df4])\n",
    "#df.to_csv('output/nn_probs.csv', index=False, encoding='utf-8')"
   ]
  },
  {
   "cell_type": "code",
   "execution_count": 36,
   "metadata": {
    "collapsed": false
   },
   "outputs": [],
   "source": [
    "words=[]\n",
    "essay=[]\n",
    "probs = np.empty((0,4))\n",
    "pos = []\n",
    "for i in range(0, len(x_dat)):\n",
    "    word_dists = transitions(x_dat_wo[i],preds_wo[i],index_word_wo)\n",
    "    words.append(word_dists[0])\n",
    "    essay.append([i]*len(word_dists[0]))\n",
    "    pos.append([df.pos.loc[i]]*len(word_dists[0]))\n",
    "    probs = np.append(probs, word_dists[1], axis=0)\n",
    "df1 = pd.DataFrame({'word': [w for e in words for w in e],\n",
    "                    'prob': probs[:,0],\n",
    "                    'class': ['control_m']*len(probs),\n",
    "                    'sentence_num': [w for e in essay for w in e],\n",
    "                    'pos': [p for w in pos for p in w]})\n",
    "df2 = pd.DataFrame({'word': [w for e in words for w in e],\n",
    "                    'prob': probs[:,1],\n",
    "                    'class': ['control_f']*len(probs),\n",
    "                    'sentence_num': [w for e in essay for w in e],\n",
    "                    'pos': [p for w in pos for p in w]})\n",
    "df3 = pd.DataFrame({'word': [w for e in words for w in e],\n",
    "                    'prob': probs[:,2],\n",
    "                    'class': ['aff_m']*len(probs),\n",
    "                    'sentence_num': [w for e in essay for w in e],\n",
    "                    'pos': [p for w in pos for p in w]})\n",
    "df4 = pd.DataFrame({'word': [w for e in words for w in e],\n",
    "                    'prob': probs[:,3],\n",
    "                    'class': ['aff_f']*len(probs),\n",
    "                    'sentence_num': [w for e in essay for w in e],\n",
    "                    'pos': [p for w in pos for p in w]})\n",
    "df_wo = pd.concat([df1,df2,df3,df4])"
   ]
  },
  {
   "cell_type": "code",
   "execution_count": 37,
   "metadata": {
    "collapsed": false
   },
   "outputs": [],
   "source": [
    "df_wo['cond'] = 'without'\n",
    "df_w['cond'] = 'with'\n",
    "outdat = pd.concat([df_wo, df_w])\n",
    "outdat.to_csv('output/w_wo_nnprobs_soc.csv', index=False, encoding='utf-8')"
   ]
  },
  {
   "cell_type": "markdown",
   "metadata": {},
   "source": [
    "# Positive Emotion"
   ]
  },
  {
   "cell_type": "code",
   "execution_count": 38,
   "metadata": {
    "collapsed": false
   },
   "outputs": [],
   "source": [
    "index_word = np.load('Gender/testsentiw_posem.npy').item()\n",
    "word_index = np.load('Gender/testsentiw_inv_posem.npy').item()\n",
    "preds = np.load('Gender/testsentpreds_posem.npy')\n",
    "x_dat = np.load('Gender/testsentxdat_posem.npy')\n",
    "df = np.load('Gender/testdat_posem.npy')\n",
    "\n",
    "index_word_wo = np.load('Gender/testsentiw_wo_posem.npy').item()\n",
    "word_index_wo = np.load('Gender/testsentiw_inv_wo_posem.npy').item()\n",
    "preds_wo = np.load('Gender/testsentpreds_wo_posem.npy')\n",
    "x_dat_wo = np.load('Gender/testsentxdat_wo_posem.npy')"
   ]
  },
  {
   "cell_type": "code",
   "execution_count": 39,
   "metadata": {
    "collapsed": false
   },
   "outputs": [],
   "source": [
    "df = pd.DataFrame(df, columns=['word', 'pos', 'lemma', 'sent', 'test_sent', 'sent_wo', 'test_sent_wo'])"
   ]
  },
  {
   "cell_type": "code",
   "execution_count": 40,
   "metadata": {
    "collapsed": false
   },
   "outputs": [],
   "source": [
    "words=[]\n",
    "essay=[]\n",
    "probs = np.empty((0,4))\n",
    "pos = []\n",
    "for i in range(0, len(x_dat)):\n",
    "    word_dists = transitions(x_dat[i],preds[i],index_word)\n",
    "    words.append(word_dists[0])\n",
    "    essay.append([i]*len(word_dists[0]))\n",
    "    pos.append([df.pos.loc[i]]*len(word_dists[0]))\n",
    "    probs = np.append(probs, word_dists[1], axis=0)\n",
    "df1 = pd.DataFrame({'word': [w for e in words for w in e],\n",
    "                    'prob': probs[:,0],\n",
    "                    'class': ['control_m']*len(probs),\n",
    "                    'sentence_num': [w for e in essay for w in e],\n",
    "                    'pos': [p for w in pos for p in w]})\n",
    "df2 = pd.DataFrame({'word': [w for e in words for w in e],\n",
    "                    'prob': probs[:,1],\n",
    "                    'class': ['control_f']*len(probs),\n",
    "                    'sentence_num': [w for e in essay for w in e],\n",
    "                    'pos': [p for w in pos for p in w]})\n",
    "df3 = pd.DataFrame({'word': [w for e in words for w in e],\n",
    "                    'prob': probs[:,2],\n",
    "                    'class': ['aff_m']*len(probs),\n",
    "                    'sentence_num': [w for e in essay for w in e],\n",
    "                    'pos': [p for w in pos for p in w]})\n",
    "df4 = pd.DataFrame({'word': [w for e in words for w in e],\n",
    "                    'prob': probs[:,3],\n",
    "                    'class': ['aff_f']*len(probs),\n",
    "                    'sentence_num': [w for e in essay for w in e],\n",
    "                    'pos': [p for w in pos for p in w]})\n",
    "df_w = pd.concat([df1,df2,df3,df4])\n",
    "#df.to_csv('output/nn_probs.csv', index=False, encoding='utf-8')"
   ]
  },
  {
   "cell_type": "code",
   "execution_count": 41,
   "metadata": {
    "collapsed": false
   },
   "outputs": [],
   "source": [
    "words=[]\n",
    "essay=[]\n",
    "probs = np.empty((0,4))\n",
    "pos = []\n",
    "for i in range(0, len(x_dat)):\n",
    "    word_dists = transitions(x_dat_wo[i],preds_wo[i],index_word_wo)\n",
    "    words.append(word_dists[0])\n",
    "    essay.append([i]*len(word_dists[0]))\n",
    "    pos.append([df.pos.loc[i]]*len(word_dists[0]))\n",
    "    probs = np.append(probs, word_dists[1], axis=0)\n",
    "df1 = pd.DataFrame({'word': [w for e in words for w in e],\n",
    "                    'prob': probs[:,0],\n",
    "                    'class': ['control_m']*len(probs),\n",
    "                    'sentence_num': [w for e in essay for w in e],\n",
    "                    'pos': [p for w in pos for p in w]})\n",
    "df2 = pd.DataFrame({'word': [w for e in words for w in e],\n",
    "                    'prob': probs[:,1],\n",
    "                    'class': ['control_f']*len(probs),\n",
    "                    'sentence_num': [w for e in essay for w in e],\n",
    "                    'pos': [p for w in pos for p in w]})\n",
    "df3 = pd.DataFrame({'word': [w for e in words for w in e],\n",
    "                    'prob': probs[:,2],\n",
    "                    'class': ['aff_m']*len(probs),\n",
    "                    'sentence_num': [w for e in essay for w in e],\n",
    "                    'pos': [p for w in pos for p in w]})\n",
    "df4 = pd.DataFrame({'word': [w for e in words for w in e],\n",
    "                    'prob': probs[:,3],\n",
    "                    'class': ['aff_f']*len(probs),\n",
    "                    'sentence_num': [w for e in essay for w in e],\n",
    "                    'pos': [p for w in pos for p in w]})\n",
    "df_wo = pd.concat([df1,df2,df3,df4])"
   ]
  },
  {
   "cell_type": "code",
   "execution_count": 42,
   "metadata": {
    "collapsed": false
   },
   "outputs": [],
   "source": [
    "df_wo['cond'] = 'without'\n",
    "df_w['cond'] = 'with'\n",
    "outdat = pd.concat([df_wo, df_w])\n",
    "outdat.to_csv('output/w_wo_nnprobs_posem.csv', index=False, encoding='utf-8')"
   ]
  },
  {
   "cell_type": "markdown",
   "metadata": {},
   "source": [
    "# Negative emotion"
   ]
  },
  {
   "cell_type": "code",
   "execution_count": 47,
   "metadata": {
    "collapsed": false
   },
   "outputs": [],
   "source": [
    "index_word = np.load('Gender/testsentiw_negem.npy').item()\n",
    "word_index = np.load('Gender/testsentiw_inv_negem.npy').item()\n",
    "preds = np.load('Gender/testsentpreds_negem.npy')\n",
    "x_dat = np.load('Gender/testsentxdat_negem.npy')\n",
    "df = np.load('Gender/testdat_negem.npy')\n",
    "\n",
    "index_word_wo = np.load('Gender/testsentiw_wo_negem.npy').item()\n",
    "word_index_wo = np.load('Gender/testsentiw_inv_wo_negem.npy').item()\n",
    "preds_wo = np.load('Gender/testsentpreds_wo_negem.npy')\n",
    "x_dat_wo = np.load('Gender/testsentxdat_wo_negem.npy')"
   ]
  },
  {
   "cell_type": "code",
   "execution_count": 48,
   "metadata": {
    "collapsed": false
   },
   "outputs": [],
   "source": [
    "df = pd.DataFrame(df, columns=['word', 'pos', 'lemma', 'sent', 'test_sent', 'sent_wo', 'test_sent_wo'])"
   ]
  },
  {
   "cell_type": "code",
   "execution_count": 49,
   "metadata": {
    "collapsed": false
   },
   "outputs": [],
   "source": [
    "words=[]\n",
    "essay=[]\n",
    "probs = np.empty((0,4))\n",
    "pos = []\n",
    "for i in range(0, len(x_dat)):\n",
    "    word_dists = transitions(x_dat[i],preds[i],index_word)\n",
    "    words.append(word_dists[0])\n",
    "    essay.append([i]*len(word_dists[0]))\n",
    "    pos.append([df.pos.loc[i]]*len(word_dists[0]))\n",
    "    probs = np.append(probs, word_dists[1], axis=0)\n",
    "df1 = pd.DataFrame({'word': [w for e in words for w in e],\n",
    "                    'prob': probs[:,0],\n",
    "                    'class': ['control_m']*len(probs),\n",
    "                    'sentence_num': [w for e in essay for w in e],\n",
    "                    'pos': [p for w in pos for p in w]})\n",
    "df2 = pd.DataFrame({'word': [w for e in words for w in e],\n",
    "                    'prob': probs[:,1],\n",
    "                    'class': ['control_f']*len(probs),\n",
    "                    'sentence_num': [w for e in essay for w in e],\n",
    "                    'pos': [p for w in pos for p in w]})\n",
    "df3 = pd.DataFrame({'word': [w for e in words for w in e],\n",
    "                    'prob': probs[:,2],\n",
    "                    'class': ['aff_m']*len(probs),\n",
    "                    'sentence_num': [w for e in essay for w in e],\n",
    "                    'pos': [p for w in pos for p in w]})\n",
    "df4 = pd.DataFrame({'word': [w for e in words for w in e],\n",
    "                    'prob': probs[:,3],\n",
    "                    'class': ['aff_f']*len(probs),\n",
    "                    'sentence_num': [w for e in essay for w in e],\n",
    "                    'pos': [p for w in pos for p in w]})\n",
    "df_w = pd.concat([df1,df2,df3,df4])\n",
    "#df.to_csv('output/nn_probs.csv', index=False, encoding='utf-8')"
   ]
  },
  {
   "cell_type": "code",
   "execution_count": 50,
   "metadata": {
    "collapsed": false
   },
   "outputs": [],
   "source": [
    "words=[]\n",
    "essay=[]\n",
    "probs = np.empty((0,4))\n",
    "pos = []\n",
    "for i in range(0, len(x_dat)):\n",
    "    word_dists = transitions(x_dat_wo[i],preds_wo[i],index_word_wo)\n",
    "    words.append(word_dists[0])\n",
    "    essay.append([i]*len(word_dists[0]))\n",
    "    pos.append([df.pos.loc[i]]*len(word_dists[0]))\n",
    "    probs = np.append(probs, word_dists[1], axis=0)\n",
    "df1 = pd.DataFrame({'word': [w for e in words for w in e],\n",
    "                    'prob': probs[:,0],\n",
    "                    'class': ['control_m']*len(probs),\n",
    "                    'sentence_num': [w for e in essay for w in e],\n",
    "                    'pos': [p for w in pos for p in w]})\n",
    "df2 = pd.DataFrame({'word': [w for e in words for w in e],\n",
    "                    'prob': probs[:,1],\n",
    "                    'class': ['control_f']*len(probs),\n",
    "                    'sentence_num': [w for e in essay for w in e],\n",
    "                    'pos': [p for w in pos for p in w]})\n",
    "df3 = pd.DataFrame({'word': [w for e in words for w in e],\n",
    "                    'prob': probs[:,2],\n",
    "                    'class': ['aff_m']*len(probs),\n",
    "                    'sentence_num': [w for e in essay for w in e],\n",
    "                    'pos': [p for w in pos for p in w]})\n",
    "df4 = pd.DataFrame({'word': [w for e in words for w in e],\n",
    "                    'prob': probs[:,3],\n",
    "                    'class': ['aff_f']*len(probs),\n",
    "                    'sentence_num': [w for e in essay for w in e],\n",
    "                    'pos': [p for w in pos for p in w]})\n",
    "df_wo = pd.concat([df1,df2,df3,df4])"
   ]
  },
  {
   "cell_type": "code",
   "execution_count": 51,
   "metadata": {
    "collapsed": false
   },
   "outputs": [],
   "source": [
    "df_wo['cond'] = 'without'\n",
    "df_w['cond'] = 'with'\n",
    "outdat = pd.concat([df_wo, df_w])\n",
    "outdat.to_csv('output/w_wo_nnprobs_negem.csv', index=False, encoding='utf-8')"
   ]
  },
  {
   "cell_type": "markdown",
   "metadata": {},
   "source": [
    "# Values"
   ]
  },
  {
   "cell_type": "code",
   "execution_count": 43,
   "metadata": {
    "collapsed": false
   },
   "outputs": [],
   "source": [
    "index_word = np.load('Gender/testsentiw_val.npy').item()\n",
    "word_index = np.load('Gender/testsentiw_inv_val.npy').item()\n",
    "preds = np.load('Gender/testsentpreds_val.npy')\n",
    "x_dat = np.load('Gender/testsentxdat_val.npy')\n",
    "df = np.load('Gender/testdat_val.npy')\n",
    "\n",
    "index_word_wo = np.load('Gender/testsentiw_wo_val.npy').item()\n",
    "word_index_wo = np.load('Gender/testsentiw_inv_wo_val.npy').item()\n",
    "preds_wo = np.load('Gender/testsentpreds_wo_val.npy')\n",
    "x_dat_wo = np.load('Gender/testsentxdat_wo_val.npy')\n",
    "\n",
    "df = pd.DataFrame(df, columns=['text', 'value'])"
   ]
  },
  {
   "cell_type": "code",
   "execution_count": 44,
   "metadata": {
    "collapsed": false
   },
   "outputs": [],
   "source": [
    "words=[]\n",
    "essay=[]\n",
    "probs = np.empty((0,4))\n",
    "val = []\n",
    "for i in range(0, len(x_dat)):\n",
    "    word_dists = transitions(x_dat[i],preds[i],index_word)\n",
    "    words.append(word_dists[0])\n",
    "    essay.append([i]*len(word_dists[0]))\n",
    "    val.append([df.value.loc[i]]*len(word_dists[0]))\n",
    "    probs = np.append(probs, word_dists[1], axis=0)\n",
    "df1 = pd.DataFrame({'word': [w for e in words for w in e],\n",
    "                    'prob': probs[:,0],\n",
    "                    'class': ['control_m']*len(probs),\n",
    "                    'sentence_num': [w for e in essay for w in e],\n",
    "                    'val': [p for w in val for p in w]})\n",
    "df2 = pd.DataFrame({'word': [w for e in words for w in e],\n",
    "                    'prob': probs[:,1],\n",
    "                    'class': ['control_f']*len(probs),\n",
    "                    'sentence_num': [w for e in essay for w in e],\n",
    "                    'val': [p for w in val for p in w]})\n",
    "df3 = pd.DataFrame({'word': [w for e in words for w in e],\n",
    "                    'prob': probs[:,2],\n",
    "                    'class': ['aff_m']*len(probs),\n",
    "                    'sentence_num': [w for e in essay for w in e],\n",
    "                    'val': [p for w in val for p in w]})\n",
    "df4 = pd.DataFrame({'word': [w for e in words for w in e],\n",
    "                    'prob': probs[:,3],\n",
    "                    'class': ['aff_f']*len(probs),\n",
    "                    'sentence_num': [w for e in essay for w in e],\n",
    "                    'val': [p for w in val for p in w]})\n",
    "df_w = pd.concat([df1,df2,df3,df4])\n",
    "#df.to_csv('output/nn_probs.csv', index=False, encoding='utf-8')"
   ]
  },
  {
   "cell_type": "code",
   "execution_count": 45,
   "metadata": {
    "collapsed": false
   },
   "outputs": [],
   "source": [
    "words=[]\n",
    "essay=[]\n",
    "probs = np.empty((0,4))\n",
    "val = []\n",
    "for i in range(0, len(x_dat)):\n",
    "    word_dists = transitions(x_dat_wo[i],preds_wo[i],index_word_wo)\n",
    "    words.append(word_dists[0])\n",
    "    essay.append([i]*len(word_dists[0]))\n",
    "    val.append([df.value.loc[i]]*len(word_dists[0]))\n",
    "    probs = np.append(probs, word_dists[1], axis=0)\n",
    "df1 = pd.DataFrame({'word': [w for e in words for w in e],\n",
    "                    'prob': probs[:,0],\n",
    "                    'class': ['control_m']*len(probs),\n",
    "                    'sentence_num': [w for e in essay for w in e],\n",
    "                    'val': [p for w in val for p in w]})\n",
    "df2 = pd.DataFrame({'word': [w for e in words for w in e],\n",
    "                    'prob': probs[:,1],\n",
    "                    'class': ['control_f']*len(probs),\n",
    "                    'sentence_num': [w for e in essay for w in e],\n",
    "                    'val': [p for w in val for p in w]})\n",
    "df3 = pd.DataFrame({'word': [w for e in words for w in e],\n",
    "                    'prob': probs[:,2],\n",
    "                    'class': ['aff_m']*len(probs),\n",
    "                    'sentence_num': [w for e in essay for w in e],\n",
    "                    'val': [p for w in val for p in w]})\n",
    "df4 = pd.DataFrame({'word': [w for e in words for w in e],\n",
    "                    'prob': probs[:,3],\n",
    "                    'class': ['aff_f']*len(probs),\n",
    "                    'sentence_num': [w for e in essay for w in e],\n",
    "                    'val': [p for w in val for p in w]})\n",
    "df_wo = pd.concat([df1,df2,df3,df4])"
   ]
  },
  {
   "cell_type": "code",
   "execution_count": 46,
   "metadata": {
    "collapsed": false
   },
   "outputs": [],
   "source": [
    "df_wo['cond'] = 'without'\n",
    "df_w['cond'] = 'with'\n",
    "outdat = pd.concat([df_wo, df_w])\n",
    "outdat.to_csv('output/w_wo_nnprobs_val.csv', index=False, encoding='utf-8')"
   ]
  },
  {
   "cell_type": "markdown",
   "metadata": {},
   "source": [
    "# Justifications\n",
    "(with others)"
   ]
  },
  {
   "cell_type": "code",
   "execution_count": 61,
   "metadata": {
    "collapsed": false
   },
   "outputs": [],
   "source": [
    "index_word = np.load('Gender/testsentiw_just.npy').item()\n",
    "word_index = np.load('Gender/testsentiw_inv_just.npy').item()\n",
    "preds = np.load('Gender/testsentpreds_just.npy')\n",
    "x_dat = np.load('Gender/testsentxdat_just.npy')\n",
    "df = np.load('Gender/testdat_just.npy')\n",
    "\n",
    "df = pd.DataFrame(df, columns=['justification', 'text', 'value'])"
   ]
  },
  {
   "cell_type": "code",
   "execution_count": 62,
   "metadata": {
    "collapsed": false
   },
   "outputs": [],
   "source": [
    "words=[]\n",
    "essay=[]\n",
    "probs = np.empty((0,4))\n",
    "val = []\n",
    "just = []\n",
    "for i in range(0, len(x_dat)):\n",
    "    word_dists = transitions(x_dat[i],preds[i],index_word)\n",
    "    words.append(word_dists[0])\n",
    "    essay.append([i]*len(word_dists[0]))\n",
    "    val.append([df.value.loc[i]]*len(word_dists[0]))\n",
    "    just.append([df.justification.loc[i]]*len(word_dists[0]))\n",
    "    probs = np.append(probs, word_dists[1], axis=0)\n",
    "df1 = pd.DataFrame({'word': [w for e in words for w in e],\n",
    "                    'prob': probs[:,0],\n",
    "                    'class': ['control_m']*len(probs),\n",
    "                    'sentence_num': [w for e in essay for w in e],\n",
    "                    'just': [w for e in just for w in e],\n",
    "                    'val': [p for w in val for p in w]})\n",
    "df2 = pd.DataFrame({'word': [w for e in words for w in e],\n",
    "                    'prob': probs[:,1],\n",
    "                    'class': ['control_f']*len(probs),\n",
    "                    'sentence_num': [w for e in essay for w in e],\n",
    "                    'just': [w for e in just for w in e],\n",
    "                    'val': [p for w in val for p in w]})\n",
    "df3 = pd.DataFrame({'word': [w for e in words for w in e],\n",
    "                    'prob': probs[:,2],\n",
    "                    'class': ['aff_m']*len(probs),\n",
    "                    'sentence_num': [w for e in essay for w in e],\n",
    "                    'just': [w for e in just for w in e],\n",
    "                    'val': [p for w in val for p in w]})\n",
    "df4 = pd.DataFrame({'word': [w for e in words for w in e],\n",
    "                    'prob': probs[:,3],\n",
    "                    'class': ['aff_f']*len(probs),\n",
    "                    'sentence_num': [w for e in essay for w in e],\n",
    "                    'just': [w for e in just for w in e],\n",
    "                    'val': [p for w in val for p in w]})\n",
    "df_w = pd.concat([df1,df2,df3,df4])\n",
    "#df.to_csv('output/nn_probs.csv', index=False, encoding='utf-8')"
   ]
  },
  {
   "cell_type": "code",
   "execution_count": 63,
   "metadata": {
    "collapsed": false
   },
   "outputs": [],
   "source": [
    "df_w.to_csv('output/nnprobs_just.csv', index=False, encoding='utf-8')"
   ]
  },
  {
   "cell_type": "markdown",
   "metadata": {},
   "source": [
    "# Justifications\n",
    "(with self)"
   ]
  },
  {
   "cell_type": "code",
   "execution_count": 64,
   "metadata": {
    "collapsed": false
   },
   "outputs": [],
   "source": [
    "index_word = np.load('Gender/testsentiw_justself.npy').item()\n",
    "word_index = np.load('Gender/testsentiw_inv_justself.npy').item()\n",
    "preds = np.load('Gender/testsentpreds_justself.npy')\n",
    "x_dat = np.load('Gender/testsentxdat_justself.npy')\n",
    "df = np.load('Gender/testdat_justself.npy')\n",
    "\n",
    "df = pd.DataFrame(df, columns=['justification', 'text', 'value'])"
   ]
  },
  {
   "cell_type": "code",
   "execution_count": 65,
   "metadata": {
    "collapsed": false
   },
   "outputs": [],
   "source": [
    "words=[]\n",
    "essay=[]\n",
    "probs = np.empty((0,4))\n",
    "val = []\n",
    "just = []\n",
    "for i in range(0, len(x_dat)):\n",
    "    word_dists = transitions(x_dat[i],preds[i],index_word)\n",
    "    words.append(word_dists[0])\n",
    "    essay.append([i]*len(word_dists[0]))\n",
    "    val.append([df.value.loc[i]]*len(word_dists[0]))\n",
    "    just.append([df.justification.loc[i]]*len(word_dists[0]))\n",
    "    probs = np.append(probs, word_dists[1], axis=0)\n",
    "df1 = pd.DataFrame({'word': [w for e in words for w in e],\n",
    "                    'prob': probs[:,0],\n",
    "                    'class': ['control_m']*len(probs),\n",
    "                    'sentence_num': [w for e in essay for w in e],\n",
    "                    'just': [w for e in just for w in e],\n",
    "                    'val': [p for w in val for p in w]})\n",
    "df2 = pd.DataFrame({'word': [w for e in words for w in e],\n",
    "                    'prob': probs[:,1],\n",
    "                    'class': ['control_f']*len(probs),\n",
    "                    'sentence_num': [w for e in essay for w in e],\n",
    "                    'just': [w for e in just for w in e],\n",
    "                    'val': [p for w in val for p in w]})\n",
    "df3 = pd.DataFrame({'word': [w for e in words for w in e],\n",
    "                    'prob': probs[:,2],\n",
    "                    'class': ['aff_m']*len(probs),\n",
    "                    'sentence_num': [w for e in essay for w in e],\n",
    "                    'just': [w for e in just for w in e],\n",
    "                    'val': [p for w in val for p in w]})\n",
    "df4 = pd.DataFrame({'word': [w for e in words for w in e],\n",
    "                    'prob': probs[:,3],\n",
    "                    'class': ['aff_f']*len(probs),\n",
    "                    'sentence_num': [w for e in essay for w in e],\n",
    "                    'just': [w for e in just for w in e],\n",
    "                    'val': [p for w in val for p in w]})\n",
    "df_w = pd.concat([df1,df2,df3,df4])\n",
    "#df.to_csv('output/nn_probs.csv', index=False, encoding='utf-8')"
   ]
  },
  {
   "cell_type": "code",
   "execution_count": 66,
   "metadata": {
    "collapsed": false
   },
   "outputs": [],
   "source": [
    "df_w.to_csv('output/nnprobs_justself.csv', index=False, encoding='utf-8')"
   ]
  },
  {
   "cell_type": "code",
   "execution_count": null,
   "metadata": {
    "collapsed": true
   },
   "outputs": [],
   "source": []
  }
 ],
 "metadata": {
  "kernelspec": {
   "display_name": "Python 2",
   "language": "python",
   "name": "python2"
  },
  "language_info": {
   "codemirror_mode": {
    "name": "ipython",
    "version": 2
   },
   "file_extension": ".py",
   "mimetype": "text/x-python",
   "name": "python",
   "nbconvert_exporter": "python",
   "pygments_lexer": "ipython2",
   "version": "2.7.12"
  }
 },
 "nbformat": 4,
 "nbformat_minor": 0
}
